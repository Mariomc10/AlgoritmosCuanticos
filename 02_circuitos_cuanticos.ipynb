{
 "cells": [
  {
   "cell_type": "markdown",
   "metadata": {
    "id": "sfysvQ3UTJOM"
   },
   "source": [
    "<div>\n",
    "<img src=\"https://www.nebrija.com/images/logos/logotipo-universidad-nebrija.jpg\" width=\"200\">\n",
    "</div>\n",
    "\n",
    "**ALGORITMOS** -\n",
    "Prof: Carmen Pellicer Lostao"
   ]
  },
  {
   "cell_type": "markdown",
   "metadata": {
    "id": "Rr52NLfysocH"
   },
   "source": [
    "En este notebook exploramos la clase [Circuit](https://docs.quantum.ibm.com/api/qiskit/circuit) de Qiskit.\n",
    "\n",
    "Según el [libro de texto de Qiskit,](https://learn.qiskit.org/course/ch-algorithms/quantum-circuits)\n",
    ">_\"Un circuito cuántico es una rutina computacional que consta de operaciones cuánticas coherentes en qubits... Es una secuencia ordenada de compuertas cuánticas, mediciones y restablecimientos, todos los cuales pueden condicionarse y utilizar datos de la computación clásica en tiempo real.\"_\n",
    "\n",
    "Por lo general cuando hablamos de circuitos cuanticos nos referimos a circuitos estaticos pero tambien pueden ser dinámicos. Qiskit introdujo los circuitos dinámicos en 2022. En este notebook veremos ambos tipos de circuitos"
   ]
  },
  {
   "cell_type": "markdown",
   "metadata": {
    "id": "xq2Ft4OeTJOO",
    "tags": []
   },
   "source": [
    "# Primeros Circuitos con Qiskit: Puertas y Medidas\n",
    "\n",
    "Primero cargamos los datos de nuestra cuenta y vemos a que entornos tenemos acceso"
   ]
  },
  {
   "cell_type": "code",
   "execution_count": 1,
   "metadata": {},
   "outputs": [],
   "source": [
    "#!pip install qiskit-aer"
   ]
  },
  {
   "cell_type": "code",
   "execution_count": 2,
   "metadata": {
    "id": "57xIh5tCTJOP"
   },
   "outputs": [
    {
     "name": "stderr",
     "output_type": "stream",
     "text": [
      "/tmp/ipykernel_1298/2784215896.py:3: DeprecationWarning: The package qiskit.providers.ibmq is being deprecated. Please see https://ibm.biz/provider_migration_guide to get instructions on how to migrate to qiskit-ibm-provider (https://github.com/Qiskit/qiskit-ibm-provider) and qiskit-ibm-runtime (https://github.com/Qiskit/qiskit-ibm-runtime).\n",
      "  provider = IBMQ.load_account()\n",
      "/tmp/ipykernel_1298/2784215896.py:3: DeprecationWarning: The qiskit.IBMQ entrypoint and the qiskit-ibmq-provider package (accessible from 'qiskit.providers.ibmq`) are deprecated and will be removed in a future release. Instead you should use the qiskit-ibm-provider package which is accessible from 'qiskit_ibm_provider'. You can install it with 'pip install qiskit_ibm_provider'. Just replace 'qiskit.IBMQ' with 'qiskit_ibm_provider.IBMProvider'\n",
      "  provider = IBMQ.load_account()\n"
     ]
    }
   ],
   "source": [
    "from qiskit import IBMQ\n",
    "# Loading your IBM Quantum account(s)\n",
    "provider = IBMQ.load_account()"
   ]
  },
  {
   "cell_type": "code",
   "execution_count": 3,
   "metadata": {
    "id": "Iy2bPaLLTJOQ",
    "outputId": "5c0f8f28-ebc6-441a-84eb-29f7d499d359"
   },
   "outputs": [
    {
     "data": {
      "text/plain": [
       "[<IBMQSimulator('ibmq_qasm_simulator') from IBMQ(hub='ibm-q', group='open', project='main')>,\n",
       " <IBMQSimulator('simulator_statevector') from IBMQ(hub='ibm-q', group='open', project='main')>,\n",
       " <IBMQSimulator('simulator_mps') from IBMQ(hub='ibm-q', group='open', project='main')>,\n",
       " <IBMQSimulator('simulator_extended_stabilizer') from IBMQ(hub='ibm-q', group='open', project='main')>,\n",
       " <IBMQSimulator('simulator_stabilizer') from IBMQ(hub='ibm-q', group='open', project='main')>,\n",
       " <IBMQBackend('ibm_brisbane') from IBMQ(hub='ibm-q', group='open', project='main')>,\n",
       " <IBMQBackend('ibm_kyoto') from IBMQ(hub='ibm-q', group='open', project='main')>,\n",
       " <IBMQBackend('ibm_osaka') from IBMQ(hub='ibm-q', group='open', project='main')>]"
      ]
     },
     "execution_count": 3,
     "metadata": {},
     "output_type": "execute_result"
    }
   ],
   "source": [
    "provider = IBMQ.get_provider(hub='ibm-q', group='open', project='main')\n",
    "provider.backends()    # List all available providers"
   ]
  },
  {
   "cell_type": "markdown",
   "metadata": {
    "id": "ZgpfDz-9TJOR",
    "tags": []
   },
   "source": [
    "## Covenciones y cuestiones a tener en cuenta"
   ]
  },
  {
   "cell_type": "markdown",
   "metadata": {
    "id": "xDSP8ZZ9TJOS"
   },
   "source": [
    "- Los Qubits siempre se inicializan en el estado |0>\n",
    "\n",
    "- Los Qubits y los bits se numeran con enteros de 0 a n-1 como es habitual en programacion\n",
    "\n",
    "- Qiskit numera los bits y los qubits de derecha a izquierda ($q_{n-1},..,q_0$), es la notacion Big-endian. En los libros de texto, la notacion de Dirac y otros entornos de computacion cuántica es al reves.\n",
    "\n",
    "- Un simulador cuántico es un ordenador clásico (CPU) que calcula cual seria el resultado de operar en una QPU ideal, teórica, sin ruidos ni imperfecciones. Los simuladores funcionan bien con un numero bajo de qubits (~30 qubits) y son una herramienta indispensable en el diseño de circuitos cuánticos.\n",
    "\n",
    "- Los angulos son positivos cuando se miden en el sentido inverso a las agujas del reloj\n",
    "\n",
    "- El eje Z se toma como la base estandar computacional y base de medida. No es un eje especial, simplemente una convención."
   ]
  },
  {
   "cell_type": "markdown",
   "metadata": {
    "id": "oGri1-WpTJOS",
    "tags": []
   },
   "source": [
    "## Circuitos cuánticos\n",
    "\n",
    "Comenzamos explorando algunas funcionalidades de Quiskit Terra. Crearemos nuestro primer Circuito Cuántico.\n"
   ]
  },
  {
   "cell_type": "markdown",
   "metadata": {
    "id": "jmj8-6J1Btgx"
   },
   "source": [
    "### EJERCICIO\n",
    "\n",
    "Utiliza el IBM Quantum Composer para crear un circuito cuantico que cree el estado de Bell $\\frac{1}{\\sqrt(2)}(|00>+|11>)$\n",
    "\n",
    "Primero creamos dos objetos **QuantumRegister** y **ClassicalRegister** del número de qubits que necesitemos. Después creamos un objeto QuantumCircuit con los dos registros anteriores, añadimos las puertas de medida y podemos ejecutarlo en el simulador.\n",
    "\n",
    "Copiamos el codigo y vamos a ejecutarlo en Qiskit:"
   ]
  },
  {
   "cell_type": "code",
   "execution_count": 4,
   "metadata": {
    "id": "02G2jHCYTJOS"
   },
   "outputs": [
    {
     "data": {
      "text/plain": [
       "<qiskit.circuit.instructionset.InstructionSet at 0x7f474f5e10f0>"
      ]
     },
     "execution_count": 4,
     "metadata": {},
     "output_type": "execute_result"
    }
   ],
   "source": [
    "from qiskit import QuantumRegister, ClassicalRegister\n",
    "from qiskit import QuantumCircuit\n",
    "\n",
    "qreg_q = QuantumRegister(2, 'q')\n",
    "creg_c = ClassicalRegister(2, 'c')\n",
    "circuit = QuantumCircuit(qreg_q, creg_c)\n",
    "\n",
    "# Estado de Bell 4\n",
    "# Mediciones\n",
    "circuit.h(qreg_q[0])\n",
    "circuit.cx(qreg_q[0], qreg_q[1])"
   ]
  },
  {
   "cell_type": "markdown",
   "metadata": {
    "id": "rrIFJtsmTJOT"
   },
   "source": [
    "Revisa la documentacion de la clase [Cirquit](https://docs.quantum.ibm.com/api/qiskit/circuit) de qiskit, dibuja el circuito:"
   ]
  },
  {
   "cell_type": "code",
   "execution_count": 5,
   "metadata": {},
   "outputs": [
    {
     "name": "stderr",
     "output_type": "stream",
     "text": [
      "/home/codespace/.python/current/lib/python3.10/site-packages/qiskit/visualization/circuit/matplotlib.py:266: FutureWarning: The default matplotlib drawer scheme will be changed to \"iqp\" in a following release. To silence this warning, specify the current default explicitly as style=\"clifford\", or the new default as style=\"iqp\".\n",
      "  self._style, def_font_ratio = load_style(self._style)\n"
     ]
    },
    {
     "data": {
      "image/png": "[encoded data removed]",
      "text/plain": [
       "<Figure size 287.294x284.278 with 1 Axes>"
      ]
     },
     "execution_count": 5,
     "metadata": {},
     "output_type": "execute_result"
    }
   ],
   "source": [
    "circuit.draw(\"mpl\")"
   ]
  },
  {
   "cell_type": "code",
   "execution_count": 6,
   "metadata": {},
   "outputs": [
    {
     "data": {
      "text/plain": [
       "<qiskit.circuit.instructionset.InstructionSet at 0x7f474e0542e0>"
      ]
     },
     "execution_count": 6,
     "metadata": {},
     "output_type": "execute_result"
    }
   ],
   "source": [
    "circuit.measure(qreg_q,creg_c)"
   ]
  },
  {
   "cell_type": "markdown",
   "metadata": {
    "id": "X1YrZ4fVTJOU"
   },
   "source": [
    "Ahora ejecutamos el circuito en el simulador Aer y visualizamos los resultados en un histograma.\n"
   ]
  },
  {
   "cell_type": "code",
   "execution_count": 7,
   "metadata": {
    "id": "bC1FrOZlTJOU",
    "outputId": "1c4501d2-14fb-48ae-a080-847a40ffd2d9"
   },
   "outputs": [
    {
     "name": "stdout",
     "output_type": "stream",
     "text": [
      "{'11': 498, '00': 526}\n"
     ]
    }
   ],
   "source": [
    "from qiskit import Aer\n",
    "\n",
    "sim = Aer.get_backend('aer_simulator', shots=1024)  # this is the simulator we'll use\n",
    "result = sim.run(circuit, memory=True).result()  # we run the experiment and get the result from that experiment  -> memory=True to get results for each shot\n",
    "# from the results, we get a dictionary containing the number of times (counts)\n",
    "# each result appeared\n",
    "counts = result.get_counts()\n",
    "print(counts)"
   ]
  },
  {
   "cell_type": "markdown",
   "metadata": {},
   "source": [
    "Muestra los primeros 5 resultados de las medidas"
   ]
  },
  {
   "cell_type": "code",
   "execution_count": 8,
   "metadata": {
    "id": "2onXDQ4CTJOU",
    "outputId": "f7c2ff12-f9c1-4140-c108-da49e389d178"
   },
   "outputs": [
    {
     "data": {
      "text/plain": [
       "['00', '00', '11', '11', '11']"
      ]
     },
     "execution_count": 8,
     "metadata": {},
     "output_type": "execute_result"
    }
   ],
   "source": [
    "#Vemos los 5 primeros resultados de la simulacion\n",
    "data = result.get_memory()\n",
    "\n",
    "data[:5]"
   ]
  },
  {
   "cell_type": "markdown",
   "metadata": {},
   "source": [
    "Utiliza la funcion `plot_histogram` para mostrar los resultados obtenidos en todas las medidas"
   ]
  },
  {
   "cell_type": "code",
   "execution_count": 9,
   "metadata": {
    "id": "xWcNVTEOTJOV",
    "outputId": "b2d118e6-f2cb-4233-b4c9-0fe5cfecdd60"
   },
   "outputs": [
    {
     "data": {
      "image/png": "[encoded data removed]",
      "text/plain": [
       "<Figure size 700x500 with 1 Axes>"
      ]
     },
     "execution_count": 9,
     "metadata": {},
     "output_type": "execute_result"
    }
   ],
   "source": [
    "from qiskit.visualization import plot_histogram\n",
    "\n",
    "# visualizamos el histograma\n",
    "plot_histogram(counts)"
   ]
  },
  {
   "cell_type": "markdown",
   "metadata": {
    "id": "1b0bi0ttOPzy"
   },
   "source": [
    "## Puertas de un qubit\n",
    "\n",
    "Rotaciones básicas en un Qubit y medidas en la esfera de Bloch.\n",
    "\n",
    "De forma predeterminada, los estados en Qiskit comienzan en $|0\\rangle$, que corresponde a la \"flecha hacia arriba\" en la esfera de Bloch. \n",
    "\n",
    "Los siguientes métodos definen las puertas $X$, $Y$, $Z$, $H$, $S$ y $S^\\dagger$ que proporcionan las diferentes rotaciones en la esfera de Bloch en el qubit de un objeto circuito. Para ello inserte combinaciones de las siguientes líneas de código en las líneas indicadas en el programa:\n",
    "\n",
    "```\n",
    "    qc.x(0) # rotación de Pi alrededor del eje x\n",
    "    qc.y(0) # rotación por Pi alrededor del eje y\n",
    "    qc.z(0) # rotación por Pi alrededor del eje z\n",
    "    qc.s(0) # rotación por Pi/2 alrededor del eje z\n",
    "    qc.sdg(0) # rotación por -Pi/2 alrededor del eje z\n",
    "    qc.h(0) # rotación de Pi alrededor de un eje ubicado a medio camino entre x y z\n",
    "    qc.rx(Φ,0) # rotación por Φ alrededor del eje x\n",
    "    qc.ry(Φ,0) # rotación por Φ alrededor del eje y\n",
    "    qc.rz(Φ,0) # rotación por Φ alrededor del eje z\n",
    "    qc.u(Φ,θ,λ,0) # rotación por Φ alrededor del eje x, θ alrededor del eje y λ alrededor del eje z\n",
    "```"
   ]
  },
  {
   "cell_type": "markdown",
   "metadata": {
    "id": "93_-vodUMxbf"
   },
   "source": [
    "### EJERCICIO\n",
    "\n",
    "Manipulando un qubit, podemos visualizar los resultados de las operaciones sobre la [esfera de Bloch](https://javafxpert.github.io/grok-bloch/)\n",
    "\n",
    "Intenta alcanzar cada uno de los estados dados en la esfera de Bloch en cada uno de los siguientes ejercicios aplicando las rotaciones correctas\n",
    "\n",
    "*  |1⟩\n",
    "*  |+⟩= $\\frac{1}{\\sqrt(2)}(|0>+|1>)$\n",
    "*  |−⟩= $\\frac{1}{\\sqrt(2)}(|0>-|1>)$\n",
    "*  |−i⟩=$\\frac{1}{\\sqrt(2)}(|0>-i|1>)$"
   ]
  },
  {
   "cell_type": "code",
   "execution_count": 10,
   "metadata": {},
   "outputs": [
    {
     "name": "stderr",
     "output_type": "stream",
     "text": [
      "/home/codespace/.python/current/lib/python3.10/site-packages/qiskit/visualization/circuit/matplotlib.py:266: FutureWarning: The default matplotlib drawer scheme will be changed to \"iqp\" in a following release. To silence this warning, specify the current default explicitly as style=\"clifford\", or the new default as style=\"iqp\".\n",
      "  self._style, def_font_ratio = load_style(self._style)\n"
     ]
    },
    {
     "data": {
      "image/png": "[encoded data removed]",
      "text/plain": [
       "<Figure size 269.064x200.667 with 1 Axes>"
      ]
     },
     "metadata": {},
     "output_type": "display_data"
    },
    {
     "data": {
      "text/latex": [
       "$$\\frac{\\sqrt{2}}{2} |0\\rangle- \\frac{\\sqrt{2}}{2} |1\\rangle$$"
      ],
      "text/plain": [
       "<IPython.core.display.Latex object>"
      ]
     },
     "execution_count": 10,
     "metadata": {},
     "output_type": "execute_result"
    }
   ],
   "source": [
    "from qiskit.quantum_info import Statevector\n",
    "\n",
    "circuito = QuantumCircuit(1,1)\n",
    "circuito.x(0)\n",
    "circuito.h(0)\n",
    "\n",
    "display(circuito.draw(\"mpl\"))\n",
    "\n",
    "ket0 = Statevector.from_label(\"0\")\n",
    "ket0.evolve(circuito).draw(\"latex\")"
   ]
  },
  {
   "cell_type": "markdown",
   "metadata": {
    "id": "F_d-8DYaTJOV"
   },
   "source": [
    "### EJERCICIO\n",
    "\n",
    "Crea un circuito de un solo qubit con una puerta unitaria de rotacion Φ= $\\pi/2$, θ= $\\pi/2$, λ= $\\pi/2$ y dibujalo."
   ]
  },
  {
   "cell_type": "code",
   "execution_count": 11,
   "metadata": {},
   "outputs": [
    {
     "name": "stderr",
     "output_type": "stream",
     "text": [
      "/home/codespace/.python/current/lib/python3.10/site-packages/qiskit/visualization/circuit/matplotlib.py:266: FutureWarning: The default matplotlib drawer scheme will be changed to \"iqp\" in a following release. To silence this warning, specify the current default explicitly as style=\"clifford\", or the new default as style=\"iqp\".\n",
      "  self._style, def_font_ratio = load_style(self._style)\n"
     ]
    },
    {
     "data": {
      "image/png": "[encoded data removed]",
      "text/plain": [
       "<Figure size 269.064x200.667 with 1 Axes>"
      ]
     },
     "execution_count": 11,
     "metadata": {},
     "output_type": "execute_result"
    }
   ],
   "source": [
    "import numpy as np\n",
    "\n",
    "circuito = QuantumCircuit(1,1)\n",
    "circuito.u(phi=np.pi/2,theta=np.pi/2,lam=np.pi/2,qubit=0)\n",
    "\n",
    "circuito.draw(\"mpl\")"
   ]
  },
  {
   "cell_type": "markdown",
   "metadata": {
    "id": "I7pZUWqdTJOV"
   },
   "source": []
  },
  {
   "cell_type": "markdown",
   "metadata": {
    "id": "TQszbBGwTJOW",
    "tags": []
   },
   "source": [
    "## Puertas Multi-Qubit"
   ]
  },
  {
   "cell_type": "markdown",
   "metadata": {
    "id": "G6hYHEzvTJOW"
   },
   "source": [
    "Como ordena Qiskit los qubits en los vectores de estados cuánticos?"
   ]
  },
  {
   "cell_type": "markdown",
   "metadata": {
    "id": "SQh-EJv0TJOW"
   },
   "source": [
    "En la comunidad Física los registros de multiples Qubits se ordenan típicamente de izquierda a derecha, como $q_0, q_{n-1}$. Qiskit utiliza un orden diferente, en el que el qubit más significativo (MSB) está a la izquierda y le menos significativo (LSB) a la derecha $q_{n-1},..,q_0$, es la __notacion Big-endian__. Esto es similar a la representacion de las cadenas binarias en computacion clásica, lo que facilita la conversion entre cadenas binarias a enteros y resultados de medidas.\n",
    "\n",
    "Esto tiene importantes efectos en la representacion vectorial de los estados y las matrices de las puertas que los transforman [operaciones de multiples qubits](https://qiskit.org/documentation/tutorials/circuits/3_summary_of_quantum_operations.html#Two-qubit-gates)\n",
    "\n",
    "La enumeracion de los vectores de la base, en Qiskit sigue tambien el orden de los numeros enteros que estos representan. Por ejemplo, en un sistema de 2 qubits: los vectores de la base se ordenan como |00⟩, |01⟩, |10⟩, and |11⟩. Si pensamos en los vectores de la base como cadenas binarias y codificamos estas como enteros tenemos que los estados de la base son 0, 1, 2 y 3 respectivamente."
   ]
  },
  {
   "cell_type": "markdown",
   "metadata": {
    "id": "IC3_ZxSYRH7_"
   },
   "source": [
    "Las puertas básicas en dos y tres qubits están dadas por [control gates](https://qiskit.org/textbook/ch-gates/introduction.html) y se aplican a un objeto `QuantumCircuit` con los siguientes  metodos:\n",
    "\n",
    "    qc.cx(c,t) # puerta controlada-X (= CNOT) con qubit de control c y qubit objetivo t\n",
    "    qc.cz(c,t) # puerta Z controlada con qubit de control c y qubit t de destino\n",
    "    qc.ccx(c1,c2,t) # puerta controlada-controlada-X (= Toffoli) con qubits de control c1 y c2 y qubit objetivo t\n",
    "    qc.swap(a,b) # Puerta SWAP que intercambia los estados del qubit a y del qubit b\n",
    "\n",
    "Comenzamos con una puerta fácil en dos qubits, la puerta NO controlada (también CNOT). La puerta CNOT no tiene ningún efecto cuando se aplica sobre dos qubits en estado $|0\\rangle$, pero esto cambia si aplicamos una puerta Hadamard antes al qubit de control para ponerlo en superposición. De esta manera, podemos crear estados entrelazados. "
   ]
  },
  {
   "cell_type": "markdown",
   "metadata": {
    "id": "QL0IosDGRoYv"
   },
   "source": [
    "### EJERCICIO\n",
    "\n",
    "Construye el estado de Bell $|\\Psi^+\\rangle = \\frac{1}{\\sqrt{2}}\\left(|01\\rangle + |10\\rangle\\right)$.\n",
    "\n",
    "Agrega una medición al circuito para que podamos ejecutarlo (usando el simulador) y representa el histograma de los recuentos correspondientes."
   ]
  },
  {
   "cell_type": "code",
   "execution_count": 12,
   "metadata": {
    "id": "Jwfw3H8WTJOX",
    "outputId": "d9dddf3b-afe7-4e1e-e097-4e4e2bc9bbe9"
   },
   "outputs": [
    {
     "data": {
      "image/png": "[encoded data removed]",
      "text/plain": [
       "<Figure size 287.294x284.278 with 1 Axes>"
      ]
     },
     "metadata": {},
     "output_type": "display_data"
    },
    {
     "data": {
      "text/latex": [
       "$$\\frac{\\sqrt{2}}{2} |01\\rangle+\\frac{\\sqrt{2}}{2} |10\\rangle$$"
      ],
      "text/plain": [
       "<IPython.core.display.Latex object>"
      ]
     },
     "metadata": {},
     "output_type": "display_data"
    },
    {
     "data": {
      "text/plain": [
       "<qiskit.circuit.instructionset.InstructionSet at 0x7f474917f1f0>"
      ]
     },
     "execution_count": 12,
     "metadata": {},
     "output_type": "execute_result"
    }
   ],
   "source": [
    "circuito = QuantumCircuit(2,2)\n",
    "circuito.x(1)\n",
    "circuito.h(0)\n",
    "circuito.cx(0,1)\n",
    "\n",
    "display(circuito.draw(\"mpl\"))\n",
    "\n",
    "display((ket0^ket0).evolve(circuito).draw(\"latex\"))\n",
    "\n",
    "circuito.measure([0,1],[0,1])"
   ]
  },
  {
   "cell_type": "code",
   "execution_count": 13,
   "metadata": {
    "id": "MwlfLXolSWPm"
   },
   "outputs": [
    {
     "data": {
      "image/png": "[encoded data removed]",
      "text/plain": [
       "<Figure size 700x500 with 1 Axes>"
      ]
     },
     "execution_count": 13,
     "metadata": {},
     "output_type": "execute_result"
    }
   ],
   "source": [
    "from qiskit import execute\n",
    "\n",
    "backend = Aer.get_backend(\"aer_simulator\")\n",
    "result = execute(circuito,backend).result()\n",
    "counts = result.get_counts()\n",
    "\n",
    "plot_histogram(counts)"
   ]
  },
  {
   "cell_type": "markdown",
   "metadata": {
    "id": "eboU1Ry7SeQu"
   },
   "source": [
    "### EJERCICIO\n",
    "\n",
    "Escribe un circuito cuántico de 3 qubits que cree el estado similar a GHZ, $|\\Psi\\rangle = \\frac{1}{\\sqrt{2}} \\left(|011\\rangle - |100 \\rangle \\right)$.\n",
    "\n",
    "Agrega una medición al circuito para que podamos ejecutarlo (usando el simulador) y representa el histograma de los recuentos correspondientes."
   ]
  },
  {
   "cell_type": "code",
   "execution_count": 14,
   "metadata": {
    "id": "DlJRKmYiS013"
   },
   "outputs": [
    {
     "name": "stderr",
     "output_type": "stream",
     "text": [
      "/home/codespace/.python/current/lib/python3.10/site-packages/qiskit/visualization/circuit/matplotlib.py:266: FutureWarning: The default matplotlib drawer scheme will be changed to \"iqp\" in a following release. To silence this warning, specify the current default explicitly as style=\"clifford\", or the new default as style=\"iqp\".\n",
      "  self._style, def_font_ratio = load_style(self._style)\n"
     ]
    },
    {
     "data": {
      "image/png": "[encoded data removed]",
      "text/plain": [
       "<Figure size 454.719x367.889 with 1 Axes>"
      ]
     },
     "metadata": {},
     "output_type": "display_data"
    },
    {
     "data": {
      "text/latex": [
       "$$\\frac{\\sqrt{2}}{2} |011\\rangle- \\frac{\\sqrt{2}}{2} |100\\rangle$$"
      ],
      "text/plain": [
       "<IPython.core.display.Latex object>"
      ]
     },
     "metadata": {},
     "output_type": "display_data"
    },
    {
     "data": {
      "text/plain": [
       "<qiskit.circuit.instructionset.InstructionSet at 0x7f4748f0cc70>"
      ]
     },
     "execution_count": 14,
     "metadata": {},
     "output_type": "execute_result"
    }
   ],
   "source": [
    "circuito = QuantumCircuit(3,3)\n",
    "circuito.x([0,1,2])\n",
    "circuito.h(2)\n",
    "circuito.cx(2,0)\n",
    "circuito.cx(2,1)\n",
    "\n",
    "display(circuito.draw(\"mpl\"))\n",
    "\n",
    "display(((ket0^ket0)^ket0).evolve(circuito).draw(\"latex\"))\n",
    "\n",
    "circuito.measure([0,1,2],[0,1,2])\n"
   ]
  },
  {
   "cell_type": "code",
   "execution_count": 15,
   "metadata": {},
   "outputs": [
    {
     "data": {
      "image/png": "[encoded data removed]",
      "text/plain": [
       "<Figure size 700x500 with 1 Axes>"
      ]
     },
     "execution_count": 15,
     "metadata": {},
     "output_type": "execute_result"
    }
   ],
   "source": [
    "backend = Aer.get_backend(\"aer_simulator\")\n",
    "result = execute(circuito,backend).result()\n",
    "counts = result.get_counts()\n",
    "\n",
    "plot_histogram(counts)"
   ]
  },
  {
   "cell_type": "markdown",
   "metadata": {
    "id": "_c_7fdeETJOX"
   },
   "source": [
    "### EJERCICIO\n",
    "\n",
    "Creamos un circuito que tenga 2 qubits:\n",
    " - $q[0]$ inicializado con 0 y $q[1]$ en estado |1>\n",
    " - aplicamos la puerta h a ambos qubits\n",
    " - aplicamos la puerta control z a ambos qubits\n",
    "\n",
    " Ejecutar el circuito en el simulador, visualizar e interpretar los resultados"
   ]
  },
  {
   "cell_type": "code",
   "execution_count": 16,
   "metadata": {},
   "outputs": [
    {
     "name": "stderr",
     "output_type": "stream",
     "text": [
      "/home/codespace/.python/current/lib/python3.10/site-packages/qiskit/visualization/circuit/matplotlib.py:266: FutureWarning: The default matplotlib drawer scheme will be changed to \"iqp\" in a following release. To silence this warning, specify the current default explicitly as style=\"clifford\", or the new default as style=\"iqp\".\n",
      "  self._style, def_font_ratio = load_style(self._style)\n"
     ]
    },
    {
     "data": {
      "image/png": "[encoded data removed]",
      "text/plain": [
       "<Figure size 472.949x284.278 with 1 Axes>"
      ]
     },
     "metadata": {},
     "output_type": "display_data"
    },
    {
     "data": {
      "text/plain": [
       "<qiskit.circuit.instructionset.InstructionSet at 0x7f4748e2ca90>"
      ]
     },
     "execution_count": 16,
     "metadata": {},
     "output_type": "execute_result"
    }
   ],
   "source": [
    "qreg = QuantumRegister(2)\n",
    "creg = ClassicalRegister(2)\n",
    "\n",
    "circuito = QuantumCircuit(qreg,creg)\n",
    "\n",
    "circuito.initialize(Statevector(np.array([0,1])),qreg[1])\n",
    "circuito.initialize(Statevector(np.array([1,0])),qreg[0])\n",
    "circuito.barrier()\n",
    "\n",
    "circuito.h(qreg)\n",
    "\n",
    "circuito.cz(qreg[0],qreg[1])\n",
    "\n",
    "display(circuito.draw(\"mpl\"))\n",
    "\n",
    "circuito.measure(qreg,creg)\n"
   ]
  },
  {
   "cell_type": "markdown",
   "metadata": {},
   "source": [
    "### EJERCICIO\n",
    "\n",
    "Crea un circuito de 2 qubits que aplique la puerta H al qubit 0 y las puertas HTH al qubit 1.\n",
    "\n",
    "Dibuja el circuito\n",
    "\n",
    "Ejecutalo en el simulador, visualiza el histograma de resultados.\n",
    "\n",
    "Comprueba el resultado de las operaciones HTH en el qubit 1 visualizadas en la esfera de bloch [Simulador de Bloch](https://javafxpert.github.io/grok-bloch/) y explica los resultados obtenidos en el histograma de medidas del circuito."
   ]
  },
  {
   "cell_type": "code",
   "execution_count": 17,
   "metadata": {},
   "outputs": [
    {
     "data": {
      "image/png": "[encoded data removed]",
      "text/plain": [
       "<Figure size 370.906x284.278 with 1 Axes>"
      ]
     },
     "metadata": {},
     "output_type": "display_data"
    },
    {
     "data": {
      "text/plain": [
       "<qiskit.circuit.instructionset.InstructionSet at 0x7f4748ebd8d0>"
      ]
     },
     "execution_count": 17,
     "metadata": {},
     "output_type": "execute_result"
    }
   ],
   "source": [
    "circuito = QuantumCircuit(2,2)\n",
    "\n",
    "circuito.h([0,1])\n",
    "circuito.t(1)\n",
    "circuito.h(1)\n",
    "\n",
    "display(circuito.draw(\"mpl\"))\n",
    "\n",
    "circuito.measure([0,1],[0,1])"
   ]
  },
  {
   "cell_type": "markdown",
   "metadata": {
    "id": "whHwVgyATJOX",
    "tags": []
   },
   "source": [
    "## Propiedades de los circuitos cuánticos"
   ]
  },
  {
   "cell_type": "markdown",
   "metadata": {
    "id": "i5wcC_HPTJOX"
   },
   "source": [
    "Cuando construimos circuitos cuánticos, hay varias propiedades que nos ayudan a cuantificar el tamaño de estos. El tamaño de un circuito afecta directamente al ruido total que experimentará este cuando corra en un dispositivo cuántico real. Algunas de estas propiedades son el número de qubits, la profundidad y el número de componentes tensoriales, etc...\n",
    "\n",
    "Veamos algunas de esas propiedades y, en preparacion para entender como un circuito cambia cuando se ejecuta en un ordenador cuántico real, resaltaremos como afecta este cambio."
   ]
  },
  {
   "cell_type": "markdown",
   "metadata": {
    "id": "Srr716BJLgSA"
   },
   "source": [
    "### EJERCICIO\n",
    "\n",
    "Tomamos el siguiente circuito de la documentacion de Qiskit: [circuito ejemplo](https://docs.quantum.ibm.com/api/qiskit/circuit#quantum-circuit-properties)"
   ]
  },
  {
   "cell_type": "code",
   "execution_count": 18,
   "metadata": {},
   "outputs": [
    {
     "data": {
      "image/png": "[encoded data removed]",
      "text/plain": [
       "<Figure size 1308.86x1036.78 with 1 Axes>"
      ]
     },
     "execution_count": 18,
     "metadata": {},
     "output_type": "execute_result"
    }
   ],
   "source": [
    "from qiskit import QuantumCircuit\n",
    "qc = QuantumCircuit(12)\n",
    "for idx in range(5):\n",
    "   qc.h(idx)\n",
    "   qc.cx(idx, idx+5)\n",
    " \n",
    "qc.cx(1, 7)\n",
    "qc.x(8)\n",
    "qc.cx(1, 9)\n",
    "qc.x(7)\n",
    "qc.cx(1, 11)\n",
    "qc.swap(6, 11)\n",
    "qc.swap(6, 9)\n",
    "qc.swap(6, 10)\n",
    "qc.x(6)\n",
    "qc.draw('mpl')"
   ]
  },
  {
   "cell_type": "markdown",
   "metadata": {
    "id": "BSlgJ0X6TJOY"
   },
   "source": [
    "Podemos observar que tiene 12 qubits, y una coleccion de puertas Hadamard, CNOT, X y SWAP. Pero en términos de programacion o eficiencia de ejecucion, ¿cómo podemos caracterizarlo?\n",
    "\n",
    "El número de qubits del circuito es igual a la anchura __width__ del circuito:\n"
   ]
  },
  {
   "cell_type": "code",
   "execution_count": 19,
   "metadata": {
    "id": "-oapgpUJTJOY",
    "outputId": "02990543-05e2-4728-8896-e3ab2933d9cd"
   },
   "outputs": [
    {
     "data": {
      "text/plain": [
       "12"
      ]
     },
     "execution_count": 19,
     "metadata": {},
     "output_type": "execute_result"
    }
   ],
   "source": [
    "qc.width()"
   ]
  },
  {
   "cell_type": "markdown",
   "metadata": {
    "id": "4PcqU53YTJOY"
   },
   "source": [
    "El numero de qubits podemos obtenerlo tambien de la propiedad __num_qubits__ de la clase QuantumCircuit:"
   ]
  },
  {
   "cell_type": "code",
   "execution_count": 20,
   "metadata": {
    "id": "WQjQ3I4_TJOY",
    "outputId": "3451a991-a432-45ec-9f68-694a547f49d8"
   },
   "outputs": [
    {
     "data": {
      "text/plain": [
       "12"
      ]
     },
     "execution_count": 20,
     "metadata": {},
     "output_type": "execute_result"
    }
   ],
   "source": [
    "qc.num_qubits"
   ]
  },
  {
   "cell_type": "markdown",
   "metadata": {
    "id": "YbdRQOyPTJOY"
   },
   "source": [
    "**IMPORTANTE**\n",
    "\n",
    "Para circuitos que se componen solo de qubits, la 'anchura' del circuito es igual al número de qubits. Esta equivalencia no es cierta para otros circuitos que ademas incluyen registros clásicos, puertas controladas por registros clásicos etc."
   ]
  },
  {
   "cell_type": "markdown",
   "metadata": {
    "id": "zDvUx7m2TJOY"
   },
   "source": [
    "Otra propiedad del circuito es el número y tipo de puertas que utiliza, que puede obtenerse con __count_ops__:"
   ]
  },
  {
   "cell_type": "code",
   "execution_count": 21,
   "metadata": {
    "id": "vRD2dHfzTJOZ",
    "outputId": "192cc694-0f6a-4153-c720-f8bf1eea1b56"
   },
   "outputs": [
    {
     "data": {
      "text/plain": [
       "OrderedDict([('cx', 8), ('h', 5), ('x', 3), ('swap', 3)])"
      ]
     },
     "execution_count": 21,
     "metadata": {},
     "output_type": "execute_result"
    }
   ],
   "source": [
    "qc.count_ops()"
   ]
  },
  {
   "cell_type": "markdown",
   "metadata": {
    "id": "xnAgDh9vTJOZ"
   },
   "source": [
    "Para contar el número de operaciones en bruto de un circuito utilizamos __size__:"
   ]
  },
  {
   "cell_type": "code",
   "execution_count": 22,
   "metadata": {
    "id": "umPLNJUtTJOe",
    "outputId": "5f737783-e5e0-4172-9657-7da0a62c918c"
   },
   "outputs": [
    {
     "data": {
      "text/plain": [
       "19"
      ]
     },
     "execution_count": 22,
     "metadata": {},
     "output_type": "execute_result"
    }
   ],
   "source": [
    "qc.size()"
   ]
  },
  {
   "cell_type": "markdown",
   "metadata": {
    "id": "uRr-tN1STJOe"
   },
   "source": [
    "Otra propiedad particularmente importante es la profundidad del circuito, __depth__. La profundidad mide el numero de capas de puertas cuánticas que pueden ser ejecutadas en paralelo.\n",
    "\n",
    "Como las puertas requieren un tiempo de implementación esta medida nos da una idea del tiempo que el circuito tardará en su ejecución cuando corra sobre un dispositivo cuántico real."
   ]
  },
  {
   "cell_type": "code",
   "execution_count": 23,
   "metadata": {
    "id": "a4KtnhC9TJOe",
    "outputId": "44519137-b040-45a0-ecd5-063c926a1068"
   },
   "outputs": [
    {
     "data": {
      "text/plain": [
       "9"
      ]
     },
     "execution_count": 23,
     "metadata": {},
     "output_type": "execute_result"
    }
   ],
   "source": [
    "qc.depth()"
   ]
  },
  {
   "cell_type": "markdown",
   "metadata": {
    "id": "tQukYcDzTENm"
   },
   "source": [
    "Otra medida que se ve a menudo es contar el número de puertas de múltiples qubits en lugar de todas las puertas, ya que normalmente son \"más caras\" que otras puertas. En nuestro caso, \"más caras\" significa que a menudo tienen una tasa de error mucho mayor (alrededor de 10 veces mayor) en comparación con las puertas de un solo qubit.\n",
    "\n",
    "El numero de puertas multiqubits se mide con el metodo __num_nonlocal_gates__\n"
   ]
  },
  {
   "cell_type": "code",
   "execution_count": 24,
   "metadata": {
    "id": "cTmwRJbxTZju"
   },
   "outputs": [
    {
     "data": {
      "text/plain": [
       "11"
      ]
     },
     "execution_count": 24,
     "metadata": {},
     "output_type": "execute_result"
    }
   ],
   "source": [
    "qc.num_nonlocal_gates()"
   ]
  },
  {
   "cell_type": "markdown",
   "metadata": {
    "id": "sG8BVnlkTJOe",
    "tags": []
   },
   "source": [
    "### EJERCICIO\n",
    "\n",
    "Creamos un circuito que tenga 4 qubits:\n",
    " - Todos qubits inicializados a 0\n",
    " - aplicamos a $q[0]$ la puerta h y tres puertas S\n",
    " - aplicamos una puerta CNOT entre el qubit 0 y 1\n",
    " - aplicamos una puerta CNOT entre el qubit 1 y 3\n",
    "\n",
    "Calcula el numero de qubits (width), el numero de puertas (count_ops), tamaño (size y su profundidad (depth)\n",
    "\n",
    "\n",
    "Creamos otro circuito que tenga 4 qubits:\n",
    " - Todos qubits inicializados a 0\n",
    " - aplicamos a $q[0]$ la puerta h\n",
    " - aplicamos puertas S al resto de los qubits\n",
    " - aplicamos una puerta CNOT entre el qubit 0 y 1\n",
    " - aplicamos una puerta CNOT entre el qubit 2 y 3\n",
    "\n",
    "Calcula el numero de qubits (width), el numero de puertas (count_ops), tamaño (size y su profundidad (depth)\n",
    "\n",
    "Compara las propiedades de los dos circuitos"
   ]
  },
  {
   "cell_type": "code",
   "execution_count": 25,
   "metadata": {
    "id": "xP1PIfZhTJOf",
    "outputId": "120df9aa-1427-4e4f-dfd7-344bace82762"
   },
   "outputs": [
    {
     "data": {
      "image/png": "[encoded data removed]",
      "text/plain": [
       "<Figure size 621.941x367.889 with 1 Axes>"
      ]
     },
     "metadata": {},
     "output_type": "display_data"
    },
    {
     "name": "stdout",
     "output_type": "stream",
     "text": [
      "Width:  4 \n",
      "Count_ops:  OrderedDict([('s', 3), ('cx', 2), ('h', 1)]) \n",
      "Size:  6 \n",
      "Depth:  6\n"
     ]
    }
   ],
   "source": [
    "#Crea un circuito 1 de 4 qubits\n",
    "circuito1 = QuantumCircuit(4)\n",
    "circuito1.h(0)\n",
    "for ind in range(3):\n",
    "    circuito1.s(0)\n",
    "circuito1.cx([0,1],[1,3])\n",
    "\n",
    "\n",
    "#Dibuja el circuito\n",
    "display(circuito1.draw(\"mpl\"))\n",
    "\n",
    "\n",
    "#imprime las características del circuito\n",
    "print(\"Width: \",circuito1.width(),\"\\nCount_ops: \",circuito1.count_ops(),\"\\nSize: \",circuito1.size(),\"\\nDepth: \",circuito1.depth())\n"
   ]
  },
  {
   "cell_type": "code",
   "execution_count": 26,
   "metadata": {
    "id": "ulnA2wrSTJOf",
    "outputId": "52e952fc-1cad-43fd-9b67-6e5c74a8c540"
   },
   "outputs": [
    {
     "data": {
      "image/png": "[encoded data removed]",
      "text/plain": [
       "<Figure size 371.107x367.889 with 1 Axes>"
      ]
     },
     "metadata": {},
     "output_type": "display_data"
    },
    {
     "name": "stdout",
     "output_type": "stream",
     "text": [
      "Width:  4 \n",
      "Count_ops:  OrderedDict([('s', 3), ('cx', 2), ('h', 1)]) \n",
      "Size:  6 \n",
      "Depth:  2\n"
     ]
    }
   ],
   "source": [
    "#Crea un circuito 2 de 4 qubits\n",
    "circuito2 = QuantumCircuit(4)\n",
    "circuito2.h(0)\n",
    "for ind in range(3):\n",
    "    circuito2.s(ind+1)\n",
    "circuito2.cx([0,1],[2,3])\n",
    "\n",
    "#Dibuja el circuito\n",
    "display(circuito2.draw(\"mpl\"))\n",
    "\n",
    "#imprime las características del circuito\n",
    "print(\"Width: \",circuito2.width(),\"\\nCount_ops: \",circuito2.count_ops(),\"\\nSize: \",circuito2.size(),\"\\nDepth: \",circuito2.depth())\n"
   ]
  },
  {
   "cell_type": "markdown",
   "metadata": {
    "id": "4uNZDUv7MD33"
   },
   "source": [
    "### EJERCICIO\n",
    "\n",
    "Dado el siguiente circuito que construye un estado totalmente entrelazado, calcula el numero de qubits (width), el numero de puertas (count_ops), tamaño (size y su profundidad (depth)."
   ]
  },
  {
   "cell_type": "code",
   "execution_count": 27,
   "metadata": {
    "id": "vJwT9P32UzTP"
   },
   "outputs": [
    {
     "data": {
      "image/png": "[encoded data removed]",
      "text/plain": [
       "<Figure size 738.141x685.611 with 1 Axes>"
      ]
     },
     "metadata": {},
     "output_type": "display_data"
    },
    {
     "name": "stdout",
     "output_type": "stream",
     "text": [
      "Width:  16 \n",
      "Count_ops:  OrderedDict([('cx', 15), ('h', 1)]) \n",
      "Size:  16 \n",
      "Depth:  16\n"
     ]
    }
   ],
   "source": [
    "qc = QuantumCircuit(16)\n",
    "\n",
    "#Step 1: Preparing the first qubit in superposition\n",
    "qc.h(0)\n",
    "\n",
    "#Step 2: Entangling all other qubits with it (1 is included 16 is exclude)\n",
    "for x in range(1, 16):\n",
    "  qc.cx(0,x)\n",
    "\n",
    "display(qc.draw(\"mpl\",scale=0.5))\n",
    "\n",
    "print(\"Width: \",qc.width(),\"\\nCount_ops: \",qc.count_ops(),\"\\nSize: \",qc.size(),\"\\nDepth: \",qc.depth())"
   ]
  },
  {
   "cell_type": "markdown",
   "metadata": {
    "id": "8Q-iHg_HUrMO"
   },
   "source": [
    "Como podemos ver, el circuito cuántico anterior tiene una profundidad igual a su número de puertas. El paso 1 agrega una profundidad de 1 y el paso 2 agrega una profundidad de 15.\n",
    "\n",
    "Intentemos reducir su profundidad. Está bastante claro que no podemos hacer mejor el paso 1, pero el paso 2 se puede hacer mucho mejor. Intentemos encontrar una solución que solo use una profundidad de 4, en lugar de 15\n",
    "\n",
    "Sugerencia: pensemos en qué tipo de tiempo de ejecución asintótico causaría solo 4 operaciones. Y no olvides que la profundidad final será 5 (Pasos 1 y 2 combinados)."
   ]
  },
  {
   "cell_type": "code",
   "execution_count": 28,
   "metadata": {
    "id": "sXUUgLowVTH2"
   },
   "outputs": [
    {
     "data": {
      "image/png": "[encoded data removed]",
      "text/plain": [
       "<Figure size 738.141x685.611 with 1 Axes>"
      ]
     },
     "metadata": {},
     "output_type": "display_data"
    },
    {
     "name": "stdout",
     "output_type": "stream",
     "text": [
      "Width:  16 \n",
      "Count_ops:  OrderedDict([('cx', 15), ('h', 1)]) \n",
      "Size:  16 \n",
      "Depth:  6\n"
     ]
    }
   ],
   "source": [
    "qc = QuantumCircuit(16)\n",
    "\n",
    "#Step 1: Preparing the first qubit in superposition\n",
    "qc.h(0)\n",
    "\n",
    "#Step 2: Entangling all other qubits with it (1 is included 16 is excluded)\n",
    "qc.cx(0,1)\n",
    "for x in range(2,16):\n",
    "    qc.cx((x-2)%4,x)\n",
    "\n",
    "\n",
    "\n",
    "display(qc.draw(\"mpl\",scale=0.5))\n",
    "\n",
    "print(\"Width: \",qc.width(),\"\\nCount_ops: \",qc.count_ops(),\"\\nSize: \",qc.size(),\"\\nDepth: \",qc.depth())"
   ]
  },
  {
   "cell_type": "markdown",
   "metadata": {
    "id": "mVCdGQB7W75v"
   },
   "source": [
    "## Circuitos dinámicos"
   ]
  },
  {
   "cell_type": "markdown",
   "metadata": {
    "id": "veQ0tWJnXfX-"
   },
   "source": [
    "Por lo general, cuando hablamos de circuitos cuánticos, nos referimos a circuitos cuánticos _estáticos_, incluso si no lo decimos explícitamente. Entonces, ¿qué son los circuitos dinámicos?\n",
    "\n",
    "Los **circuitos dinámicos** son circuitos cuánticos que contienen mediciones en medio del circuito donde los resultados de esas mediciones se usan para condicionar compuertas cuánticas más adelante en el circuito. La capacidad de condicionar futuras operaciones cuánticas en los resultados de las mediciones clásicas se conoce como `feedforward clásico`.\n",
    "\n",
    "¿Por qué necesitamos feedforward clásico? Un ejemplo puede ayudar: Considera la operación de restablecimiento condicional, que puede sonarte familiar si alguna vez usaste la operación [`reset`](https://qiskit.org/documentation/stubs/qiskit.circuit.QuantumCircuit.reset.html) en Qiskit. Si bien la operación de restablecimiento es una operación no unitaria que restablece el qubit al estado cero sin importar el estado inicial, la operación de restablecimiento condicional se realiza en un qubit ya medido para restablecerlo a cero mediante la aplicación de una compuerta bit-flip X solo si el qubit está en el estado uno, según lo determinado a partir de su valor medido. El restablecimiento condicional puede ser una forma más rápida y menos propensa a errores de restablecer un qubit si ya se ha medido.\n",
    "\n",
    "Dicho de otra manera, los circuitos dinámicos son circuitos cuánticos que incluyen flujo de control, como declaraciones if y bucles while, donde los predicados se calculan a partir de los resultados de mediciones de qubit anteriores y las operaciones condicionales incluyen compuertas cuánticas."
   ]
  },
  {
   "cell_type": "markdown",
   "metadata": {
    "id": "28fSo_p8Y_9v"
   },
   "source": [
    "### EJERCICIO\n",
    "\n",
    "Revisa la documentacion de la clase Circuit de Qiskit para ver la operacion del método [`if_test()`](https://qiskit.org/documentation/stubs/qiskit.circuit.QuantumCircuit.if_test.html)\n",
    "\n",
    "Construye un circuito que demuestre la operación de restablecimiento condicional siguiendo los siguientes pasos:\n",
    "\n",
    "1. Inicializa un circuito con 1 qubit y 2 bits clásicos. ($q_{0}$, $b_{0}$ y $b_{1}$)\n",
    "2. Aplica una compuerta Hadamard a $q_{0}$.\n",
    "3. Mide ese qubit y guarda el resultado en $b_{0}$.\n",
    "4. Comienza un bloque `if_test` condicionado a que $b_{0}$ sea igual a 1.\n",
    "5. En el bloque `if_test`, especifica la operación a realizar si se cumple la condición, en este caso, cambiando $q_{0}$ al estado 0.\n",
    "6. Vuelve a medir $q_0$ en $b_{1}$ para comprobar que siempre obtenemos 0."
   ]
  },
  {
   "cell_type": "code",
   "execution_count": 29,
   "metadata": {},
   "outputs": [
    {
     "name": "stderr",
     "output_type": "stream",
     "text": [
      "/home/codespace/.python/current/lib/python3.10/site-packages/qiskit/visualization/circuit/matplotlib.py:266: FutureWarning: The default matplotlib drawer scheme will be changed to \"iqp\" in a following release. To silence this warning, specify the current default explicitly as style=\"clifford\", or the new default as style=\"iqp\".\n",
      "  self._style, def_font_ratio = load_style(self._style)\n"
     ]
    },
    {
     "data": {
      "image/png": "[encoded data removed]",
      "text/plain": [
       "<Figure size 556.156x200.667 with 1 Axes>"
      ]
     },
     "execution_count": 29,
     "metadata": {},
     "output_type": "execute_result"
    }
   ],
   "source": [
    "qreg = QuantumRegister(1)\n",
    "creg = ClassicalRegister(2)\n",
    "\n",
    "circuit = QuantumCircuit(qreg,creg)\n",
    "\n",
    "circuit.h(qreg[0])\n",
    "circuit.measure(qreg[0],creg[0])\n",
    "\n",
    "with circuit.if_test((creg[0], 1)) as else_:\n",
    "    circuit.x(0)\n",
    "\n",
    "circuit.measure(qreg,creg[1])\n",
    "circuit.draw(\"mpl\")"
   ]
  },
  {
   "cell_type": "markdown",
   "metadata": {
    "id": "00up_EPQZf0W"
   },
   "source": [
    "Ejecutalo varias veces para ver si siempre obtenemos el resultado esperado. La primera medición puede ser 0 o 1, pero la segunda medición siempre debe ser 0."
   ]
  },
  {
   "cell_type": "code",
   "execution_count": 31,
   "metadata": {},
   "outputs": [
    {
     "data": {
      "image/png": "[encoded data removed]",
      "text/plain": [
       "<Figure size 700x500 with 1 Axes>"
      ]
     },
     "execution_count": 31,
     "metadata": {},
     "output_type": "execute_result"
    }
   ],
   "source": [
    "backend = Aer.get_backend(\"aer_simulator\")\n",
    "result = execute(circuit,backend,shots = 2000).result()\n",
    "counts = result.get_counts()\n",
    "\n",
    "plot_histogram(counts)"
   ]
  },
  {
   "cell_type": "markdown",
   "metadata": {
    "id": "82Do1irkZyRV"
   },
   "source": [
    "### EJERCICIO\n",
    "\n",
    "Diseña un circuito de dos qubits. En este caso, el objetivo es actuar de manera diferente sobre $q_{1}$ dependiendo del valor de $q_{0}$. Si la medición en $q_{0}$ es 0, aplica una puerta $X$ en $q_{1}$. Si se lee 1, aplica una Hadamard en $q_{1}$ en su lugar.\n",
    "\n",
    "Para que el valor de $q_{0}$ sea aleatorio, lo primero que haremos será aplicar una Hadamard en ese qubit. A continuación, mediremos $q_{0}$ en $b_{0}$. Después de eso, debería ocurrir la magia dinámica y, finalmente, se mide $q_{1}$."
   ]
  },
  {
   "cell_type": "code",
   "execution_count": null,
   "metadata": {},
   "outputs": [],
   "source": []
  },
  {
   "cell_type": "markdown",
   "metadata": {
    "id": "1ndnjqJxaOVF"
   },
   "source": [
    "Ejecuta el circuito y muestra el histograma de resultados obtenidos"
   ]
  },
  {
   "cell_type": "code",
   "execution_count": null,
   "metadata": {},
   "outputs": [],
   "source": []
  },
  {
   "cell_type": "markdown",
   "metadata": {
    "id": "eBiPyVCOTJOf",
    "tags": []
   },
   "source": [
    "## Otras operaciones de interés en los Circuitos Cuánticos\n",
    "\n",
    "A continuación se recogen algunas de las funciones más interesantes para trabajar con circuitos cuánticos, que es importante conocer."
   ]
  },
  {
   "cell_type": "markdown",
   "metadata": {
    "id": "k0eHwrJBTJOf",
    "tags": []
   },
   "source": [
    "### Inicializar un circuito con un estado determinado"
   ]
  },
  {
   "cell_type": "markdown",
   "metadata": {
    "id": "6vYUPrFsdIze"
   },
   "source": [
    "#### EJERCICIO\n",
    "\n",
    "Prueba el metodo [initialize](https://docs.quantum.ibm.com/api/qiskit/qiskit.circuit.QuantumCircuit#initialize) e inicializa un circuito de 4 qubits con los estados '01+-'"
   ]
  },
  {
   "cell_type": "code",
   "execution_count": 33,
   "metadata": {
    "id": "CKfcCqTfTJOf",
    "outputId": "e73f97f4-7bac-40dc-9972-d54666171288"
   },
   "outputs": [
    {
     "name": "stderr",
     "output_type": "stream",
     "text": [
      "/home/codespace/.python/current/lib/python3.10/site-packages/qiskit/visualization/circuit/matplotlib.py:266: FutureWarning: The default matplotlib drawer scheme will be changed to \"iqp\" in a following release. To silence this warning, specify the current default explicitly as style=\"clifford\", or the new default as style=\"iqp\".\n",
      "  self._style, def_font_ratio = load_style(self._style)\n"
     ]
    },
    {
     "data": {
      "image/png": "[encoded data removed]",
      "text/plain": [
       "<Figure size 287.496x367.889 with 1 Axes>"
      ]
     },
     "execution_count": 33,
     "metadata": {},
     "output_type": "execute_result"
    }
   ],
   "source": [
    "# Initializacion (Usando la instruccion initialize)\n",
    "qc = QuantumCircuit(4)\n",
    "\n",
    "qc.initialize('01+-',qc.qubits)\n",
    "\n",
    "qc.draw(\"mpl\")"
   ]
  },
  {
   "cell_type": "markdown",
   "metadata": {
    "id": "qLHoSDG2dkvt"
   },
   "source": [
    "#### EJERCICIO\n",
    "\n",
    "Inicializa un circuito de 2 qubits con el estado $\\frac{1}{\\sqrt(2)}(|0>+|1>)$ en el qubit 0"
   ]
  },
  {
   "cell_type": "code",
   "execution_count": null,
   "metadata": {
    "id": "NVqSHJ_TTJOg",
    "outputId": "a529bd73-7e41-4f23-ea0a-01ac6c108d98"
   },
   "outputs": [],
   "source": [
    "# Initializacion\n"
   ]
  },
  {
   "cell_type": "markdown",
   "metadata": {
    "id": "VPE7EGbQTJOg",
    "tags": []
   },
   "source": [
    "### Componer y Descomponer circuitos"
   ]
  },
  {
   "cell_type": "markdown",
   "metadata": {
    "id": "BY9ZbvjATJOg"
   },
   "source": [
    "Podemos componer circuitos con los métodos __append__ y __compose__"
   ]
  },
  {
   "cell_type": "markdown",
   "metadata": {},
   "source": [
    "#### EJERCICIO\n",
    "\n",
    "Inpecciona los metodos:\n",
    "\n",
    "- [`.append()`](https://docs.quantum.ibm.com/api/qiskit/qiskit.circuit.QuantumCircuit#append) \n",
    "- [`.compose()`](https://docs.quantum.ibm.com/api/qiskit/qiskit.circuit.QuantumCircuit#compose)\n",
    "- [`.decompose()`](https://docs.quantum.ibm.com/api/qiskit/qiskit.circuit.QuantumCircuit#decompose)\n",
    "\n",
    "de la clase `QuantumCircuit` y dados los siguientes circuitos `sub_q` y `circ` realiza las siguientes operaciones:\n",
    "\n",
    "- una composicion para añadir `sub_q` a `circ` en los qubits 1 y 2 (con `append()` y con `compose()`). Dibuja los circuitos resultados, ¿que diferencias tiene cada metodo?\n",
    "- realiza una operacion de `decompose()` del circuito final y dibuja el circuito resultado que se obtiene"
   ]
  },
  {
   "cell_type": "code",
   "execution_count": 57,
   "metadata": {
    "id": "fOPqHP0MTJOg"
   },
   "outputs": [
    {
     "data": {
      "text/plain": [
       "<qiskit.circuit.instructionset.InstructionSet at 0x7f4742cd13c0>"
      ]
     },
     "execution_count": 57,
     "metadata": {},
     "output_type": "execute_result"
    }
   ],
   "source": [
    "#Creamos un circuito de 2 qubits\n",
    "from qiskit import QuantumRegister\n",
    "# Build a sub-circuit\n",
    "sub_q = QuantumRegister(2)\n",
    "sub_circ = QuantumCircuit(sub_q, name='sub_circ')\n",
    "sub_circ.h(sub_q[0])\n",
    "sub_circ.crz(1, sub_q[0], sub_q[1])\n",
    "sub_circ.barrier()\n",
    "sub_circ.id(sub_q[1])\n",
    "sub_circ.u(1, 2, -2, sub_q[0])\n",
    "\n",
    "# lo vamos a añadir a otro de circuito de 3 qubits para que aplique a los qr[1], qr[2]\n",
    "qr = QuantumRegister(3, 'q')\n",
    "circ = QuantumCircuit(qr)\n",
    "circ.h(qr[0])\n",
    "circ.cx(qr[0], qr[1])\n",
    "circ.cx(qr[1], qr[2])"
   ]
  },
  {
   "cell_type": "code",
   "execution_count": 55,
   "metadata": {},
   "outputs": [
    {
     "data": {
      "image/png": "[encoded data removed]",
      "text/plain": [
       "<Figure size 538.33x284.278 with 1 Axes>"
      ]
     },
     "execution_count": 55,
     "metadata": {},
     "output_type": "execute_result"
    }
   ],
   "source": [
    "#append\n",
    "circ.append(sub_circ.to_instruction(),[1,2])\n",
    "circ.draw(\"mpl\")\n"
   ]
  },
  {
   "cell_type": "code",
   "execution_count": 58,
   "metadata": {},
   "outputs": [
    {
     "data": {
      "image/png": "[encoded data removed]",
      "text/plain": [
       "<Figure size 490.978x200.667 with 1 Axes>"
      ]
     },
     "metadata": {},
     "output_type": "display_data"
    },
    {
     "data": {
      "image/png": "[encoded data removed]",
      "text/plain": [
       "<Figure size 371.107x284.278 with 1 Axes>"
      ]
     },
     "metadata": {},
     "output_type": "display_data"
    },
    {
     "data": {
      "image/png": "[encoded data removed]",
      "text/plain": [
       "<Figure size 705.552x284.278 with 1 Axes>"
      ]
     },
     "metadata": {},
     "output_type": "display_data"
    }
   ],
   "source": [
    "#compose\n",
    "circuito = circ.compose(sub_circ,[1,2])\n",
    "\n",
    "display(sub_circ.draw(\"mpl\"))\n",
    "display(circ.draw(\"mpl\"))\n",
    "display(circuito.draw(\"mpl\"))"
   ]
  },
  {
   "cell_type": "markdown",
   "metadata": {
    "id": "9YZilXUDTJOg"
   },
   "source": [
    "Podemos usar la operacion __decompose__ para descomponer circuitos compuestos y ver todas las puertas del circuito total."
   ]
  },
  {
   "cell_type": "code",
   "execution_count": 43,
   "metadata": {
    "id": "Nug9onjITJOg"
   },
   "outputs": [
    {
     "data": {
      "image/png": "[encoded data removed]",
      "text/plain": [
       "<Figure size 872.774x284.278 with 1 Axes>"
      ]
     },
     "execution_count": 43,
     "metadata": {},
     "output_type": "execute_result"
    }
   ],
   "source": [
    "circuito.decompose().draw(\"mpl\")"
   ]
  },
  {
   "cell_type": "markdown",
   "metadata": {
    "id": "yXd174GBTJOh"
   },
   "source": [
    "Podemos obtener la matriz unitaria de un circuito. Para ello lo ejecutamos en el simulador y en lugar de añadir medidas añadimos __save_unitary__"
   ]
  },
  {
   "cell_type": "markdown",
   "metadata": {
    "id": "gANq7PSqfEql"
   },
   "source": [
    "### Circuitos a partir de operadores"
   ]
  },
  {
   "cell_type": "markdown",
   "metadata": {
    "id": "vHsR9h0OTJOh"
   },
   "source": [
    "Los circuitos son matrices unitarias que transforman los estados cuanticos que son vectores.\n",
    "\n",
    "Podemos construir un circuito a partir de una matriz unitaria"
   ]
  },
  {
   "cell_type": "markdown",
   "metadata": {
    "id": "VYwu5TJqfb1e"
   },
   "source": [
    "#### EJERCICIO\n",
    "\n",
    "Revisa la documentacion del metodo [unitary](https://docs.quantum.ibm.com/api/qiskit/qiskit.circuit.QuantumCircuit#unitary) y construye un circuito a partir de la siguiente matrix unitaria\n",
    "\n",
    "Dibuja el circuito, si no pueden verse las puertas que aplica descomponlo y dibujalo de nuevo"
   ]
  },
  {
   "cell_type": "code",
   "execution_count": 84,
   "metadata": {
    "id": "FlvntIZNTJOh"
   },
   "outputs": [
    {
     "data": {
      "image/png": "[encoded data removed]",
      "text/plain": [
       "<Figure size 287.294x200.667 with 1 Axes>"
      ]
     },
     "execution_count": 84,
     "metadata": {},
     "output_type": "execute_result"
    }
   ],
   "source": [
    "# Any unitary!\n",
    "matrix = [[0, 1, 0, 0],\n",
    "        [1, 0, 0, 0],\n",
    "        [0, 0, 0, 1],\n",
    "        [0, 0, 1, 0]]\n",
    "circuit = QuantumCircuit(2)\n",
    "circuit.unitary(matrix, [0, 1])\n",
    "\n",
    "circuit.draw(\"mpl\")"
   ]
  },
  {
   "cell_type": "code",
   "execution_count": 85,
   "metadata": {
    "id": "8fiyq3rmTJOh"
   },
   "outputs": [
    {
     "name": "stdout",
     "output_type": "stream",
     "text": [
      "Circuit unitary:\n",
      " [[0.+0.j 1.+0.j 0.+0.j 0.+0.j]\n",
      " [1.+0.j 0.+0.j 0.+0.j 0.+0.j]\n",
      " [0.+0.j 0.+0.j 0.+0.j 1.+0.j]\n",
      " [0.+0.j 0.+0.j 1.+0.j 0.+0.j]]\n"
     ]
    }
   ],
   "source": [
    "# en lugar de medir los resultados de los qubits del circuito vamos a estimar la matriz que representan sus operaciones\n",
    "simulator = Aer.get_backend(\"aer_simulator\")\n",
    "\n",
    "circuit.save_unitary()\n",
    "\n",
    "# Lo ejecutamos en el simulador\n",
    "simulator = Aer.get_backend('aer_simulator')\n",
    "\n",
    "# Obtenemos su matriz\n",
    "result = simulator.run(circuit).result()\n",
    "unitary = result.get_unitary(circuit)\n",
    "print(\"Circuit unitary:\\n\", unitary.to_matrix())"
   ]
  },
  {
   "cell_type": "markdown",
   "metadata": {
    "id": "lqY0n4DDngdr"
   },
   "source": [
    "### Circuitos paramétricos"
   ]
  },
  {
   "cell_type": "markdown",
   "metadata": {
    "id": "rv1AmGReTJOi"
   },
   "source": [
    "Revisa la documentacion de la clase [Parameter](https://docs.quantum.ibm.com/api/qiskit/qiskit.circuit.Parameter), con la que podemos crear circuitos paremetrizados donde los valores de rotacion de las puertas son variables.\n",
    "\n",
    "Los parámetros pueden asignarse en tiempo de ejecución, lo que permite construir algoritmos de optimizacion en los que los parametros se van variando hasta encontrar la solucion óptima"
   ]
  },
  {
   "cell_type": "markdown",
   "metadata": {
    "id": "bBBYtAG6oimr"
   },
   "source": [
    "#### EJERCICIO\n",
    "\n",
    "Crea un circuito de un qubit que ejecute una puerta $R_x$ que depende de un parámetro $\\theta$\n",
    "\n",
    "Dale diferentes valores de $\\frac{\\pi}{4}, \\frac{\\pi}{2}, 0$ al parámetro y ejecutalo en el simulador para ver los resultados que se obtienen"
   ]
  },
  {
   "cell_type": "code",
   "execution_count": 93,
   "metadata": {
    "id": "ZJlG_cHvTJOi"
   },
   "outputs": [
    {
     "data": {
      "image/png": "[encoded data removed]",
      "text/plain": [
       "<Figure size 413.165x200.667 with 1 Axes>"
      ]
     },
     "execution_count": 93,
     "metadata": {},
     "output_type": "execute_result"
    }
   ],
   "source": [
    "# Circuitos Cuánticos Parametrizados\n",
    "\n",
    "from qiskit.circuit import Parameter\n",
    "theta = Parameter(\"theta\")\n",
    "\n",
    "circuit = QuantumCircuit(1)\n",
    "\n",
    "circuit.rx(theta,0)\n",
    "circuit.measure_all()\n",
    "circuit.draw(\"mpl\")\n"
   ]
  },
  {
   "cell_type": "code",
   "execution_count": 94,
   "metadata": {},
   "outputs": [
    {
     "data": {
      "text/plain": [
       "[{'1': 142, '0': 882}, {'0': 487, '1': 537}, {'0': 1024}]"
      ]
     },
     "execution_count": 94,
     "metadata": {},
     "output_type": "execute_result"
    }
   ],
   "source": [
    "simulator = Aer.get_backend('aer_simulator')\n",
    "\n",
    "theta_values= [3.14/4,3.14/2,0]\n",
    "\n",
    "res = simulator.run(circuit, parameter_binds=[{theta: theta_values}]).result()  # Different bindings\n",
    "res.get_counts()"
   ]
  },
  {
   "cell_type": "code",
   "execution_count": 95,
   "metadata": {
    "id": "m8UG6SV5TJOi"
   },
   "outputs": [
    {
     "name": "stdout",
     "output_type": "stream",
     "text": [
      "ParameterView([Parameter(theta)])\n"
     ]
    }
   ],
   "source": [
    "#Podemos ver los parametros de un circuito\n",
    "print(circuit.parameters)"
   ]
  },
  {
   "cell_type": "code",
   "execution_count": null,
   "metadata": {},
   "outputs": [],
   "source": []
  }
 ],
 "metadata": {
  "colab": {
   "collapsed_sections": [
    "ZgpfDz-9TJOR",
    "oGri1-WpTJOS",
    "1b0bi0ttOPzy",
    "TQszbBGwTJOW",
    "whHwVgyATJOX"
   ],
   "provenance": [],
   "toc_visible": true
  },
  "kernelspec": {
   "display_name": "Python 3 (ipykernel)",
   "language": "python",
   "name": "python3"
  },
  "language_info": {
   "codemirror_mode": {
    "name": "ipython",
    "version": 3
   },
   "file_extension": ".py",
   "mimetype": "text/x-python",
   "name": "python",
   "nbconvert_exporter": "python",
   "pygments_lexer": "ipython3",
   "version": "3.10.13"
  },
  "widgets": {
   "application/vnd.jupyter.widget-state+json": {
    "state": {},
    "version_major": 2,
    "version_minor": 0
   }
  }
 },
 "nbformat": 4,
 "nbformat_minor": 4
}
