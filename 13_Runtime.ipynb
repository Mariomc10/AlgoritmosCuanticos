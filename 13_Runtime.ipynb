{
 "cells": [
  {
   "cell_type": "markdown",
   "metadata": {},
   "source": [
    "<div>\n",
    "<img src=\"https://www.nebrija.com/images/logos/logotipo-universidad-nebrija.jpg\" width=\"200\">\n",
    "</div>\n",
    "\n",
    "**ALGORITMOS** -\n",
    "Prof: Carmen Pellicer Lostao"
   ]
  },
  {
   "cell_type": "markdown",
   "metadata": {
    "id": "Ht9rDAKSHJc8"
   },
   "source": [
    "# Qiskit Runtime"
   ]
  },
  {
   "cell_type": "markdown",
   "metadata": {
    "id": "UXtPJ2WqE193"
   },
   "source": [
    "Hay dos métodos para acceder a los sistemas IBM Quantum:\n",
    "\n",
    "\n",
    "*   En primer lugar, el paquete `qiskit-ibm-provider` proporciona la interfaz `backend.run()`, que permite el acceso directo a los sistemas IBM Quantum sin necesidad de procesamiento previo o posterior. Este nivel de acceso es adecuado para aquellos usuarios que desean un control preciso sobre la ejecución del circuito y el procesamiento de resultados (p. e. circuitos dinámicos).\n",
    "\n",
    "*   En segundo lugar, utilizando el paquete `Qiskit Runtime` que está diseñado para agilizar la construcción de algoritmos y aplicaciones al eliminar la necesidad de que los usuarios comprendan los detalles técnicos del hardware y del software de bajo nivel. **Las sesiones dentro de Qiskit Runtime permiten a los usuarios ejecutar circuitos de algoritmos iterativos uno tras otro, o colecciones de circuitos por lotes sin tener que volver a poner en cola cada trabajo.**\n",
    "\n",
    "En este notebook vemos cómo usar el servicio Qiskit Runtime y crear programas sobre la construcción de primitivas. La documentacion para usar este servicio puedes encontrarla en [Runtime docs](https://docs.quantum.ibm.com/run)"
   ]
  },
  {
   "cell_type": "markdown",
   "metadata": {
    "id": "20TAbAEnHukm"
   },
   "source": [
    "## Set-up del entorno"
   ]
  },
  {
   "cell_type": "markdown",
   "metadata": {
    "id": "TRFyPzJgGr3-"
   },
   "source": [
    "Comenzaremos con `Qiskit Runtime`. Qiskit Runtime ya está instalado y configurado en la instancia de IBM Quantum Lab del IBM.\n",
    "\n",
    "Si se ejecuta en otros entornos, es posible que se requiera instalar los paquetes Qiskit Runtime, lo que se puede hacer usando: `pip install qiskit-ibm-runtime`. \n",
    "\n",
    "El bloque siguiente de codigo guarda las credenciales de la cuenta Runtime de IBMQ en un entorno actual. El argumento de la palabra clave `channel` permite que Runtime sepa si se está utilizando IBM Quantum regular (`channel='ibm_quantum'`) o IBM Cloud (`channel='ibm_cloud'`). Usaremos el canal `ibm_quantum` para todas nuestras ejecuciones. Esta celda se puede ejecutar solo una vez y las credenciales se guardan para este entorno. Y para el argumento de la palabra clave `token`, es necesario codificar el valor de tu token API se encuentra en el enlace de la cuenta de IBMQ: **[quantum-computing.ibm.com/account](https://quantum-computing.ibm.com/account)**."
   ]
  },
  {
   "cell_type": "code",
   "execution_count": 2,
   "metadata": {
    "id": "VCv1Sc_pFe96"
   },
   "outputs": [],
   "source": [
    "#!pip install qiskit-ibm-runtime"
   ]
  },
  {
   "cell_type": "code",
   "execution_count": 5,
   "metadata": {
    "id": "8Y3EWle_IGiC"
   },
   "outputs": [],
   "source": [
    "# Save the Runtime account credentials if you have not done so already\n",
    "# If you need to overwrite the account info, please add `overwrite=True`\n",
    "QiskitRuntimeService.save_account(channel='ibm_quantum', token='807454d47ee36239856f1751489e9a6c0df8e433a4c335f8cd9d4d7fc697fce7f1d6fbeec86553b2cd8d3d61ae73114b9c704a520699b9ba5b0eb3afd2c1dab1', overwrite=True)"
   ]
  },
  {
   "cell_type": "markdown",
   "metadata": {
    "id": "X2UbzVijH9Bn"
   },
   "source": [
    "En el entorno de IBM Quantum Lab, simplemente debemos de llamar a `QiskitRuntimeService` con el canal adecuado para las ejecuciones posteriores."
   ]
  },
  {
   "cell_type": "markdown",
   "metadata": {
    "id": "OUFJVdOkHaoE"
   },
   "source": [
    "Definimos la instancia `QiskitRuntimeService` para ejecutar un circuito programa o circuito cuantico, usamos este servicio para llamar a las dos primitivas actualmente disponibles según sea necesario; `Sampler` y `Estimator` y ejecutarlo en Qiskit Runtime."
   ]
  },
  {
   "cell_type": "code",
   "execution_count": 6,
   "metadata": {
    "id": "JYNQDJb0HXPm",
    "tags": []
   },
   "outputs": [],
   "source": [
    "from qiskit_ibm_runtime import QiskitRuntimeService, Session, Options, Sampler, Estimator"
   ]
  },
  {
   "cell_type": "code",
   "execution_count": 7,
   "metadata": {
    "id": "RLGd92jjKk8R",
    "tags": []
   },
   "outputs": [],
   "source": [
    "# To run on hardware, select the backend with the fewest number of jobs in the queue\n",
    "service = QiskitRuntimeService(channel=\"ibm_quantum\")"
   ]
  },
  {
   "cell_type": "markdown",
   "metadata": {},
   "source": [
    "Como en el modelo de ejecucion con el paquete `ibm-qiskit-provider`, aqui tambien podemos consultar el backend mas liberado si vamos a ejecutar en HW real"
   ]
  },
  {
   "cell_type": "code",
   "execution_count": 8,
   "metadata": {
    "tags": []
   },
   "outputs": [
    {
     "data": {
      "text/plain": [
       "'ibm_osaka'"
      ]
     },
     "execution_count": 8,
     "metadata": {},
     "output_type": "execute_result"
    }
   ],
   "source": [
    "backend = service.least_busy(operational=True, simulator=False)   #\n",
    "backend.name"
   ]
  },
  {
   "cell_type": "markdown",
   "metadata": {
    "id": "NhZsXrCae62H"
   },
   "source": [
    "Finalmente importamos las librerias de trabajo para el notebook"
   ]
  },
  {
   "cell_type": "code",
   "execution_count": 9,
   "metadata": {
    "id": "oH98LKaUe6I3",
    "tags": []
   },
   "outputs": [],
   "source": [
    "import time\n",
    "import numpy as np\n",
    "import math\n",
    "from qiskit import *\n",
    "from qiskit.circuit import Parameter\n",
    "from qiskit.quantum_info import Statevector, Pauli, SparsePauliOp\n",
    "from qiskit.circuit.library import RealAmplitudes\n",
    "import matplotlib.pyplot as plt\n",
    "import matplotlib.ticker as tck\n",
    "from qiskit.tools.visualization import plot_histogram\n",
    "from qiskit.visualization import plot_bloch_multivector"
   ]
  },
  {
   "cell_type": "markdown",
   "metadata": {
    "id": "LIsxr5zPIWrr"
   },
   "source": [
    "## Introduccion a las primitivas de Qiskit runtime"
   ]
  },
  {
   "cell_type": "markdown",
   "metadata": {
    "id": "fkj4r74rIiDt"
   },
   "source": [
    "Desde 2022 IBM ha introducido un nuevo modelo de programación que mejora la experiencia de programacion, puesto que permite una ejecucion mejorada de los circuitos cuánticos. El __servicio Qiskit Runtime__ maximiza un _flujo de trabajo cuántico_ dado, que es predominantemente una QPU en la nube y ofrece un modelo de programación computacional que se ajusta a un servicio creado para optimizar las cargas de trabajo con una ejecución eficiente a escala.\n",
    "\n",
    "<img src=\"https://cloud.ibm.com/docs-content/v1/content/fe08b8e3a114015612ab3ed112afa281d6ce896a/quantum-computing/images/Qiskit_Runtime_architecture.png\" style=\"width: 1000px\" />\n",
    "\n",
    "Qiskit Runtime es una nueva arquitectura que agiliza los cálculos que requieren muchas iteraciones. Estos experimentos se ejecutarán significativamente más rápido dentro de su proceso híbrido cuántico/clásico mejorado.\n",
    "\n",
    "Es un nuevo paradigma de programación que permite interactuar con el servicio de IBM Qiskit Runtime y aprovechar el poderoso servicio y el framework en el cual está construido.\n",
    "\n",
    "Se trata de un servicio que encapsula en las primitivas del lenguaje una serie de funcionalidades que nos facilitan el desarrollo en un nivel superior mientras confiamos en el compilador para tener un flujo de trabajo optimizado, puedes esperar que Runtime aborde estas áreas más comunes:\n",
    "\n",
    "- **Eficiencia** : Rutinas altamente optimizadas y opciones para cargas de trabajo iterativas diseñadas para backends cuánticos\n",
    "- **Latencia** : Planificación, priorización de trabajos y almacenamiento en caché compartido utilizando el framework de sesiones para una menor latencia y tiempos de resultado más rápidos.\n",
    "- **Consistencia** : Modelo de programación consistente para desarrollar rutinas complejas en todo el servicio con adiciones más recientes para complementar el modelo primitivo existente\n",
    "- **Personalización** : Manejo de rutinas iterativas con circuitos personalizados con base en su contexto y parámetros de trabajo\n",
    "- **Mitigación y Supresión de Errores** : Avances en la investigación sobre mitigación y supresión de errores a través de interfaces abstractas simples para una mayor calidad de la información."
   ]
  },
  {
   "cell_type": "markdown",
   "metadata": {
    "id": "DmHoEwphJTpu"
   },
   "source": [
    "## Primitivas de Qiskit Runtime: Introducción a Sampler y Estimator\n"
   ]
  },
  {
   "cell_type": "markdown",
   "metadata": {
    "id": "wlNuaLiCJNK1"
   },
   "source": [
    "El servicio [Qiskit Runtime](https://docs.quantum.ibm.com/api/qiskit-ibm-runtime/runtime_service) tiene dos primitivas básicas: el __Sampler__ y el __Estimator__ . Las librerias que describen estas primitivas pueden verse en [Qiskit Primitives](https://docs.quantum.ibm.com/api/qiskit/primitives)\n",
    "\n",
    "Con respecto al punto de interés de información clave aquí, la capacidad central de las computadoras cuánticas que las distingue de las computadoras clásicas es su capacidad para generar distribuciones de probabilidad no clásicas en sus salidas. La naturaleza inherente de los resultados computacionales altamente probabilísticos que se obtienen requiere que tengamos varias ejecuciones del mismo circuito para generar información utilizable en forma de distribuciones de probabilidad. Las operaciones nativas que podemos hacer con las distribuciones de probabilidad son muestrearlas o estimar cantidades a partir de ellas.\n",
    "\n",
    "Con base en estos dos puntos de información de interés aquí, que son: **a) Distribuciones de probabilidad de muestreo** y **b) Estimación de un valor**, llegamos a nuestras dos primitivas con nombre apropiado: **El Sampler** y **El Estimator**\n",
    "\n",
    "*  El **Sampler** esencialmente hace lo que dice su nombre. Al muestrear su salida, estima la distribución de cuasi-probabilidad completa de un circuito cuántico dado. Este es un programa que toma los circuitos de un usuario como entrada y genera una lectura de cuasi-probabilidades con errores mitigados. Esto brinda a los usuarios una forma de evaluar mejor los resultados de las iteraciones mediante la mitigación de errores y les permite evaluar de manera más eficiente la posibilidad de múltiples puntos de datos relevantes en el contexto de la interferencia destructiva.\n",
    "\n",
    "*   El **Estimator** básicamente calcula e interpreta los valores esperados de los operadores de interés. Esta es una interfaz de programa que toma circuitos y observables y permite a los usuarios agrupar selectivamente entre circuitos y observables para su ejecución. El estimador permite evaluar de manera eficiente los valores esperados y las variaciones para un parámetro de entrada dado en los circuitos parametricos. En algoritmos de optimizacion hibridos permite calcular los valores esperados y encontrar una solución final a un problema dado que no necesita examinar la distribución completa de los conteos, sino solamente unos valores esperados.\n",
    "\n",
    "\n"
   ]
  },
  {
   "cell_type": "markdown",
   "metadata": {
    "id": "iISyk8mkMbL1"
   },
   "source": [
    "## SAMPLER"
   ]
  },
  {
   "cell_type": "markdown",
   "metadata": {
    "id": "2w5VJ6DwNfeY"
   },
   "source": [
    "Con la ejecucion interactiva que permite `Runtime` podemos ejecutar varios circuitos, vamos a probarlo con el algoritmo de Deutsch-Jozsa"
   ]
  },
  {
   "cell_type": "markdown",
   "metadata": {},
   "source": [
    "#### EJERCICIO"
   ]
  },
  {
   "cell_type": "markdown",
   "metadata": {},
   "source": [
    "Crea una funcion que genere el circuito del algoritmo Deutsch-Jozsa incluyendo la parte final de las medidas"
   ]
  },
  {
   "cell_type": "code",
   "execution_count": 10,
   "metadata": {},
   "outputs": [],
   "source": [
    "def dj_oracle(n):\n",
    "    #La funcion crea un objeto de QuantumCircuit y lo devuelve\n",
    "    #El circuito del oraculo tiene n qubit de entrada y uno de salida -> en total n+1 qubits\n",
    "\n",
    "    oracle_qc = QuantumCircuit(n+1)\n",
    "\n",
    "    #sorteamos el tipo de funcion del oraculo 0=constante y 1=balanceada\n",
    "    cnst = np.random.randint(2)\n",
    "\n",
    "    if cnst==0:\n",
    "        #Caso de un oraculo constante\n",
    "        ran = np.random.randint(2)\n",
    "        if ran==1:\n",
    "            print(\"Funcion constante de valor 1\")\n",
    "            oracle_qc.x(n)\n",
    "        else:\n",
    "            print(\"Funcion constante de valor 0\")\n",
    "    else:\n",
    "        #Caso de un oraculo balanceado\n",
    "        print(\"Funcion balanceada\")\n",
    "        for ind in range(n):\n",
    "            oracle_qc.cx(ind,n)\n",
    "\n",
    "    oracle_qc.name = 'DJ-Oracle' \n",
    "    return oracle_qc"
   ]
  },
  {
   "cell_type": "code",
   "execution_count": 14,
   "metadata": {
    "id": "3_uUCuEeOWz2",
    "tags": []
   },
   "outputs": [],
   "source": [
    "def dj_alg(n):\n",
    "    #La funcion crea un objeto de QuantumCircuit y lo devuelve\n",
    "    #El circuito del oraculo tiene n qubit de entrada y uno de salida -> en total n+1 qubits\n",
    "\n",
    "    circuit = QuantumCircuit(n+1,n)\n",
    "\n",
    "    #ponemos los qubits de entrada en superposicion\n",
    "    circuit.h(range(n))\n",
    "    circuit.barrier()\n",
    "    #rand Oracle\n",
    "    #sorteamos el tipo de funcion del oraculo 0=constante y 1=balanceada\n",
    "    circuit = circuit.compose(dj_oracle(n))\n",
    "    circuit.barrier()\n",
    "    #Caso de un oraculo constante\n",
    "\n",
    "\n",
    "    #Caso de un oraculo balanceado\n",
    "\n",
    "    #puertas h al final\n",
    "    circuit.h(range(n))\n",
    "    circuit.barrier()\n",
    "\n",
    "\n",
    "    #ponemos las puertas de medida\n",
    "    circuit.measure(range(n),range(n))\n",
    "\n",
    "    circuit.name = 'DJ-Alg-circuit' #to show in the display circuit\n",
    "    return circuit"
   ]
  },
  {
   "cell_type": "markdown",
   "metadata": {
    "id": "5r7-ApIQPaxv"
   },
   "source": [
    "A partir de esta funcion crea varios circuitos y muestralos:"
   ]
  },
  {
   "cell_type": "code",
   "execution_count": 25,
   "metadata": {},
   "outputs": [
    {
     "name": "stdout",
     "output_type": "stream",
     "text": [
      "Funcion constante de valor 0\n",
      "Funcion balanceada\n"
     ]
    },
    {
     "data": {
      "image/png": "[encoded data removed]",
      "text/plain": [
       "<Figure size 872.774x535.111 with 1 Axes>"
      ]
     },
     "metadata": {},
     "output_type": "display_data"
    },
    {
     "data": {
      "image/png": "[encoded data removed]",
      "text/plain": [
       "<Figure size 1207.22x535.111 with 1 Axes>"
      ]
     },
     "metadata": {},
     "output_type": "display_data"
    }
   ],
   "source": [
    "qc1=dj_alg(4)\n",
    "qc2=dj_alg(4)\n",
    "\n",
    "display(qc1.draw(\"mpl\"))\n",
    "display(qc2.draw(\"mpl\"))"
   ]
  },
  {
   "cell_type": "markdown",
   "metadata": {},
   "source": [
    "### EJECUCION CON UNA SESION"
   ]
  },
  {
   "cell_type": "markdown",
   "metadata": {},
   "source": [
    "En la documentacion tenemos algunos ejemplos de como utilizar la clase Smapler [ejemplos](https://docs.quantum.ibm.com/run/primitives-examples#use-sessions-and-advanced-options-1) y la prpopia definicion de la clase [`Sampler`] (https://docs.quantum.ibm.com/api/qiskit/qiskit.primitives.Sampler)"
   ]
  },
  {
   "cell_type": "code",
   "execution_count": 26,
   "metadata": {
    "id": "OikFx1IlKbBs",
    "tags": []
   },
   "outputs": [
    {
     "name": "stdout",
     "output_type": "stream",
     "text": [
      "ibmq_qasm_simulator\n"
     ]
    }
   ],
   "source": [
    "#Definimos un backend de simulacion\n",
    "backend =\"ibmq_qasm_simulator\"\n",
    "print(backend)"
   ]
  },
  {
   "cell_type": "code",
   "execution_count": 27,
   "metadata": {
    "id": "dAKvLU8oMMV5",
    "tags": []
   },
   "outputs": [],
   "source": [
    "options = Options(simulator={\"seed_simulator\": 42}, resilience_level=0) # Some options values for the simulator"
   ]
  },
  {
   "cell_type": "code",
   "execution_count": 30,
   "metadata": {
    "id": "uGxrn-SkMRbo",
    "tags": []
   },
   "outputs": [],
   "source": [
    "with Session(service=service, backend=backend):\n",
    "    sampler = Sampler(options=options)\n",
    "    job = sampler.run(circuits=[qc1,qc2])"
   ]
  },
  {
   "cell_type": "markdown",
   "metadata": {
    "id": "4V2MxbZVQNfa"
   },
   "source": [
    "Después de ejecutar el `Sampler`, devuelve un objeto `RuntimeJob` y podemos extraer los resultados de este objeto usando el método `result` para verificar los datos devueltos. \n",
    "\n",
    "Luego podemos seleccionar nuestros datos individuales de interés a partir de este resultado devuelto.\n",
    "\n",
    "La informacion del resultado de las ejecuciones podemos verla tambien en las librerias de [SamplerResult](https://docs.quantum.ibm.com/api/qiskit/qiskit.primitives.SamplerResult)."
   ]
  },
  {
   "cell_type": "markdown",
   "metadata": {},
   "source": [
    "#### EJERCICIO"
   ]
  },
  {
   "cell_type": "markdown",
   "metadata": {},
   "source": [
    "Analiza la estructura de la clase `SamplerResult` y muestra por pantalla los resultados obtenidos para cada ejecucion, en un formato que se vean los estados y las distribuciones de probabilidad obtenidas para cada ejecucion"
   ]
  },
  {
   "cell_type": "code",
   "execution_count": 34,
   "metadata": {
    "tags": []
   },
   "outputs": [
    {
     "name": "stdout",
     "output_type": "stream",
     "text": [
      "SamplerResult(quasi_dists=[{0: 1.0}, {15: 0.50725, 0: 0.49275}], metadata=[{'shots': 4000, 'circuit_metadata': {}}, {'shots': 4000, 'circuit_metadata': {}}])\n",
      "dict_items([(0, 1.0)])\n",
      "dict_items([(15, 0.50725), (0, 0.49275)])\n"
     ]
    }
   ],
   "source": [
    "resultado = job.result()\n",
    "print(job.result())\n",
    "\n",
    "for i in resultado.quasi_dists:\n",
    "    print(i.items())"
   ]
  },
  {
   "cell_type": "markdown",
   "metadata": {},
   "source": [
    "Vemos que en la distribucion de resultados, se muestran los estados codificados como numeros enteros. \n",
    "\n",
    "Analiza el el método `binary_probabilities`de la clase `QuasiDistribution`.[Consultar la info de esta clase](https://docs.quantum.ibm.com/api/qiskit/qiskit.result.QuasiDistribution) para mostrar la visualizacion de las distribuciones con los strings de los resultados en fomato birario en lugar de numeros enteros"
   ]
  },
  {
   "cell_type": "code",
   "execution_count": 35,
   "metadata": {
    "tags": []
   },
   "outputs": [
    {
     "name": "stdout",
     "output_type": "stream",
     "text": [
      "{'0000': 1.0}\n",
      "{'1111': 0.50725, '0000': 0.49275}\n"
     ]
    }
   ],
   "source": [
    "for i in resultado.quasi_dists:\n",
    "    print(i.binary_probabilities())"
   ]
  },
  {
   "cell_type": "markdown",
   "metadata": {},
   "source": [
    "### EJECUCION CON UN UNICO JOB"
   ]
  },
  {
   "cell_type": "markdown",
   "metadata": {},
   "source": [
    "Podemos ejecutar las primitivas de Runtime, abriendo una sesion, como lo hemos hecho hasta ahora. Una sesión es una característica de Qiskit Runtime que le permite ejecutar de manera eficiente cargas de trabajo iterativas de múltiples trabajos en computadoras cuánticas. El uso de sesiones ayuda a evitar retrasos causados ​​por poner en cola cada trabajo por separado, lo que puede ser particularmente útil para tareas iterativas que requieren comunicación frecuente entre recursos clásicos y cuánticos.\n",
    "\n",
    "Sin embargo podemos utilizarlas tambien directamente sin sesiones y ejecutar multiples circuitos en un solo job."
   ]
  },
  {
   "cell_type": "code",
   "execution_count": 37,
   "metadata": {
    "tags": []
   },
   "outputs": [
    {
     "name": "stdout",
     "output_type": "stream",
     "text": [
      "SamplerResult(quasi_dists=[{0: 1.0}, {0: 0.5055, 15: 0.4945}], metadata=[{'shots': 4000, 'circuit_metadata': {}}, {'shots': 4000, 'circuit_metadata': {}}])\n",
      "[{0: 1.0}, {0: 0.5055, 15: 0.4945}]\n",
      "{'0000': 1.0}\n",
      "{'0000': 0.5055, '1111': 0.4945}\n"
     ]
    }
   ],
   "source": [
    "sampler = Sampler(backend=backend)\n",
    "job = sampler.run(circuits=[qc1,qc2])\n",
    "\n",
    "result = job.result()\n",
    "print(result)\n",
    "print(result.quasi_dists)"
   ]
  },
  {
   "cell_type": "code",
   "execution_count": 38,
   "metadata": {},
   "outputs": [
    {
     "name": "stdout",
     "output_type": "stream",
     "text": [
      "{'0000': 1.0}\n",
      "{'0000': 0.5055, '1111': 0.4945}\n"
     ]
    }
   ],
   "source": [
    "for i in result.quasi_dists:\n",
    "    print(i.binary_probabilities())"
   ]
  },
  {
   "cell_type": "markdown",
   "metadata": {},
   "source": [
    "#### EJERCICIO"
   ]
  },
  {
   "cell_type": "markdown",
   "metadata": {},
   "source": [
    "Muestra los resultados obtenidos del muestreo con las quasiprobabilidades de cada estado medido expresados como valores enteros y strings binarias"
   ]
  },
  {
   "cell_type": "code",
   "execution_count": null,
   "metadata": {
    "tags": []
   },
   "outputs": [],
   "source": []
  },
  {
   "cell_type": "markdown",
   "metadata": {
    "id": "6LG3sF2vP5X-"
   },
   "source": [
    "## CIRCUITOS PARAMETRICOS con el SAMPLER"
   ]
  },
  {
   "cell_type": "markdown",
   "metadata": {
    "id": "sg9up40EQgtT"
   },
   "source": [
    "Uno de los principales beneficios de las primitivas es la simplificación de la ejecuciones multiples cuando tenemos circuitos paramétricos donde el valor del parametros debe de evaluarse multiples veces."
   ]
  },
  {
   "cell_type": "markdown",
   "metadata": {},
   "source": [
    "#### EJERCICIO"
   ]
  },
  {
   "cell_type": "markdown",
   "metadata": {},
   "source": [
    "Crea el siguiente circuito parametrico que tenga medidas solo en el qubit $q_0$\n",
    "\n",
    "<img src=\"https://cdn.discordapp.com/attachments/1012968177258483802/1200434492486209649/image.png\" style=\"width: 500px\"/>"
   ]
  },
  {
   "cell_type": "code",
   "execution_count": null,
   "metadata": {
    "tags": []
   },
   "outputs": [],
   "source": [
    "#Definimos el parametro\n",
    "theta = Parameter('theta')\n",
    "\n",
    "#y los 50 valores que va a tomar\n",
    "phases = np.linspace(0, 2*np.pi, 50) # Specify the range of parameters to look within 0 to 2pi with 50 different phases\n",
    "individual_phases = [[ph] for ph in phases] # Phases need to be expressed as list of lists in order to work\n",
    "\n",
    "print('total numero de parametros',len(individual_phases))\n",
    "print(individual_phases)"
   ]
  },
  {
   "cell_type": "code",
   "execution_count": null,
   "metadata": {
    "id": "fOfFZOjEP7bR",
    "tags": []
   },
   "outputs": [],
   "source": [
    "#Creamos el circuito\n",
    "qc = \n",
    "\n",
    "qc.draw()"
   ]
  },
  {
   "cell_type": "markdown",
   "metadata": {
    "id": "DoyW6G4mRW3u"
   },
   "source": [
    "Crea una visualizacion de los estados que genera este circuito para los diferentes valores de los parametros que toma `theta` en el circuito. Por ejemplo para los 5 o 10 primeros circuitos."
   ]
  },
  {
   "cell_type": "code",
   "execution_count": null,
   "metadata": {
    "id": "d42aef5b-17b7-47e6-85f9-1d465196ebf1",
    "tags": []
   },
   "outputs": [],
   "source": [
    "# help understanding of how its phase is moving\n",
    "states = []\n",
    "\n",
    "for i in range(0, 50, 10):  #representamos solo los 5 primeros\n",
    "    temp = #crea un circuito temporal para cada valor de fase\n",
    "    \n",
    "    #descomentar la siguiente para ver el giro en torno al eje z que hace la puerta control-p en el qubit_0 a partir del estado |+>\n",
    "    #print('radianes',individual_phases[i][0], 'grados', math.degrees(individual_phases[i][0]))\n",
    "\n",
    "    state = \n",
    "    states.append(state)\n",
    "    \n",
    "#vualiza los estados con plot_bloch_multivector\n",
    "\n"
   ]
  },
  {
   "cell_type": "markdown",
   "metadata": {
    "id": "PG4-lTSCRnRh"
   },
   "source": [
    "Utilizamos el `Sampler`, y necesitaremos vincular parámetros a un circuito parametrizado. \n",
    "\n",
    "Agregamos `individual_phases` al circuito `qc` que hicimos anteriormente usando Sampler. Para ello podemos ver en detalle la descripcion del metodo `run`de la clase [Sampler](https://docs.quantum.ibm.com/api/qiskit-ibm-runtime/qiskit_ibm_runtime.Sampler) .\n",
    "\n",
    "Cuando creemos un objeto `Sampler`, agreguamos el parámetro `options` con una semilla.\n",
    "\n",
    "El método de ejecución del `Sampler` tiene que tener los siguientes parámetros:\n",
    "\n",
    ">`circuitos`: Uno o más objetos de circuito.\n",
    "\n",
    ">`parameter_values`: parámetros que se vincularán al circuito.\n",
    "\n",
    "El tipo de respuesta debe ser **[SamplerResult](https://qiskit.org/documentation/stubs/qiskit.primitives.SamplerResult.html)**."
   ]
  },
  {
   "cell_type": "code",
   "execution_count": null,
   "metadata": {
    "id": "4srm5HBoRhIe",
    "tags": []
   },
   "outputs": [],
   "source": [
    "backend =\"ibmq_qasm_simulator\"\n",
    "print(backend)\n",
    "options = Options(simulator={\"seed_simulator\": 42}, resilience_level=0) # Do not change values in simulator"
   ]
  },
  {
   "cell_type": "code",
   "execution_count": null,
   "metadata": {
    "id": "fJfiOqlvS4Gt",
    "tags": []
   },
   "outputs": [],
   "source": [
    "with Session(service=service, backend=backend):\n",
    "    sampler = Sampler(options=options)\n",
    "    job = sampler.run(circuits=[qc]*len(phases), parameter_values=individual_phases)\n",
    "    result = job.result()"
   ]
  },
  {
   "cell_type": "code",
   "execution_count": null,
   "metadata": {
    "tags": []
   },
   "outputs": [],
   "source": [
    "print(result)"
   ]
  },
  {
   "cell_type": "markdown",
   "metadata": {
    "id": "wmNif68pS7pC"
   },
   "source": [
    "La celda de código anterior toma el circuito parametrizado y lo ejecuta en un backend utilizando el servicio Runtime. Esta rutina vincula cada parámetro al circuito definido y ejecuta todos los circuitos resultantes para darnos el resultado colectivo.\n",
    "\n",
    "Representemos ahora el resultado que obtuvimos, para ello representaremos las cuasi distribuciones para la probabilidad de estar en el estado 1 para cada uno de estos circuitos. Cada circuito tendrá diferentes valores theta como parámetros de fase.\n",
    "\n",
    "El metodo que nos da la quasi probabilidad de medir un estado en el metodo `get`de la clase `QuasiDistribution`.[Consultar la info de esta clase](https://docs.quantum.ibm.com/api/qiskit/qiskit.result.QuasiDistribution) "
   ]
  },
  {
   "cell_type": "code",
   "execution_count": null,
   "metadata": {
    "id": "s5NNWuaiS8Eq",
    "tags": []
   },
   "outputs": [],
   "source": [
    "#resultado teorico\n",
    "phases = np.linspace(0, 2*np.pi, 50)\n",
    "valor_teorico=np.sin(phases/2,)**2\n",
    "\n",
    "# La probabilidad de estar en el estado 1 el qubit q_0 para cada ejecucion del Sampler\n",
    "prob_values = [dist.get(1,0) for dist in result.quasi_dists]  #get(1) nos devuelve la quasi-probabilidad de medir 1 y el cero es el valor por defecto, por si no hay probabilidad en el estado 1 nos devolverá 0\n",
    "\n",
    "plt.plot(phases, prob_values, 'o', label='simulator')\n",
    "plt.plot(phases, valor_teorico , label='theory')\n",
    "plt.xlabel('Phase')\n",
    "plt.ylabel('Probability')\n",
    "plt.legend();"
   ]
  },
  {
   "cell_type": "markdown",
   "metadata": {
    "id": "_OIc1WoWTIlg"
   },
   "source": [
    "La línea amarilla es el resultado teóricamente esperado, mientras que los puntos azules son los valores que obtenemos al ejecutarlo en el backend. Como puede ver, está mayormente alineado con la teoría y hay ligeras desviaciones en la curva en la distribución resultante debido a la ligera aleatoriedad inherente del `ibmq_qasm_simulator`."
   ]
  },
  {
   "cell_type": "markdown",
   "metadata": {
    "id": "1K7EaeA-MP4Y"
   },
   "source": [
    "## ESTIMATOR"
   ]
  },
  {
   "cell_type": "markdown",
   "metadata": {},
   "source": [
    "Hasta ahora hemos analizado las distribuciones de cuasi probabilidad, pero también podemos analizarlas en términos de evaluación de los valores esperados, con la primitiva `Estimator`.\n",
    "\n",
    "El Estimator devuelve los valores esperados calculados e interpretados de los operadores cuánticos. \n",
    "\n",
    "**IMPORTANTE**: El Estimator requiere que el circuito este 'sin mediciones'. El motivo es que, al ejecutar algoritmos como VQE, el Estimator trabajará con hamiltonianos, por lo que no podemos tener mediciones."
   ]
  },
  {
   "cell_type": "code",
   "execution_count": null,
   "metadata": {
    "id": "wSX1q0IpTI88",
    "tags": []
   },
   "outputs": [],
   "source": [
    "#para quitar las mediciones de un circuito, si se necesita en algun caso\n",
    "qc_no_meas = qc.remove_final_measurements(inplace=False)"
   ]
  },
  {
   "cell_type": "markdown",
   "metadata": {
    "id": "SjMr6ZDLeTrY"
   },
   "source": [
    "Para calcular su valor esperado, necesitamos establecer un observable para el circuito. En este caso, usaremos el observable 'ZZ', que significa que medimos en el eje Z para todos los qubits en el circuito. \n",
    "\n",
    "Para crear los hamiltonianos que usaremos de medida utilizaremos el operador [SparsePauliOp](https://qiskit.org/documentation/stubs/qiskit.quantum_info.SparsePauliOp.html)\n",
    "\n",
    "**IMPORTANTE**: La longitud del observable es la misma que la cantidad de qubits en el circuito."
   ]
  },
  {
   "cell_type": "code",
   "execution_count": null,
   "metadata": {
    "id": "FKqRkhkwekow",
    "tags": []
   },
   "outputs": [],
   "source": [
    "ZZ = SparsePauliOp.from_list([(\"ZZ\", 1)])"
   ]
  },
  {
   "cell_type": "markdown",
   "metadata": {
    "id": "sUyKY6SeeY03"
   },
   "source": [
    "El valor esperado se calcula mediante la siguiente ecuación.\n",
    "\n",
    "$$\n",
    "\\langle ZZ\\rangle =\\langle \\psi | ZZ | \\psi\\rangle=\\langle \\psi|(|0\\rangle\\langle 0| -|1\\rangle\\langle 1|)\\otimes(|0\\rangle\\langle 0| - |1\\rangle\\langle 1|) |\\psi\\rangle =|\\langle 00|\\psi\\rangle|^2 - |\\langle 01 | \\psi\\rangle|^2 - |\\langle 10 | \\psi\\rangle|^2 + |\\langle 11|\\psi\\rangle|^2\n",
    "$$"
   ]
  },
  {
   "cell_type": "code",
   "execution_count": null,
   "metadata": {
    "id": "iAXCSwJZeW3E",
    "tags": []
   },
   "outputs": [],
   "source": [
    "options = Options(simulator={\"seed_simulator\": 42}, resilience_level=0)\n",
    "\n",
    "backend =\"ibmq_qasm_simulator\"\n",
    "\n",
    "with Session(service=service, backend=backend):\n",
    "    estimator = Estimator(options=options)\n",
    "    job = estimator.run(circuits=[qc_no_meas]*len(phases), parameter_values=individual_phases, observables=[ZZ]*len(phases))"
   ]
  },
  {
   "cell_type": "markdown",
   "metadata": {},
   "source": [
    "Después de ejecutar el `Estimator` con el comando [`run`](https://docs.quantum.ibm.com/api/qiskit-ibm-runtime/qiskit_ibm_runtime.Estimator). debemos de pasar una losta de circuitos, de parametros y de observables para medir los circuito.\n",
    "\n",
    "Este método devuelve un objeto `RuntimeJob` y podemos extraer los resultados de este objeto usando el método `result` para verificar los datos devueltos. \n",
    "\n",
    "Luego podemos seleccionar nuestros datos individuales de interés a partir de este resultado devuelto.\n",
    "\n",
    "La informacion del resultado de las ejecuciones podemos verla tambien en las librerias de [EstimatorResult](https://docs.quantum.ibm.com/api/qiskit/qiskit.primitives.EstimatorResult)."
   ]
  },
  {
   "cell_type": "code",
   "execution_count": null,
   "metadata": {
    "tags": []
   },
   "outputs": [],
   "source": [
    "print(job.result())"
   ]
  },
  {
   "cell_type": "markdown",
   "metadata": {},
   "source": [
    "La celda de código anterior toma el circuito parametrizado y lo ejecuta en un backend utilizando el servicio Runtime. Esta rutina vincula cada parámetro al circuito definido y ejecuta todos los circuitos resultantes para darnos el resultado colectivo. Los valores estimados se miden respecto del observable que hemos definido y se recogen en el parametro `values` de la clase `EstimatorResult`\n",
    "\n",
    "Representemos ahora el resultado que obtuvimos, para ello representaremos los valores estimados medidos para cada circuito con diferente valor del parametro `theta`."
   ]
  },
  {
   "cell_type": "code",
   "execution_count": null,
   "metadata": {
    "id": "W6enFxk6esE4",
    "tags": []
   },
   "outputs": [],
   "source": [
    "param_results = job.result()\n",
    "exp_values = param_results.values\n",
    "\n",
    "plt.plot(phases, exp_values, 'o', label='real')\n",
    "plt.plot(phases, 2*np.sin(phases/2,)**2-1, label='theory')\n",
    "plt.xlabel('Phase')\n",
    "plt.ylabel('Expectation')\n",
    "plt.legend();"
   ]
  },
  {
   "cell_type": "markdown",
   "metadata": {
    "id": "h0YT6LOVfefX"
   },
   "source": [
    "## CIRCUITOS PARAMETRICOS con el ESTIMATOR"
   ]
  },
  {
   "cell_type": "markdown",
   "metadata": {
    "id": "NQBK2ofkfoi-"
   },
   "source": [
    "Vamos ahora a contruir circuitos parametricos con las librerías que `Qiskit` tiene para ello.\n",
    "\n",
    "Un tipo de circuito parametrico muy usado es el de **[RealAmplitudes](https://qiskit.org/documentation/stubs/qiskit.circuit.library.RealAmplitudes.html)**. Vease el código de ejemplo para construilos. \n",
    "\n",
    "Este `ansatz` es el circuito con 3 qubits y `reps` es 2. En este caso, el número total de parámetros es $3 \\times (2+1) = 9$.\n"
   ]
  },
  {
   "cell_type": "code",
   "execution_count": null,
   "metadata": {
    "id": "R_08wYFxff6V",
    "tags": []
   },
   "outputs": [],
   "source": [
    "ansatz = RealAmplitudes(3, reps=2)  # create the circuit on 3 qubits\n",
    "\n",
    "ansatz.decompose().draw(\"mpl\")"
   ]
  },
  {
   "cell_type": "markdown",
   "metadata": {
    "id": "LHxI2uCcgAzw"
   },
   "source": [
    "#### EJERCICIO"
   ]
  },
  {
   "cell_type": "markdown",
   "metadata": {
    "id": "m2pBp8MFgDFI"
   },
   "source": [
    "Crea una rutina Estimator para calcular los valores esperados de los Hamiltonianos dados con respecto a ciertos observables. El resultado final debe ser un objeto de la clase **[EstimatorResult](https://qiskit.org/documentation/stubs/qiskit.primitives.EstimatorResult.html)**.\n",
    "    \n",
    "El objetivo principal es calcular $ \\langle \\psi_1(\\theta) \\lvert H_1 \\lvert \\psi_1(\\theta)\\rangle$, $ \\langle \\psi_2(\\theta) \\lvert H_2 \\lvert \\psi_2(\\theta)\\rangle$, y $ \\langle \\psi_3(\\theta) \\lvert H_3 \\lvert \\psi_3(\\theta)\\rangle$ y todos los circuitos constan de **5 qubits**.\n",
    "    \n",
    "1. Crea tres circuitos aleatorios usando **[RealAmplitudes](https://qiskit.org/documentation/stubs/qiskit.circuit.library.RealAmplitudes.html)**; $ \\psi_1(\\theta) $ para reps = 2, $ \\psi_2(\\theta) $ para reps = 3 y $ \\psi_3(\\theta) $ para reps = 4.\n",
    "2. Crea los hamiltonianos que usaremos para la medida usando **[SparsePauliOp](https://qiskit.org/documentation/stubs/qiskit.quantum_info.SparsePauliOp.html)**:\n",
    "    - $ H_1 = X_1Z_2 + 3Y_0Y_4 $\n",
    "    - $ H_2 = 2X_3 $\n",
    "    - $ H_3 = 3Y_2 + 5Z_1X_3 $\n",
    "3. Crea una lista de valores espaciados uniformemente para theta entre 0 y 1 usando **[numpy.linspace](https://numpy.org/doc/stable/reference/generated/numpy.linspace.html)**. Ten en cuenta que el número de parámetros es diferente para las `reps` de cada circuito.\n",
    "4. Usa el Estimator con las `options` definidas en la celda para calcular cada valor esperado"
   ]
  },
  {
   "cell_type": "code",
   "execution_count": null,
   "metadata": {
    "id": "alKsj767fyyP",
    "tags": []
   },
   "outputs": [],
   "source": [
    "# Make three random circuits using RealAmplitudes\n",
    "\n",
    "psi1 = RealAmplitudes(num_qubits=5, reps=2) #ejemplo\n",
    "psi2 = \n",
    "psi3 = "
   ]
  },
  {
   "cell_type": "code",
   "execution_count": null,
   "metadata": {
    "id": "CYoaOh-lgZ9_",
    "tags": []
   },
   "outputs": [],
   "source": [
    "# Make hamiltonians using SparsePauliOp\n",
    "\n",
    "H1 = SparsePauliOp.from_list([(\"IIZXI\", 1), (\"YIIIY\", 3)]) #ejemplo\n",
    "H2 = \n",
    "H3 = "
   ]
  },
  {
   "cell_type": "code",
   "execution_count": null,
   "metadata": {
    "id": "gx2NfcM6gdZ_",
    "tags": []
   },
   "outputs": [],
   "source": [
    "# Make a list of evenly spaced values for theta between 0 and 1\n",
    "\n",
    "theta1 = np.linspace(0, 1, 15)  #15 valores\n",
    "theta2 =                        #20\n",
    "theta3 =                        #25"
   ]
  },
  {
   "cell_type": "code",
   "execution_count": null,
   "metadata": {
    "id": "vqvOOqvZgf4Y",
    "tags": []
   },
   "outputs": [],
   "source": [
    "# Use the Estimator to calculate each expectation value\n",
    "\n",
    "with Session(service=service, backend=backend):\n",
    "\n",
    "    options = Options(simulator={\"seed_simulator\": 42}, resilience_level=0) # Do not change values in simulator\n",
    "\n",
    "    estimator = Estimator(options=options)\n",
    "\n",
    "    # calculate [ <psi1(theta1)|H1|psi1(theta1)>,\n",
    "    #             <psi2(theta2)|H2|psi2(theta2)>,\n",
    "    #             <psi3(theta3)|H3|psi3(theta3)> ]\n",
    "    # Note: Please keep the order\n",
    "    job = \n",
    "\n",
    "    result = job.result()"
   ]
  },
  {
   "cell_type": "markdown",
   "metadata": {
    "id": "mAncdCUvhlmn"
   },
   "source": [
    "## Runtime con Ruido"
   ]
  },
  {
   "cell_type": "markdown",
   "metadata": {
    "id": "h4GNXlByjJUY"
   },
   "source": [
    "Las primitivas de Runtime tienen incorporadas tecnicas de correccion de errores. Veamos un ejemplo de ejecucion en entorno ruidoso para el Sampler.\n",
    "\n",
    "Para simular un escenario ruidoso en nuestros simuladores, pasaremos un modelo de ruido a `ibmq_qasm_simulator`. Procederemos creando un modelo de ruido con un `FakeBackend` de `fake_provider` y lo pasaremos con el parámetro opcional `simulator`.\n",
    "\n",
    "Los backends falsos están diseñados para imitar los comportamientos de los sistemas IBM Quantum utilizando copias del sistema. Las copias del sistema contienen información importante sobre el sistema cuántico, como el mapa de acoplamiento, las compuertas base, las propiedades de los qubits (T1, T2, tasa de error, etc.) que son útiles para realizar una simulación ruidosa del sistema. **[[Fake Providers]](https://qiskit.org/documentation/apidoc/providers_fake_provider.html)**\n",
    "\n",
    "Para representar nuestras opciones de ejecución, definiremos una instancia de la clase `Options` con parámetros relevantes para definir nuestros valores predeterminados para cada ejecución.\n",
    "\n",
    "Aquí definiremos dos conjuntos de `Options`. Aquí, `options` con solo el modelo de ruido representará una ejecución normal sin mitigación de errores y `options_with_em` con la opción `resilience_level` establecida en `1` denotará una ejecución con mitigación de errores activa. Después de crearlo, puede agregarlo cuando creas la instancia de tu objeto `Sampler`.\n",
    "\n",
    "Puedes comprobar cómo crear la instancia `Options` a continuación."
   ]
  },
  {
   "cell_type": "code",
   "execution_count": null,
   "metadata": {
    "id": "5a8nBsuTiLgV",
    "tags": []
   },
   "outputs": [],
   "source": [
    "from qiskit.providers.fake_provider import FakeManila\n",
    "from qiskit_aer.noise import NoiseModel\n",
    "\n",
    "# Import FakeBackend\n",
    "fake_backend = FakeManila()\n",
    "noise_model = NoiseModel.from_backend(fake_backend)\n",
    "\n",
    "# Set options to include noise_model\n",
    "options = Options(simulator={\n",
    "    \"noise_model\": noise_model,\n",
    "    \"seed_simulator\": 42,\n",
    "}, resilience_level=0)\n",
    "\n",
    "# Set options to include noise_model and resilience_level\n",
    "options_with_em = Options(\n",
    "    simulator={\n",
    "        \"noise_model\": noise_model,\n",
    "        \"seed_simulator\": 42,\n",
    "    },\n",
    "    resilience_level=1\n",
    ")"
   ]
  },
  {
   "cell_type": "markdown",
   "metadata": {
    "id": "8F6mCIUKjis_"
   },
   "source": [
    "En Sampler, se activa correccion de errores cuando estableces el nivel de resiliencia en 1. Ejecutemos el código a continuación y veamos qué tan efectiva es esta técnica."
   ]
  },
  {
   "cell_type": "code",
   "execution_count": null,
   "metadata": {
    "id": "Ff4mgSb5jfKe",
    "tags": []
   },
   "outputs": [],
   "source": [
    "with Session(service=service, backend=backend):\n",
    "    sampler = Sampler(options=options)\n",
    "    job = sampler.run(circuits=[qc]*len(phases), parameter_values=individual_phases)\n",
    "    param_results = job.result()\n",
    "    prob_values = [1-dist[0] for dist in param_results.quasi_dists]\n",
    "\n",
    "    sampler = Sampler(options=options_with_em)\n",
    "    job = sampler.run(circuits=[qc]*len(phases), parameter_values=individual_phases)\n",
    "    param_results = job.result()\n",
    "    prob_values_with_em = [1-dist[0] for dist in param_results.quasi_dists]"
   ]
  },
  {
   "cell_type": "code",
   "execution_count": null,
   "metadata": {
    "id": "3-OWT8v0jmR3",
    "tags": []
   },
   "outputs": [],
   "source": [
    "plt.plot(phases, prob_values, 'o', label='noisy')\n",
    "plt.plot(phases, prob_values_with_em, 'o', label='mitigated')\n",
    "plt.plot(phases, np.sin(phases/2,)**2, label='theory')\n",
    "plt.xlabel('Phase')\n",
    "plt.ylabel('Probability')\n",
    "plt.legend();"
   ]
  }
 ],
 "metadata": {
  "colab": {
   "authorship_tag": "ABX9TyPRxW2Ko9hO5/rzOhH8HCFK",
   "provenance": []
  },
  "kernelspec": {
   "display_name": "Qiskit v0.45.2 (ipykernel)",
   "language": "python",
   "name": "python3"
  },
  "language_info": {
   "codemirror_mode": {
    "name": "ipython",
    "version": 3
   },
   "file_extension": ".py",
   "mimetype": "text/x-python",
   "name": "python",
   "nbconvert_exporter": "python",
   "pygments_lexer": "ipython3",
   "version": "3.10.13"
  },
  "widgets": {
   "application/vnd.jupyter.widget-state+json": {
    "state": {},
    "version_major": 2,
    "version_minor": 0
   }
  }
 },
 "nbformat": 4,
 "nbformat_minor": 4
}
