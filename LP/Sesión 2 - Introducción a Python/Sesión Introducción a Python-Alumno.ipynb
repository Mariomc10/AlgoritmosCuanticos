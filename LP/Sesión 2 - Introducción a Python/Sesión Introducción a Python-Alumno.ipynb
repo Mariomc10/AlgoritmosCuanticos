{
 "cells": [
  {
   "cell_type": "markdown",
   "metadata": {},
   "source": [
    "<img src=\"./files/universidad-nebrija.jpg\" alt=\"Logo Nebrija\" align=\"right\" width=200>\n",
    "\n",
    "\n",
    "<h2><font color=\"#004D7F\" size=4>Lenguajes de Programación</font></h2>\n",
    "\n",
    "<h1><font color=\"#004D7F\" size=5>Introducción a Python</font></h1>\n",
    "\n",
    "<br><br>\n",
    "<div style=\"text-align: right\">\n",
    "<font color=\"#004D7F\" size=3>José Javier Paulet González</font><br>\n",
    "<font color=\"#004D7F\" size=3>12/02/2024</font><br>\n",
    "<font color=\"#004D7F\" size=3>Universidad Antonio de Nebrija</font>\n",
    "\n",
    "</div>\n",
    "\n",
    "---"
   ]
  },
  {
   "cell_type": "markdown",
   "metadata": {},
   "source": [
    "<h1><font color=\"#004D7F\" size=15>¿Qué es Python?</font></h1>"
   ]
  },
  {
   "cell_type": "markdown",
   "metadata": {},
   "source": [
    " - Es un lenguaje de programación **Open source**, nacido al principio de los 90, de propósito general, muy poderoso y flexible.\n",
    " - Se utiliza para todo tipo de proyectos de Machine Learning, Videojuegos, Big Data, Desarrollo web y Seguridad Informática entre otros.\n",
    " - Entre sus principales **características** Python es:\n",
    "     - **Interpretado**: Se convierte en código máquina y se ejecuta en tiempo de ejecución.\n",
    "     - **Multiparadigma**: Es un lenguaje que soporta la programación imperativa, la funcional y la orientada a objetos.\n",
    "     - **Multiplataforma**: Existe interprete de Python para la mayoría de sistemas operativos.\n",
    "     - **Indentado**: En vez de usar llaves **{}** para delimitar los bloques de código, se usan las tabulaciones o espacios.\n"
   ]
  },
  {
   "cell_type": "markdown",
   "metadata": {},
   "source": [
    "<h1><font color=\"#003D7F\" size=5>Instalación de librerías</font></h1>"
   ]
  },
  {
   "cell_type": "markdown",
   "metadata": {},
   "source": [
    " - Para la instalación de paquetes se utiliza PIP que es el instalador de paquetes de Python. Para las versiones modernas de Python viene preinstalada. \n",
    " - La forma de instalar paquetes es usar el comando 'pip install' desde el CMD, indicando el nombre del paquete, y de manera opcional la versión. \n",
    "     - Ej: pip install qiskit==0.30.1\n",
    "     \n",
    " - Para evitar tener que abrir un CMD, podemos ejecutar comandos de la terminal desde el notebook poniendo al inicio del comando el símbolo **!**."
   ]
  },
  {
   "cell_type": "markdown",
   "metadata": {},
   "source": [
    "<h1><font color=\"#003D7F\" size=4>Ejercicio</font></h1>\n",
    "Ejecutar el siguiente comando de terminal desde el notebook. Con el comando podemos mostrar el mensaje que le pasemos como parámetro."
   ]
  },
  {
   "cell_type": "code",
   "execution_count": 2,
   "metadata": {},
   "outputs": [
    {
     "name": "stdout",
     "output_type": "stream",
     "text": [
      "Hola\n"
     ]
    }
   ],
   "source": [
    "!echo Hola"
   ]
  },
  {
   "cell_type": "markdown",
   "metadata": {},
   "source": [
    "<h1><font color=\"#003D7F\" size=4>Ejercicio</font></h1>\n",
    "Instalar los siguientes paquetes de Python:\n",
    "\n",
    " - numpy\n",
    " - sympy\n",
    " - matplotlib\n",
    " - qiskit\n",
    " - qiskit-ibm-provider"
   ]
  },
  {
   "cell_type": "code",
   "execution_count": 3,
   "metadata": {},
   "outputs": [
    {
     "name": "stdout",
     "output_type": "stream",
     "text": [
      "Requirement already satisfied: numpy in c:\\users\\hp\\anaconda3\\lib\\site-packages (1.23.5)\n",
      "Requirement already satisfied: sympy in c:\\users\\hp\\anaconda3\\lib\\site-packages (1.11.1)\n",
      "Requirement already satisfied: matplotlib in c:\\users\\hp\\anaconda3\\lib\\site-packages (3.7.2)\n",
      "Requirement already satisfied: qiskit in c:\\users\\hp\\anaconda3\\lib\\site-packages (0.45.0)\n",
      "Requirement already satisfied: qiskit-ibm-provider in c:\\users\\hp\\anaconda3\\lib\\site-packages (0.7.2)\n",
      "Requirement already satisfied: mpmath>=0.19 in c:\\users\\hp\\anaconda3\\lib\\site-packages (from sympy) (1.3.0)\n",
      "Requirement already satisfied: contourpy>=1.0.1 in c:\\users\\hp\\anaconda3\\lib\\site-packages (from matplotlib) (1.0.5)\n",
      "Requirement already satisfied: cycler>=0.10 in c:\\users\\hp\\anaconda3\\lib\\site-packages (from matplotlib) (0.11.0)\n",
      "Requirement already satisfied: fonttools>=4.22.0 in c:\\users\\hp\\anaconda3\\lib\\site-packages (from matplotlib) (4.25.0)\n",
      "Requirement already satisfied: kiwisolver>=1.0.1 in c:\\users\\hp\\anaconda3\\lib\\site-packages (from matplotlib) (1.4.4)\n",
      "Requirement already satisfied: packaging>=20.0 in c:\\users\\hp\\anaconda3\\lib\\site-packages (from matplotlib) (23.1)\n",
      "Requirement already satisfied: pillow>=6.2.0 in c:\\users\\hp\\anaconda3\\lib\\site-packages (from matplotlib) (9.4.0)\n",
      "Requirement already satisfied: pyparsing<3.1,>=2.3.1 in c:\\users\\hp\\anaconda3\\lib\\site-packages (from matplotlib) (3.0.9)\n",
      "Requirement already satisfied: python-dateutil>=2.7 in c:\\users\\hp\\anaconda3\\lib\\site-packages (from matplotlib) (2.8.2)\n",
      "Requirement already satisfied: qiskit-terra==0.45.0 in c:\\users\\hp\\anaconda3\\lib\\site-packages (from qiskit) (0.45.0)\n",
      "Requirement already satisfied: rustworkx>=0.13.0 in c:\\users\\hp\\anaconda3\\lib\\site-packages (from qiskit-terra==0.45.0->qiskit) (0.13.2)\n",
      "Requirement already satisfied: ply>=3.10 in c:\\users\\hp\\anaconda3\\lib\\site-packages (from qiskit-terra==0.45.0->qiskit) (3.11)\n",
      "Requirement already satisfied: psutil>=5 in c:\\users\\hp\\anaconda3\\lib\\site-packages (from qiskit-terra==0.45.0->qiskit) (5.9.0)\n",
      "Requirement already satisfied: scipy>=1.5 in c:\\users\\hp\\anaconda3\\lib\\site-packages (from qiskit-terra==0.45.0->qiskit) (1.11.1)\n",
      "Requirement already satisfied: dill>=0.3 in c:\\users\\hp\\anaconda3\\lib\\site-packages (from qiskit-terra==0.45.0->qiskit) (0.3.6)\n",
      "Requirement already satisfied: stevedore>=3.0.0 in c:\\users\\hp\\anaconda3\\lib\\site-packages (from qiskit-terra==0.45.0->qiskit) (5.1.0)\n",
      "Requirement already satisfied: requests>=2.19 in c:\\users\\hp\\anaconda3\\lib\\site-packages (from qiskit-ibm-provider) (2.31.0)\n",
      "Requirement already satisfied: requests-ntlm>=1.1.0 in c:\\users\\hp\\anaconda3\\lib\\site-packages (from qiskit-ibm-provider) (1.1.0)\n",
      "Requirement already satisfied: urllib3>=1.21.1 in c:\\users\\hp\\anaconda3\\lib\\site-packages (from qiskit-ibm-provider) (2.1.0)\n",
      "Requirement already satisfied: websocket-client>=1.5.1 in c:\\users\\hp\\anaconda3\\lib\\site-packages (from qiskit-ibm-provider) (1.7.0)\n",
      "Requirement already satisfied: websockets>=10.0 in c:\\users\\hp\\anaconda3\\lib\\site-packages (from qiskit-ibm-provider) (12.0)\n",
      "Requirement already satisfied: typing-extensions>=4.3 in c:\\users\\hp\\anaconda3\\lib\\site-packages (from qiskit-ibm-provider) (4.7.1)\n",
      "Requirement already satisfied: six>=1.5 in c:\\users\\hp\\anaconda3\\lib\\site-packages (from python-dateutil>=2.7->matplotlib) (1.16.0)\n",
      "Requirement already satisfied: charset-normalizer<4,>=2 in c:\\users\\hp\\anaconda3\\lib\\site-packages (from requests>=2.19->qiskit-ibm-provider) (2.0.4)\n",
      "Requirement already satisfied: idna<4,>=2.5 in c:\\users\\hp\\anaconda3\\lib\\site-packages (from requests>=2.19->qiskit-ibm-provider) (3.4)\n",
      "Requirement already satisfied: certifi>=2017.4.17 in c:\\users\\hp\\anaconda3\\lib\\site-packages (from requests>=2.19->qiskit-ibm-provider) (2023.7.22)\n",
      "Requirement already satisfied: ntlm-auth>=1.0.2 in c:\\users\\hp\\anaconda3\\lib\\site-packages (from requests-ntlm>=1.1.0->qiskit-ibm-provider) (1.5.0)\n",
      "Requirement already satisfied: cryptography>=1.3 in c:\\users\\hp\\anaconda3\\lib\\site-packages (from requests-ntlm>=1.1.0->qiskit-ibm-provider) (41.0.3)\n",
      "Requirement already satisfied: cffi>=1.12 in c:\\users\\hp\\anaconda3\\lib\\site-packages (from cryptography>=1.3->requests-ntlm>=1.1.0->qiskit-ibm-provider) (1.15.1)\n",
      "Requirement already satisfied: pbr!=2.1.0,>=2.0.0 in c:\\users\\hp\\anaconda3\\lib\\site-packages (from stevedore>=3.0.0->qiskit-terra==0.45.0->qiskit) (6.0.0)\n",
      "Requirement already satisfied: pycparser in c:\\users\\hp\\anaconda3\\lib\\site-packages (from cffi>=1.12->cryptography>=1.3->requests-ntlm>=1.1.0->qiskit-ibm-provider) (2.21)\n"
     ]
    }
   ],
   "source": [
    "!pip install numpy sympy matplotlib qiskit qiskit-ibm-provider"
   ]
  },
  {
   "cell_type": "markdown",
   "metadata": {},
   "source": [
    " - También podemos ver la versión y otra información relevante de un paquete con el comando 'pip show' y el nombre del paquete. "
   ]
  },
  {
   "cell_type": "code",
   "execution_count": 4,
   "metadata": {},
   "outputs": [
    {
     "name": "stdout",
     "output_type": "stream",
     "text": [
      "Name: qiskit\n",
      "Version: 0.45.0\n",
      "Summary: Software for developing quantum computing programs\n",
      "Home-page: https://qiskit.org/\n",
      "Author: Qiskit Development Team\n",
      "Author-email: hello@qiskit.org\n",
      "License: Apache 2.0\n",
      "Location: C:\\Users\\HP\\anaconda3\\Lib\\site-packages\n",
      "Requires: qiskit-terra\n",
      "Required-by: qiskit-aer, qiskit-ibm-provider, qiskit-ibm-runtime\n"
     ]
    }
   ],
   "source": [
    "!pip show qiskit"
   ]
  },
  {
   "cell_type": "markdown",
   "metadata": {},
   "source": [
    "<h1><font color=\"#004D7F\" size=15>Variables, funciones y estructuras de datos</font></h1>"
   ]
  },
  {
   "cell_type": "markdown",
   "metadata": {},
   "source": [
    "<h1><font color=\"#004D7F\" size=5>Variables</font></h1>"
   ]
  },
  {
   "cell_type": "markdown",
   "metadata": {},
   "source": [
    " - Las variables en Python se crean cuando se le asigna por primera vez un valor.\n",
    " - Son dinámicamente tipadas, es decir, pueden ser de diferentes tipos a lo largo del código"
   ]
  },
  {
   "cell_type": "code",
   "execution_count": 5,
   "metadata": {},
   "outputs": [
    {
     "name": "stdout",
     "output_type": "stream",
     "text": [
      "<class 'int'>\n",
      "<class 'str'>\n",
      "<class 'bool'>\n"
     ]
    }
   ],
   "source": [
    "a = 1\n",
    "print(type(a))\n",
    "a = 'Hola'\n",
    "print(type(a))\n",
    "a = True\n",
    "print(type(a))"
   ]
  },
  {
   "cell_type": "markdown",
   "metadata": {},
   "source": [
    " - Los algunos de los tipos primitivos de datos de Python son:\n",
    "     - Enteros (**int**)\n",
    "     - Flotantes (**float**)\n",
    "     - Complejos (**complex**)\n",
    "     - Booleanos (**bool**)\n",
    "     - Cadenas de texto (**str**)\n",
    " - Mediante el casting se puede inficar el tipo de variable que es"
   ]
  },
  {
   "cell_type": "code",
   "execution_count": 6,
   "metadata": {},
   "outputs": [
    {
     "name": "stdout",
     "output_type": "stream",
     "text": [
      "5\n",
      "5.0\n"
     ]
    }
   ],
   "source": [
    "a = int(5)\n",
    "b = float(5)\n",
    "print(a)\n",
    "print(b)"
   ]
  },
  {
   "cell_type": "markdown",
   "metadata": {},
   "source": [
    " - También existe un un tipo de dato que es el **NoneType** y solo acepta un valor que es el **None**. Se utiliza para cuando se crean variable y no se quiere asignar aún un valor. Hay que tener cuidado con intentar operar con este tipo de dato porque pueden saltar excepciones."
   ]
  },
  {
   "cell_type": "code",
   "execution_count": 7,
   "metadata": {},
   "outputs": [],
   "source": [
    "a = None\n",
    "b = 7\n",
    "#print(a + b)"
   ]
  },
  {
   "cell_type": "markdown",
   "metadata": {},
   "source": [
    "<h1><font color=\"#004D7F\" size=5>Operadores</font></h1>\n",
    "\n",
    "Ahora vamos a ver algunas operaciones que permite Python entre los distintos tipos de datos."
   ]
  },
  {
   "cell_type": "markdown",
   "metadata": {},
   "source": [
    "#### Operaciones booleanas\n",
    "\n",
    "| Operador | Descripción     | Ejemplo |\n",
    "|----------|-----------------|---------|\n",
    "| or       | O lógico        | x or y  |\n",
    "| and      | Y lógico        | x and y |\n",
    "| not      | Negación lógica | not x   |\n",
    "\n",
    "#### Operaciones lógicas\n",
    "\n",
    "| Operador | Descripción       | Ejemplo |\n",
    "|----------|-------------------|---------|\n",
    "| <        | Menor que         | x < y   |\n",
    "| <=       | Menor o igual que | x <= y  |\n",
    "| >        | Mayor que         | x > y   |\n",
    "| >=       | Mayor o igual que | x >= y  |\n",
    "| ==       | Igual que         | x == y  |\n",
    "| !=       | Distinto que      | x != y  | \n",
    "\n",
    "#### Operaciones aritméticas\n",
    "\n",
    "| Operador     | Descripción                                                           | Ejemplo       |\n",
    "|--------------|-----------------------------------------------------------------------|---------------|\n",
    "| +            | Suma                                                                  | x + y         |\n",
    "| -            | Diferencia                                                            | x - y         |\n",
    "| *            | Producto                                                              | x * y         |\n",
    "| /            | División                                                              | x / y         |\n",
    "| //           | División entera                                                       | x // y        |\n",
    "| %            | Resto                                                                 | x % y         |\n",
    "| -x           | Negación                                                              | -x            |\n",
    "| abs()        | Valor absoluto                                                        | abs(x)        |\n",
    "| int()        | Conversión a entero                                                   | int(x)        |\n",
    "| float()      | Conversión a punto flotante                                           | float(x)      |\n",
    "| complex(,)   | Constructor de número complejo a partir de 2 float (real, imaginaria) | complex(x, y) |\n",
    "| .conjugate() | Conjugado de un número complejo                                       | c.conjugate() |\n",
    "| **           | Potencia                                                              | x ** y        |\n",
    "\n",
    "#### Operaciones a nivel de bit\n",
    "\n",
    "| Operador | Descripción                                                       | Ejemplo |\n",
    "|----------|-------------------------------------------------------------------|---------|\n",
    "| \\|       | Operación or bit a bit                                            | x \\| y  |\n",
    "| ^        | Operación xor bit a bit                                           | x ^ y   |\n",
    "| &        | Operación and bit a bit                                           | x & y   |\n",
    "| <<       | Desplazamiento a la izquierda de una cantidad determinada de bits | x << n  |\n",
    "| >>       | Desplazamiento a la derecha de una cantidad determinada de bits   | x >> n  |\n",
    "| ~        | Invierte los bits                                                 | ~x      |\n",
    "\n",
    "#### Operaciones de pertenencia\n",
    "\n",
    "| Operador | Descripción                                                               | Ejemplo          |\n",
    "|----------|---------------------------------------------------------------------------|------------------|\n",
    "| in       | Devuelve True si el elemento está en la colección, False en otro caso.    | x in [1,2,3]     |\n",
    "| not in   | Devuelve True si el elemento no está en la colección, False en otro caso. | x not in [1,2,3] |\n"
   ]
  },
  {
   "cell_type": "markdown",
   "metadata": {},
   "source": [
    "<h1><font color=\"#003D7F\" size=2>Ejercicio</font></h1>\n",
    "Obtener las raices e imprimirlas con \"print(x)\" de la siguiente ecuación de segundo grado.\n",
    "\n",
    "<center>$x^{2}-2x+5=0$</center>\n",
    "\n",
    "Ayuda:\n",
    "\n",
    "<center>$x=\\frac{-b\\pm\\sqrt{b^{2}-4ac}}{2a}$</center>\n",
    "Con a, b, c:\n",
    "<center>$ax^{2}+bx+c=0$</center>"
   ]
  },
  {
   "cell_type": "code",
   "execution_count": 8,
   "metadata": {},
   "outputs": [
    {
     "name": "stdout",
     "output_type": "stream",
     "text": [
      "Las soluciones son (1.0000000000000002+2j) y (0.9999999999999999-2j).\n"
     ]
    }
   ],
   "source": [
    "import numpy as np\n",
    "# Crear las variables a, b, c con sus respectivos valores\n",
    "a, b, c = 1, -2, 5\n",
    "\n",
    "#Calcular las soluciones\n",
    "x1 = (-b + (b**2-4*a*c)**(1/2))/(2*a)\n",
    "x2 = (-b - (b**2-4*a*c)**(1/2))/(2*a)\n",
    "\n",
    "#Imprimir las soluciones\n",
    "print(f\"Las soluciones son {x1} y {x2}.\")"
   ]
  },
  {
   "cell_type": "markdown",
   "metadata": {},
   "source": [
    "<h1><font color=\"#004D7F\" size=5>Funciones</font></h1>"
   ]
  },
  {
   "cell_type": "markdown",
   "metadata": {},
   "source": [
    "Una función es un bloque de código al que puedes llamar todas las veces que desees.\n",
    "\n",
    "Para definir una función en Python hay que escribir la palabra clave **def** seguido del nombre de la función, de unos paréntesis con el nombre de los argumentos separados por comas (o sin argumentos), y acabando la línea con **:**. Debajo de esta línea el código de nuestra función identado, acabando con la instrucción de retorno si se desea devolver algo."
   ]
  },
  {
   "cell_type": "code",
   "execution_count": 9,
   "metadata": {},
   "outputs": [
    {
     "name": "stdout",
     "output_type": "stream",
     "text": [
      "La suma de 5 y 7 es:  12\n"
     ]
    }
   ],
   "source": [
    "def suma(x, y):\n",
    "    return x + y\n",
    "\n",
    "print(\"La suma de 5 y 7 es: \", suma(5, 7))"
   ]
  },
  {
   "cell_type": "markdown",
   "metadata": {},
   "source": [
    "<h1><font color=\"#003D7F\" size=2>Ejercicio</font></h1>\n",
    "Crear una función que pasado como argumento los términos a, b y c de una ecuación de segundo grado, devuelva las soluciones de dicha ecuación."
   ]
  },
  {
   "cell_type": "code",
   "execution_count": 10,
   "metadata": {},
   "outputs": [
    {
     "name": "stdout",
     "output_type": "stream",
     "text": [
      "[(1.0000000000000002+2j), (0.9999999999999999-2j)]\n"
     ]
    }
   ],
   "source": [
    "#Crear la función\n",
    "def sol_ec2(a,b,c):\n",
    "    x1 = (-b + (b**2-4*a*c)**(1/2))/(2*a)\n",
    "    x2 = (-b - (b**2-4*a*c)**(1/2))/(2*a)\n",
    "    return [x1,x2]\n",
    "\n",
    "#Imprimir las las soluciones del ejercicio anterior\n",
    "print(sol_ec2(1,-2,5))\n"
   ]
  },
  {
   "cell_type": "markdown",
   "metadata": {},
   "source": [
    "#### args y kargs\n",
    "\n",
    "Hay dos tipos de argumentos en Python:\n",
    "   - **args** (**arg**ument**s**): Estos son los argumentos comunes, son obligatorios y siempre van antes que los **kwargs**.\n",
    "   - **kwargs** (**k**ey**w**ord **arg**ument**s**): Estos argumentos llevan asociados una palabra clave a su valor, van siempre después de todos los **args** y son opcionales. Para convertir un **args** en **kwargs** simplemente hay que ponerle un valor por defecto en la declaración de la función. En este tipo de argumentos cuando se llama a la función hay que indicar el nombre y su valor, como si fuese un diccionario clave - valor."
   ]
  },
  {
   "cell_type": "code",
   "execution_count": 11,
   "metadata": {},
   "outputs": [
    {
     "name": "stdout",
     "output_type": "stream",
     "text": [
      "Las soluciones son:  ((1.0000000000000002+2j), (0.9999999999999999-2j))\n",
      "Las soluciones son:  ((1.0000000000000002+2.23606797749979j), (0.9999999999999999-2.23606797749979j))\n"
     ]
    }
   ],
   "source": [
    "def solve2eq(a, b, c=5):\n",
    "    r1 = (-b + (b**2 - 4 * a * c)**(1/2)) / 2 * a\n",
    "    r2 = (-b - (b**2 - 4 * a * c)**(1/2)) / 2 * a\n",
    "    return r1, r2\n",
    "\n",
    "print(\"Las soluciones son: \", solve2eq(1, -2))\n",
    "print(\"Las soluciones son: \", solve2eq(1, -2, c=6))"
   ]
  },
  {
   "cell_type": "markdown",
   "metadata": {},
   "source": [
    "#### Funciones predefinidas sobre números\n",
    "\n",
    "| Operador      | Descripción                   |\n",
    "|---------------|-------------------------------|\n",
    "| math.trunc(x) | Devuelve la parte entera de x |\n",
    "| round(x[, n]) | Redondea x a n dígitos        |  \n",
    "| math.floor(x) | Redondea x a la baja          |\n",
    "| math.ceil(x)  | Redondea x al alza            |\n",
    "\n",
    "#### Funciones predefinidas sobre cadenas de caracteres\n",
    "\n",
    "| Operador      | Descripción                   |\n",
    "|---------------|-------------------------------|\n",
    "| print(s) | Imprime la cadena s |\n",
    "| len(s) | Devuelve el tamaño de la cadena        |  \n",
    "| separator.join(s) | Une la lista s con el separador 'separator'          |\n",
    "| s.split(separator)  | Divide la cadena s donde se encuentre el separador 'separator'           |\n",
    "| s.replace(s1, s2) | Reemplaza en la cadena s la cadena s1 por la cadena s2        |  \n",
    "| s.upper() | Convierte en mayúsculas la cadena s         |\n",
    "| s.lower()  | Convierte en minúsculas la cadena s            |"
   ]
  },
  {
   "cell_type": "code",
   "execution_count": 12,
   "metadata": {},
   "outputs": [
    {
     "name": "stdout",
     "output_type": "stream",
     "text": [
      "L.e.n.g.u.a.j.e.s. .d.e. .p.r.o.g.r.a.m.a.c.i.ó.n\n",
      "Lenguajes de programación\n"
     ]
    }
   ],
   "source": [
    "s = \".\".join(\"Lenguajes de programación\")\n",
    "print(s)\n",
    "print(s.replace('.', ''))"
   ]
  },
  {
   "cell_type": "markdown",
   "metadata": {},
   "source": [
    "<h1><font color=\"#003D7F\" size=2>Ejercicio</font></h1>\n",
    "Convertir la cadena \"Lenguajes de programación\" a mayúsculas y duplicar los espacios entre palabras."
   ]
  },
  {
   "cell_type": "code",
   "execution_count": 13,
   "metadata": {},
   "outputs": [
    {
     "data": {
      "text/plain": [
       "'LENGUAJES  DE  PROGRAMACIÓN'"
      ]
     },
     "execution_count": 13,
     "metadata": {},
     "output_type": "execute_result"
    }
   ],
   "source": [
    "s = \"Lenguajes de programación\"\n",
    "\n",
    "#Transformar la cadena\n",
    "s.upper().replace(\" \",\"  \")\n"
   ]
  },
  {
   "cell_type": "markdown",
   "metadata": {},
   "source": [
    "<h1><font color=\"#004D7F\" size=5>Estructuras de datos</font></h1>"
   ]
  },
  {
   "cell_type": "markdown",
   "metadata": {},
   "source": [
    " Las estructuras de datos son formas de organizar los datos para utilizarlos de manera eficiente.\n",
    " - Las principales estructuras de datos son:\n",
    "    - Listas\n",
    "    - Diccionarios\n",
    "    - Conjuntos\n",
    "    - Tuplas\n",
    "    "
   ]
  },
  {
   "cell_type": "markdown",
   "metadata": {},
   "source": [
    "### Listas"
   ]
  },
  {
   "cell_type": "markdown",
   "metadata": {},
   "source": [
    "Las listas son una de las colecciones de datos más usadas en Python. Algunas de las características más importantes son:\n",
    "    - Es una estructura ordenada.\n",
    "    - Puede contener cualquier tipo de objeto, incluyendo otras listas.\n",
    "    - Pueden ser modificadas y se accede a sus elementos mediante un índice.\n",
    "    \n",
    "Para crear una lista se utilizan los corchetes **[]**.\n",
    "Hay dos formas de crear las listas:\n",
    "    - Extensión: Se indican, de manera explícita, los elementos.\n",
    "    - Comprensión: Se indican reglas que cumplen los elementos.\n",
    "    \n",
    "Algunas operaciones y funciones con listas son:\n",
    "\n",
    "| Operador      | Descripción                   | Ejemplo |\n",
    "|---------------|-------------------------------|---------|\n",
    "| +             | Concatena dos listas          | lista1 + lista2  |\n",
    "| *             | Devuelve todos los elementos de la lista, la desempaqueta | *lista |\n",
    "| append        | Añade un elemento a la lista  |  lista.append(elemento)       |\n",
    "| pop           | Devuelve y elimina el último elemento de la lista | elemento = lista.pop()|\n",
    "| remove        | Elimina todos los elementos que sean iguales al que le pasamos | lista.remove(elemento)|\n"
   ]
  },
  {
   "cell_type": "code",
   "execution_count": 14,
   "metadata": {},
   "outputs": [
    {
     "name": "stdout",
     "output_type": "stream",
     "text": [
      "La lista por extension es:  [2, 4, 6, 8]\n",
      "La lista por comprensión es:  [2, 4, 6, 8]\n"
     ]
    }
   ],
   "source": [
    "#Lista por extension con todos los números pares del 1 al 9\n",
    "lista_a = [2, 4, 6, 8]\n",
    "\n",
    "#Lista por comprensión con todos los números pares del 1 al 9\n",
    "lista_b = [i for i in range(1, 10) if i%2 == 0]\n",
    "\n",
    "print(\"La lista por extension es: \", lista_a)\n",
    "print(\"La lista por comprensión es: \", lista_b)"
   ]
  },
  {
   "cell_type": "markdown",
   "metadata": {},
   "source": [
    "Las listas aceptan indexación negativa, de esta forma, el índice **-1** hace referencia al último elemento."
   ]
  },
  {
   "cell_type": "code",
   "execution_count": 15,
   "metadata": {},
   "outputs": [
    {
     "data": {
      "text/plain": [
       "6"
      ]
     },
     "execution_count": 15,
     "metadata": {},
     "output_type": "execute_result"
    }
   ],
   "source": [
    "lista = [1, 2, 3, 4, 5, 6]\n",
    "lista[-1] # Eqivalente a lista[len(lista)-1]"
   ]
  },
  {
   "cell_type": "markdown",
   "metadata": {},
   "source": [
    "También aceptan **slicing**, esto permite acceder a un rango de elementos devolviendo una nueva lista.\n",
    " - Para hacer **slicing** se usan los **:**. El esquema general es: **lista[inicio:fin:paso]**, donde **inicio** es el índice de inicio de la lista, **fin** es el índice final y **paso** es de cuánto en cuánto se incrementa el índice."
   ]
  },
  {
   "cell_type": "code",
   "execution_count": 16,
   "metadata": {},
   "outputs": [
    {
     "data": {
      "text/plain": [
       "[6, 5, 4, 3, 2, 1]"
      ]
     },
     "execution_count": 16,
     "metadata": {},
     "output_type": "execute_result"
    }
   ],
   "source": [
    "lista = [1, 2, 3, 4, 5, 6]\n",
    "lista[-1:-len(lista)-1:-1] #Equivalente a lista.reverse()"
   ]
  },
  {
   "cell_type": "markdown",
   "metadata": {},
   "source": [
    "También podemos recorrer la lista entera usando solo **:**."
   ]
  },
  {
   "cell_type": "code",
   "execution_count": 17,
   "metadata": {},
   "outputs": [
    {
     "data": {
      "text/plain": [
       "[1, 2, 3, 4, 5, 6]"
      ]
     },
     "execution_count": 17,
     "metadata": {},
     "output_type": "execute_result"
    }
   ],
   "source": [
    "lista = [1, 2, 3, 4, 5, 6]\n",
    "lista[:]"
   ]
  },
  {
   "cell_type": "markdown",
   "metadata": {},
   "source": [
    "<h1><font color=\"#003D7F\" size=2>Ejercicio</font></h1>\n",
    "Crear una lista con tolos los números mayores que 50 y menores de 100."
   ]
  },
  {
   "cell_type": "code",
   "execution_count": 18,
   "metadata": {},
   "outputs": [
    {
     "name": "stdout",
     "output_type": "stream",
     "text": [
      "[51, 52, 53, 54, 55, 56, 57, 58, 59, 60, 61, 62, 63, 64, 65, 66, 67, 68, 69, 70, 71, 72, 73, 74, 75, 76, 77, 78, 79, 80, 81, 82, 83, 84, 85, 86, 87, 88, 89, 90, 91, 92, 93, 94, 95, 96, 97, 98, 99]\n"
     ]
    }
   ],
   "source": [
    "#Crear la lista\n",
    "lista = [i for i in range(51,100)]\n",
    "\n",
    "#Imprimirla para visualizarla\n",
    "print(lista)\n"
   ]
  },
  {
   "cell_type": "markdown",
   "metadata": {},
   "source": [
    "### Diccionarios"
   ]
  },
  {
   "cell_type": "markdown",
   "metadata": {},
   "source": [
    "Un diccionario es una colección de datos del tipo (**clave, valor**).Algunas de las características más importantes son:\n",
    "    - Las claves son únicas, no pueden estar repetidas, a diferencia de los valores que sí pueden estar repetidos.\n",
    "    - Puede contener cualquier tipo de objeto, incluyendo otros diccionarios.\n",
    "    - Se accede a los valores a través de la clave de la forma diccionario[clave].\n",
    "Para crear un diccionario se utilizan las llaves **{}** y cada elemento de la forma **clave: valor**."
   ]
  },
  {
   "cell_type": "code",
   "execution_count": 19,
   "metadata": {},
   "outputs": [
    {
     "name": "stdout",
     "output_type": "stream",
     "text": [
      "{'Juan': '65845544', 'Maria': '67534555', 'Pepe': '60215454'}\n"
     ]
    }
   ],
   "source": [
    "paginas_amarillas = {'Juan': '65845544', 'Maria': '67534555', 'Pepe': '60215454'}\n",
    "print(paginas_amarillas)"
   ]
  },
  {
   "cell_type": "markdown",
   "metadata": {},
   "source": [
    "<h1><font color=\"#003D7F\" size=2>Ejercicio</font></h1>\n",
    "Crear un diccionario con la información del computador cuántico ibmq_manila, en la que las claves son los atributos y los valores las características. Imprimir qué versión es.\n",
    "\n",
    "| Atributo      | Cantidad   |\n",
    "|---------------|------------|\n",
    "| Qubits        | 5          |\n",
    "| QV            | 32         |  \n",
    "| CLOPS         | 2800       |\n",
    "| Version       | 1.0.23     |\n",
    "| Basis gates   | CX, ID, RZ, SX, X |"
   ]
  },
  {
   "cell_type": "code",
   "execution_count": 20,
   "metadata": {},
   "outputs": [
    {
     "name": "stdout",
     "output_type": "stream",
     "text": [
      "La versión es:  1.0.23\n"
     ]
    }
   ],
   "source": [
    "#Crear el diccionario\n",
    "dic = {\"Qubits\":\"5\",\"QV\":\"32\",\"CLOPS\":\"2800\",\"Version\":\"1.0.23\",\"Basic gates\":\"CX, ID, RZ, SX, X\"}\n",
    "\n",
    "#Imprimit la versión\n",
    "print(\"La versión es: \",dic[\"Version\"])"
   ]
  },
  {
   "cell_type": "markdown",
   "metadata": {},
   "source": [
    "### Conjuntos"
   ]
  },
  {
   "cell_type": "markdown",
   "metadata": {},
   "source": [
    "Un conjunto es una colección de datos que hace referencia a los conjuntos matemáticos. Algunas de las características más importantes son:\n",
    "    - Es una estructura no ordenada.\n",
    "    - Los elementos son únicos.\n",
    "    - Los elementos pueden ser de cualquier tipo.\n",
    "Para crear un conjunto se utilizan las llaves **{}**.\n",
    "También se puede crear un conjunto con el constructor **set()** y como argumento una lista."
   ]
  },
  {
   "cell_type": "code",
   "execution_count": 21,
   "metadata": {},
   "outputs": [
    {
     "name": "stdout",
     "output_type": "stream",
     "text": [
      "{1, 2, 3, 4, 5, 6}\n"
     ]
    }
   ],
   "source": [
    "c = {1, 2, 3, 4, 5, 6}\n",
    "print(c)"
   ]
  },
  {
   "cell_type": "markdown",
   "metadata": {},
   "source": [
    "<h1><font color=\"#003D7F\" size=2>Ejercicio</font></h1>\n",
    "Crear un conjunto con elementos repetidos y mostrar el contenido del conjunto."
   ]
  },
  {
   "cell_type": "code",
   "execution_count": 22,
   "metadata": {},
   "outputs": [
    {
     "name": "stdout",
     "output_type": "stream",
     "text": [
      "{1, 2, 3, 4, 5, 6}\n"
     ]
    }
   ],
   "source": [
    "#Crear conjunto con elementos repetidos\n",
    "conjunto = {1,1,2,2,2,3,4,5,5,6,5}\n",
    "\n",
    "#Imprimir el contenido del conjunto\n",
    "print(conjunto)"
   ]
  },
  {
   "cell_type": "markdown",
   "metadata": {},
   "source": [
    "### Tuplas"
   ]
  },
  {
   "cell_type": "markdown",
   "metadata": {},
   "source": [
    "Una tupla es la última estructura de datos predefinida de Python. Algunas de las características más importantes son:\n",
    "    - Es una estructura ordenada.\n",
    "    - Los elementos pueden estar repetidos.\n",
    "    - Los elementos no cambian a lo largo del programa.\n",
    "    - Se accede a los elementos mediante índices.\n",
    "Para crear una tupla se utilizan los paréntesis **()**."
   ]
  },
  {
   "cell_type": "code",
   "execution_count": 23,
   "metadata": {},
   "outputs": [
    {
     "name": "stdout",
     "output_type": "stream",
     "text": [
      "(1, 2, 3)\n"
     ]
    }
   ],
   "source": [
    "t = (1, 2, 3)\n",
    "print(t)"
   ]
  },
  {
   "cell_type": "markdown",
   "metadata": {},
   "source": [
    "<h1><font color=\"#003D7F\" size=2>Ejercicio</font></h1>\n",
    "Crear una tupla e intentar cambiar el contenido de algún elemento."
   ]
  },
  {
   "cell_type": "code",
   "execution_count": 24,
   "metadata": {},
   "outputs": [],
   "source": [
    "#Crear la tupla\n",
    "t = (1,2,3,4,5,6)\n",
    "\n",
    "#Cambiar el contenido de uno de sus elementos\n",
    "#t[1] = 14"
   ]
  },
  {
   "cell_type": "markdown",
   "metadata": {},
   "source": [
    "<h1><font color=\"#004D7F\" size=5>Condicionales</font></h1>"
   ]
  },
  {
   "cell_type": "markdown",
   "metadata": {},
   "source": [
    "Son instrucciones para tomar decisiones en tiempo real, y en Python al igual que en muchos otros lenguajes se usan las palabras clave **if** y **else**."
   ]
  },
  {
   "cell_type": "code",
   "execution_count": 25,
   "metadata": {},
   "outputs": [
    {
     "name": "stdout",
     "output_type": "stream",
     "text": [
      "Es mayor o igual que 5\n"
     ]
    }
   ],
   "source": [
    "a = 7\n",
    "if a < 5:\n",
    "    print(\"Es menor que 5\")\n",
    "else:\n",
    "    print(\"Es mayor o igual que 5\")"
   ]
  },
  {
   "cell_type": "markdown",
   "metadata": {},
   "source": [
    "<h1><font color=\"#003D7F\" size=2>Ejercicio</font></h1>\n",
    "Dada una variable aleatoria x, imprimirla si es mayor que 0.5, si no es mayor que 0.5 imprimir el valor 0.\n",
    "\n",
    "Para generar un número aleatorio entre 0 y 1 se usa la función **.random()** del paquete **random**."
   ]
  },
  {
   "cell_type": "code",
   "execution_count": 26,
   "metadata": {},
   "outputs": [
    {
     "name": "stdout",
     "output_type": "stream",
     "text": [
      "El valor es : 0.8444218515250481\n"
     ]
    }
   ],
   "source": [
    "import random\n",
    "random.seed(0)\n",
    "\n",
    "x = random.random()\n",
    "\n",
    "#Imprimir la variable según las condiciones del ejercicio\n",
    "if x > 0.5:\n",
    "    print(\"El valor es :\",x)\n",
    "else:\n",
    "    print(\"El valor es 0\")"
   ]
  },
  {
   "cell_type": "markdown",
   "metadata": {},
   "source": [
    "<h1><font color=\"#004D7F\" size=5>Bucles</font></h1>"
   ]
  },
  {
   "cell_type": "markdown",
   "metadata": {},
   "source": [
    "En Python podemos hacer 2 tipos de bucles:\n",
    "    - Bucle for: Se usa para secuencias.\n",
    "    - Bucle while: Se usa para expresiones."
   ]
  },
  {
   "cell_type": "markdown",
   "metadata": {},
   "source": [
    "### For"
   ]
  },
  {
   "cell_type": "markdown",
   "metadata": {},
   "source": [
    "La sintaxis para los bucles **for** es:\n",
    "\n",
    "**for** variable_iteradora **in** secuencia:\\\n",
    "&nbsp;&nbsp;&nbsp;&nbsp;&nbsp;&nbsp;instrucciones"
   ]
  },
  {
   "cell_type": "code",
   "execution_count": 27,
   "metadata": {},
   "outputs": [
    {
     "name": "stdout",
     "output_type": "stream",
     "text": [
      "1\n",
      "2\n",
      "3\n",
      "4\n",
      "5\n"
     ]
    }
   ],
   "source": [
    "for i in [1, 2, 3, 4, 5]:\n",
    "    print(i)"
   ]
  },
  {
   "cell_type": "markdown",
   "metadata": {},
   "source": [
    "<h1><font color=\"#003D7F\" size=2>Ejercicio</font></h1>\n",
    "Imprimir todos los elementos de la lista uno a uno."
   ]
  },
  {
   "cell_type": "code",
   "execution_count": 28,
   "metadata": {},
   "outputs": [
    {
     "name": "stdout",
     "output_type": "stream",
     "text": [
      "Aguacate\n",
      "Albaricoque\n",
      "Arándano\n",
      "Almendra\n",
      "Avellana\n"
     ]
    }
   ],
   "source": [
    "lista = ['Aguacate', 'Albaricoque', 'Arándano', 'Almendra', 'Avellana']\n",
    "\n",
    "#Imprimir los elementos uno a uno\n",
    "for i in lista:\n",
    "    print(i)"
   ]
  },
  {
   "cell_type": "code",
   "execution_count": 29,
   "metadata": {},
   "outputs": [
    {
     "data": {
      "text/plain": [
       "54"
      ]
     },
     "execution_count": 29,
     "metadata": {},
     "output_type": "execute_result"
    }
   ],
   "source": [
    "#a*b -> 9*6\n",
    "result = 0\n",
    "for _ in range(9):\n",
    "    result += 6\n",
    "result"
   ]
  },
  {
   "cell_type": "markdown",
   "metadata": {},
   "source": [
    "### While"
   ]
  },
  {
   "cell_type": "markdown",
   "metadata": {},
   "source": [
    "La sintaxis para los bucles **while** es:\n",
    "\n",
    "**while** expresion:\\\n",
    "&nbsp;&nbsp;&nbsp;&nbsp;&nbsp;&nbsp;instrucciones"
   ]
  },
  {
   "cell_type": "code",
   "execution_count": 30,
   "metadata": {},
   "outputs": [
    {
     "name": "stdout",
     "output_type": "stream",
     "text": [
      "1\n",
      "2\n",
      "3\n",
      "4\n",
      "5\n"
     ]
    }
   ],
   "source": [
    "i = 1\n",
    "while i < 6:\n",
    "    print(i)\n",
    "    i = i + 1"
   ]
  },
  {
   "cell_type": "markdown",
   "metadata": {},
   "source": [
    "<h1><font color=\"#003D7F\" size=2>Ejercicio</font></h1>\n",
    "Imprimir todos los números, uno a uno, menores que 10 y mayores que 5."
   ]
  },
  {
   "cell_type": "code",
   "execution_count": 31,
   "metadata": {},
   "outputs": [
    {
     "name": "stdout",
     "output_type": "stream",
     "text": [
      "6\n",
      "7\n",
      "8\n",
      "9\n"
     ]
    }
   ],
   "source": [
    "#Imprimir los números con un bucle while\n",
    "i = 6\n",
    "while i < 10:\n",
    "    print(i)\n",
    "    i += 1"
   ]
  },
  {
   "cell_type": "markdown",
   "metadata": {},
   "source": [
    "<h1><font color=\"#003D7F\" size=2>Ejercicio</font></h1>\n",
    "\n",
    "Hacer una función que pasandole como argumento un valor **p**, un valor **a** y un valor **n** te devuelva el resultado de la siguiente fórmula:\n",
    "<center>$M=2^{n}\\cdot\\sin^{2}{\\left(2\\pi\\frac{a}{2^{p+1}}\\right)}$</center>\n",
    "\n",
    "La función seno la podemos encontrar en el paquete de **numpy** de la forma **.sin()**, al igual que el valor de **pi** con **.pi**.\n",
    "\n",
    "Comprobar que el resultado de la función para **a=5**, **n=3** y **p=3** es **6.82842712474619**."
   ]
  },
  {
   "cell_type": "code",
   "execution_count": 32,
   "metadata": {},
   "outputs": [
    {
     "data": {
      "text/plain": [
       "6.82842712474619"
      ]
     },
     "execution_count": 32,
     "metadata": {},
     "output_type": "execute_result"
    }
   ],
   "source": [
    "import numpy as np\n",
    "\n",
    "#Crear la función\n",
    "def calcula_M(p,a,n):\n",
    "    return 2**n*np.sin(2*np.pi*a/(2**(p+1)))**2\n",
    "\n",
    "#Imprimir el resultado de a=5, n=3 y p=3\n",
    "calcula_M(3,5,3)"
   ]
  },
  {
   "cell_type": "markdown",
   "metadata": {},
   "source": [
    "<h1><font color=\"#003D7F\" size=2>Ejercicio</font></h1>\n",
    "Hacer una función para pasar de una cadena de texto de 0's y 1's a un número entero. Probar con la cadena '101001'.\n",
    "\n",
    "Ayuda: Se puede hacer uso (opcional) de la función **len(objeto)** que nos devuelve el número de elementos, en este caso el número de 0's y 1's."
   ]
  },
  {
   "cell_type": "code",
   "execution_count": 33,
   "metadata": {},
   "outputs": [
    {
     "data": {
      "text/plain": [
       "41"
      ]
     },
     "execution_count": 33,
     "metadata": {},
     "output_type": "execute_result"
    }
   ],
   "source": [
    "#Crear la función\n",
    "def cad_a_ent(cad):\n",
    "    dec = 0\n",
    "    num = 0\n",
    "    for i in cad[::-1]:\n",
    "        dec += 2**num*int(i)\n",
    "        num += 1\n",
    "    return dec\n",
    "\n",
    "#Comprobar el funcionamiento con 101001\n",
    "cad_a_ent(\"101001\")"
   ]
  },
  {
   "cell_type": "markdown",
   "metadata": {},
   "source": [
    "<h1><font color=\"#003D7F\" size=2>Ejercicio</font></h1>\n",
    "\n",
    "Hacer una función para obtener el elemento de un diccionario con mayor valor."
   ]
  },
  {
   "cell_type": "code",
   "execution_count": 34,
   "metadata": {},
   "outputs": [
    {
     "data": {
      "text/plain": [
       "8"
      ]
     },
     "execution_count": 34,
     "metadata": {},
     "output_type": "execute_result"
    }
   ],
   "source": [
    "#Crear la función\n",
    "def greater_dic(dic):\n",
    "    lista = sorted([(j,i) for i,j in dic.items()])\n",
    "    return lista[-1][1]\n",
    "\n",
    "#Comprobar el funcionamiento con el siguiente diccionario\n",
    "dic = {1: 100, 2: 1, 3: 1092, 8: 3221}\n",
    "\n",
    "greater_dic(dic)"
   ]
  },
  {
   "cell_type": "markdown",
   "metadata": {},
   "source": [
    "<h1><font color=\"#003D7F\" size=2>Ejercicio</font></h1>\n",
    "Dada una lista con elementos repetidos, hacer función para obtener otra lista con los elementos sin repetir."
   ]
  },
  {
   "cell_type": "code",
   "execution_count": 35,
   "metadata": {},
   "outputs": [
    {
     "data": {
      "text/plain": [
       "[1, 2, 3, 4, 5, 6, 7, 8, 9, 0, 68, 242, 56]"
      ]
     },
     "execution_count": 35,
     "metadata": {},
     "output_type": "execute_result"
    }
   ],
   "source": [
    "lista = [1, 2, 3, 4, 5, 6, 7, 8, 9, 0, 5, 3, 4, 68, 9, 242, 56]\n",
    "#Crear la función\n",
    "def lista_sin_rep(lista):\n",
    "    res = []\n",
    "    for i in lista:\n",
    "        if i not in res:\n",
    "            res.append(i)\n",
    "    return res\n",
    "\n",
    "#Comprobar el funcionamiento con la lista 'lista'\n",
    "lista_sin_rep(lista)"
   ]
  },
  {
   "cell_type": "markdown",
   "metadata": {},
   "source": [
    "<h1><font color=\"#004D7F\" size=5>Programación Orientada a Objetos</font></h1>"
   ]
  },
  {
   "cell_type": "markdown",
   "metadata": {},
   "source": [
    "Hasta ahora lo que hemos visto es Python desde el paradigma de la programación imperativa. Esto no quiere decir que no hayamos usado Python como programación orientada a objetos, sí lo hemos utilizado como tal pero no de manera directa, ya que en Python todo es un objeto. Las listas, los enteros, las funciones, las cadenas de caracteres, las tuplas, los diccionarios, todo son objetos."
   ]
  },
  {
   "cell_type": "markdown",
   "metadata": {},
   "source": [
    "### ¿Qué es la POO?"
   ]
  },
  {
   "cell_type": "markdown",
   "metadata": {},
   "source": [
    "Este paradigma de programación es un modelo de programación que se basa en estructurar el código en bloques simples y reutilizables. Dejamos de centrarnos en la lógica de los programas para centrarnos en pensar en el programa como un conjunto de componentes (objetos) que se relacionan entre sí. Estos objetos se pueden ver como tipos de datos con atributos propios y funcionalidades propias."
   ]
  },
  {
   "cell_type": "markdown",
   "metadata": {},
   "source": [
    "### Objetos usados indirectamente"
   ]
  },
  {
   "cell_type": "markdown",
   "metadata": {},
   "source": [
    "Como hemos dicho antes, cualquier variable que hemos creado es un objeto, como por ejemplo, una variable de tipo cadena de caracteres con valor 'hola':"
   ]
  },
  {
   "cell_type": "code",
   "execution_count": 36,
   "metadata": {},
   "outputs": [
    {
     "name": "stdout",
     "output_type": "stream",
     "text": [
      "<class 'str'>\n"
     ]
    }
   ],
   "source": [
    "a = 'hola'\n",
    "print(type(a))"
   ]
  },
  {
   "cell_type": "markdown",
   "metadata": {},
   "source": [
    "Como podemos ver, la variable es una instancia de la clase 'str'. Con la función predefinida **dir()** podemos ver sus atributos y métodos."
   ]
  },
  {
   "cell_type": "code",
   "execution_count": 37,
   "metadata": {},
   "outputs": [
    {
     "name": "stdout",
     "output_type": "stream",
     "text": [
      "['__add__', '__class__', '__contains__', '__delattr__', '__dir__', '__doc__', '__eq__', '__format__', '__ge__', '__getattribute__', '__getitem__', '__getnewargs__', '__getstate__', '__gt__', '__hash__', '__init__', '__init_subclass__', '__iter__', '__le__', '__len__', '__lt__', '__mod__', '__mul__', '__ne__', '__new__', '__reduce__', '__reduce_ex__', '__repr__', '__rmod__', '__rmul__', '__setattr__', '__sizeof__', '__str__', '__subclasshook__', 'capitalize', 'casefold', 'center', 'count', 'encode', 'endswith', 'expandtabs', 'find', 'format', 'format_map', 'index', 'isalnum', 'isalpha', 'isascii', 'isdecimal', 'isdigit', 'isidentifier', 'islower', 'isnumeric', 'isprintable', 'isspace', 'istitle', 'isupper', 'join', 'ljust', 'lower', 'lstrip', 'maketrans', 'partition', 'removeprefix', 'removesuffix', 'replace', 'rfind', 'rindex', 'rjust', 'rpartition', 'rsplit', 'rstrip', 'split', 'splitlines', 'startswith', 'strip', 'swapcase', 'title', 'translate', 'upper', 'zfill']\n"
     ]
    }
   ],
   "source": [
    "print(dir(a))"
   ]
  },
  {
   "cell_type": "markdown",
   "metadata": {},
   "source": [
    "Vamos a usar el método **.title()** que sirve para poner la primera letra de cada palabra en mayúsculas y las demás en minúsculas."
   ]
  },
  {
   "cell_type": "code",
   "execution_count": 38,
   "metadata": {},
   "outputs": [
    {
     "name": "stdout",
     "output_type": "stream",
     "text": [
      "Hola\n"
     ]
    }
   ],
   "source": [
    "print(a.title())"
   ]
  },
  {
   "cell_type": "markdown",
   "metadata": {},
   "source": [
    "### Objetos y Clases"
   ]
  },
  {
   "cell_type": "markdown",
   "metadata": {},
   "source": [
    "Una clase es la estructura o definición de cómo van a ser los objetos, es decir, los datos comunes a todos ellos, y un objeto es una instancia de una clase con un determinado estado. Las clases se crean durante el desarollo del código mientras que los objetos se crean en tiempo de ejecución.\n",
    "\n",
    "Podríamos decir que una **clase es un molde** y los **objetos son las piezas** creadas por ese molde.\n",
    "\n",
    "Vamos a hacer un ejemplo creando una clase llamada **Polígono**, que va a representar un polígono regular, y vamos a añadirle atributos y métodos que lo definan.\n",
    "\n",
    "Para crear una clase se utiliza la palabra reservada **class** seguida del nombre de la clase y **:**. A esta clase vamos a añadirle algunos atributos."
   ]
  },
  {
   "cell_type": "code",
   "execution_count": 39,
   "metadata": {},
   "outputs": [],
   "source": [
    "class Poligono:\n",
    "    lado = None\n",
    "    numero_lados = None\n",
    "    apotema = None"
   ]
  },
  {
   "cell_type": "markdown",
   "metadata": {},
   "source": [
    "Para poder crear instancias de esta clase con valores determinados, vamos a añadir el constructor en la clase. Para añadir el constructor hay que definir la función **\\_\\_init\\_\\_** cuyos argumento son los que deseemos. El primer argumento de los métodos dentro de una clase siempre tiene que ser la palabra reservada **self** que hace referencia al objeto que se está creando, después de este argumento vamos a añadir un argumento para indicar la longitud del lado **lado** y otro para indicar el número de lados **numero_lados**. "
   ]
  },
  {
   "cell_type": "code",
   "execution_count": 40,
   "metadata": {},
   "outputs": [],
   "source": [
    "class Poligono:\n",
    "    lado = None\n",
    "    numero_lados = None\n",
    "    apotema = None\n",
    "    \n",
    "    def __init__(self, lado, numero_lados):\n",
    "        self.lado = lado\n",
    "        self.numero_lados = numero_lados"
   ]
  },
  {
   "cell_type": "markdown",
   "metadata": {},
   "source": [
    "Ya podemos crear Polígonos de diferentes tipos. Ahora vamos a añadirle funcionalidad. Para ello vamos a añadirle un método que se va a llamar **perimetro** y nos va a devolver el perímetro del polígono. Y vamos a crear una instancia de la clase con 4 lados y cada lado de 2 unidades. Vamos a probar también la función perímetro."
   ]
  },
  {
   "cell_type": "code",
   "execution_count": 41,
   "metadata": {},
   "outputs": [
    {
     "name": "stdout",
     "output_type": "stream",
     "text": [
      "El perímetro es:  8\n"
     ]
    }
   ],
   "source": [
    "class Poligono:\n",
    "    lado = None\n",
    "    numero_lados = None\n",
    "    apotema = None\n",
    "    \n",
    "    def __init__(self, lado, numero_lados):\n",
    "        self.lado = lado\n",
    "        self.numero_lados = numero_lados\n",
    "        \n",
    "    def perimetro(self):\n",
    "        return self.lado * self.numero_lados\n",
    "\n",
    "cuadrado = Poligono(2, 4)\n",
    "print(\"El perímetro es: \", cuadrado.perimetro())"
   ]
  },
  {
   "cell_type": "markdown",
   "metadata": {},
   "source": [
    "<h1><font color=\"#003D7F\" size=2>Ejercicio</font></h1>\n",
    "Añadir en el constructor el cálculo del apotema y añadirle un método a la clase para calcular el área.\n",
    "\n",
    "Ayuda:\n",
    " - El cáculo del apotema es: $ap = \\frac{lado}{2\\tan\\left(\\frac{\\frac{2\\pi}{numero\\_lados}}{2}\\right)}$\n",
    " - La función tangente está disponible en el paquete numpy como **numpy.tan()**.\n",
    " - El cálculo del área es: $\\frac{numero\\_lados \\cdot lado \\cdot ap}{2}$"
   ]
  },
  {
   "cell_type": "code",
   "execution_count": 42,
   "metadata": {},
   "outputs": [
    {
     "data": {
      "text/plain": [
       "4.000000000000001"
      ]
     },
     "execution_count": 42,
     "metadata": {},
     "output_type": "execute_result"
    }
   ],
   "source": [
    "import numpy as np\n",
    "class Poligono:\n",
    "    lado = None\n",
    "    numero_lados = None\n",
    "    apotema = None\n",
    "    \n",
    "    def __init__(self, lado, numero_lados):\n",
    "        self.lado = lado\n",
    "        self.numero_lados = numero_lados\n",
    "        #Calculo del apotema\n",
    "        self.apotema = self.lado/(2*np.tan((2*np.pi/self.numero_lados)/2))\n",
    "        \n",
    "    def perimetro(self):\n",
    "        return self.lado * self.numero_lados\n",
    "    \n",
    "    #Crear función para el cálculo del área\n",
    "    def area(self):\n",
    "        return self.numero_lados*self.lado*self.apotema/2\n",
    "    \n",
    "\n",
    "cuadrado = Poligono(2, 4)\n",
    "\n",
    "#Comprobar el área del cuadrado creado\n",
    "cuadrado.area()\n"
   ]
  },
  {
   "cell_type": "markdown",
   "metadata": {},
   "source": [
    "### Herencia"
   ]
  },
  {
   "cell_type": "markdown",
   "metadata": {},
   "source": [
    "La **herencia** es un mecanismo por el cual una clase (hija) puede heredar de otra (padre) sus atributos y métodos, además de poder sobreescribir los métodos y atributos y definir nuevos. Para heredar se pone entre parénsetis, al lado del nombre de la nueva clase, el nombre de la clase de la que se hereda.\n",
    "\n",
    "Vamos a crear una clase **Cuadrado** que herede de **Poligono** y que su constructor solo necesite el tamaño del lado."
   ]
  },
  {
   "cell_type": "code",
   "execution_count": 43,
   "metadata": {},
   "outputs": [
    {
     "name": "stdout",
     "output_type": "stream",
     "text": [
      "El perímetro es:  8\n"
     ]
    }
   ],
   "source": [
    "class Cuadrado(Poligono):\n",
    "    \n",
    "    def __init__(self, lado):\n",
    "        super().__init__(lado, 4)\n",
    "\n",
    "cuadrado = Cuadrado(2)\n",
    "print(\"El perímetro es: \", cuadrado.perimetro())"
   ]
  },
  {
   "cell_type": "markdown",
   "metadata": {},
   "source": [
    "Como podemos ver hemos accedido al constructor de la clase padre mediante la función **super()**. Con esta función podemos acceder a los atributos y métodos de la clase padre."
   ]
  },
  {
   "cell_type": "markdown",
   "metadata": {},
   "source": [
    "<h1><font color=\"#003D7F\" size=2>Ejercicio</font></h1>\n",
    "\n",
    "Crear una clase **Persona** a partir del **nombre**, **dni**, **genero** y **edad**. Crear otras dos clases **Mujer** y **Hombre** que hereden de **Persona** y que solo necesiten para ser creadas el **nombre**, **dni** y **edad**. Todas las personas saben **saludar()** diciendo _Hola soy_ y su **nombre** y además puedes preguntarle por el **genero** con **preguntar_genero()** y te contesta con _Hola soy Mujer_ su **genero** es _Femenino_ y _Hola soy Hombre_ si su **genero** es _Masculino_."
   ]
  },
  {
   "cell_type": "code",
   "execution_count": 44,
   "metadata": {},
   "outputs": [
    {
     "name": "stdout",
     "output_type": "stream",
     "text": [
      "Hola soy Mario\n",
      "Hola soy Hombre\n"
     ]
    }
   ],
   "source": [
    "#Crear clase Persona\n",
    "class Persona:\n",
    "    nombre = None\n",
    "    dni = None\n",
    "    genero = None\n",
    "    edad = None\n",
    "    \n",
    "    def __init__(self, nombre, dni, genero, edad):\n",
    "        self.nombre = nombre\n",
    "        self.dni = dni\n",
    "        self.genero = genero\n",
    "        self.edad = edad\n",
    "    \n",
    "    def saludar(self):\n",
    "        print(\"Hola soy\",self.nombre)\n",
    "    \n",
    "    def preguntar_genero(self):\n",
    "        if self.genero == \"F\":\n",
    "            print(\"Hola soy Mujer\")\n",
    "        else:\n",
    "            print(\"Hola soy Hombre\")\n",
    "    \n",
    "#Crear clase Mujer\n",
    "class Mujer(Persona):\n",
    "    \n",
    "    def __init__(self, nombre, dni, edad):\n",
    "        super().__init__(nombre,dni,\"F\",edad)\n",
    "\n",
    "#Crear clase Hombre\n",
    "class Hombre(Persona):\n",
    "    \n",
    "    def __init__(self, nombre, dni, edad):\n",
    "        super().__init__(nombre,dni,\"M\",edad)\n",
    "\n",
    "\n",
    "\n",
    "#Comprobar el funcionamiento creando una instancia\n",
    "p = Hombre(\"Mario\",\"3333\",1)\n",
    "p.saludar()\n",
    "p.preguntar_genero()\n"
   ]
  },
  {
   "cell_type": "markdown",
   "metadata": {},
   "source": [
    "<h1><font color=\"#004D7F\" size=5>Errores y Excepciones</font></h1>"
   ]
  },
  {
   "cell_type": "markdown",
   "metadata": {},
   "source": [
    "### Errores"
   ]
  },
  {
   "cell_type": "markdown",
   "metadata": {},
   "source": [
    "Los **errores** en Python son producidos por errores que hay en la sintaxis del programa. También se conocen como errores de interpretación, y el intérprete lo que hace cuando detecta uno es mostrar la línea donde se produce y una flecha con el lugar donde se detecta el error. Aquí se muestra un ejemplo:"
   ]
  },
  {
   "cell_type": "code",
   "execution_count": 50,
   "metadata": {},
   "outputs": [],
   "source": [
    "#a = 13 + * 5"
   ]
  },
  {
   "cell_type": "markdown",
   "metadata": {},
   "source": [
    "Como podemos ver, hemos puesto 2 operadores seguidos y esto no lo permite Python, además nos indica que en el segundo operador  **\\*** es donde detecta el error."
   ]
  },
  {
   "cell_type": "markdown",
   "metadata": {},
   "source": [
    "### Excepciones"
   ]
  },
  {
   "cell_type": "markdown",
   "metadata": {},
   "source": [
    "Las **Excepciones** son errores que aparecen durante la ejecución del código. La mayoría de estas **Excepciones** no son gestionadas por el código y provocan que la ejecución finalice sin acabar de ejecutar el código."
   ]
  },
  {
   "cell_type": "code",
   "execution_count": 48,
   "metadata": {},
   "outputs": [
    {
     "name": "stdout",
     "output_type": "stream",
     "text": [
      "Please enter a number: 3\n",
      "2.6666666666666665\n"
     ]
    }
   ],
   "source": [
    "a = int(input(\"Please enter a number: \"))\n",
    "print(8 / a)"
   ]
  },
  {
   "cell_type": "markdown",
   "metadata": {},
   "source": [
    "Para evitar que el código finalice por una excepción vamos a ver cómo gestionarlas. Para gestionar las excepciones vamos a usar las sentencias **try** y **except**. Primero se pone la sentencia **try** englobando al bloque de código donde queremos gestionar las excepciones que aparezcan. Seguidamente del ese bloque tenemos que poner la sencencia **except** englobando el bloque de código que queremos ejecutar cuando una excepción ocurra."
   ]
  },
  {
   "cell_type": "code",
   "execution_count": 51,
   "metadata": {},
   "outputs": [
    {
     "name": "stdout",
     "output_type": "stream",
     "text": [
      "Please enter a number: 0\n",
      "Ha ocurrido un error\n"
     ]
    }
   ],
   "source": [
    "try:\n",
    "    a = int(input(\"Please enter a number: \"))\n",
    "    print(8 / a)\n",
    "except:\n",
    "    print(\"Ha ocurrido un error\")"
   ]
  },
  {
   "cell_type": "markdown",
   "metadata": {},
   "source": [
    "En el código anterior podemos tener 2 tipos de excepciones. Una **ZeroDivisionError** que se produce si introducimos el valor 0, y una **ValueError** que se produce si introducimos algún valor que no es un número entero. Pero cuando nos imprime que ha habido un error no sabemos cuál de los dos ha sido el problema que lo ha ocasionado. Para ello podemos poner tantas sencencias **except** como deseemos seguidas del tipo de excepcion que queramos capturar para así ejecutar un bloque de código u otro."
   ]
  },
  {
   "cell_type": "code",
   "execution_count": 52,
   "metadata": {},
   "outputs": [
    {
     "name": "stdout",
     "output_type": "stream",
     "text": [
      "Please enter a number: 0\n",
      "Has introducido el valor 0 y no se puede dividir por 0\n"
     ]
    }
   ],
   "source": [
    "try:\n",
    "    a = int(input(\"Please enter a number: \"))\n",
    "    print(8 / a)\n",
    "except ZeroDivisionError:\n",
    "    print(\"Has introducido el valor 0 y no se puede dividir por 0\")\n",
    "except ValueError:\n",
    "    print(\"Has introducido un valor que no es un número entero\")"
   ]
  },
  {
   "cell_type": "markdown",
   "metadata": {},
   "source": [
    "De esta forma ya podemos realizar una acción u otra según el tipo de excepción."
   ]
  },
  {
   "cell_type": "markdown",
   "metadata": {},
   "source": [
    "<h1><font color=\"#003D7F\" size=2>Ejercicio</font></h1>\n",
    "\n",
    "Dada la función **random_exception()** que lanza una excepción aleatoria, capturar cada una de las posibles excepciones e imprimir __Se ha producido la excepción__ y el nombre de la excepción cuando se preduzca."
   ]
  },
  {
   "cell_type": "code",
   "execution_count": 76,
   "metadata": {},
   "outputs": [
    {
     "name": "stdout",
     "output_type": "stream",
     "text": [
      "Excepción del tipo RuntimeError\n"
     ]
    }
   ],
   "source": [
    "import random\n",
    "def random_exception():\n",
    "    some_exceptions = [OverflowError, ZeroDivisionError, RuntimeError, MemoryError]\n",
    "    raise random.choice(some_exceptions)\n",
    "\n",
    "#Capturar la excepción e imprimir el nombre\n",
    "try:\n",
    "    random_exception()\n",
    "except OverflowError:\n",
    "    print(\"Excepción del tipo OverflowError\")\n",
    "except ZeroDivisionError:\n",
    "    print(\"Excepción del tipo ZeroDivisionError\")\n",
    "except RuntimeError:\n",
    "    print(\"Excepción del tipo RuntimeError\")\n",
    "except MemoryError:\n",
    "    print(\"Excepción del tipo MemoryError\")"
   ]
  },
  {
   "cell_type": "markdown",
   "metadata": {},
   "source": [
    "<h1><font color=\"#004D7F\" size=5>Ejercicios</font></h1>"
   ]
  },
  {
   "cell_type": "markdown",
   "metadata": {},
   "source": [
    "<h1><font color=\"#003D7F\" size=2>Ejercicio</font></h1>\n",
    "\n",
    "Dado un vector de estado **state** en forma de lista donde el primer elemento de la lista es la amplitud de probabilidad del estado 0 y el último elemento de la lista es la amplitud de probabilidad del estado $2^n -1$, hacer una función que pasado el vector de estado imprime en forma de tabla el estado junto con su estado en binario y en decimal. Un ejemplo sería:\n",
    "\n",
    "|Decimal  |  Binario  |   Amplitud |\n",
    "|---------|-----------|----------------------|\n",
    "|0        |      000   |          $\\frac{1}{\\sqrt{2}}$|\n",
    "| 1       |   001   |          0 |\n",
    "| ...     |  ...    |   ... |"
   ]
  },
  {
   "cell_type": "code",
   "execution_count": 84,
   "metadata": {},
   "outputs": [
    {
     "name": "stdout",
     "output_type": "stream",
     "text": [
      "|Decimal  |  Binario  |   Amplitud |\n",
      "|---------|-----------|----------------------|\n",
      "| 0 | 0 | 0j |\n",
      "| 1 | 1 | 0j |\n",
      "| 2 | 10 | (-0.52296219+0j) |\n",
      "| 3 | 11 | (0.34787561+0.77813438j) |\n",
      "| 4 | 100 | 0j |\n",
      "| 5 | 101 | 0j |\n",
      "| 6 | 110 | 0j |\n",
      "| 7 | 111 | 0j |\n"
     ]
    }
   ],
   "source": [
    "import numpy as np\n",
    "state = [0j, 0j, (-0.52296219+0j), (0.34787561+0.77813438j), 0j, 0j, 0j, 0j]\n",
    "\n",
    "#Crear la función\n",
    "def tabla_statevector(lista):\n",
    "    print(\"|Decimal  |  Binario  |   Amplitud |\")\n",
    "    print(\"|---------|-----------|----------------------|\")\n",
    "    for ind in range(len(lista)):\n",
    "        print(f\"| {ind} | {np.binary_repr(ind)} | {lista[ind]} |\")\n",
    "\n",
    "#Comprobamos el funcionamiento imprimiendo el estado 'state'\n",
    "tabla_statevector(state)\n"
   ]
  },
  {
   "cell_type": "code",
   "execution_count": 90,
   "metadata": {},
   "outputs": [
    {
     "name": "stdout",
     "output_type": "stream",
     "text": [
      "-------  -------  ------------------------\n",
      "Decimal  Binario  Amplitud\n",
      "0        000      0j\n",
      "1        001      0j\n",
      "2        010      (-0.52296219+0j)\n",
      "3        011      (0.34787561+0.77813438j)\n",
      "4        100      0j\n",
      "5        101      0j\n",
      "6        110      0j\n",
      "7        111      0j\n",
      "-------  -------  ------------------------\n"
     ]
    }
   ],
   "source": [
    "import numpy as np\n",
    "from tabulate import tabulate\n",
    "state = [0j, 0j, (-0.52296219+0j), (0.34787561+0.77813438j), 0j, 0j, 0j, 0j]\n",
    "\n",
    "#Crear la función\n",
    "def tabla_statevector(lista):\n",
    "    n_bits = np.log2(len(lista))\n",
    "    tabla = [[\"Decimal\",\"Binario\",\"Amplitud\"]]\n",
    "    for ind in range(len(lista)):\n",
    "        tabla.append([ind,np.binary_repr(ind,int(n_bits)),lista[ind]])\n",
    "    print(tabulate(tabla))\n",
    "\n",
    "#Comprobamos el funcionamiento imprimiendo el estado 'state'\n",
    "tabla_statevector(state)"
   ]
  },
  {
   "cell_type": "code",
   "execution_count": null,
   "metadata": {},
   "outputs": [],
   "source": []
  }
 ],
 "metadata": {
  "kernelspec": {
   "display_name": "Python 3 (ipykernel)",
   "language": "python",
   "name": "python3"
  },
  "language_info": {
   "codemirror_mode": {
    "name": "ipython",
    "version": 3
   },
   "file_extension": ".py",
   "mimetype": "text/x-python",
   "name": "python",
   "nbconvert_exporter": "python",
   "pygments_lexer": "ipython3",
   "version": "3.11.5"
  }
 },
 "nbformat": 4,
 "nbformat_minor": 4
}
