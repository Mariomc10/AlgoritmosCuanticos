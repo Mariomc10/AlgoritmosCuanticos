{
 "cells": [
  {
   "cell_type": "markdown",
   "metadata": {},
   "source": [
    "<img src=\"./files/universidad-nebrija.jpg\" alt=\"Logo Nebrija\" align=\"right\" width=200>\n",
    "\n",
    "\n",
    "<h2><font color=\"#004D7F\" size=4>Lenguajes de Programación</font></h2>\n",
    "\n",
    "<h1><font color=\"#004D7F\" size=5>Algoritmo de conteo cuántico</font></h1>\n",
    "\n",
    "<br><br>\n",
    "<div style=\"text-align: right\">\n",
    "<font color=\"#004D7F\" size=3>José Javier Paulet González</font><br>\n",
    "<font color=\"#004D7F\" size=3>04/03/2024</font><br>\n",
    "<font color=\"#004D7F\" size=3>Universidad Antonio de Nebrija</font>\n",
    "\n",
    "</div>\n",
    "$ \\newcommand{\\ket}[1]{|#1\\rangle} $\n",
    "$ \\newcommand{\\bra}[1]{\\langle #1|} $\n",
    "\n",
    "---"
   ]
  },
  {
   "cell_type": "markdown",
   "metadata": {},
   "source": [
    "<h1><font color=\"#004D7F\" size=15>Algoritmo de estimación de fase</font></h1>"
   ]
  },
  {
   "cell_type": "markdown",
   "metadata": {},
   "source": [
    " - Se trata de un algoritmo para estimar el autovalor de un autovector de un operador unitario.\n",
    "\n",
    " - Dado un operador cuántico $U$ (operador unitario) y un estado cuántico $\\ket{\\psi}$ (autovector) tal que $U\\ket{\\psi}=e^{2\\pi i\\phi}\\ket{\\psi}$, el algoritmo estima el autovalor $e^{2\\pi i\\phi}$, o lo que es lo mismo, estima la fase $\\phi$ tal que $0\\leq\\phi<1$.\n",
    "\n",
    " - Esta estimación se realiza con una precisión de $p$ bits sobre un operador de tamaño $n$ qubits.\n"
   ]
  },
  {
   "cell_type": "markdown",
   "metadata": {},
   "source": [
    "<h1><font color=\"#003D7F\" size=5>Pasos del algoritmo</font></h1>"
   ]
  },
  {
   "cell_type": "markdown",
   "metadata": {},
   "source": [
    "1. Se aplica puertas Hadamard a los primeros $p$ qubits.\n",
    "2. Se aplican las puertas $\\left(U^{2^{0}},U^{2^{1}},U^{2^{2}},\\ldots,U^{2^{p-1}}\\right)$ controladas por los qubits $\\left(p-1,p-2,p-3,\\ldots,0\\right)$ más significativos.\n",
    "3. Se aplica la transformada de Fourier inversa sobre los primeros $p$ qubits.\n",
    "4. Se miden los $p$ primeros qubits.\n",
    "<img src=\"./files/esquema-phase-estimation.png\" alt=\"Circuito estimación de fase\" align=\"left\">"
   ]
  },
  {
   "cell_type": "markdown",
   "metadata": {},
   "source": [
    "<h1><font color=\"#004D7F\" size=15>Algoritmo de conteo cuántico</font></h1>"
   ]
  },
  {
   "cell_type": "markdown",
   "metadata": {},
   "source": [
    " - Se trata de un algoritmo para contar el número de soluciones de un problema.\n",
    "\n",
    " - Es una mezcla del algoritmo de Grover y el algoritmo de estimación de fase.\n",
    "\n",
    " - La complejidad temporal depende de la precisión que se desee.\n",
    "\n",
    "\n",
    " Para obtener el número de soluciones **M**, tenemos que obtener la fase del operador **G**. Este operador es una **iteración de Grover**, es decir, **Oráculo** $\\left(U_{f}\\right)$ + **Inversión sobre la media** $\\left(U_{\\psi}\\right)$.\n",
    " Como podemos ver en la imagen, el operador **G** es un giro en sentido de las agujas del reloj de $2\\theta$.\n",
    " \n",
    " \n",
    "<img src=\"./files/iteración-grover-geometria.png\" alt=\"Iteración de Grover\"  width=\"300px\" align=\"center\">\n",
    "\n",
    "Este operador **G** tiene 2 autovalores que son $e^{\\pm i2\\theta}$. Con el algoritmo del conteo cuántico se obtiene en la medición un valor $a=2^{p}\\phi$ tal que el autovalor de **G** es $e^{2\\pi i\\phi}$. \n",
    "\n",
    "De esta forma, $2\\theta=2\\pi\\phi=2\\pi\\frac{a}{2^{p}}$, es decir, $\\theta=2\\pi\\frac{a}{2^{p+1}}$.\n",
    "Con trigonometría podemos ver que $\\sin{\\left(\\theta\\right)}=\\sqrt{\\frac{M}{2^{n}}}$, por lo tanto, el número de soluciones es $M=2^{n}\\cdot\\sin^{2}{\\left(\\theta\\right)}$\n"
   ]
  },
  {
   "cell_type": "markdown",
   "metadata": {},
   "source": [
    "<h1><font color=\"#003D7F\" size=5>Pasos del algoritmo</font></h1>"
   ]
  },
  {
   "cell_type": "markdown",
   "metadata": {},
   "source": [
    "1. Se aplica puertas Hadamard a los primeros $p$ qubits y a los $n$ segundos qubits.\n",
    "2. Se aplican las puertas $\\left(G^{2^{0}},G^{2^{1}},G^{2^{2}},\\ldots,G^{2^{p-1}}\\right)$ controladas por los qubits $\\left(p-1,p-2,p-3,\\ldots,0\\right)$ más significativos.\n",
    "3. Se aplica la transformada de Fourier inversa sobre los primeros $p$ qubits.\n",
    "4. Se miden los $p$ primeros qubits.\n",
    "<img src=\"./files/esquema-quantum-counting.png\" alt=\"Circuito conteo cuántico\" align=\"left\">"
   ]
  },
  {
   "cell_type": "code",
   "execution_count": 4,
   "metadata": {},
   "outputs": [
    {
     "name": "stdout",
     "output_type": "stream",
     "text": [
      "Requirement already satisfied: pip in c:\\users\\hp\\anaconda3\\lib\\site-packages (24.0)\n",
      "Requirement already satisfied: setuptools in c:\\users\\hp\\anaconda3\\lib\\site-packages (69.1.1)\n"
     ]
    }
   ],
   "source": [
    "!pip install --upgrade pip setuptools"
   ]
  },
  {
   "cell_type": "code",
   "execution_count": 1,
   "metadata": {},
   "outputs": [
    {
     "name": "stdout",
     "output_type": "stream",
     "text": [
      "Collecting tweedledum\n",
      "  Using cached tweedledum-1.1.1.tar.gz (4.8 MB)\n",
      "  Installing build dependencies: started\n",
      "  Installing build dependencies: finished with status 'done'\n",
      "  Getting requirements to build wheel: started\n",
      "  Getting requirements to build wheel: finished with status 'error'\n"
     ]
    },
    {
     "name": "stderr",
     "output_type": "stream",
     "text": [
      "  error: subprocess-exited-with-error\n",
      "  \n",
      "  Getting requirements to build wheel did not run successfully.\n",
      "  exit code: 1\n",
      "  \n",
      "  [35 lines of output]\n",
      "  Traceback (most recent call last):\n",
      "    File \"C:\\Users\\HP\\anaconda3\\Lib\\site-packages\\pip\\_vendor\\pyproject_hooks\\_in_process\\_in_process.py\", line 353, in <module>\n",
      "      main()\n",
      "    File \"C:\\Users\\HP\\anaconda3\\Lib\\site-packages\\pip\\_vendor\\pyproject_hooks\\_in_process\\_in_process.py\", line 335, in main\n",
      "      json_out['return_val'] = hook(**hook_input['kwargs'])\n",
      "                               ^^^^^^^^^^^^^^^^^^^^^^^^^^^^\n",
      "    File \"C:\\Users\\HP\\anaconda3\\Lib\\site-packages\\pip\\_vendor\\pyproject_hooks\\_in_process\\_in_process.py\", line 118, in get_requires_for_build_wheel\n",
      "      return hook(config_settings)\n",
      "             ^^^^^^^^^^^^^^^^^^^^^\n",
      "    File \"C:\\Users\\HP\\AppData\\Local\\Temp\\pip-build-env-243i6tm5\\overlay\\Lib\\site-packages\\setuptools\\build_meta.py\", line 325, in get_requires_for_build_wheel\n",
      "      return self._get_build_requires(config_settings, requirements=['wheel'])\n",
      "             ^^^^^^^^^^^^^^^^^^^^^^^^^^^^^^^^^^^^^^^^^^^^^^^^^^^^^^^^^^^^^^^^^\n",
      "    File \"C:\\Users\\HP\\AppData\\Local\\Temp\\pip-build-env-243i6tm5\\overlay\\Lib\\site-packages\\setuptools\\build_meta.py\", line 295, in _get_build_requires\n",
      "      self.run_setup()\n",
      "    File \"C:\\Users\\HP\\AppData\\Local\\Temp\\pip-build-env-243i6tm5\\overlay\\Lib\\site-packages\\setuptools\\build_meta.py\", line 487, in run_setup\n",
      "      super().run_setup(setup_script=setup_script)\n",
      "    File \"C:\\Users\\HP\\AppData\\Local\\Temp\\pip-build-env-243i6tm5\\overlay\\Lib\\site-packages\\setuptools\\build_meta.py\", line 311, in run_setup\n",
      "      exec(code, locals())\n",
      "    File \"<string>\", line 27, in <module>\n",
      "    File \"C:\\Users\\HP\\AppData\\Local\\Temp\\pip-build-env-243i6tm5\\overlay\\Lib\\site-packages\\skbuild\\setuptools_wrap.py\", line 488, in setup\n",
      "      ) = _parse_setuptools_arguments(kw)\n",
      "          ^^^^^^^^^^^^^^^^^^^^^^^^^^^^^^^\n",
      "    File \"C:\\Users\\HP\\AppData\\Local\\Temp\\pip-build-env-243i6tm5\\overlay\\Lib\\site-packages\\skbuild\\setuptools_wrap.py\", line 221, in _parse_setuptools_arguments\n",
      "      dist.parse_config_files()\n",
      "    File \"C:\\Users\\HP\\AppData\\Local\\Temp\\pip-build-env-243i6tm5\\overlay\\Lib\\site-packages\\setuptools\\dist.py\", line 627, in parse_config_files\n",
      "      pyprojecttoml.apply_configuration(self, filename, ignore_option_errors)\n",
      "    File \"C:\\Users\\HP\\AppData\\Local\\Temp\\pip-build-env-243i6tm5\\overlay\\Lib\\site-packages\\setuptools\\config\\pyprojecttoml.py\", line 67, in apply_configuration\n",
      "      config = read_configuration(filepath, True, ignore_option_errors, dist)\n",
      "               ^^^^^^^^^^^^^^^^^^^^^^^^^^^^^^^^^^^^^^^^^^^^^^^^^^^^^^^^^^^^^^\n",
      "    File \"C:\\Users\\HP\\AppData\\Local\\Temp\\pip-build-env-243i6tm5\\overlay\\Lib\\site-packages\\setuptools\\config\\pyprojecttoml.py\", line 128, in read_configuration\n",
      "      validate(subset, filepath)\n",
      "    File \"C:\\Users\\HP\\AppData\\Local\\Temp\\pip-build-env-243i6tm5\\overlay\\Lib\\site-packages\\setuptools\\config\\pyprojecttoml.py\", line 56, in validate\n",
      "      raise ValueError(f\"{error}\\n{summary}\") from None\n",
      "  ValueError: invalid pyproject.toml config: `project`.\n",
      "  configuration error: `project` must contain ['name'] properties\n",
      "  [end of output]\n",
      "  \n",
      "  note: This error originates from a subprocess, and is likely not a problem with pip.\n",
      "error: subprocess-exited-with-error\n",
      "\n",
      "Getting requirements to build wheel did not run successfully.\n",
      "exit code: 1\n",
      "\n",
      "See above for output.\n",
      "\n",
      "note: This error originates from a subprocess, and is likely not a problem with pip.\n"
     ]
    }
   ],
   "source": [
    "!pip install tweedledum"
   ]
  },
  {
   "cell_type": "code",
   "execution_count": 2,
   "metadata": {},
   "outputs": [
    {
     "ename": "MissingOptionalLibraryError",
     "evalue": "\"The 'tweedledum' library is required to use 'BooleanExpression'. You can install it with 'pip install tweedledum'.\"",
     "output_type": "error",
     "traceback": [
      "\u001b[1;31m---------------------------------------------------------------------------\u001b[0m",
      "\u001b[1;31mMissingOptionalLibraryError\u001b[0m               Traceback (most recent call last)",
      "Cell \u001b[1;32mIn[2], line 16\u001b[0m\n\u001b[0;32m     13\u001b[0m n_qubits \u001b[38;5;241m=\u001b[39m \u001b[38;5;241m3\u001b[39m\n\u001b[0;32m     15\u001b[0m \u001b[38;5;66;03m#Creamos el operador oráculo importandolo del fichero\u001b[39;00m\n\u001b[1;32m---> 16\u001b[0m oraculo \u001b[38;5;241m=\u001b[39m PhaseOracle\u001b[38;5;241m.\u001b[39mfrom_dimacs_file(\u001b[38;5;124m\"\u001b[39m\u001b[38;5;124maux_func.py\u001b[39m\u001b[38;5;124m\"\u001b[39m)\n\u001b[0;32m     17\u001b[0m oraculo\u001b[38;5;241m.\u001b[39mdraw(\u001b[38;5;124m\"\u001b[39m\u001b[38;5;124mmpl\u001b[39m\u001b[38;5;124m\"\u001b[39m)\n",
      "File \u001b[1;32m~\\anaconda3\\Lib\\site-packages\\qiskit\\circuit\\library\\phase_oracle.py:152\u001b[0m, in \u001b[0;36mPhaseOracle.from_dimacs_file\u001b[1;34m(cls, filename)\u001b[0m\n\u001b[0;32m    107\u001b[0m \u001b[38;5;250m\u001b[39m\u001b[38;5;124mr\u001b[39m\u001b[38;5;124;03m\"\"\"Create a PhaseOracle from the string in the DIMACS format.\u001b[39;00m\n\u001b[0;32m    108\u001b[0m \n\u001b[0;32m    109\u001b[0m \u001b[38;5;124;03mIt is possible to build a PhaseOracle from a file in `DIMACS CNF format\u001b[39;00m\n\u001b[1;32m   (...)\u001b[0m\n\u001b[0;32m    148\u001b[0m \u001b[38;5;124;03m    PhaseOracle: A quantum circuit with a phase oracle.\u001b[39;00m\n\u001b[0;32m    149\u001b[0m \u001b[38;5;124;03m\"\"\"\u001b[39;00m\n\u001b[0;32m    150\u001b[0m \u001b[38;5;28;01mfrom\u001b[39;00m \u001b[38;5;21;01mqiskit\u001b[39;00m\u001b[38;5;21;01m.\u001b[39;00m\u001b[38;5;21;01mcircuit\u001b[39;00m\u001b[38;5;21;01m.\u001b[39;00m\u001b[38;5;21;01mclassicalfunction\u001b[39;00m\u001b[38;5;21;01m.\u001b[39;00m\u001b[38;5;21;01mboolean_expression\u001b[39;00m \u001b[38;5;28;01mimport\u001b[39;00m BooleanExpression\n\u001b[1;32m--> 152\u001b[0m expr \u001b[38;5;241m=\u001b[39m BooleanExpression\u001b[38;5;241m.\u001b[39mfrom_dimacs_file(filename)\n\u001b[0;32m    153\u001b[0m \u001b[38;5;28;01mreturn\u001b[39;00m \u001b[38;5;28mcls\u001b[39m(expr)\n",
      "File \u001b[1;32m~\\anaconda3\\Lib\\site-packages\\qiskit\\circuit\\classicalfunction\\boolean_expression.py:113\u001b[0m, in \u001b[0;36mBooleanExpression.from_dimacs_file\u001b[1;34m(cls, filename)\u001b[0m\n\u001b[0;32m    101\u001b[0m \u001b[38;5;129m@classmethod\u001b[39m\n\u001b[0;32m    102\u001b[0m \u001b[38;5;28;01mdef\u001b[39;00m \u001b[38;5;21mfrom_dimacs_file\u001b[39m(\u001b[38;5;28mcls\u001b[39m, filename: \u001b[38;5;28mstr\u001b[39m):\n\u001b[0;32m    103\u001b[0m \u001b[38;5;250m    \u001b[39m\u001b[38;5;124;03m\"\"\"Create a BooleanExpression from the string in the DIMACS format.\u001b[39;00m\n\u001b[0;32m    104\u001b[0m \u001b[38;5;124;03m    Args:\u001b[39;00m\n\u001b[0;32m    105\u001b[0m \u001b[38;5;124;03m        filename: A file in DIMACS format.\u001b[39;00m\n\u001b[1;32m   (...)\u001b[0m\n\u001b[0;32m    111\u001b[0m \u001b[38;5;124;03m        FileNotFoundError: If filename is not found.\u001b[39;00m\n\u001b[0;32m    112\u001b[0m \u001b[38;5;124;03m    \"\"\"\u001b[39;00m\n\u001b[1;32m--> 113\u001b[0m     HAS_TWEEDLEDUM\u001b[38;5;241m.\u001b[39mrequire_now(\u001b[38;5;124m\"\u001b[39m\u001b[38;5;124mBooleanExpression\u001b[39m\u001b[38;5;124m\"\u001b[39m)\n\u001b[0;32m    115\u001b[0m     \u001b[38;5;28;01mfrom\u001b[39;00m \u001b[38;5;21;01mtweedledum\u001b[39;00m \u001b[38;5;28;01mimport\u001b[39;00m BoolFunction  \u001b[38;5;66;03m# pylint: disable=import-error\u001b[39;00m\n\u001b[0;32m    117\u001b[0m     expr_obj \u001b[38;5;241m=\u001b[39m \u001b[38;5;28mcls\u001b[39m\u001b[38;5;241m.\u001b[39m\u001b[38;5;21m__new__\u001b[39m(\u001b[38;5;28mcls\u001b[39m)\n",
      "File \u001b[1;32m~\\anaconda3\\Lib\\site-packages\\qiskit\\utils\\lazy_tester.py:223\u001b[0m, in \u001b[0;36mLazyDependencyManager.require_now\u001b[1;34m(self, feature)\u001b[0m\n\u001b[0;32m    221\u001b[0m \u001b[38;5;28;01mif\u001b[39;00m \u001b[38;5;28mself\u001b[39m:\n\u001b[0;32m    222\u001b[0m     \u001b[38;5;28;01mreturn\u001b[39;00m\n\u001b[1;32m--> 223\u001b[0m \u001b[38;5;28;01mraise\u001b[39;00m MissingOptionalLibraryError(\n\u001b[0;32m    224\u001b[0m     libname\u001b[38;5;241m=\u001b[39m\u001b[38;5;28mself\u001b[39m\u001b[38;5;241m.\u001b[39m_name, name\u001b[38;5;241m=\u001b[39mfeature, pip_install\u001b[38;5;241m=\u001b[39m\u001b[38;5;28mself\u001b[39m\u001b[38;5;241m.\u001b[39m_install, msg\u001b[38;5;241m=\u001b[39m\u001b[38;5;28mself\u001b[39m\u001b[38;5;241m.\u001b[39m_msg\n\u001b[0;32m    225\u001b[0m )\n",
      "\u001b[1;31mMissingOptionalLibraryError\u001b[0m: \"The 'tweedledum' library is required to use 'BooleanExpression'. You can install it with 'pip install tweedledum'.\""
     ]
    }
   ],
   "source": [
    "from qiskit import QuantumCircuit, QuantumRegister, Aer, execute, ClassicalRegister\n",
    "from qiskit.visualization import plot_histogram\n",
    "from qiskit.circuit.library import PhaseOracle\n",
    "from qiskit.circuit.library import QFT\n",
    "from qiskit.circuit.library import MCMT\n",
    "import warnings\n",
    "warnings.filterwarnings(\"ignore\")\n",
    "\n",
    "%run files/aux_func.py\n",
    "\n",
    "#Calculamos los qubits que vamos a necesitar\n",
    "p_qubits = 3\n",
    "n_qubits = 3\n",
    "\n",
    "#Creamos el operador oráculo importandolo del fichero\n",
    "oraculo = PhaseOracle.from_dimacs_file(\"aux_func.py\")\n",
    "oraculo.draw(\"mpl\")\n",
    "\n",
    "#Creación del operador Inversión sobre la media\n",
    "\n",
    "\n",
    "\n",
    "#Creamos el circuito del conteo cuántico\n",
    "\n",
    "\n",
    "\n",
    "\n",
    "#Creamos la superposición inicial\n",
    "\n",
    "\n",
    "\n",
    "#Añadir las puertas controladas\n",
    "\n",
    "\n",
    "#Añnadir la transformada de Fourier cuántica\n",
    "\n",
    "\n",
    "#Medidas\n",
    "\n",
    "\n",
    "#Mostramos y ejecutamos\n"
   ]
  },
  {
   "cell_type": "markdown",
   "metadata": {},
   "source": [
    "<h1><font color=\"#003D7F\" size=2>Ejercicio</font></h1>\n",
    "Obtener el número de soluciones que tiene el problema SAT del fichero '3sat.dimacs'. Para ello se deberá construir un oráculo de fase.\n",
    "El fichero se encuentra en la carpeta 'files'.\n",
    "\n",
    "Un oráculo de fase es un operador que actúa únicamente en los qubits de entrada e invierte la amplitud de probabilidad de los estados solución. De esta forma no utiliza registros de trabajo ni el qubit extra para aplicar el **phase kickback** (XH en el último qubit). Para construir el operador **Oráculo**, se utiliza el método **.from_dimacs_file(path)**  de la clase **PhaseOracle**, pasandole como argumento la ruta con el fichero **.dimacs**. Esto devuelve el operador **Oráculo** de tamaño igual al número de variables de entrada.\n",
    "\n",
    "Un fichero **.dimacs** es un fichero usado para definir problemas **SAT**, es decir, se indica en el fichero el número de variables, número de cláusulas y cada una de las cláusulas.\n",
    "\n",
    "Para la creación de la **Transformada de Fourier cuántica** usaremos el constructor **QFT(num_qubits=n, inverse=True, name='qft_inverse')**, donde **n** es el tamaño de la transformada, **inverte** es si queremos que sea la inversa y **name** es el nombre dek circuito."
   ]
  },
  {
   "cell_type": "code",
   "execution_count": 2,
   "metadata": {},
   "outputs": [],
   "source": [
    "#Calculamos el número de soluciones\n"
   ]
  },
  {
   "cell_type": "markdown",
   "metadata": {},
   "source": [
    "#### El número de soluciones del problema es 1. ¿Corresponde con el número de soluciones obtenido?\n",
    "\n",
    "No corresponde porque la Inversión sobre la media usada es en realidad -1*ISM. Esta fase global viene en la forma que se construye el operador, y en el algoritmo de Grover no afecta, sin embargo, en este algoritmo si afecta (ya que el operador está controlado), de esta forma es como si estuviesemos calculando el número de no soluciones. Para obtener el número de soluciones debemos restar el valor obtenido a el número total de estados."
   ]
  },
  {
   "cell_type": "code",
   "execution_count": 3,
   "metadata": {},
   "outputs": [],
   "source": [
    "#Recalculamos el número de soluciones\n"
   ]
  },
  {
   "cell_type": "markdown",
   "metadata": {},
   "source": [
    "### Ahora vamos a construir la ISM con Numpy"
   ]
  },
  {
   "cell_type": "markdown",
   "metadata": {},
   "source": [
    "La ISM se define como: $2\\cdot\\ket{\\psi}\\bra{\\psi}-I$\n",
    "\n",
    "Donde $\\ket{\\psi}=H^{\\otimes n}\\ket{0^{\\otimes n}}$ e $I$ es la matriz identidad."
   ]
  },
  {
   "cell_type": "code",
   "execution_count": 4,
   "metadata": {},
   "outputs": [],
   "source": [
    "from qiskit import QuantumCircuit, QuantumRegister, Aer, execute, ClassicalRegister\n",
    "from qiskit.visualization import plot_histogram\n",
    "from qiskit.extensions import UnitaryGate\n",
    "from qiskit.circuit.library import PhaseOracle\n",
    "\n",
    "n_qubits = 3\n",
    "\n",
    "#Creamos las matrices necesarios para la puerta y creamos la puerta\n",
    "\n",
    "\n",
    "#Calculamos los qubits que vamos a necesitar\n",
    "p_qubits = 3\n",
    "n_qubits = 3\n",
    "\n",
    "#Creamos el oráculo\n",
    "\n",
    "#Creamos el circuito del conteo cuántico\n",
    "\n",
    "\n",
    "#Creamos la superposición inicial\n",
    "\n",
    "\n",
    "#Añadimos las puertas controladas\n",
    "\n",
    "#Añadimos la transformada de Fourier\n",
    "\n",
    "#Añadimos mediciones\n",
    "\n",
    "\n",
    "#Ejecutamos y mostramos\n",
    "\n"
   ]
  },
  {
   "cell_type": "code",
   "execution_count": 5,
   "metadata": {},
   "outputs": [],
   "source": [
    "#Calculamos el número de soluciones\n"
   ]
  },
  {
   "cell_type": "code",
   "execution_count": null,
   "metadata": {},
   "outputs": [],
   "source": []
  }
 ],
 "metadata": {
  "kernelspec": {
   "display_name": "Python 3 (ipykernel)",
   "language": "python",
   "name": "python3"
  },
  "language_info": {
   "codemirror_mode": {
    "name": "ipython",
    "version": 3
   },
   "file_extension": ".py",
   "mimetype": "text/x-python",
   "name": "python",
   "nbconvert_exporter": "python",
   "pygments_lexer": "ipython3",
   "version": "3.11.5"
  }
 },
 "nbformat": 4,
 "nbformat_minor": 4
}
