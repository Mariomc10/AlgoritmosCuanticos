{
 "cells": [
  {
   "cell_type": "markdown",
   "metadata": {},
   "source": [
    "<img src=\"./files/universidad-nebrija.jpg\" alt=\"Logo Nebrija\" align=\"right\" width=200>\n",
    "\n",
    "\n",
    "<h2><font color=\"#004D7F\" size=4>Lenguajes de Programación</font></h2>\n",
    "\n",
    "<h1><font color=\"#004D7F\" size=5>Numpy y Matplotlib</font></h1>\n",
    "\n",
    "<br><br>\n",
    "<div style=\"text-align: right\">\n",
    "<font color=\"#004D7F\" size=3>José Javier Paulet González</font><br>\n",
    "<font color=\"#004D7F\" size=3>14/02/2024</font><br>\n",
    "<font color=\"#004D7F\" size=3>Universidad Antonio de Nebrija</font>\n",
    "\n",
    "</div>\n",
    "\n",
    "\n",
    "$ \\newcommand{\\ket}[1]{|#1\\rangle} $\n",
    "$ \\newcommand{\\bra}[1]{\\langle #1|} $\n",
    "$ \\newcommand{\\braket}[2]{\\langle #1|#2\\rangle} $\n",
    "\n",
    "---"
   ]
  },
  {
   "cell_type": "markdown",
   "metadata": {},
   "source": [
    "<h1><font color=\"#004D7F\" size=15>¿Qué es Numpy?</font></h1>"
   ]
  },
  {
   "cell_type": "markdown",
   "metadata": {},
   "source": [
    " - Numpy (Numerical Python) es una librería **Open source** altamente optimizada para conseguir el mejor rendimiento posible, de ahí que sean tan usadas en la actualidad.\n",
    " - Numpy proporciona **arrays multidimensionales** llamados **ndarray**, así como métodos eficientes para operar con ellos. Estos arrays son homogéneos de **n** dimensiones.\n",
    " - Es usado en numerosas librerías de Python como:\n",
    "     - **Pandas**\n",
    "     - **SciPy**\n",
    "     - **OpenCV**\n"
   ]
  },
  {
   "cell_type": "markdown",
   "metadata": {},
   "source": [
    "<h1><font color=\"#003D7F\" size=5>Arrays</font></h1>"
   ]
  },
  {
   "cell_type": "markdown",
   "metadata": {},
   "source": [
    " - Un array en Numpy es una tabla de elementos que:\n",
    "     - Todos sus elementos tienen el **mismo tipo**.\n",
    "     - Se indexan por una tupla de números **enteros positivos**.\n",
    "     - La dimensión del array se le llama **rango (rank)**.\n",
    "     - Su clase se llama **ndarray**.\n",
    "     - El **shape** de un array es una tupla de enteros que indica cuántos elementos hay en cada dimensión.\n",
    "     - Se pueden crear a partir de listas de Python."
   ]
  },
  {
   "cell_type": "code",
   "execution_count": 1,
   "metadata": {},
   "outputs": [
    {
     "data": {
      "text/plain": [
       "7"
      ]
     },
     "execution_count": 1,
     "metadata": {},
     "output_type": "execute_result"
    }
   ],
   "source": [
    "import numpy as np\n",
    "\n",
    "lista_1 = [1, 2, 3, 4]\n",
    "lista_2 = [5, 6, 7, 8]\n",
    "\n",
    "array = np.array([\n",
    "    lista_1,\n",
    "    lista_2\n",
    "])\n",
    "array[(1,2)]"
   ]
  },
  {
   "cell_type": "markdown",
   "metadata": {},
   "source": [
    "Con **array.ndim**, **array.shape** y **array.size** podemos ver el rango, el número de elementos de cada dimensión y el número total de elementos, respectivamente."
   ]
  },
  {
   "cell_type": "code",
   "execution_count": 2,
   "metadata": {},
   "outputs": [
    {
     "name": "stdout",
     "output_type": "stream",
     "text": [
      "El rango es:  2\n",
      "El shape es:  (2, 4)\n",
      "El número de elementos es:  8\n"
     ]
    }
   ],
   "source": [
    "print(\"El rango es: \", array.ndim)\n",
    "print(\"El shape es: \", array.shape)\n",
    "print(\"El número de elementos es: \", array.size)"
   ]
  },
  {
   "cell_type": "markdown",
   "metadata": {},
   "source": [
    "Numpy ofrecce funciones para crear arrays:\n",
    "- np.zeros((x, y)): Crea un array de shape (x, y) con todos los elementos 0.\n",
    "- np.ones((x, y)): Crea un array de shape (x, y) con todos los elementos 1.\n",
    "- np.eye(x): Crea una matriz identidad de shape (x, x)."
   ]
  },
  {
   "cell_type": "code",
   "execution_count": 3,
   "metadata": {},
   "outputs": [
    {
     "name": "stdout",
     "output_type": "stream",
     "text": [
      "[[1. 0. 0. 0.]\n",
      " [0. 1. 0. 0.]\n",
      " [0. 0. 1. 0.]\n",
      " [0. 0. 0. 1.]]\n"
     ]
    }
   ],
   "source": [
    "print(np.eye(4))"
   ]
  },
  {
   "cell_type": "markdown",
   "metadata": {},
   "source": [
    "<h1><font color=\"#003D7F\" size=5>Operaciones</font></h1>"
   ]
  },
  {
   "cell_type": "markdown",
   "metadata": {},
   "source": [
    "### Operaciones matemáticas\n",
    "- Las operaciones matemáticas básicas para operar con los elementos del array son:\n",
    "     - **np.add(array1, array2)**: Suma cada elemento del array1 con el elemento correspondiente a la misma posición del array2.\n",
    "     - **np.subtract(array1, array2)**: Resta cada elemento del array1 con el elemento correspondiente a la misma posición del array2.\n",
    "     - **np.multiply(array1, array2)**: Multiplica cada elemento del array1 con el elemento correspondiente a la misma posición del array2.\n",
    "     - **np.divide(array1, array2)**: Divide cada elemento del array1 con el elemento correspondiente a la misma posición del array2.\n",
    "     - **np.sqrt(array)**: Calcula la raíz cuadrada de cada elemento del array.\n",
    "     \n",
    "Para más información sobre **operaciones matemáticas** con arrays <a href=\"https://numpy.org/doc/stable/reference/routines.math.html\" >Aquí</a>"
   ]
  },
  {
   "cell_type": "code",
   "execution_count": 4,
   "metadata": {},
   "outputs": [
    {
     "data": {
      "text/plain": [
       "array([[ 1,  4,  9, 16],\n",
       "       [25, 36, 49, 64]])"
      ]
     },
     "execution_count": 4,
     "metadata": {},
     "output_type": "execute_result"
    }
   ],
   "source": [
    "array1 = np.array([\n",
    "    [1, 2, 3, 4],\n",
    "    [5, 6, 7, 8]\n",
    "])\n",
    "array2 = np.array([\n",
    "    [1, 2, 3, 4],\n",
    "    [5, 6, 7, 8]\n",
    "])\n",
    "\n",
    "np.multiply(array1, array2)"
   ]
  },
  {
   "cell_type": "markdown",
   "metadata": {},
   "source": [
    "Como hemos podido observar, **np.multiply** no es el producto de matrices, es el producto de cada elemento por el correspondiente de la misma posición. Para hacer el producto de matrices se utiliza la función **np.dot()**. Para poder hacer el producto de matrices, se debe cumplir con las restricciones de dimensiones. Con el ejemplo anterior no podemos hacer el producto, salvo si calculamos la transpuesta de la segunda. Esto se consigue con la propiedad de la matriz **.T**."
   ]
  },
  {
   "cell_type": "code",
   "execution_count": 5,
   "metadata": {},
   "outputs": [
    {
     "data": {
      "text/plain": [
       "array([[ 30,  70],\n",
       "       [ 70, 174]])"
      ]
     },
     "execution_count": 5,
     "metadata": {},
     "output_type": "execute_result"
    }
   ],
   "source": [
    "array1 = np.array([\n",
    "    [1, 2, 3, 4],\n",
    "    [5, 6, 7, 8]\n",
    "])\n",
    "array2 = np.array([\n",
    "    [1, 2, 3, 4],\n",
    "    [5, 6, 7, 8]\n",
    "])\n",
    "\n",
    "np.dot(array1, array2.T)"
   ]
  },
  {
   "cell_type": "markdown",
   "metadata": {},
   "source": [
    "<h1><font color=\"#003D7F\" size=2>Ejercicio</font></h1>\n",
    "Dadas 2 matrices m1 y m2, calcular para cada elemento $m1_{i}^{2}+m2_{i}^{2}$."
   ]
  },
  {
   "cell_type": "code",
   "execution_count": 6,
   "metadata": {},
   "outputs": [
    {
     "name": "stdout",
     "output_type": "stream",
     "text": [
      "[[257 229 205 185]\n",
      " [169 157 149 145]\n",
      " [145 149 157 169]\n",
      " [185 205 229 257]]\n"
     ]
    }
   ],
   "source": [
    "m1 = np.array([\n",
    "    [1, 2, 3, 4],\n",
    "    [5, 6, 7, 8],\n",
    "    [9, 10, 11, 12],\n",
    "    [13, 14, 15, 16]\n",
    "])\n",
    "m2 = np.array([\n",
    "    [16, 15, 14, 13],\n",
    "    [12, 11, 10, 9],\n",
    "    [8, 7, 6, 5],\n",
    "    [4, 3, 2, 1]\n",
    "])\n",
    "\n",
    "#Realizar las operaciones con las matrices\n",
    "m = np.add(np.square(m1),np.square(m2))\n",
    "\n",
    "#Mostrar la matriz resultante\n",
    "print(m)"
   ]
  },
  {
   "cell_type": "markdown",
   "metadata": {},
   "source": [
    "### Operaciones lógicas\n",
    "Otra función útil es la de comparar 2 arrays. Numpy ofrece varias funciones para hacer una comparación de 2 arrays:\n",
    "   - **np.array_equal(array1, array2)**: Devuelve True si los dos arrays tienen el mismo **shape** y los elementos son iguales, False en otro caso.\n",
    "   - **np.allclose(array1, array2, atol=tol)**: Devuelve True si los dos arrays tienen el mismo **shape** y los elementos son similares con una tolerancia absoluta de **tol**, False en otro caso.\n",
    "   \n",
    "Para más información sobre **operaciones lógicas** con arrays <a href=\"https://numpy.org/doc/stable/reference/routines.logic.html\" >Aquí</a>"
   ]
  },
  {
   "cell_type": "code",
   "execution_count": 7,
   "metadata": {},
   "outputs": [
    {
     "name": "stdout",
     "output_type": "stream",
     "text": [
      "False\n",
      "True\n"
     ]
    }
   ],
   "source": [
    "array1 = np.array([\n",
    "    [1, 2, 3, 4],\n",
    "    [5, 6, 7, 8]\n",
    "])\n",
    "array2 = np.array([\n",
    "    [1, 2, 3, 4],\n",
    "    [5, 6.00001, 7, 8]\n",
    "])\n",
    "\n",
    "print(np.array_equal(array1, array2))\n",
    "print(np.allclose(array1, array2, atol=1e-04))"
   ]
  },
  {
   "cell_type": "markdown",
   "metadata": {},
   "source": [
    "<h1><font color=\"#003D7F\" size=2>Ejercicio</font></h1>\n",
    "\n",
    "Comprobar que la matriz resultante del ejercicio anterior es igual a la matriz **result**."
   ]
  },
  {
   "cell_type": "code",
   "execution_count": 8,
   "metadata": {},
   "outputs": [
    {
     "name": "stdout",
     "output_type": "stream",
     "text": [
      "True\n"
     ]
    }
   ],
   "source": [
    "result = np.array([[257, 229, 205, 185],\n",
    "       [169, 157, 149, 145],\n",
    "       [145, 149, 157, 169],\n",
    "       [185, 205, 229, 257]])\n",
    "\n",
    "#Mostrar el resultado de la comparación\n",
    "print(np.array_equal(result, m))\n"
   ]
  },
  {
   "cell_type": "markdown",
   "metadata": {},
   "source": [
    "### Operaciones de Algebra lineal\n",
    "\n",
    "- Las operaciones de álgebra lineal más importantes en computación cuántica son:\n",
    "     - **np.inner(x, y)**: Calcula el **producto interno** de **x** e **y** ($\\braket{x}{y}$).\n",
    "     - **np.outer(x, y)**: Calcula el **producto externo** de **x** e **y** ($\\ket{x}\\bra{y}$).\n",
    "     - **np.kron(x, y)**: Calcula el **producto de Kronecker** de **x** e **y** ($\\ket{x}\\otimes\\ket{y}$).\n",
    "     - **np.dot(m1, m2)**: Calcula el producto de la matriz **m1** por la matriz **m2**.\n",
    "     - **np.linalg.norm(x)**: Calcula la norma de **x**.\n",
    "     - **np.trace(m)**: Calcula la traza de **m** (suma de los elementos de la diagonal).\n",
    "     - **np.linalg.inv(m)**: Calcula la inversa de **m**.\n",
    "     \n",
    "     \n",
    "Para más información sobre **operaciones de álgebra lineal** con arrays <a href=\"https://numpy.org/doc/stable/reference/routines.linalg.html\" >Aquí</a>"
   ]
  },
  {
   "cell_type": "code",
   "execution_count": 9,
   "metadata": {},
   "outputs": [
    {
     "name": "stdout",
     "output_type": "stream",
     "text": [
      "La longitud del vector es:  1.4142135623730951\n"
     ]
    }
   ],
   "source": [
    "v = np.array([1, 1])\n",
    "print(\"La longitud del vector es: \", np.linalg.norm(v))"
   ]
  },
  {
   "cell_type": "markdown",
   "metadata": {},
   "source": [
    "<h1><font color=\"#003D7F\" size=2>Ejercicio</font></h1>\n",
    "\n",
    "Crear el ket **$\\ket{0}$** y la matriz **Hadamard** en numpy.\n",
    "\\begin{equation}\n",
    "\\ket{0}=\n",
    "\\begin{pmatrix}\n",
    "1 \\\\\n",
    "0\n",
    "\\end{pmatrix}\n",
    "\\end{equation}\n",
    "\\begin{equation}\n",
    "H=\\frac{1}{\\sqrt{2}}\n",
    "\\begin{pmatrix}\n",
    "1 & 1\\\\\n",
    "1 & -1\n",
    "\\end{pmatrix}\n",
    "\\end{equation}"
   ]
  },
  {
   "cell_type": "code",
   "execution_count": 10,
   "metadata": {},
   "outputs": [
    {
     "name": "stdout",
     "output_type": "stream",
     "text": [
      "El ket 0 es:\n",
      " [[1]\n",
      " [0]]\n",
      "La matriz Hadamard es:\n",
      " [[ 0.70710678  0.70710678]\n",
      " [ 0.70710678 -0.70710678]]\n"
     ]
    }
   ],
   "source": [
    "#Creación del ket 0\n",
    "ket0 = np.array([[1],[0]])\n",
    "\n",
    "#Creación de la matriz H\n",
    "H = 1/np.sqrt(2)*np.array([[1,1],[1,-1]])\n",
    "\n",
    "#Mostarlo por pantalla\n",
    "print(\"El ket 0 es:\\n\",ket0)\n",
    "print(\"La matriz Hadamard es:\\n\",H)"
   ]
  },
  {
   "cell_type": "markdown",
   "metadata": {},
   "source": [
    "<h1><font color=\"#003D7F\" size=2>Ejercicio</font></h1>\n",
    "\n",
    "Calcular **$H\\ket{0}$** y comprobar que el resultado es el estado $\\ket{+}$.\n",
    "\\begin{equation}\n",
    "\\ket{+}=\n",
    "\\begin{pmatrix}\n",
    "\\frac{1}{\\sqrt{2}} \\\\\n",
    "\\frac{1}{\\sqrt{2}}\n",
    "\\end{pmatrix}\n",
    "\\end{equation}"
   ]
  },
  {
   "cell_type": "code",
   "execution_count": 11,
   "metadata": {},
   "outputs": [
    {
     "name": "stdout",
     "output_type": "stream",
     "text": [
      "El estado resultante es:\n",
      " [[0.70710678]\n",
      " [0.70710678]]\n",
      "Es el estado |+>\n"
     ]
    }
   ],
   "source": [
    "#Calcular la operación\n",
    "res = np.dot(H,ket0)\n",
    "\n",
    "#Mostrar el resultado\n",
    "print(\"El estado resultante es:\\n\",res)\n",
    "if np.allclose(res,np.array([[1/np.sqrt(2)],[1/np.sqrt(2)]])):\n",
    "    print(\"Es el estado |+>\")\n",
    "else:\n",
    "    print(\"No es el estado |+>\")"
   ]
  },
  {
   "cell_type": "markdown",
   "metadata": {},
   "source": [
    "<h1><font color=\"#003D7F\" size=2>Ejercicio</font></h1>\n",
    "\n",
    "Crear las puertas de Pauli:\n",
    "\n",
    "\\begin{equation}\n",
    "X=\n",
    "\\begin{pmatrix}\n",
    "0 & 1\\\\\n",
    "1 & 0\n",
    "\\end{pmatrix}\n",
    "\\end{equation}\n",
    "\n",
    "\\begin{equation}\n",
    "Y=\n",
    "\\begin{pmatrix}\n",
    "0 & -i\\\\\n",
    "i & 0\n",
    "\\end{pmatrix}\n",
    "\\end{equation}\n",
    "\n",
    "\\begin{equation}\n",
    "Z=\n",
    "\\begin{pmatrix}\n",
    "1 & 0\\\\\n",
    "0 & -1\n",
    "\\end{pmatrix}\n",
    "\\end{equation}"
   ]
  },
  {
   "cell_type": "code",
   "execution_count": 12,
   "metadata": {
    "scrolled": true
   },
   "outputs": [
    {
     "name": "stdout",
     "output_type": "stream",
     "text": [
      "Matriz X:\n",
      " [[0 1]\n",
      " [1 0]]\n",
      "Matriz Y:\n",
      " [[ 0.+0.j -0.-1.j]\n",
      " [ 0.+1.j  0.+0.j]]\n",
      "Matriz Z:\n",
      " [[ 1  0]\n",
      " [ 0 -1]]\n"
     ]
    }
   ],
   "source": [
    "#Creación de la matriz X\n",
    "X = np.array([[0,1],[1,0]])\n",
    "\n",
    "#Creación de la matriz Y\n",
    "Y = np.array([[0,-1j],[1j,0]])\n",
    "\n",
    "#Creación de la matriz Z\n",
    "Z = np.array([[1,0],[0,-1]])\n",
    "\n",
    "#Mostrar por pantalla\n",
    "print(\"Matriz X:\\n\",X)\n",
    "print(\"Matriz Y:\\n\",Y)\n",
    "print(\"Matriz Z:\\n\",Z)\n"
   ]
  },
  {
   "cell_type": "markdown",
   "metadata": {},
   "source": [
    "<h1><font color=\"#003D7F\" size=2>Ejercicio</font></h1>\n",
    "\n",
    "Crear una función que pasado como argumento un número de qubits **n** devuelva el ket $\\ket{0^{\\otimes n}}$."
   ]
  },
  {
   "cell_type": "code",
   "execution_count": 13,
   "metadata": {
    "scrolled": true
   },
   "outputs": [
    {
     "name": "stdout",
     "output_type": "stream",
     "text": [
      "Estado |0000>: [[1.]\n",
      " [0.]\n",
      " [0.]\n",
      " [0.]\n",
      " [0.]\n",
      " [0.]\n",
      " [0.]\n",
      " [0.]\n",
      " [0.]\n",
      " [0.]\n",
      " [0.]\n",
      " [0.]\n",
      " [0.]\n",
      " [0.]\n",
      " [0.]\n",
      " [0.]]\n"
     ]
    }
   ],
   "source": [
    "#Creación de la función\n",
    "def ket0n(n):\n",
    "    a = np.zeros((2**n,1))\n",
    "    a[0] = 1\n",
    "    return a\n",
    "\n",
    "#comprobar el funcionamiento\n",
    "print(\"Estado |0000>:\",ket0n(4))"
   ]
  },
  {
   "cell_type": "markdown",
   "metadata": {},
   "source": [
    "<h1><font color=\"#003D7F\" size=2>Ejercicio</font></h1>\n",
    "\n",
    "Crear una función que pasado como argumento un número de qubits **n** y una puerta de 1 qubit **m** y una posición **i < n** devuelva la matriz resultante tal que $I_{n-1}\\otimes\\ldots\\otimes I_{i+1}\\otimes m\\otimes I_{i-1}\\otimes\\ldots\\otimes I_{0} \\$."
   ]
  },
  {
   "cell_type": "code",
   "execution_count": 14,
   "metadata": {
    "scrolled": true
   },
   "outputs": [
    {
     "name": "stdout",
     "output_type": "stream",
     "text": [
      "[[0.70710678]\n",
      " [0.70710678]\n",
      " [0.        ]\n",
      " [0.        ]\n",
      " [0.        ]\n",
      " [0.        ]\n",
      " [0.        ]\n",
      " [0.        ]]\n"
     ]
    }
   ],
   "source": [
    "#Crear función\n",
    "def OneGateMultiQubit(n,m,i):\n",
    "    Maux = np.eye(2**(n-i-1))\n",
    "    Maux = np.kron(Maux,m)\n",
    "    return np.kron(Maux,np.eye(2**i))\n",
    "            \n",
    "#Comprobar el correcto funcionamiento\n",
    "print(np.dot(OneGateMultiQubit(3,H,0),ket0n(3)))"
   ]
  },
  {
   "cell_type": "markdown",
   "metadata": {},
   "source": [
    "<h1><font color=\"#003D7F\" size=2>Ejercicio</font></h1>\n",
    "\n",
    "Calcular la matriz de densidad ($\\ket{\\psi}\\bra{\\psi}$) del estado $\\ket{\\psi}$, calcular la traza y comprobar que es 1.\n"
   ]
  },
  {
   "cell_type": "code",
   "execution_count": 15,
   "metadata": {},
   "outputs": [
    {
     "name": "stdout",
     "output_type": "stream",
     "text": [
      "La matriz de densidad es:\n",
      " [[ 0.125  0.125 -0.125  0.125  0.125  0.125  0.125 -0.125]\n",
      " [ 0.125  0.125 -0.125  0.125  0.125  0.125  0.125 -0.125]\n",
      " [-0.125 -0.125  0.125 -0.125 -0.125 -0.125 -0.125  0.125]\n",
      " [ 0.125  0.125 -0.125  0.125  0.125  0.125  0.125 -0.125]\n",
      " [ 0.125  0.125 -0.125  0.125  0.125  0.125  0.125 -0.125]\n",
      " [ 0.125  0.125 -0.125  0.125  0.125  0.125  0.125 -0.125]\n",
      " [ 0.125  0.125 -0.125  0.125  0.125  0.125  0.125 -0.125]\n",
      " [-0.125 -0.125  0.125 -0.125 -0.125 -0.125 -0.125  0.125]]\n",
      "La traza de P es: 0.9999999966439369\n"
     ]
    }
   ],
   "source": [
    "psi = np.array([[0.35355339], [0.35355339], [-0.35355339], [0.35355339], [0.35355339], [0.35355339], [0.35355339], [-0.35355339]])\n",
    "\n",
    "#Calcular y mostrar la matriz de densidad\n",
    "P = np.outer(psi,psi)\n",
    "print(\"La matriz de densidad es:\\n\",P)\n",
    "\n",
    "#Calcular y mostrar la traza\n",
    "trace = np.trace(P)\n",
    "print(\"La traza de P es:\",trace)"
   ]
  },
  {
   "cell_type": "markdown",
   "metadata": {},
   "source": [
    "### Operadores controlados\n",
    "\n",
    "Una de los tipos de puertas más importantes en computación cuántica son las puertas controladas. Estas puertas se pueden construir de manera recursiva calculando:\n",
    "\\begin{equation}\n",
    "CU=\\ket{0}\\bra{0}\\otimes I + \\ket{1}\\bra{1}\\otimes U\n",
    "\\end{equation}"
   ]
  },
  {
   "cell_type": "markdown",
   "metadata": {},
   "source": [
    "<h1><font color=\"#003D7F\" size=2>Ejercicio</font></h1>\n",
    "\n",
    "Crear una función que data una puerta cuántica **U** te devuelva la versión controlada de esta **CU**. Probar el correcto funcionamiento calculando la puerta **CNOT** y la puerta **CCNOT**.\n"
   ]
  },
  {
   "cell_type": "code",
   "execution_count": 16,
   "metadata": {
    "scrolled": true
   },
   "outputs": [
    {
     "name": "stdout",
     "output_type": "stream",
     "text": [
      "[[1 0 0 0]\n",
      " [0 1 0 0]\n",
      " [0 0 0 1]\n",
      " [0 0 1 0]]\n",
      "[[1 0 0 0 0 0 0 0]\n",
      " [0 1 0 0 0 0 0 0]\n",
      " [0 0 1 0 0 0 0 0]\n",
      " [0 0 0 1 0 0 0 0]\n",
      " [0 0 0 0 1 0 0 0]\n",
      " [0 0 0 0 0 1 0 0]\n",
      " [0 0 0 0 0 0 0 1]\n",
      " [0 0 0 0 0 0 1 0]]\n"
     ]
    }
   ],
   "source": [
    "#Crear la función\n",
    "def control_U(U):\n",
    "    ket0 = np.array([[1],[0]])\n",
    "    ket1 = np.array([[0],[1]])\n",
    "    P0 = np.outer(ket0,ket0)\n",
    "    P1 = np.outer(ket1,ket1)\n",
    "    I = np.dot(U,np.conj(U).T)\n",
    "    return np.add(np.kron(P0,I),np.kron(P1,U))\n",
    "\n",
    "#Calcular la puerta CNOT y mostarla\n",
    "print(control_U(X))\n",
    "\n",
    "#Calcular la puerta CCNOT y mostrarla\n",
    "print(control_U(control_U(X)))\n",
    "\n"
   ]
  },
  {
   "cell_type": "markdown",
   "metadata": {},
   "source": [
    "Para las puertas anticontroladas, es decir, controladas cuando el qubit de control está en el estado 0, se contruyen de manera similar:\n",
    "\\begin{equation}\n",
    "C_{0}U=\\ket{0}\\bra{0}\\otimes U + \\ket{1}\\bra{1}\\otimes I\n",
    "\\end{equation}"
   ]
  },
  {
   "cell_type": "markdown",
   "metadata": {},
   "source": [
    "<h1><font color=\"#003D7F\" size=2>Ejercicio</font></h1>\n",
    "\n",
    "Crear una función que dada una puerta cuántica **U** y un estado de control **e** (0 o 1), te devuelva la versión controlada (o anticontrolada) de esta $C_{e}U$. Probar el correcto funcionamiento calculando la puerta $C_{0}NOT$ y comprobando que la matriz es igual que la matriz resultante del cálculo $\\left(X\\otimes I\\right) \\cdot CNOT \\cdot \\left(X\\otimes I\\right)$.\n"
   ]
  },
  {
   "cell_type": "code",
   "execution_count": 17,
   "metadata": {
    "scrolled": true
   },
   "outputs": [
    {
     "name": "stdout",
     "output_type": "stream",
     "text": [
      "[[0 1 0 0]\n",
      " [1 0 0 0]\n",
      " [0 0 1 0]\n",
      " [0 0 0 1]]\n",
      "[[0. 1. 0. 0.]\n",
      " [1. 0. 0. 0.]\n",
      " [0. 0. 1. 0.]\n",
      " [0. 0. 0. 1.]]\n",
      "True\n"
     ]
    }
   ],
   "source": [
    "#Crear la función\n",
    "def controlled_U(U,e):\n",
    "    ket0 = np.array([[1],[0]])\n",
    "    ket1 = np.array([[0],[1]])\n",
    "    P0 = np.outer(ket0,ket0)\n",
    "    P1 = np.outer(ket1,ket1)\n",
    "    I = np.dot(U,np.conj(U).T)\n",
    "    if e==1:\n",
    "        CU = np.add(np.kron(P0,I),np.kron(P1,U))\n",
    "    else:\n",
    "        CU = np.add(np.kron(P0,U),np.kron(P1,I))\n",
    "    return CU\n",
    "\n",
    "#Crear la puerta C_0-NOT con la función\n",
    "C_0NOT = controlled_U(X,0)\n",
    "\n",
    "#Crear la puerta C_0-NOT con el cáculo de matrices\n",
    "C_0NOTm = np.dot(np.kron(np.eye(2),X),control_U(X),np.kron(np.eye(2),X))\n",
    "\n",
    "#Comparar las matrices resultantes\n",
    "print(C_0NOT)\n",
    "print(C_0NOTm)\n",
    "print(np.array_equal(C_0NOT,C_0NOTm))"
   ]
  },
  {
   "cell_type": "markdown",
   "metadata": {},
   "source": [
    "### Matriz Hermítica\n",
    "\n",
    "Como ya sabemos, la matriz hermítica $M^{\\dagger}$ de una matriz $M$ es la transpuesta conjugada $\\left(M^{T}\\right)^{*}$. Las matrices de **Numpy** tienen una propiedad **.H** que es dicha matriz hermítica. Hasta ahora hemos crearo arrays, pero podemos convertirlos rápidamente a matrices para que tengan esta propiedad. Para ello se utiliza **np.matrix()** para convertir el array en matriz."
   ]
  },
  {
   "cell_type": "code",
   "execution_count": 18,
   "metadata": {},
   "outputs": [
    {
     "name": "stdout",
     "output_type": "stream",
     "text": [
      "La matriz es:\n",
      "[[1. +3.j  2. -0.5j]\n",
      " [5.+22.j  6. -2.j ]]\n",
      "La matriz hermítica es:\n",
      "[[1. -3.j  5.-22.j ]\n",
      " [2. +0.5j 6. +2.j ]]\n"
     ]
    }
   ],
   "source": [
    "array1 = np.array([\n",
    "    [1+3j, 2-0.5j],\n",
    "    [5+22j, 6-2j]\n",
    "])\n",
    "print(\"La matriz es:\")\n",
    "print(array1)\n",
    "print(\"La matriz hermítica es:\")\n",
    "print(np.matrix(array1).H)"
   ]
  },
  {
   "cell_type": "markdown",
   "metadata": {},
   "source": [
    "<h1><font color=\"#004D7F\" size=15>¿Qué es Matplotlib?</font></h1>"
   ]
  },
  {
   "cell_type": "markdown",
   "metadata": {},
   "source": [
    " - Matplotlib es una librería de Python para la creación y personalización de gráficos en 2D. Está construida sobre Numpy por lo que trabaja con los arrays de forma natural.\n",
    "\n",
    " - Matplotlib se utiliza mucho para la visualización y exploración de datos en **Machine Learning**.\n",
    " - Los gráficos más comunes y utilizados de **Matplotlib** son:\n",
    "    - Diagramas de barras\n",
    "    - Histograma\n",
    "    - Diagramas de sectores\n",
    "    - Diagramas de dispersión o puntos\n",
    "    - Diagramas de lineas\n",
    "    - Mapas de color\n",
    "\n",
    "Para más información sobre la librería Matplotlib <a href=\"https://matplotlib.org/stable/index.html\" >Aquí</a>"
   ]
  },
  {
   "cell_type": "markdown",
   "metadata": {},
   "source": [
    "<h1><font color=\"#003D7F\" size=5>Creación de Gráficos</font></h1>"
   ]
  },
  {
   "cell_type": "markdown",
   "metadata": {},
   "source": [
    "### Figure class"
   ]
  },
  {
   "cell_type": "markdown",
   "metadata": {},
   "source": [
    "Esta clase es el contenedor de todos los elementos de los gráficos. Dentro de él podemos crear subfiguras, varios gráficos, etc. A la hora de crear una figura podemos indicarle algunas características que queremos que tenga mediante los parámetros:\n",
    " - **figsize**: Es una tupla de dos números en punto flotante que indican el tamaño **(Anchura, Altura)** de la figura. Ej: (10, 7.7).\n",
    " - **dpi**: Es la densidad de **puntos por pulgada** que queramos que tenga nuestra figura. Cuanta más **dpi** más calidad va a tener nuesta figura y, por lo tanto, más va a ocupar. Ej: 90.5\n",
    " - **facecolor**: Es el color que va a tener el fondo del contenedor. Ej: 'blue' o '#0000FF'."
   ]
  },
  {
   "cell_type": "markdown",
   "metadata": {},
   "source": [
    "### Axes class"
   ]
  },
  {
   "cell_type": "markdown",
   "metadata": {},
   "source": [
    "Esta clase representa el espacio donde se van a pintar los datos. Contiene los métodos para crear los gráficos que hemos mencionado anteriormente:\n",
    "   - Diagramas de barras: **.bar()** o **.barh()**\n",
    "   - Histograma: **.hist()**\n",
    "   - Diagramas de sectores: **.pie()**\n",
    "   - Diagramas de dispersión o puntos: **.scatter()**\n",
    "   - Diagramas de lineas: **.plot()**\n",
    "   - Mapas de color: **.hist2d()**\n",
    "\n",
    "Podemos modificar algunas de las características de los gráficos con las siguientes funciones:\n",
    " - **.set_xlim(l_min, l_max)**: Establece los límites visuales del eje X. El mínimo es l_min y el máximo l_max. \n",
    " - **.set_ylim(l_min, l_max)**: Establece los límites visuales del eje Y. El mínimo es l_min y el máximo l_max.\n",
    " - **.set_xlabel(label)**: Establece el nombre del eje X a _label_.\n",
    " - **.set_ylabel(label)**: Establece el nombre del eje Y a _label_.\n",
    " - **.set_title(title)**: Establece el título del gráfico a _title_.\n",
    " - **.set_xticks(ticks)**: Establece los indicadores del eje X que se van a visualizar, **ticks** es una lista de números de punto flotante.\n",
    " - **.set_xticklabels(labels)**: Establece los nombres de los indicadores del eje X, donde **labels** es una lista de cadenas de caracteres.\n",
    " - **.set_yticks(ticks)**: Establece los indicadores del eje Y que se van a visualizar, **ticks** es una lista de números de punto flotante.\n",
    " - **.set_yticklabels(labels)**: Establece los nombres de los indicadores del eje Y, donde **labels** es una lista de cadenas de caracteres.\n"
   ]
  },
  {
   "cell_type": "markdown",
   "metadata": {},
   "source": [
    "### Pasos para la creación de gráficos"
   ]
  },
  {
   "cell_type": "markdown",
   "metadata": {},
   "source": [
    "Para la creación de gráficos podemos seguir los siguientes pasos:\n",
    " 1. Importar el módulo **pyplot** de la librería matplotlib: _import matplotlib.pyplot as plt_\n",
    " 2. Crear la figura y los ejes que vamos a necesitar. Para ello utilizamos la función **plt.subplots()** que nos devuelve un objeto de la clase **Figure** que va a ser nuestro contenedor de todos los gráficos y un objeto o array de objetos de la clase Axes que representan cada uno de los gráficos que queramos incluir en la figura:\n",
    "     - plt.subplots(nrows, ncols, fig_kw)\n",
    "         - nrows: Un número entero indicando la cantidad de gráficos que queremos que haya por fila (por defecto 1). **(Opcional)**\n",
    "         - ncols: Un número entero indicando la cantidad de gráficos que queremos que haya por columna (por defecto 1). **(Opcional)**\n",
    "         - fig_kw: No representa a un parámetro como tal, representa a todos los parámetros de la clase **Figure** que queremos que se le pasen al constructor de **Figure** cuando lo llame internamente. **(Opcionales)**\n",
    " 3. Una vez tenemos los objetos de la clase **Axes** ya podemos usar en cada uno de ellos las funciones que queramos para generar los gráficos."
   ]
  },
  {
   "cell_type": "code",
   "execution_count": 21,
   "metadata": {},
   "outputs": [
    {
     "data": {
      "image/png": "[encoded data removed]",
      "text/plain": [
       "<Figure size 1500x1000 with 4 Axes>"
      ]
     },
     "metadata": {},
     "output_type": "display_data"
    }
   ],
   "source": [
    "import matplotlib.pyplot as plt\n",
    "\n",
    "# Crear la figura y los ejes\n",
    "fig, axs = plt.subplots(2, 2, figsize=(15, 10), facecolor='white')\n",
    "\n",
    "# Dibujar puntos\n",
    "axs[0, 0].set_xlim(0, 30)\n",
    "\n",
    "axs[0, 0].set_xlim(0, 30)\n",
    "axs[0, 0].set_ylim(0, 2)\n",
    "axs[0, 0].set_xlabel(\"Eje X\")\n",
    "axs[0, 0].set_ylabel(\"Eje Y\")\n",
    "axs[0, 0].set_title(\"Gráfica 1\")\n",
    "axs[0, 0].set_xticks([i*3 for i in range(11)])\n",
    "axs[0, 0].set_xticklabels([\"Tick \"+str(i*3) for i in range(11)])\n",
    "axs[0, 0].set_yticks([i/3 for i in range(11)])\n",
    "axs[0, 0].set_yticklabels([\"Tick \"+str(round(i/3, 1)) for i in range(11)])\n",
    "\n",
    "axs[0, 0].plot([1, 2, 50], [3, 2, 1])\n",
    "axs[0, 1].bar([1, 2, 3], [3, -3, 1])\n",
    "axs[1, 0].scatter(x = [1, 2, 3], y = [10, 1, 1])\n",
    "axs[1, 1].scatter(x = [1, 2, 3], y = [1, 2, 1])\n",
    "\n",
    "# Guardar el gráfico en formato png\n",
    "fig.savefig('figura.png', facecolor=fig.get_facecolor(), edgecolor='none')\n",
    "\n",
    "# Mostrar el gráfico\n",
    "plt.show()"
   ]
  },
  {
   "cell_type": "markdown",
   "metadata": {},
   "source": [
    "<h1><font color=\"#003D7F\" size=3>Diagrama de barras</font></h1>"
   ]
  },
  {
   "cell_type": "markdown",
   "metadata": {},
   "source": [
    "El diagrama de barras se utiliza para comparar diferentes variables, de manera visual, según el tamaño. Podemos crear tanto barras verticales como horizontales:\n",
    "   - Verticales: **.bar(x, height, width, color, tick_label)**\n",
    "        - **x**: Una lista o array con las coordenadas **X** de las barras.\n",
    "        - **height**: Un número en punto flotante o una lista o array con las alturas de las barras.\n",
    "        - **width**: Un número en punto flotante o un array con las anchuras de las barras. **(Opcional)**\n",
    "        - **color**: Un color o lista de colores de las barras. **(Opcional)**\n",
    "        - **tick_label**: Una cadena de caracteres o una lista de cadenas de caracteres con las etiquetas de las barras. **(Opcional)**\n",
    "   - Horizontales: **.barh(y, width, height, color, tick_label)**\n",
    "        - **y**: Una lista o array con las coordenadas **Y** de las barras.\n",
    "        - **width**: Un número en punto flotante o un array con las anchuras de las barras.\n",
    "        - **height**: Un número en punto flotante o un array con las alturas de las barras. **(Opcional)**\n",
    "        - **color**: Un color o lista de colores de las barras. **(Opcional)**\n",
    "        - **tick_label**: Una cadena de caracteres o una lista de cadenas de caracteres con las etiquetas de las barras. **(Opcional)**"
   ]
  },
  {
   "cell_type": "code",
   "execution_count": 22,
   "metadata": {},
   "outputs": [
    {
     "data": {
      "image/png": "[encoded data removed]",
      "text/plain": [
       "<Figure size 700x500 with 1 Axes>"
      ]
     },
     "metadata": {},
     "output_type": "display_data"
    }
   ],
   "source": [
    "import matplotlib.pyplot as plt\n",
    "# Diagrama de barras verticales\n",
    "# Crear la figura y los ejes\n",
    "fig, ax = plt.subplots(figsize=(7, 5), facecolor='#36fea4')\n",
    "# Dibujar puntos\n",
    "ax.bar([1, 2, 3], [3, -3, 1], width=0.5, color=['red', 'green', 'blue'], tick_label=['Bar 1', 'Bar 2', 'Bar 3'])\n",
    "# Mostrar el gráfico\n",
    "plt.show()"
   ]
  },
  {
   "cell_type": "code",
   "execution_count": 23,
   "metadata": {},
   "outputs": [
    {
     "data": {
      "image/png": "[encoded data removed]",
      "text/plain": [
       "<Figure size 700x500 with 1 Axes>"
      ]
     },
     "metadata": {},
     "output_type": "display_data"
    }
   ],
   "source": [
    "import matplotlib.pyplot as plt\n",
    "# Diagrama de barras Horizontales\n",
    "# Crear la figura y los ejes\n",
    "fig, ax = plt.subplots(figsize=(7, 5), facecolor='#36fff4')\n",
    "# Dibujar puntos\n",
    "ax.barh([1, 2, 3], [3, -3, 1], height=0.75, color=['pink', 'purple', '#fa33a0'], tick_label=['Bar 1', 'Bar 2', 'Bar 3'])\n",
    "# Mostrar el gráfico\n",
    "plt.show()"
   ]
  },
  {
   "cell_type": "markdown",
   "metadata": {},
   "source": [
    "<h1><font color=\"#003D7F\" size=2>Ejercicio</font></h1>\n",
    "\n",
    "Mostrar con un diagrama de barrras las probabilidades de medir cada estado.\n"
   ]
  },
  {
   "cell_type": "code",
   "execution_count": 34,
   "metadata": {},
   "outputs": [
    {
     "data": {
      "image/png": "[encoded data removed]",
      "text/plain": [
       "<Figure size 1000x700 with 1 Axes>"
      ]
     },
     "metadata": {},
     "output_type": "display_data"
    }
   ],
   "source": [
    "import matplotlib.pyplot as plt\n",
    "state = np.array([[0], [0], [-0.52296219+0j], [0.34787561+0.77813438j], [0], [0], [0], [0]])\n",
    "num_bits = int(np.log2(len(state)))\n",
    "\n",
    "#Crear la gráfica\n",
    "fig, ax = plt.subplots(figsize=(10,7),facecolor=\"white\")\n",
    "\n",
    "ax.set_title(\"Probabilidades\")\n",
    "ax.set_xticks([i for i in range(len(state))])\n",
    "ax.set_xticklabels([\"|\"+format(i,\"0\"+str(num_bits)+\"b\")+\">\" for i in range(len(state))])\n",
    "\n",
    "ax.bar([i for i in range(len(state))],[abs(state[i,0])**2 for i in range(len(state))])\n",
    "\n",
    "plt.show()\n",
    "\n"
   ]
  },
  {
   "cell_type": "markdown",
   "metadata": {},
   "source": [
    "<h1><font color=\"#003D7F\" size=3>Histograma</font></h1>"
   ]
  },
  {
   "cell_type": "markdown",
   "metadata": {},
   "source": [
    "El histograma es un gráfico usado para representar las distribuciones de frecuencia de una variable. Es uno de los más utilizados y se crean de la siguiente manera:\n",
    "   - Histograma: **.hist(x, bins, density, orientation)**\n",
    "        - **x**: Un array con los diferentes valores de las observaciones.\n",
    "        - **bins**: Un número entero con el número de particiones que se desea o un array con los límites de cada una de las particiones que se desea. **(Opcional)**\n",
    "        - **density**: Un booleano que indica si se quiere mostrar la densidad de probabilidad en la gráfica. **(Opcional)**\n",
    "        - **orientation**: La orientación del histograma o 'vertical' u 'horizontal'. **(Opcional)**\n",
    "\n",
    "\n",
    "Para más información sobre los histogramas <a href=\"https://matplotlib.org/stable/api/_as_gen/matplotlib.axes.Axes.hist.html#matplotlib.axes.Axes.hist\" >Aquí</a>"
   ]
  },
  {
   "cell_type": "code",
   "execution_count": 37,
   "metadata": {},
   "outputs": [
    {
     "data": {
      "image/png": "[encoded data removed]",
      "text/plain": [
       "<Figure size 640x480 with 1 Axes>"
      ]
     },
     "metadata": {},
     "output_type": "display_data"
    }
   ],
   "source": [
    "import matplotlib.pyplot as plt\n",
    "\n",
    "x = [20, 19, 70, 49, 46, 8, 50, 55, 43, 51, 56, 72, 34, 39, 99, 73, 47, 77, 30, 75, 25, 76, 47, 37, 12, 47, 44, 61, 35, 11, 44, 35, 46, 12, 82, 61, 75, 27, 52, 83, 41, 21, 52, 78, 4, 48, 43, 32, 66, 35, 25]\n",
    "bins = [0, 50, 70, 90, 100]\n",
    "plt.hist(x, bins, density=True, orientation='horizontal')\n",
    "plt.show()"
   ]
  },
  {
   "cell_type": "markdown",
   "metadata": {},
   "source": [
    "<h1><font color=\"#003D7F\" size=2>Ejercicio</font></h1>\n",
    "\n",
    "Comprobar que la función **.random()** está balanceada (histograma plano) mediante la generación y representación en forma de histograma de 100000 valores aleatorios.\n"
   ]
  },
  {
   "cell_type": "code",
   "execution_count": 54,
   "metadata": {},
   "outputs": [
    {
     "data": {
      "text/plain": [
       "(array([1.00403869, 1.00903888, 1.00183861, 1.00883888, 0.98113781,\n",
       "        1.00273864, 0.98693803, 0.99663841, 1.00703881, 1.00213862]),\n",
       " array([1.22400598e-05, 1.00008386e-01, 2.00004533e-01, 3.00000679e-01,\n",
       "        3.99996826e-01, 4.99992972e-01, 5.99989118e-01, 6.99985265e-01,\n",
       "        7.99981411e-01, 8.99977557e-01, 9.99973704e-01]),\n",
       " <BarContainer object of 10 artists>)"
      ]
     },
     "execution_count": 54,
     "metadata": {},
     "output_type": "execute_result"
    },
    {
     "data": {
      "image/png": "[encoded data removed]",
      "text/plain": [
       "<Figure size 640x480 with 1 Axes>"
      ]
     },
     "metadata": {},
     "output_type": "display_data"
    }
   ],
   "source": [
    "import matplotlib.pyplot as plt\n",
    "import random\n",
    "\n",
    "random.seed(0)\n",
    "#Crear una lista con 100000 numeros aleatorios\n",
    "lista = [random.random() for _ in range(100000)]\n",
    "lista\n",
    "\n",
    "#Crear y mostrar el gráfico\n",
    "plt.hist(lista,10,density=True)\n",
    "\n"
   ]
  },
  {
   "cell_type": "markdown",
   "metadata": {},
   "source": [
    "<h1><font color=\"#003D7F\" size=3>Diagrama de sectores</font></h1>"
   ]
  },
  {
   "cell_type": "markdown",
   "metadata": {},
   "source": [
    "Los diagramas de sectores sirven para representar los datos en forma de círculo donde el ángulo de cada sector es proporcional a la frecuencia absoluta correspondiente a ese sector:\n",
    "   - Diagrama de sectores: **.pie(x, labels, colors)**\n",
    "       - **x**: Una lista con las frecuencias a representar.\n",
    "       - **labels**: Una lista con los nombres de cada uno de los sectores (correspondientes con las frecuencias). **(Opcional)**\n",
    "       - **colors**: Una lista con los colores de cada uno de los sectores. **(Opcional)**"
   ]
  },
  {
   "cell_type": "code",
   "execution_count": 55,
   "metadata": {},
   "outputs": [
    {
     "data": {
      "image/png": "[encoded data removed]",
      "text/plain": [
       "<Figure size 700x500 with 1 Axes>"
      ]
     },
     "metadata": {},
     "output_type": "display_data"
    }
   ],
   "source": [
    "import matplotlib.pyplot as plt\n",
    "# Diagrama de barras Horizontales\n",
    "# Crear la figura y los ejes\n",
    "fig, ax = plt.subplots(figsize=(7, 5))\n",
    "# Dibujar el gráfico\n",
    "ax.pie([1, 2, 30], labels=[\"Sector 1\", \"Sector 2\", \"Sector 3\"], colors=['#ff0f04', '#ff33f4', '#00fff4'])\n",
    "# Mostrar el gráfico\n",
    "plt.show()"
   ]
  },
  {
   "cell_type": "markdown",
   "metadata": {},
   "source": [
    "<h1><font color=\"#003D7F\" size=3>Diagrama de dispersión o puntos</font></h1>"
   ]
  },
  {
   "cell_type": "markdown",
   "metadata": {},
   "source": [
    "Los diagramas de puntos sirven para representar los datos en forma de coordenada x e y en una gráfica:\n",
    "   - Diagrama de puntos: **.scatter(x, y, s, c, marker)**\n",
    "       - **x**: Una lista con las coordenadas x de los elementos a representar.\n",
    "       - **y**: Una lista con las coordenadas y de los elementos a representar.\n",
    "       - **s**: Un número en punto flotante que representa el tamaño de los puntos. **(Opcional)**\n",
    "       - **c**: Un color o lista de colores de cada uno de los puntos. **(Opcional)**\n",
    "       - **marker**: Un caracter que representa la marca para representar los puntos. **(Opcional)**"
   ]
  },
  {
   "cell_type": "code",
   "execution_count": 56,
   "metadata": {},
   "outputs": [
    {
     "data": {
      "image/png": "[encoded data removed]",
      "text/plain": [
       "<Figure size 700x500 with 1 Axes>"
      ]
     },
     "metadata": {},
     "output_type": "display_data"
    }
   ],
   "source": [
    "import matplotlib.pyplot as plt\n",
    "# Diagrama de barras Horizontales\n",
    "# Crear la figura y los ejes\n",
    "fig, ax = plt.subplots(figsize=(7, 5))\n",
    "# Dibujar el gráfico\n",
    "ax.scatter([1, 2, 3, 6, 7, 7, 6], [1, 2, 3, 2, 3, 2, 2.5], s=500, c='#00fff4', marker=\"*\")\n",
    "# Mostrar el gráfico\n",
    "plt.show()"
   ]
  },
  {
   "cell_type": "markdown",
   "metadata": {},
   "source": [
    "<h1><font color=\"#003D7F\" size=3>Diagrama de líneas</font></h1>"
   ]
  },
  {
   "cell_type": "markdown",
   "metadata": {},
   "source": [
    "Los diagramas de líneas son unos de los más uilizados de **Matplotlib** y representan los datos unidos por una línea.\n",
    "   - Diagrama de líneas: **.plot(x, y)**\n",
    "       - **x**: Una lista con las coordenadas **X** de los puntos a graficar.\n",
    "       - **y**: Una lista con las coordenadas **Y** de los puntos a graficar."
   ]
  },
  {
   "cell_type": "code",
   "execution_count": 57,
   "metadata": {},
   "outputs": [
    {
     "data": {
      "image/png": "[encoded data removed]",
      "text/plain": [
       "<Figure size 700x500 with 1 Axes>"
      ]
     },
     "metadata": {},
     "output_type": "display_data"
    }
   ],
   "source": [
    "import matplotlib.pyplot as plt\n",
    "# Diagrama de barras Horizontales\n",
    "# Crear la figura y los ejes\n",
    "fig, ax = plt.subplots(figsize=(7, 5))\n",
    "# Dibujar el gráfico\n",
    "ax.plot([1, 2, 30], [1, 1.5, 2.3])\n",
    "# Mostrar el gráfico\n",
    "plt.show()"
   ]
  },
  {
   "cell_type": "markdown",
   "metadata": {},
   "source": [
    "<h1><font color=\"#003D7F\" size=2>Ejercicio</font></h1>\n",
    "\n",
    "Graficar la función **f(x)** del ejercicio de la sesión anterior para los primeros 20 valores.\n"
   ]
  },
  {
   "cell_type": "code",
   "execution_count": 61,
   "metadata": {},
   "outputs": [
    {
     "data": {
      "image/png": "[encoded data removed]",
      "text/plain": [
       "<Figure size 700x500 with 1 Axes>"
      ]
     },
     "metadata": {},
     "output_type": "display_data"
    }
   ],
   "source": [
    "import random\n",
    "\n",
    "def f(x):\n",
    "    random.seed(5)\n",
    "    y = [int(random.random() * 100) for i in range(20)]\n",
    "    if x >= 0 and x < 20:\n",
    "        return y[int(x)]\n",
    "    else:\n",
    "        return None\n",
    "    \n",
    "#Crear y mostrar la gráfica\n",
    "fig, ax = plt.subplots(figsize=(7,5))\n",
    "\n",
    "x = [i for i in range(20)]\n",
    "y = [f(i) for i in range(20)]\n",
    "\n",
    "ax.plot(x,y)\n",
    "plt.show()\n",
    "\n"
   ]
  },
  {
   "cell_type": "markdown",
   "metadata": {},
   "source": [
    "<h1><font color=\"#003D7F\" size=3>Mapa de color</font></h1>"
   ]
  },
  {
   "cell_type": "markdown",
   "metadata": {},
   "source": [
    "Los mapas de color son histogramas en 2D donde cada eje representa a una variable y el color de la coordenada **X** e **Y** representa la frecuencia.\n",
    "   - Diagrama de líneas: **.hist2d(x, y, bins, density)**\n",
    "       - **x**: Un array con los diferentes valores de las observaciones de la variable x.\n",
    "       - **y**: Un array con los diferentes valores de las observaciones de la variable y.\n",
    "       - **bins**: Un número entero con el número de particiones que se desea o un array de 2 enteros con el número de particiones de cada variable (x e y respectivamente) o 2 arrays con los límites de cada una de las particiones que se desea de cada variable (x e y respectivamente). **(Opcional)**"
   ]
  },
  {
   "cell_type": "code",
   "execution_count": 74,
   "metadata": {},
   "outputs": [
    {
     "data": {
      "image/png": "[encoded data removed]",
      "text/plain": [
       "<Figure size 700x500 with 1 Axes>"
      ]
     },
     "metadata": {},
     "output_type": "display_data"
    }
   ],
   "source": [
    "import matplotlib.pyplot as plt\n",
    "import random\n",
    "random.seed(1)\n",
    "# Diagrama de barras Horizontales\n",
    "# Crear la figura y los ejes\n",
    "fig, ax = plt.subplots(figsize=(7, 5))\n",
    "# Dibujar el gráfico\n",
    "ax.hist2d([int(random.gauss(15, 5)) for i in range(10000)], [int(random.gauss(15, 5)) for i in range(10000)])\n",
    "# Mostrar el gráfico\n",
    "plt.show()"
   ]
  },
  {
   "cell_type": "code",
   "execution_count": null,
   "metadata": {},
   "outputs": [],
   "source": []
  }
 ],
 "metadata": {
  "kernelspec": {
   "display_name": "Python 3 (ipykernel)",
   "language": "python",
   "name": "python3"
  },
  "language_info": {
   "codemirror_mode": {
    "name": "ipython",
    "version": 3
   },
   "file_extension": ".py",
   "mimetype": "text/x-python",
   "name": "python",
   "nbconvert_exporter": "python",
   "pygments_lexer": "ipython3",
   "version": "3.11.5"
  }
 },
 "nbformat": 4,
 "nbformat_minor": 2
}
