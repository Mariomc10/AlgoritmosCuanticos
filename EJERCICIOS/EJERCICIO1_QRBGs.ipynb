{
 "cells": [
  {
   "cell_type": "markdown",
   "id": "cuG_zD_F9A0w",
   "metadata": {
    "id": "cuG_zD_F9A0w"
   },
   "source": [
    "<div>\n",
    "<img src=\"https://www.nebrija.com/images/logos/logotipo-universidad-nebrija.jpg\" width=\"200\">\n",
    "</div>\n",
    "\n",
    "**ALGORITMOS** -\n",
    "Prof: Carmen Pellicer Lostao"
   ]
  },
  {
   "cell_type": "markdown",
   "id": "589f5696-33c3-4f09-a9fa-f7e96ead9f3a",
   "metadata": {
    "id": "589f5696-33c3-4f09-a9fa-f7e96ead9f3a"
   },
   "source": [
    "# Quantum Random Bit Generator (QRBG) de dos secuencias binarias perfectamente aleatorias"
   ]
  },
  {
   "cell_type": "markdown",
   "id": "ZJkQgdmV9g9v",
   "metadata": {
    "id": "ZJkQgdmV9g9v"
   },
   "source": [
    "Necesitamos un generador de numeros aleatorios que produzca dos secuencias aleatorias exactamente iguales para dos personas Alice y Bob, con igual probabilidad de obtener 0 o 1 (al 50%)\n",
    "\n",
    "\n",
    "```\n",
    "ALICE -------- BOB\n",
    "0  --------  0\n",
    "0  --------  0\n",
    "1  --------  1\n",
    "1  --------  1\n",
    "0  --------  0\n",
    "1  --------  1\n",
    "1  --------  1\n",
    ".\n",
    ".\n",
    ".\n",
    "```\n",
    "\n",
    "Para ello debes de crear un circuito cuantico de dos qbits que produzca bits clasicos en cada medida para Alice y Bob.\n",
    "\n",
    "Ejecuta el circuito en un simulador cuantico y obten:\n",
    "\n",
    "* los primeros 100 bits de ambas personas\n",
    "* el histograma de bits medidos en la ejecucion que demuestra que se generan 0 y 1 para Alice y Bob entrelazados y al 50%\n",
    "\n",
    "\n",
    "\n",
    "\n"
   ]
  },
  {
   "cell_type": "markdown",
   "id": "Y4l3Vu1AAYk3",
   "metadata": {
    "id": "Y4l3Vu1AAYk3"
   },
   "source": [
    "PASO 1 - Creamos el circuito desde el Composer"
   ]
  },
  {
   "cell_type": "code",
   "execution_count": 59,
   "id": "I-BJ91vrAYk4",
   "metadata": {
    "id": "I-BJ91vrAYk4",
    "outputId": "a19029c4-749f-4b83-9f77-7f8cea2f612a",
    "tags": []
   },
   "outputs": [
    {
     "name": "stderr",
     "output_type": "stream",
     "text": [
      "/home/codespace/.python/current/lib/python3.10/site-packages/qiskit/visualization/circuit/matplotlib.py:266: FutureWarning: The default matplotlib drawer scheme will be changed to \"iqp\" in a following release. To silence this warning, specify the current default explicitly as style=\"clifford\", or the new default as style=\"iqp\".\n",
      "  self._style, def_font_ratio = load_style(self._style)\n"
     ]
    },
    {
     "data": {
      "image/png": "[encoded data removed]",
      "text/plain": [
       "<Figure size 287.294x284.278 with 1 Axes>"
      ]
     },
     "execution_count": 59,
     "metadata": {},
     "output_type": "execute_result"
    }
   ],
   "source": [
    "# Importamos las librerías necesarias\n",
    "from qiskit import QuantumRegister, ClassicalRegister, QuantumCircuit\n",
    "from numpy import pi\n",
    "\n",
    "# Creamos el circuito\n",
    "qreg_q = QuantumRegister(2, 'q')\n",
    "creg_c = ClassicalRegister(2, 'c')\n",
    "circuit = QuantumCircuit(qreg_q, creg_c)\n",
    "\n",
    "# Realizamos el entrelazamiento\n",
    "circuit.h(qreg_q[0])\n",
    "circuit.cx(qreg_q[0], qreg_q[1])\n",
    "\n",
    "# Lo dibujamos\n",
    "circuit.draw(\"mpl\")"
   ]
  },
  {
   "cell_type": "markdown",
   "id": "jnaztb2IAYk4",
   "metadata": {
    "id": "jnaztb2IAYk4"
   },
   "source": [
    "PASO 2 - Lo ejecutamos en el simulador"
   ]
  },
  {
   "cell_type": "code",
   "execution_count": 60,
   "id": "_5QVQCQiAYk4",
   "metadata": {
    "id": "_5QVQCQiAYk4",
    "outputId": "94efd516-fe22-4052-c8ba-9fb8e5a810d6",
    "tags": []
   },
   "outputs": [],
   "source": [
    "# Librerías para la ejecución\n",
    "from qiskit import Aer, transpile\n",
    "\n",
    "# Ponemos las medidas\n",
    "circuit.measure(qreg_q,creg_c)\n",
    "\n",
    "# Ejecutamos el circuito\n",
    "simulador = Aer.get_backend(\"aer_simulator\")\n",
    "circuito_transp = transpile(circuit,simulador)\n",
    "resultado = simulador.run(circuito_transp,shots = 1000,memory=True).result() # Queremos que se recuerde cada resultado de la medición\n",
    "# Ponemos 1000 shots para que en el histograma se vea mejor el que se trata de un 50%"
   ]
  },
  {
   "cell_type": "markdown",
   "id": "tghrKrqtAYk5",
   "metadata": {
    "id": "tghrKrqtAYk5"
   },
   "source": [
    "PASO 3 - Vemos los resultados"
   ]
  },
  {
   "cell_type": "code",
   "execution_count": 112,
   "id": "nmeWCAKmAYk5",
   "metadata": {
    "id": "nmeWCAKmAYk5",
    "outputId": "d0829e0e-f282-4708-d510-a34479747b80",
    "tags": []
   },
   "outputs": [
    {
     "name": "stdout",
     "output_type": "stream",
     "text": [
      "\n",
      "ALICE -------- BOB\n",
      "1 -------- 0\n",
      "1 -------- 0\n",
      "1 -------- 0\n",
      "1 -------- 0\n",
      "1 -------- 0\n",
      "1 -------- 0\n",
      "1 -------- 0\n",
      "1 -------- 0\n",
      "1 -------- 0\n",
      "1 -------- 0\n",
      "1 -------- 0\n",
      "1 -------- 0\n",
      "1 -------- 0\n",
      "1 -------- 0\n",
      "1 -------- 0\n",
      "1 -------- 1\n",
      "1 -------- 0\n",
      "1 -------- 0\n",
      "1 -------- 0\n",
      "1 -------- 0\n",
      "1 -------- 0\n",
      "1 -------- 0\n",
      "1 -------- 0\n",
      "1 -------- 0\n",
      "1 -------- 0\n",
      "1 -------- 0\n",
      "1 -------- 0\n",
      "1 -------- 0\n",
      "1 -------- 0\n",
      "1 -------- 0\n",
      "1 -------- 1\n",
      "1 -------- 0\n",
      "1 -------- 0\n",
      "1 -------- 0\n",
      "1 -------- 1\n",
      "1 -------- 0\n",
      "1 -------- 1\n",
      "1 -------- 0\n",
      "1 -------- 0\n",
      "1 -------- 0\n",
      "1 -------- 0\n",
      "1 -------- 0\n",
      "1 -------- 0\n",
      "1 -------- 0\n",
      "1 -------- 0\n",
      "1 -------- 0\n",
      "1 -------- 0\n",
      "1 -------- 0\n",
      "1 -------- 0\n",
      "1 -------- 0\n",
      "1 -------- 0\n",
      "1 -------- 0\n",
      "1 -------- 0\n",
      "1 -------- 0\n",
      "1 -------- 0\n",
      "1 -------- 0\n",
      "1 -------- 0\n",
      "1 -------- 0\n",
      "1 -------- 0\n",
      "1 -------- 1\n",
      "1 -------- 0\n",
      "1 -------- 0\n",
      "1 -------- 1\n",
      "1 -------- 0\n",
      "1 -------- 0\n",
      "1 -------- 0\n",
      "1 -------- 0\n",
      "1 -------- 0\n",
      "1 -------- 0\n",
      "1 -------- 0\n",
      "1 -------- 0\n",
      "1 -------- 1\n",
      "1 -------- 0\n",
      "1 -------- 1\n",
      "1 -------- 0\n",
      "1 -------- 0\n",
      "1 -------- 0\n",
      "1 -------- 0\n",
      "1 -------- 1\n",
      "1 -------- 0\n",
      "1 -------- 0\n",
      "1 -------- 0\n",
      "1 -------- 0\n",
      "1 -------- 0\n",
      "1 -------- 0\n",
      "1 -------- 0\n",
      "1 -------- 1\n",
      "1 -------- 1\n",
      "1 -------- 0\n",
      "1 -------- 0\n",
      "1 -------- 0\n",
      "1 -------- 0\n",
      "1 -------- 0\n",
      "1 -------- 0\n",
      "1 -------- 0\n",
      "1 -------- 0\n",
      "1 -------- 0\n",
      "1 -------- 1\n",
      "1 -------- 0\n",
      "1 -------- 0\n"
     ]
    }
   ],
   "source": [
    "# Importamos plot_histogram\n",
    "from qiskit.visualization import plot_histogram\n",
    "\n",
    "# Vemos los resultados (que son los 100 primeros), de acuerdo al formato exigido\n",
    "def imprime_counts(resultados):\n",
    "    print(\"\\nALICE -------- BOB\")\n",
    "    for ind in resultados.get_memory()[:100]:\n",
    "        print(f\"{ind[1]} -------- {ind[0]}\")\n",
    "\n",
    "imprime_counts(resultado)\n",
    "    "
   ]
  },
  {
   "cell_type": "code",
   "execution_count": 62,
   "id": "90e285bc",
   "metadata": {},
   "outputs": [
    {
     "data": {
      "image/png": "[encoded data removed]",
      "text/plain": [
       "<Figure size 700x500 with 1 Axes>"
      ]
     },
     "execution_count": 62,
     "metadata": {},
     "output_type": "execute_result"
    }
   ],
   "source": [
    "# Mostramos el histograma\n",
    "plot_histogram(resultado.get_counts())"
   ]
  },
  {
   "cell_type": "markdown",
   "id": "32hbMpIRAMLn",
   "metadata": {
    "id": "32hbMpIRAMLn"
   },
   "source": [
    "# Quantum Random Bit Generator (QRBG) de dos secuencias binarias condicionadas"
   ]
  },
  {
   "cell_type": "markdown",
   "id": "bYmWsiSr-7Ve",
   "metadata": {
    "id": "bYmWsiSr-7Ve"
   },
   "source": [
    "Necesitamos un generador de numeros aleatorios que produzca dos secuencias aleatorias exactamente para dos personas Alice y Bob, con probabilidades diferentes y entrelazadas:\n",
    "- Alice obtine una secuencia con igual probabilidad de obtener 0 o 1 (al 50%)\n",
    "- si Alice obtiene un 0, Bob obtiene una probabilidad de 0 y 1 al 85% y 15% respectivamente.\n",
    "- si Alice ontiene un 1, Bob obtiene una probabilidad de 1 y 0 al 85% y 15% respectivamente.\n",
    "\n",
    "\n",
    "```\n",
    "ALICE -------- BOB\n",
    "0  --------  0\n",
    "0  --------  0\n",
    "1  --------  0\n",
    "1  --------  1\n",
    "1  --------  0\n",
    "0  --------  1\n",
    "1  --------  1\n",
    "1  --------  1\n",
    "1  --------  1\n",
    "0  --------  0\n",
    "1  --------  1\n",
    "0  --------  0\n",
    "1  --------  1\n",
    "1  --------  1\n",
    "1  --------  1\n",
    ".\n",
    ".\n",
    ".\n",
    "```\n",
    "\n",
    "Para ello debes de crear un circuito cuantico de dos qbits que produzca bits clasicos en cada medida para Alice y Bob.\n",
    "\n",
    "Ejecuta el circuito en un simulador cuantico y obten:\n",
    "\n",
    "* los primeros 100 bits de ambas personas\n",
    "* el histograma de bits medidos en la ejecucion"
   ]
  },
  {
   "cell_type": "markdown",
   "id": "889efecc-e2ff-4308-9587-ec1b71fa52bf",
   "metadata": {
    "id": "889efecc-e2ff-4308-9587-ec1b71fa52bf"
   },
   "source": [
    "PASO 1 - Creamos el circuito desde el Composer"
   ]
  },
  {
   "cell_type": "code",
   "execution_count": 171,
   "id": "0bb4ac00-7b7b-45de-bf74-0b22e1050ce7",
   "metadata": {
    "id": "0bb4ac00-7b7b-45de-bf74-0b22e1050ce7",
    "outputId": "a19029c4-749f-4b83-9f77-7f8cea2f612a",
    "tags": []
   },
   "outputs": [
    {
     "name": "stderr",
     "output_type": "stream",
     "text": [
      "/home/codespace/.python/current/lib/python3.10/site-packages/qiskit/visualization/circuit/matplotlib.py:266: FutureWarning: The default matplotlib drawer scheme will be changed to \"iqp\" in a following release. To silence this warning, specify the current default explicitly as style=\"clifford\", or the new default as style=\"iqp\".\n",
      "  self._style, def_font_ratio = load_style(self._style)\n"
     ]
    },
    {
     "data": {
      "image/png": "[encoded data removed]",
      "text/plain": [
       "<Figure size 1011.28x284.278 with 1 Axes>"
      ]
     },
     "execution_count": 171,
     "metadata": {},
     "output_type": "execute_result"
    }
   ],
   "source": [
    "import numpy as np\n",
    "\n",
    "qreg = QuantumRegister(2)\n",
    "creg = ClassicalRegister(2)\n",
    "circuit = QuantumCircuit(qreg,creg)\n",
    "\n",
    "circuit.h(0)\n",
    "circuit.measure(qreg[0],creg[0])\n",
    "with circuit.if_test((creg[0], 1)) as else_:\n",
    "    circuit.initialize([np.sqrt(0.15),np.sqrt(0.85)],qubits=[1])\n",
    "with else_:\n",
    "    circuit.initialize([np.sqrt(0.85),np.sqrt(0.15)],qubits=[1])\n",
    "\n",
    "circuit.barrier()\n",
    "circuit.measure(qreg[1],creg[1])\n",
    "\n",
    "circuit.draw(\"mpl\")"
   ]
  },
  {
   "cell_type": "code",
   "execution_count": 170,
   "id": "5473f11e",
   "metadata": {},
   "outputs": [
    {
     "name": "stdout",
     "output_type": "stream",
     "text": [
      "\n",
      "ALICE -------- BOB\n",
      "1 -------- 1\n",
      "0 -------- 1\n",
      "0 -------- 0\n",
      "1 -------- 1\n",
      "1 -------- 1\n",
      "1 -------- 1\n",
      "0 -------- 0\n",
      "1 -------- 1\n",
      "0 -------- 0\n",
      "1 -------- 1\n",
      "0 -------- 0\n",
      "1 -------- 1\n",
      "1 -------- 1\n",
      "0 -------- 0\n",
      "0 -------- 0\n",
      "0 -------- 1\n",
      "1 -------- 1\n",
      "0 -------- 0\n",
      "0 -------- 0\n",
      "1 -------- 1\n",
      "1 -------- 0\n",
      "1 -------- 1\n",
      "0 -------- 1\n",
      "0 -------- 0\n",
      "0 -------- 1\n",
      "1 -------- 1\n",
      "0 -------- 0\n",
      "1 -------- 1\n",
      "0 -------- 0\n",
      "1 -------- 1\n",
      "0 -------- 0\n",
      "0 -------- 0\n",
      "1 -------- 1\n",
      "1 -------- 1\n",
      "0 -------- 0\n",
      "0 -------- 0\n",
      "1 -------- 1\n",
      "1 -------- 0\n",
      "1 -------- 1\n",
      "0 -------- 0\n",
      "1 -------- 0\n",
      "0 -------- 0\n",
      "1 -------- 1\n",
      "1 -------- 1\n",
      "1 -------- 1\n",
      "0 -------- 0\n",
      "1 -------- 1\n",
      "1 -------- 1\n",
      "1 -------- 1\n",
      "1 -------- 1\n",
      "1 -------- 1\n",
      "1 -------- 1\n",
      "1 -------- 1\n",
      "0 -------- 0\n",
      "1 -------- 1\n",
      "1 -------- 1\n",
      "1 -------- 1\n",
      "0 -------- 0\n",
      "1 -------- 1\n",
      "1 -------- 1\n",
      "1 -------- 1\n",
      "1 -------- 1\n",
      "0 -------- 0\n",
      "1 -------- 1\n",
      "0 -------- 1\n",
      "1 -------- 1\n",
      "0 -------- 0\n",
      "1 -------- 0\n",
      "0 -------- 0\n",
      "0 -------- 0\n",
      "0 -------- 1\n",
      "1 -------- 1\n",
      "1 -------- 1\n",
      "1 -------- 1\n",
      "0 -------- 0\n",
      "1 -------- 1\n",
      "0 -------- 0\n",
      "1 -------- 1\n",
      "1 -------- 1\n",
      "0 -------- 0\n",
      "1 -------- 0\n",
      "1 -------- 1\n",
      "1 -------- 1\n",
      "0 -------- 0\n",
      "1 -------- 1\n",
      "0 -------- 0\n",
      "0 -------- 0\n",
      "1 -------- 1\n",
      "0 -------- 0\n",
      "1 -------- 1\n",
      "1 -------- 0\n",
      "0 -------- 0\n",
      "1 -------- 1\n",
      "1 -------- 1\n",
      "0 -------- 0\n",
      "0 -------- 1\n",
      "1 -------- 1\n",
      "1 -------- 1\n",
      "0 -------- 0\n",
      "1 -------- 1\n"
     ]
    },
    {
     "data": {
      "text/plain": [
       "None"
      ]
     },
     "metadata": {},
     "output_type": "display_data"
    },
    {
     "data": {
      "image/png": "[encoded data removed]",
      "text/plain": [
       "<Figure size 700x500 with 1 Axes>"
      ]
     },
     "metadata": {},
     "output_type": "display_data"
    }
   ],
   "source": [
    "simulador = Aer.get_backend(\"aer_simulator\")\n",
    "circuito_transp = transpile(circuit,simulador)\n",
    "resultado = simulador.run(circuito_transp,shots = 1000,memory=True).result()\n",
    "\n",
    "display(imprime_counts(resultado))\n",
    "\n",
    "display(plot_histogram(resultado.get_counts()))"
   ]
  },
  {
   "cell_type": "markdown",
   "id": "bd6ec1fc-c43f-46dc-944d-b8e93a6da845",
   "metadata": {
    "id": "bd6ec1fc-c43f-46dc-944d-b8e93a6da845"
   },
   "source": [
    "PASO 2 - Lo ejecutamos en el simulador"
   ]
  },
  {
   "cell_type": "code",
   "execution_count": 142,
   "id": "b7e762a8-a61d-4afa-9f6b-d8a165178101",
   "metadata": {
    "id": "b7e762a8-a61d-4afa-9f6b-d8a165178101",
    "outputId": "94efd516-fe22-4052-c8ba-9fb8e5a810d6",
    "tags": []
   },
   "outputs": [
    {
     "name": "stderr",
     "output_type": "stream",
     "text": [
      "/home/codespace/.python/current/lib/python3.10/site-packages/qiskit/visualization/circuit/matplotlib.py:266: FutureWarning: The default matplotlib drawer scheme will be changed to \"iqp\" in a following release. To silence this warning, specify the current default explicitly as style=\"clifford\", or the new default as style=\"iqp\".\n",
      "  self._style, def_font_ratio = load_style(self._style)\n"
     ]
    },
    {
     "data": {
      "image/png": "[encoded data removed]",
      "text/plain": [
       "<Figure size 454.517x284.278 with 1 Axes>"
      ]
     },
     "execution_count": 142,
     "metadata": {},
     "output_type": "execute_result"
    }
   ],
   "source": [
    "circuit = QuantumCircuit(2,2)\n",
    "\n",
    "circuit.x(0)\n",
    "circuit.crx(np.arcsin(np.sqrt(0.15)),control_qubit=0,target_qubit=1)\n",
    "\n",
    "circuit.measure([0,1],[0,1])\n",
    "\n",
    "circuit.draw(\"mpl\")"
   ]
  },
  {
   "cell_type": "code",
   "execution_count": 143,
   "id": "10036a2b",
   "metadata": {},
   "outputs": [
    {
     "name": "stdout",
     "output_type": "stream",
     "text": [
      "\n",
      "ALICE -------- BOB\n",
      "1 -------- 0\n",
      "1 -------- 0\n",
      "1 -------- 0\n",
      "1 -------- 0\n",
      "1 -------- 0\n",
      "1 -------- 0\n",
      "1 -------- 1\n",
      "1 -------- 0\n",
      "1 -------- 0\n",
      "1 -------- 0\n",
      "1 -------- 0\n",
      "1 -------- 1\n",
      "1 -------- 0\n",
      "1 -------- 0\n",
      "1 -------- 0\n",
      "1 -------- 0\n",
      "1 -------- 0\n",
      "1 -------- 0\n",
      "1 -------- 0\n",
      "1 -------- 0\n",
      "1 -------- 0\n",
      "1 -------- 0\n",
      "1 -------- 0\n",
      "1 -------- 0\n",
      "1 -------- 0\n",
      "1 -------- 0\n",
      "1 -------- 0\n",
      "1 -------- 0\n",
      "1 -------- 0\n",
      "1 -------- 0\n",
      "1 -------- 0\n",
      "1 -------- 0\n",
      "1 -------- 0\n",
      "1 -------- 0\n",
      "1 -------- 0\n",
      "1 -------- 0\n",
      "1 -------- 0\n",
      "1 -------- 0\n",
      "1 -------- 0\n",
      "1 -------- 0\n",
      "1 -------- 0\n",
      "1 -------- 0\n",
      "1 -------- 0\n",
      "1 -------- 0\n",
      "1 -------- 0\n",
      "1 -------- 0\n",
      "1 -------- 1\n",
      "1 -------- 0\n",
      "1 -------- 0\n",
      "1 -------- 0\n",
      "1 -------- 0\n",
      "1 -------- 1\n",
      "1 -------- 0\n",
      "1 -------- 0\n",
      "1 -------- 0\n",
      "1 -------- 0\n",
      "1 -------- 0\n",
      "1 -------- 0\n",
      "1 -------- 0\n",
      "1 -------- 0\n",
      "1 -------- 0\n",
      "1 -------- 0\n",
      "1 -------- 0\n",
      "1 -------- 0\n",
      "1 -------- 0\n",
      "1 -------- 0\n",
      "1 -------- 0\n",
      "1 -------- 0\n",
      "1 -------- 0\n",
      "1 -------- 0\n",
      "1 -------- 0\n",
      "1 -------- 0\n",
      "1 -------- 0\n",
      "1 -------- 1\n",
      "1 -------- 0\n",
      "1 -------- 0\n",
      "1 -------- 0\n",
      "1 -------- 0\n",
      "1 -------- 0\n",
      "1 -------- 0\n",
      "1 -------- 0\n",
      "1 -------- 0\n",
      "1 -------- 0\n",
      "1 -------- 0\n",
      "1 -------- 0\n",
      "1 -------- 0\n",
      "1 -------- 0\n",
      "1 -------- 0\n",
      "1 -------- 0\n",
      "1 -------- 0\n",
      "1 -------- 0\n",
      "1 -------- 0\n",
      "1 -------- 0\n",
      "1 -------- 0\n",
      "1 -------- 0\n",
      "1 -------- 0\n",
      "1 -------- 0\n",
      "1 -------- 0\n",
      "1 -------- 0\n",
      "1 -------- 0\n"
     ]
    },
    {
     "data": {
      "text/plain": [
       "None"
      ]
     },
     "metadata": {},
     "output_type": "display_data"
    },
    {
     "data": {
      "image/png": "[encoded data removed]",
      "text/plain": [
       "<Figure size 700x500 with 1 Axes>"
      ]
     },
     "metadata": {},
     "output_type": "display_data"
    }
   ],
   "source": [
    "simulador = Aer.get_backend(\"aer_simulator\")\n",
    "circuito_transp = transpile(circuit,simulador)\n",
    "resultado = simulador.run(circuito_transp,shots = 1000,memory=True).result()\n",
    "\n",
    "display(imprime_counts(resultado))\n",
    "\n",
    "display(plot_histogram(resultado.get_counts()))"
   ]
  },
  {
   "cell_type": "markdown",
   "id": "e8216758-cfaf-4091-a5aa-1fbd673129e3",
   "metadata": {
    "id": "e8216758-cfaf-4091-a5aa-1fbd673129e3"
   },
   "source": [
    "PASO 3 - Vemos los resultados"
   ]
  },
  {
   "cell_type": "code",
   "execution_count": 139,
   "id": "9b17721d",
   "metadata": {},
   "outputs": [
    {
     "data": {
      "text/plain": [
       "0.8500000000000001"
      ]
     },
     "execution_count": 139,
     "metadata": {},
     "output_type": "execute_result"
    }
   ],
   "source": [
    "np.sin(np.arcsin(np.sqrt(0.85)))**2"
   ]
  },
  {
   "cell_type": "code",
   "execution_count": null,
   "id": "4667b94e",
   "metadata": {},
   "outputs": [],
   "source": []
  }
 ],
 "metadata": {
  "colab": {
   "provenance": []
  },
  "kernelspec": {
   "display_name": "Python 3 (ipykernel)",
   "language": "python",
   "name": "python3"
  },
  "language_info": {
   "codemirror_mode": {
    "name": "ipython",
    "version": 3
   },
   "file_extension": ".py",
   "mimetype": "text/x-python",
   "name": "python",
   "nbconvert_exporter": "python",
   "pygments_lexer": "ipython3",
   "version": "3.10.13"
  },
  "widgets": {
   "application/vnd.jupyter.widget-state+json": {
    "state": {},
    "version_major": 2,
    "version_minor": 0
   }
  }
 },
 "nbformat": 4,
 "nbformat_minor": 5
}
