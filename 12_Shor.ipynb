{
 "cells": [
  {
   "cell_type": "markdown",
   "id": "fd5e50d2-d318-40bb-926b-55fe7959a86b",
   "metadata": {
    "id": "g5asWGPIKLcB"
   },
   "source": [
    "<div>\n",
    "<img src=\"https://www.nebrija.com/images/logos/logotipo-universidad-nebrija.jpg\" width=\"200\">\n",
    "</div>\n",
    "\n",
    "**ALGORITMOS** -\n",
    "Prof: Carmen Pellicer Lostao"
   ]
  },
  {
   "cell_type": "markdown",
   "id": "c43b1fbe-221f-466a-ba26-28cd9a712af7",
   "metadata": {
    "id": "6fN7JL06mtsN",
    "tags": [
     "remove_cell"
    ]
   },
   "source": [
    "# Algoritmo de Shor"
   ]
  },
  {
   "cell_type": "markdown",
   "id": "3365541c-922a-4494-a459-4702c3eae683",
   "metadata": {},
   "source": [
    "En este notebook, primero presentamos el problema de factorización de enteros y describimos en detalle cómo lo resuelve el algoritmo de forma clásica y de forma cuántica con el algoritmo de Shor, implementando en python ambos metodos y utilizando Qiskit en la version cuántica.\n",
    "\n",
    "Para empezar Importamos las librerias necesarias."
   ]
  },
  {
   "cell_type": "code",
   "execution_count": 6,
   "id": "43a2a446-78d7-4141-9160-ed402779566b",
   "metadata": {
    "tags": []
   },
   "outputs": [],
   "source": [
    "# Importing standard Qiskit libraries\n",
    "from qiskit.visualization import *\n",
    "from qiskit.circuit import *\n",
    "from qiskit.extensions import *\n",
    "from qiskit.tools.jupyter import *\n",
    "#from ibm_quantum_widgets import *\n",
    "\n",
    "from qiskit import QuantumCircuit, Aer, execute, transpile, assemble\n",
    "from qiskit.providers.aer import QasmSimulator\n",
    "from qiskit import IBMQ\n",
    "from qiskit.visualization import plot_histogram\n",
    "from qiskit.tools.visualization import plot_state_city\n",
    "from qiskit import QuantumRegister, ClassicalRegister\n",
    "from qiskit.quantum_info import Statevector\n",
    "from qiskit.quantum_info import Operator\n",
    "import qiskit.quantum_info as qi\n",
    "from qiskit.providers.fake_provider import FakeKolkata,FakeMontreal,FakeGuadalupe\n",
    "from qiskit.providers.aer import AerSimulator\n",
    "\n",
    "import time\n",
    "import numpy as np\n",
    "import math\n",
    "import matplotlib.pyplot as plt\n",
    "from math import gcd,log\n",
    "from numpy.random import randint\n",
    "import pandas as pd\n",
    "from fractions import Fraction\n",
    "import pickle"
   ]
  },
  {
   "cell_type": "markdown",
   "id": "5e0852c8-3051-4a15-8237-928d0afc0691",
   "metadata": {},
   "source": [
    "## Factorizacion"
   ]
  },
  {
   "cell_type": "markdown",
   "id": "61d52518-9736-4b01-b6f6-5d72bcbd85f2",
   "metadata": {},
   "source": [
    "En el problema de la factorizacion tenemos un número entero *N* que es producto de dos números primos *p* y *q*. El objetivo es que dado *N* encontremos los factores *p* y *q*. Si estos factores se restringen a números primos, se dice que *N* es un semiprimo y el proceso se llama factorización prima. \n",
    "\n",
    "Cuando el número entero *N* es muy grande, no se conoce ningún algoritmo clásico eficiente de factorización de enteros. Los problemas de factorización más difíciles son los números semiprimos, el producto de dos números primos. \n",
    "\n",
    "En [2009](https://link.springer.com/chapter/10.1007/978-3-642-14623-7_18), un equipo de investigadores factorizó un número semiprimo de 232 dígitos decimales (768 bits), gastando el equivalente computacional de más de dos mil años en un procesador AMD Opteron de un solo núcleo a 2,2 GHz con 2 GB de RAM:\n",
    "```\n",
    "RSA-768 = 12301866845301177551304949583849627207728535695953347921973224521517264005\n",
    "           07263657518745202199786469389956474942774063845925192557326303453731548268\n",
    "           50791702612214291346167042921431160222124047927473779408066535141959745985\n",
    "           6902143413\n",
    "           \n",
    "         = 33478071698956898786044169848212690817704794983713768568912431388982883793\n",
    "           878002287614711652531743087737814467999489\n",
    "         × 36746043666799590428244633799627952632279158164343087642676032283815739666\n",
    "           511279233373417143396810270092798736308917\n",
    "```\n",
    "La supuesta dificultad de este problema de factorización prima es la base de muchos algoritmos de cifrado, como [RSA](https://www.google.com/patents/US4405829), que se utiliza en transacciones web online, entre otras aplicaciones. En RSA, para encontrar la llave de cifrado sería necesario factorizar N=pq encontrando dos primos de igual longitud en bits n/2. Desde 2015 se recomienda utilizar RSA 2048 y ahora se utiliza tambien RSA 4096, con unas longitudes de N de ese orden\n",
    "***"
   ]
  },
  {
   "cell_type": "markdown",
   "id": "021d6cfb-9ff2-4d5b-bec4-f2bf62794e2d",
   "metadata": {},
   "source": [
    "## Algoritmo de Miller"
   ]
  },
  {
   "cell_type": "markdown",
   "id": "60a485c6-9c9a-44b0-a639-e22d7d026560",
   "metadata": {},
   "source": [
    "El algoritmo de Miller, resuelve el problema de la factorizacion con la estrategia de reducirlo al problema de encontrar el periodo de la exponenciacion modular. El algoritmo clásico más eficiente para la resolución de este problema es el **general number field sieve (GNFS)**, el cual para factorizar un número de $n$ bits requiere un tiempo de trabajo $\\Theta (e^{n^{1/3}})$. Este tiempo es subexponencial, asi que crece más rápido que una solución polinomial.\n",
    "\n",
    "Para implementarlo, veamos que es la operacion de exponenciacion modular."
   ]
  },
  {
   "cell_type": "code",
   "execution_count": 29,
   "id": "c05a963a",
   "metadata": {},
   "outputs": [
    {
     "name": "stdout",
     "output_type": "stream",
     "text": [
      "Son coprimos\n",
      "1\n",
      "2\n",
      "4\n",
      "8\n",
      "16\n",
      "11\n",
      "1\n",
      "2\n",
      "4\n",
      "8\n",
      "16\n",
      "11\n",
      "1\n",
      "El periodo es  6\n"
     ]
    },
    {
     "data": {
      "text/plain": [
       "[<matplotlib.lines.Line2D at 0x7f5a78c81840>]"
      ]
     },
     "execution_count": 29,
     "metadata": {},
     "output_type": "execute_result"
    },
    {
     "data": {
      "image/png": "[encoded data removed]",
      "text/plain": [
       "<Figure size 640x480 with 1 Axes>"
      ]
     },
     "metadata": {},
     "output_type": "display_data"
    }
   ],
   "source": [
    "#visualización del periodo\n",
    "a=2\n",
    "N=21\n",
    "\n",
    "#utiliza gcd de math libraries para chequear que a and N son coprimos\n",
    "if math.gcd(a,N):\n",
    "    print(\"Son coprimos\")\n",
    "else:\n",
    "    print(\"No son coprimos\")\n",
    "\n",
    "#calcula la secuencia de resultados de f(x)    \n",
    "r = 1\n",
    "for ind in range(13):\n",
    "    print(int(math.pow(a,ind)%N))\n",
    "    if ind > 1 and r == 1 and int(math.pow(a,ind)%N) == 1:\n",
    "        r = ind\n",
    "print(\"El periodo es \", r)\n",
    "\n",
    "#representalos en un plot con x el indice del resultado e y el valor\n",
    "plt.plot([math.pow(a,x)%N for x in range(13)])"
   ]
  },
  {
   "cell_type": "markdown",
   "id": "08729efc-db45-496e-aa3f-cabf980c902f",
   "metadata": {},
   "source": [
    "### La exponenciación modular"
   ]
  },
  {
   "cell_type": "markdown",
   "id": "cf1039b5-0790-4ff6-b00a-efc098d33806",
   "metadata": {},
   "source": [
    "La exponenciación modular es una operacion o funcion que consiste en calcular las potencias de un número modulo de otro numero:\n",
    "\n",
    "\\begin{equation}\n",
    "\\mathcal{f}(x) = a^x \\bmod N\n",
    "\\end{equation}\n",
    "\\begin{equation}\n",
    "a=2 , N=21\n",
    "\\end{equation}\n",
    "\\begin{equation}\n",
    "  2^0\\;mod\\;21=1\\;mod\\;21\n",
    "\\end{equation}\n",
    "\\begin{equation}\n",
    "  2^1\\;mod\\;21=2\\;mod\\;21\n",
    "\\end{equation}\n",
    "\\begin{equation}\n",
    "  2^2\\;mod\\;21=4\\;mod\\;21\n",
    "\\end{equation}\n",
    "\\begin{equation}\n",
    "  2^3\\;mod\\;21=8\\;mod\\;21\n",
    "\\end{equation}\n",
    "\\begin{equation}\n",
    "  2^4\\;mod\\;21=16\\;mod\\;21\n",
    "\\end{equation}\n",
    "\\begin{equation}\n",
    "  2^5\\;mod\\;21=11\\;mod\\;21\n",
    "\\end{equation}\\begin{equation}\n",
    "  2^6\\;mod\\;21=1\\;\\;mod\\;21\n",
    "\\end{equation}\\begin{equation}\n",
    "  2^7\\;mod\\;21=2\\;mod\\;21\n",
    "\\end{equation}\n",
    "\n",
    "\n",
    "Como se puede ver, aparece un periodo de orden *r* para cualesquiera *a* y *N*, siempre que estos sean dos números coprimos, esto es, que el único entero positivo que los divide es 1. Esto equivale a que su máximo común divisor sea 1. Por ejemplo, 8 y 15 son coprimos, ya que no comparten ningún factor común ( distintos de 1). Sin embargo, 9 y 15 no son coprimos, ya que ambos son divisibles por 3 (y 1)."
   ]
  },
  {
   "cell_type": "markdown",
   "id": "5e6f0088-2093-450e-8792-59f9d807f3f2",
   "metadata": {},
   "source": [
    "#### EJERCICIO"
   ]
  },
  {
   "cell_type": "markdown",
   "id": "d73bf747-aba1-40d9-9d68-98964c7f77a9",
   "metadata": {},
   "source": [
    "Dados dos numeros $N$ y $a$ calcula si son coprimos.\n",
    "\n",
    "Calcula la secuencia de los resultados de la funcion de exponenciacion modular  $\\mathcal{f}(x) = a^x \\bmod N$ y su periodo\n",
    "\n",
    "Dibuja un grafico donde se visualice el periodo de la funcion"
   ]
  },
  {
   "cell_type": "code",
   "execution_count": 32,
   "id": "d241fefd-6842-4893-b158-1be058cb2a5d",
   "metadata": {
    "tags": []
   },
   "outputs": [
    {
     "name": "stdout",
     "output_type": "stream",
     "text": [
      "Son coprimos\n",
      "1\n",
      "2\n",
      "4\n",
      "8\n",
      "16\n",
      "11\n",
      "1\n",
      "2\n",
      "4\n",
      "8\n",
      "16\n",
      "11\n",
      "1\n",
      "2\n",
      "4\n",
      "8\n",
      "16\n",
      "11\n",
      "1\n",
      "2\n",
      "4\n"
     ]
    },
    {
     "data": {
      "text/plain": [
       "[<matplotlib.lines.Line2D at 0x7f5a78a02980>]"
      ]
     },
     "execution_count": 32,
     "metadata": {},
     "output_type": "execute_result"
    },
    {
     "data": {
      "image/png": "[encoded data removed]",
      "text/plain": [
       "<Figure size 1000x500 with 1 Axes>"
      ]
     },
     "metadata": {},
     "output_type": "display_data"
    }
   ],
   "source": [
    "#visualización del periodo\n",
    "a=2\n",
    "N=21\n",
    "\n",
    "#utiliza gcd de math libraries para chequear que a and N son coprimos\n",
    "if math.gcd(a,N):\n",
    "    print(\"Son coprimos\")\n",
    "else:\n",
    "    print(\"No son coprimos\")\n",
    "\n",
    "#calcula la secuencia de resultados de f(x)    \n",
    "for ind in range(N):\n",
    "    print(int(math.pow(a,ind)%N))\n",
    "\n",
    "#representalos en un plot con x el indice del resultado e y el valor\n",
    "plt.figure(figsize=(10,5))\n",
    "plt.plot([math.pow(a,x)%N for x in range(N)])\n"
   ]
  },
  {
   "cell_type": "markdown",
   "id": "994e0530-685f-481e-abea-cd96ac217770",
   "metadata": {},
   "source": [
    "### Estrategia de resolver la factorizacion encontrando el periodo de la exponenciacion modular"
   ]
  },
  {
   "cell_type": "markdown",
   "id": "55faf53b-1cb8-420f-a581-0273338c17ba",
   "metadata": {},
   "source": [
    "La reducción de la factorización de $N$ al problema de encontrar el período de la funcion de exponenciacion modular de un número entero $a$ menor que $N$ y mayor que $1$, es consecuencia del siguiente resultado de la teoría de números:\n",
    "\n",
    "> La función $\\mathcal{f}(x) = a^x \\bmod N$ es una función periódica, donde $a$ es un número entero coprimo de $N$ y $a \\ge 0$.\n",
    "\n",
    "> Dado que $\\mathcal{f}(x)$ es una función periódica, tiene algún período $r$. Sabiendo que $a^0 \\bmod N = 1$, esto significa que $a^r \\bmod N = 1$ ya que la función es periódica y, por lo tanto, $r$ es solo la primera potencia distinta de cero donde $a^r = 1 (\\bmod N)$.\n",
    "\n",
    "Dada esta información y mediante la siguiente manipulación algebraica:\n",
    "$$ a^r \\equiv 1 \\bmod N $$\n",
    "$$ a^r = (a^{r/2})^2 \\equiv 1 \\bmod N $$\n",
    "$$ (a^{r/2})^2 - 1 \\equiv 0 \\bmod N $$\n",
    "y si $r$ es un número par:\n",
    "$$ (a^{r/2} + 1)(a^{r/2} - 1) \\equiv 0 \\bmod N $$\n",
    "\n",
    "A partir de esto, el producto $(a^{r/2} + 1)(a^{r/2} - 1)$ es un múltiplo entero de $N$, el número que se va a factorizar. Por lo tanto, siempre que $(a^{r/2} + 1)$ o $(a^{r/2} - 1)$ no sea un múltiplo de $N$, entonces al menos uno de $(a^ {r/2} + 1)$ o $(a^{r/2} - 1)$ debe tener un factor no trivial en común con $N$.\n",
    "\n",
    "Entonces, calculando $\\text{gcd}(a^{r/2} - 1, N)$ y $\\text{gcd}(a^{r/2} + 1, N)$ se obtendrá un factor de $N $, donde $\\text{gcd}$ es la función de máaimo común denominador, que se puede calcular mediante el tiempo polinomial [algoritmo euclidiano](https://en.wikipedia.org/wiki/Euclidean_algorithm)."
   ]
  },
  {
   "cell_type": "markdown",
   "id": "6fa143cc-e6d2-450d-808e-b34a0e0d5f41",
   "metadata": {},
   "source": [
    "### Resolucion clásica de la factorizacion"
   ]
  },
  {
   "cell_type": "markdown",
   "id": "85c65e7a-65ef-4e3e-b7dd-d4de64d53cff",
   "metadata": {},
   "source": [
    "Supongamos por un momento que existe una funcion de búsqueda de períodos que toma como entrada números enteros coprimos $a, N$ y genera el período de $f(x)=a^x \\bmod N$, implementado como búsqueda de fuerza bruta.\n",
    "\n",
    "El algoritmo de Miler nos dice cómo usar la funcion para encontrar todos los factores primos de $N$ usando la teoría de números descrita anteriormente:\n",
    "\n",
    "1) elegir un valor aleatorio de a, donde a<N y N=pq\n",
    "2) encontrar el periodo r de $f(x) = a^x mod N$, que es el valor de r que cumple que $a^rr mod N = 1$\n",
    "3) si r es par, calcular p= gcd($ a^{r/2} - 1$, N), q = gcd($a^{r/2} + 1$, N)\n",
    "4) si r es impar, volver al paso 1 y elegir otro valor de a\n"
   ]
  },
  {
   "cell_type": "markdown",
   "id": "58567aec-188d-44ad-bc34-e2b1e6314a34",
   "metadata": {},
   "source": [
    "#### EJERCICIO"
   ]
  },
  {
   "cell_type": "markdown",
   "id": "3c27525b-37ed-482f-afb1-9b65d37b65d8",
   "metadata": {},
   "source": [
    "Crea una funcion que tome como entrada dos numeros coprimos $a$ y $N$ y encuentre el periodo de la funcion de exponenciacion modular $\\mathcal{f}(x) = a^x \\bmod N$\n",
    "\n",
    "Toma como ejemplo $N=15$ y calcula las secuencias y periodos obtenidos para todos los valores de $a<N$.\n",
    "Calcula tambien los posibles factores de $N$:\n",
    "\n",
    "$p=\\text{gcd}(x^{r/2}-1,15)$\n",
    "\n",
    "$q=\\text{gcd}(x^{r/2}+1,15)$\n",
    "\n",
    "Muestra los resultados en un formato similar a:\n",
    "\n",
    "|  $a$  |         $a^x \\bmod 15$       | Periodo $r$ |$p$|$q$ |\n",
    "|:-----:|:----------------------------:|:----------:|:------------------------:|:-------------------------:|\n",
    "|   2   | 1,2,4,8,1,2,4,8,1,2,4...     |      4     |             3            |             5             |\n",
    "|   4   | 1,4,1,4,1,4,1,4,1,4,1...     |      2     |             3            |             5             |\n",
    "|   7   | 1,7,4,13,1,7,4,13,1,7,4...   |      4     |             3            |             5             |\n",
    "|   8   | 1,8,4,2,1,8,4,2,1,8,4...     |      4     |             3            |             5             |\n",
    "|   11  | 1,11,1,11,1,11,1,11,1,11,1...|      2     |             5            |             3             |\n",
    "|   13  | 1,13,4,7,1,13,4,7,1,13,4,... |      4     |             3            |             5             |\n",
    "|   14  | 1,14,1,14,1,14,1,14,1,14,1,,,|      2     |             1            |             15            |\n"
   ]
  },
  {
   "cell_type": "code",
   "execution_count": 64,
   "id": "3d6aea9b-70f9-472a-ab4c-4780b869f283",
   "metadata": {
    "tags": []
   },
   "outputs": [],
   "source": [
    "# Brute force period finding algorithm\n",
    "def find_period_classical(a, N):\n",
    "    r = 1\n",
    "    lista = []\n",
    "    for ind in range(N):\n",
    "        #lista.append(int(math.pow(a,ind)%N))\n",
    "        #print(int(math.pow(a,ind)%N))\n",
    "        if ind > 1 and r == 1 and int(math.pow(a,ind)%N) == 1:\n",
    "            r = ind\n",
    "    #print(\"El periodo es \", r)\n",
    "\n",
    "    return [lista,r]"
   ]
  },
  {
   "cell_type": "code",
   "execution_count": 65,
   "id": "8da1c771-f9e6-469c-b06e-cedcd94ead0f",
   "metadata": {
    "tags": []
   },
   "outputs": [
    {
     "name": "stdout",
     "output_type": "stream",
     "text": [
      "1 | []... | 2 | 1 | 15\n",
      "\n",
      "2 | []... | 4 | 5 | 3\n",
      "\n",
      "4 | []... | 2 | 5 | 3\n",
      "\n",
      "7 | []... | 4 | 5 | 3\n",
      "\n",
      "8 | []... | 4 | 5 | 3\n",
      "\n",
      "11 | []... | 2 | 3 | 5\n",
      "\n",
      "13 | []... | 4 | 5 | 3\n",
      "\n",
      "14 | []... | 2 | 15 | 1\n",
      "\n"
     ]
    }
   ],
   "source": [
    "N=15\n",
    "\n",
    "#para diferentes valores de a, calcula secuencia, periodo y posibles p y q y muestra resultados\n",
    "\n",
    "for ind in range(1,N):\n",
    "    resultado = find_period_classical(ind,N)\n",
    "    if resultado[1]%2 == 0:\n",
    "        p = math.gcd(int(ind**(resultado[1]/2)+1),N)\n",
    "        q = math.gcd(int(ind**(resultado[1]/2)-1),N)\n",
    "        print(f\"{ind} | {resultado[0][:10]}... | {resultado[1]} | {p} | {q}\\n\")"
   ]
  },
  {
   "cell_type": "markdown",
   "id": "548857cb-804b-4de5-9ca8-16ae43511be8",
   "metadata": {},
   "source": [
    "Como puede verse, cualquier valor de $a$ excepto $1$ y $14$ devolverá los factores de $15$, es decir, $3$ y $5$. \n",
    "\n",
    "Vemos que $1$ y $14$ son ejemplos del caso especial donde $(a^{r/2} + 1)$ o $(a^{r/2} - 1)$ es un múltiplo de $N$ y por lo tanto hay que intentarlo con otro $a$. \n",
    "\n",
    "En general, se puede demostrar que este caso especial ocurre con poca frecuencia, por lo que, en promedio, sólo dos llamadas a la máquina de búsqueda de períodos son suficientes para factorizar $N$."
   ]
  },
  {
   "cell_type": "markdown",
   "id": "bb664aa2-762c-4a08-ba23-c032e3028519",
   "metadata": {},
   "source": [
    "#### EJERCICIO"
   ]
  },
  {
   "cell_type": "markdown",
   "id": "65ef4d47-0e13-418a-90f1-6021370e2539",
   "metadata": {},
   "source": [
    "Crea una funcion que implemente el algoritmo de Miller, tomando como entrada un número $N$ y devolviendo sus factores $p$ y $q$"
   ]
  },
  {
   "cell_type": "code",
   "execution_count": 79,
   "id": "e81f1f56-4d32-43a7-9b8f-5009de4fe414",
   "metadata": {
    "tags": []
   },
   "outputs": [
    {
     "name": "stdout",
     "output_type": "stream",
     "text": [
      "semiprime N = 21, coprime a = 1, period r = 2, prime factors = 1 and 21\n"
     ]
    }
   ],
   "source": [
    "#calcula la funcion que implementa en algoritmo de Miller\n",
    "def miller_algorithm_classical(N):\n",
    "    #tu codigo\n",
    "    a = np.random.randint(N-1)\n",
    "\n",
    "    if math.gcd(a,N) == 1:\n",
    "        encontrado = 1\n",
    "        while encontrado:\n",
    "            r = find_period_classical(a,N)[1]\n",
    "            if r%2 == 1:\n",
    "                a = np.random.randint(N-1)\n",
    "            else:\n",
    "                p = math.gcd(int(a**(int(r/2))+1),N)\n",
    "                q = math.gcd(int(a**(int(r/2))-1),N)\n",
    "                encontrado = 0\n",
    "    else:\n",
    "        r = -1\n",
    "        p = a\n",
    "        q = N/a\n",
    "\n",
    "    return a,r,p,q\n",
    "\n",
    "#La probamos para fafctorizar un numero N\n",
    "N = 21\n",
    "a,r,p,q = miller_algorithm_classical(N)\n",
    "print(\"semiprime N = \",N,\", coprime a = \",a,\", period r = \",r,\", prime factors = \",p,\" and \",q,sep=\"\")"
   ]
  },
  {
   "cell_type": "markdown",
   "id": "b0d72f84-3328-4b68-a0e5-0c7ba0ab48d8",
   "metadata": {},
   "source": [
    "Con el siguiente codigo podemos calcular un número mayor $N$ semiprimo. Usando la [tabla de Eratóstenes](https://en.wikipedia.org/wiki/Sieve_of_Eratosthenes) [implementación de Python](http://archive.oreilly.com/pub/a/python/excerpt/pythonckbk_chap1/index1.html), generemos una lista de todos los números primos menores que diez mil, por ejemplo, seleccionamos dos al azar y los multiplícamos."
   ]
  },
  {
   "cell_type": "code",
   "execution_count": null,
   "id": "25258707-a8b5-478d-ae7d-8a66bf608477",
   "metadata": {
    "tags": []
   },
   "outputs": [],
   "source": [
    "import random, itertools\n",
    "\n",
    "# Sieve of Eratosthenes algorithm\n",
    "def sieve( ):\n",
    "    D = {  }\n",
    "    yield 2\n",
    "    for q in itertools.islice(itertools.count(3), 0, None, 2):\n",
    "        p = D.pop(q, None)\n",
    "        if p is None:\n",
    "            D[q*q] = q\n",
    "            yield q\n",
    "        else:\n",
    "            x = p + q\n",
    "            while x in D or not (x&1):\n",
    "                x += p\n",
    "            D[x] = p\n",
    "\n",
    "# Creates a list of prime numbers up to the given argument\n",
    "def get_primes_sieve(n):\n",
    "    return list(itertools.takewhile(lambda p: p<n, sieve()))\n",
    "\n",
    "def get_semiprime(n):\n",
    "    primes = get_primes_sieve(n)\n",
    "    l = len(primes)\n",
    "    p = primes[random.randrange(l)]\n",
    "    q = primes[random.randrange(l)]\n",
    "    return p*q\n",
    "\n",
    "N = get_semiprime(10000)\n",
    "\n",
    "p,q,N = get_semiprime(10000)\n",
    "\n",
    "print('factores generados p=',p,'q=',q)\n",
    "print(\"semiprime N =\",N)"
   ]
  },
  {
   "cell_type": "markdown",
   "id": "fba56f31-8f21-4ddb-a9e6-f8f47809da3a",
   "metadata": {
    "tags": []
   },
   "source": [
    "Utilizalo para calcular la factorizacion de un $N$ mayor"
   ]
  },
  {
   "cell_type": "code",
   "execution_count": null,
   "id": "87f07eca-5a7e-48ed-8787-31fa4ef07fd3",
   "metadata": {
    "tags": []
   },
   "outputs": [],
   "source": [
    "#utiliza la funcion miller_algorithm_classical y obten los resultados\n"
   ]
  },
  {
   "cell_type": "markdown",
   "id": "87d9e385-01e7-4baf-b677-6fd93a3a367d",
   "metadata": {},
   "source": [
    "## Algoritmo de Shor"
   ]
  },
  {
   "cell_type": "markdown",
   "id": "8e3a9609-c5d0-4929-a27a-e43aa71c1d01",
   "metadata": {},
   "source": [
    "El algoritmo de Shor, que lleva el nombre del matemático Peter Shor, es un algoritmo cuántico de tiempo polinómico para la factorización de enteros formulado en [1994](http://epubs.siam.org/doi/10.1137/S0097539795293172) . Podría decirse que es el ejemplo más dramático de cómo el paradigma de la computación cuántica cambió nuestra percepción sobre qué problemas computacionales deberían considerarse manejables, lo que motivó el estudio de nuevos algoritmos cuánticos y los esfuerzos para diseñar y construir computadoras cuánticas. También ha acelerado la investigación de nuevos criptosistemas que no se basen en la factorización de números enteros.\n",
    "\n",
    "El algoritmo de Shor ha sido realizado experimentalmente por varios equipos para números enteros compuestos específicos. El $15$ compuesto se factorizó por primera vez en $3 \\times 5$ en [2001](https://www.nature.com/nature/journal/v414/n6866/full/414883a.html) utilizando siete qubits de RMN, y desde entonces ha se implementó utilizando cuatro qubits de fotones en 2007 por [dos](https://journals.aps.org/prl/abstract/10.1103/PhysRevLett.99.250504) [equipos](https://journals.aps.org/prl/abstract/10.1103/PhysRevLett.99.250505), tres qubits de estado sólido en [2012](https://www.nature.com/nphys/journal/v8/n10/full/nphys2385.html) y cinco qubits de iones atrapados en [2016](http://science.sciencemag.org/content/351/6277/1068). El $21$ compuesto también se factorizó en $3 \\times 7$ en [2012](http://www.nature.com/nphoton/journal/v6/n11/full/nphoton.2012.259.html) usando un qubit de fotones y qutrit (un sistema de tres niveles). Tambien hay que tener en cuenta que estas demostraciones experimentales se basan en optimizaciones significativas del algoritmo de Shor basadas en el conocimiento a priori de los resultados esperados. \n",
    "\n",
    "En general, se necesitan $2 + \\frac{3}{2}\\log_2N$ qubits para factorizar el entero compuesto $N$, lo que significa que se necesitarían al menos $1,154$ qubits para factorizar $RSA-768$ que comentabamos arriba."
   ]
  },
  {
   "cell_type": "code",
   "execution_count": null,
   "id": "ddff83f1-512a-4d02-80e8-50d5dd9d969d",
   "metadata": {
    "tags": []
   },
   "outputs": [],
   "source": [
    "from IPython.display import IFrame\n",
    "IFrame(\"https://www.youtube.com/embed/hOlOY7NyMfs?start=75&end=126\",560,315)"
   ]
  },
  {
   "cell_type": "markdown",
   "id": "474abb51-007e-4435-9950-7331a4d60a57",
   "metadata": {},
   "source": [
    "Como Peter Shor describe en el vídeo de arriba de [PhysicsWorld](http://physicsworld.com/cws/article/multimedia/2015/sep/30/what-is-shors-factoring-algorithm), el algoritmo de Shor se compone de tres partes. La primera parte utiliza la estrategia de convertir el problema de factorización en un problema de búsqueda de períodos, que se puede calcular en una computadora clásica. La segunda parte encuentra el período utilizando la transformada cuántica de Fourier y es responsable de la aceleración cuántica del algoritmo. La tercera parte utiliza el período encontrado para calcular los factores.\n",
    "\n",
    "Los pasos para la factorizacion son los siguientes:\n",
    "\n",
    "<img src=\"https://media.discordapp.net/attachments/1012968177258483802/1198660368977907712/image.png\" width=\"500\" height=\"600\">"
   ]
  },
  {
   "cell_type": "markdown",
   "id": "243e6b9d-f762-4cea-a1cb-09c88775122c",
   "metadata": {},
   "source": [
    "Ya conocemos la parte clasica, nos centraremos en la **subrutina cuantica** para calcular el periodo de la funcion de exponenciacion modular que constituye el algoritmo de Shor"
   ]
  },
  {
   "cell_type": "markdown",
   "id": "a3836faa-e023-40db-b8e2-4c9a3f573be6",
   "metadata": {},
   "source": [
    "### Exponenciacion modular"
   ]
  },
  {
   "cell_type": "markdown",
   "id": "f59afe06-8733-4487-8d9a-ee6fd38b0cc7",
   "metadata": {},
   "source": [
    "Un ordenador cuántico es capaz de encontrar de forma eficiente el periodo de $a^x\\;mod\\;N$ usando una puerta $U$ que sea capaz de hacer la multiplicación modular $U|y⟩ = |ay\\;mod N⟩$\n",
    "\n",
    "Aplicando U varias veces a |1⟩ obtenemos la operacion de exponenciacion modular, porque la exponenciacion es la repeticion de la multiplicacion:\n",
    "\n",
    "\\begin{equation}\n",
    "  U^0|1⟩=|1\\;mod\\;N⟩=|a^0\\;mod\\;N⟩\n",
    "\\end{equation}\n",
    "\\begin{equation}\n",
    "  U^1|1⟩=|a\\;mod\\;N⟩=|a^1\\;mod\\;N⟩\n",
    "\\end{equation}\n",
    "\\begin{equation}\n",
    "  U^2|1⟩=|a^2\\;mod\\;N⟩\n",
    "\\end{equation}\n",
    "\\begin{equation}\n",
    "  U^3|1⟩=|a^3\\;mod\\;N⟩\n",
    "\\end{equation}\n",
    "\\begin{equation}\n",
    "  ...\n",
    "\\end{equation}\n",
    "\\begin{equation}\n",
    "  U^r|1⟩=|a^r\\;mod\\;N⟩=|1\\;mod\\;N⟩\n",
    "\\end{equation}\n",
    "\n",
    "Como la exponenciación es modulo *N*, $y$ es un numero que cumple $0 \\leq y \\leq N-1$ y si $N$ necesita n bits, entonces |y⟩ tambien."
   ]
  },
  {
   "cell_type": "markdown",
   "id": "73383702-8c7e-4a24-a2d9-bdd4640eeb3e",
   "metadata": {},
   "source": [
    "#### EJERCICIO"
   ]
  },
  {
   "cell_type": "markdown",
   "id": "cc49c504-55bc-4d21-9dbc-4d632595c8fd",
   "metadata": {},
   "source": [
    "Dado $N=21$ y $a=2$ tenemos el siguiente circuito que implementa $U|y⟩ = |2y\\;mod 21⟩$"
   ]
  },
  {
   "cell_type": "code",
   "execution_count": null,
   "id": "68be617d-922d-4f9f-85f4-c615a14c4d41",
   "metadata": {
    "tags": []
   },
   "outputs": [],
   "source": [
    "N=21\n",
    "n= int(np.ceil(log(N+1,2)))  #5 bits\n",
    "\n",
    "U = QuantumCircuit(n)\n",
    "#Circuito: Uy = 2y mod 21\n",
    "U.cswap(0,3,4)\n",
    "U.cswap(0,1,2)\n",
    "U.cx(4, 2)\n",
    "U.cx(4, 0)\n",
    "U.swap(3,4)\n",
    "U.swap(0,3)\n",
    "U.swap(3,2)\n",
    "U.swap(2,1)\n",
    "U.draw('mpl')"
   ]
  },
  {
   "cell_type": "markdown",
   "id": "5ab98b47-c776-4c37-9fcb-fd97114c9543",
   "metadata": {},
   "source": [
    "Calcula el resultado de aplicar U sucesivamente al vector de estados |1> y comprueba que el resultado es la secuencia de exponenciacion modular que esperamos en el caso clasico. Para comprobar el resultado de la secuencia de exponenciacion, utiliza la evolucion del vector de estados y medida de resultados de la evolucion que pueden calcularse de la clase [Statevector](https://docs.quantum.ibm.com/api/qiskit/qiskit.quantum_info.Statevector).\n",
    "\n",
    "Muestra los resultados con el siguiente formato:\n",
    "```\n",
    "Apply U^0 times to |1> gives 1\n",
    "Apply U^1 times to |1> gives 2\n",
    "Apply U^2 times to |1> gives 4\n",
    "Apply U^3 times to |1> gives 8\n",
    "Apply U^4 times to |1> gives 16\n",
    "Apply U^5 times to |1> gives 11\n",
    "Apply U^6 times to |1> gives 1\n",
    "Apply U^7 times to |1> gives 2\n",
    "Apply U^8 times to |1> gives 4\n"
   ]
  },
  {
   "cell_type": "code",
   "execution_count": null,
   "id": "14784fef-ec68-4abe-97be-db7cd28eed78",
   "metadata": {
    "tags": []
   },
   "outputs": [],
   "source": [
    "#caso clasico - calcula la secuencia y el periodo de la funcion de exponenciacion modular para a=2 y N=21\n",
    "#2 [2, 3, 0, 1, 6, 7, 4, 5, 10, 11, 8, 9]  Periodo r=  6  p= 1 q= 3\n"
   ]
  },
  {
   "cell_type": "code",
   "execution_count": null,
   "id": "3f9cf6d4-ebd3-44df-9141-f063c89c4d85",
   "metadata": {
    "tags": []
   },
   "outputs": [],
   "source": [
    "#caso cuantico - calcula la secuencia de la funcion de exponenciacion modular para a=2 y N=21\n",
    "\n",
    "#repite en bucle las siguientes operaciones:\n",
    "#  crea el vector de estados con valor entero 1\n",
    "#  evolucionalo aplicando el circuito U\n",
    "#  mide el valor entero que resulta tras la ejecucion y actualiza el valor entero del vector de estaddos\n",
    "\n"
   ]
  },
  {
   "cell_type": "markdown",
   "id": "894b72cf-ac0a-423a-a2ff-b34a4db565a0",
   "metadata": {},
   "source": [
    "### Encontrar el periodo de la funcion de exponenciacion modular cuantica"
   ]
  },
  {
   "cell_type": "markdown",
   "id": "fd37fa30-dcaa-40ac-814f-47af0dee7a26",
   "metadata": {},
   "source": [
    "Se da el caso de que dado un valor entero $s \\in [1,r-1]$,  el vector $|u_s>$ definido como la superposicion de todos los estados de un ciclo es un vector propio de $U$ con valor propio $\\frac{2\\pi i s}{r}$\n",
    "\n",
    "$$|u_s\\rangle = \\tfrac{1}{\\sqrt{r}}\\sum_{k=0}^{r-1}{e^{-\\tfrac{2\\pi i s k}{r}}|a^k \\bmod N\\rangle} $$\n",
    "\n",
    "$$\\begin{aligned}\n",
    "U|u_s\\rangle &= \\tfrac{1}{\\sqrt{r}}\\sum_{k=0}^{r-1}{e^{-\\tfrac{2\\pi i s k}{r}} U |a^k \\bmod N\\rangle} = e^{\\tfrac{2\\pi i s}{r}}|u_s\\rangle\n",
    "\\end{aligned}\n",
    "$$\n",
    "\n",
    "De forma que si utilizamos el algoritmo de estimacion de fase (QPE) y estimamos este valor propio de U podemos encontrar la fraccion $\\frac{s}{r}$ y a partir de ella el valor del periodo $r$ de la exponenciacion modular. Para esto ultimo, usamos el algoritmo de las fracciones continuadas (incluido en la librería standard de python [Fraction](https://docs.python.org/3.10/library/fractions.html)"
   ]
  },
  {
   "cell_type": "markdown",
   "id": "94548f36-10f0-4404-a220-092065c2dbce",
   "metadata": {},
   "source": [
    "Para implementar el algoritmo de estimacion de fase necesitamos dos cosas:\n",
    "\n",
    "*  Construir las puertas controladas U (CU) que implementan la version de puerta controlada de la exponenciacion modular\n",
    "*  Contruir el vector $|u_s>$ vector porpio\n",
    "\n",
    "Lo primero, se trata de construir un circuito que implemente la funcion de exponenciaciion modular para unos valores dados de $a$ y $N$ algo que nos vendra dado, porque no es una tarea trivial.\n",
    "\n",
    "Para lo segundo, en lugar de construir un vector propio de $U$ para utilizar en el algoritmo de estimacion de fase, utilizaremos el vector superposicion de todos sus estados que puede demostrarse que es:\n",
    "\n",
    "$$ \\tfrac{1}{\\sqrt{r}}\\sum_{s=0}^{r-1} |u_s\\rangle = |1\\rangle$$\n",
    "\n",
    "Por lo tanto se trata de un vector mas sencillo de implementar, lo que significa que si hacemos QPE en $U$ usando el estado $|1\\rangle$, mediremos una fase:\n",
    "\n",
    "$$\\phi = \\frac{s}{r}$$\n",
    "\n",
    "para los diferentes valores de $s$ entre $0$ y $r-1$ con probabilidad $\\frac{1}{r}$.\n",
    "\n",
    "El diagrama del circuito se ve así siguiendo la convención de ordenamiento de qubits de Qiskit:\n",
    "\n",
    "<img src=\"https://media.discordapp.net/attachments/1012968177258483802/1198688111610302647/image.png\">"
   ]
  },
  {
   "cell_type": "markdown",
   "id": "e12fb71b-23d0-4528-9c49-5350c16364ea",
   "metadata": {},
   "source": [
    "### Implementacion en Qiskit"
   ]
  },
  {
   "cell_type": "markdown",
   "id": "017f40be-f33a-47a1-99ae-bd8bac3d5fe6",
   "metadata": {},
   "source": [
    "Por lo general el numero de qubits m para implementar el registro contador donde recogeremos la estimacion de la fase $\\frac{s}{r}$ debe de ser el menor $m$ que cumple $N^2<2^m<2N^2$"
   ]
  },
  {
   "cell_type": "code",
   "execution_count": null,
   "id": "15f5e295-858c-430c-b7b3-cf388dfe4010",
   "metadata": {
    "tags": []
   },
   "outputs": [],
   "source": [
    "N=15\n",
    "n= int(np.ceil(log(N+1,2)))            #4 bits\n",
    "m= int(np.ceil(log(np.power(N,2),2)))  #minimo 8 qubits\n",
    "print('n=',n, 'm=', m)"
   ]
  },
  {
   "cell_type": "markdown",
   "id": "a7efaaea-9b16-4791-9580-06b64b0f5841",
   "metadata": {},
   "source": [
    "Creamos una funcion implementa las puertas controladas de exponenciacion modular de $N=15$ para diferentes valores de $a \\in { 2,4,7,8,11, 13}$ elevadas a una potencia."
   ]
  },
  {
   "cell_type": "code",
   "execution_count": null,
   "id": "e35215ff-5b29-44ed-8190-0014fabf0ee8",
   "metadata": {
    "tags": []
   },
   "outputs": [],
   "source": [
    "def c_amod15(a, power):\n",
    "    \"\"\"Controlled multiplication by a mod 15\"\"\"\n",
    "    if a not in [2,4,7,8,11,13]:\n",
    "        raise ValueError(\"'a' must be 2,4,7,8,11 or 13\")\n",
    "    U = QuantumCircuit(4)\n",
    "    for _iteration in range(power):\n",
    "        if a in [2,13]:\n",
    "            U.swap(2,3)\n",
    "            U.swap(1,2)\n",
    "            U.swap(0,1)\n",
    "        if a in [7,8]:\n",
    "            U.swap(0,1)\n",
    "            U.swap(1,2)\n",
    "            U.swap(2,3)\n",
    "        if a in [4, 11]:\n",
    "            U.swap(1,3)\n",
    "            U.swap(0,2)\n",
    "        if a in [7,11,13]:\n",
    "            for q in range(4):\n",
    "                U.x(q)\n",
    "    U = U.to_gate()\n",
    "    U.name = f\"{a}^{power} mod 15\"\n",
    "    c_U = U.control()\n",
    "    return c_U"
   ]
  },
  {
   "cell_type": "markdown",
   "id": "e351ab65-dd68-4486-b70c-a9cf35ca1f47",
   "metadata": {},
   "source": [
    "Tomamos la funcion de QFT inversa"
   ]
  },
  {
   "cell_type": "code",
   "execution_count": null,
   "id": "ea5b4742-4729-4051-91ba-bd51ef547bf8",
   "metadata": {
    "tags": []
   },
   "outputs": [],
   "source": [
    "def qft_dagger(n):\n",
    "    \"\"\"n-qubit QFTdagger the first n qubits in circ\"\"\"\n",
    "    qc = QuantumCircuit(n)\n",
    "    # Don't forget the Swaps!\n",
    "    for qubit in range(n//2):\n",
    "        qc.swap(qubit, n-qubit-1)\n",
    "    for j in range(n):\n",
    "        for m in range(j):\n",
    "            qc.cp(-np.pi/float(2**(j-m)), m, j)\n",
    "        qc.h(j)\n",
    "    qc.name = \"QFT†\"\n",
    "    return qc"
   ]
  },
  {
   "cell_type": "markdown",
   "id": "e218c137-567f-4070-8106-a98a5cc544b3",
   "metadata": {},
   "source": [
    "#### EJERCICIO"
   ]
  },
  {
   "cell_type": "markdown",
   "id": "33f9f22c-dc99-485d-bd12-7fb67d97ab1d",
   "metadata": {},
   "source": [
    "Construimos el algoritmo de QPE para $a=7$, medimos el registro de conteo y obtenemos los posibles valores de fase para calcular el periodo de la funcion"
   ]
  },
  {
   "cell_type": "code",
   "execution_count": null,
   "id": "d2ca4f08-91c5-40fc-93c8-58f47215b571",
   "metadata": {
    "tags": []
   },
   "outputs": [],
   "source": [
    "a=7"
   ]
  },
  {
   "cell_type": "code",
   "execution_count": null,
   "id": "88ecb732-c6bf-4578-9de3-e2fca75aee1f",
   "metadata": {
    "tags": []
   },
   "outputs": [],
   "source": [
    "# Create QuantumCircuit with m counting qubits\n",
    "# plus n qubits for U to act on\n",
    "qc = \n",
    "\n",
    "# Initialize counting qubits\n",
    "# in state |+>\n",
    "\n",
    "\n",
    "# And auxiliary register in state |1>\n",
    "\n",
    "\n",
    "# Do controlled-U operations\n",
    "\n",
    "\n",
    "# append inverse-QFT\n",
    "\n",
    "\n",
    "# Measure  and draw circuit\n"
   ]
  },
  {
   "cell_type": "code",
   "execution_count": null,
   "id": "30c5fa43-855a-41e5-a412-74aa3537a273",
   "metadata": {
    "tags": []
   },
   "outputs": [],
   "source": [
    "#measure the circuit\n"
   ]
  },
  {
   "cell_type": "markdown",
   "id": "ab2e1b13-91c2-40db-b44c-c97b4f288a2f",
   "metadata": {},
   "source": [
    "En los resultados tenemos el valor binario medido de $2^m \\phi$ que es la fraccion $\\frac{s}{r}$ y a partir de ella podemos calcular el valor del periodo $r$ de la exponenciacion modular. Para ello usamos el algoritmo de las fracciones continuadas (incluido en la librería standard de python [Fraction](https://docs.python.org/3.10/library/fractions.html))"
   ]
  },
  {
   "cell_type": "code",
   "execution_count": null,
   "id": "0dd0a320-126c-430b-ae88-ecb934dafdba",
   "metadata": {
    "tags": []
   },
   "outputs": [],
   "source": [
    "#ejemplo uso de Fraction\n",
    "# Get fraction that most closely resembles 0.666\n",
    "# with denominator < 15\n",
    "frac=Fraction(0.666).limit_denominator(15)\n",
    "print(frac)\n",
    "print(frac.denominator)"
   ]
  },
  {
   "cell_type": "markdown",
   "id": "d028718f-1092-49e9-8459-e5047b9a4e08",
   "metadata": {},
   "source": [
    "#### EJERCICIO"
   ]
  },
  {
   "cell_type": "markdown",
   "id": "9f9119f1-0fd7-4064-926c-2fe84bdb8fc6",
   "metadata": {},
   "source": [
    "Saca por pantalla el valor obtenido en el registro de conteo $2^m \\phi$ en binario, decimal y el valor de $\\phi$\n",
    "\n",
    "Utiliza la librería [Fraction](https://docs.python.org/3.10/library/fractions.html) y calcula tambien el valor de r\n",
    "\n",
    "Finalmente, para los valores de $r$ par calcula los posibles valores de los factores de $N$"
   ]
  },
  {
   "cell_type": "code",
   "execution_count": null,
   "id": "2a4b56ea-a524-49e4-bb73-e10d734bb2e9",
   "metadata": {
    "tags": []
   },
   "outputs": [],
   "source": [
    "#para todos los valores medidos de counts calcula e imprime los siguientes datos\n",
    "print('Binario - Decimal - Fase - Fraccion - Periodo')\n",
    "\n",
    "#tambien recoge en una lista todos los posibles periodos\n",
    "periodos=[]\n"
   ]
  },
  {
   "cell_type": "markdown",
   "id": "d5a59206-04c4-4614-948e-a50fc59c0815",
   "metadata": {},
   "source": [
    "Podemos ver que dos de los valores propios medidos nos proporcionaron el resultado correcto: $r=4$, y podemos ver que el algoritmo de Shor tiene posibilidades de fallar. Estos malos resultados se deben a que $s = 0$, o porque $s$ y $r$ no son coprimos y en lugar de $r$ nos dan un factor de $r$. La solución más sencilla a esto es simplemente repetir el experimento hasta obtener un resultado satisfactorio para $r$."
   ]
  },
  {
   "cell_type": "code",
   "execution_count": null,
   "id": "19904e1f-e359-491d-af29-6312c6f7b24a",
   "metadata": {
    "tags": []
   },
   "outputs": [],
   "source": [
    "#para los periodos anteriores recogidos en la lista, calcula posibles factores cuando sea par el periodo\n"
   ]
  },
  {
   "cell_type": "markdown",
   "id": "31003cec-45ec-43db-8542-98fa0925fe39",
   "metadata": {},
   "source": [
    "#### EJERCICIO"
   ]
  },
  {
   "cell_type": "markdown",
   "id": "6bb1b702-7cdb-48ba-8b92-f7c312ee57db",
   "metadata": {},
   "source": [
    "Estima el periodo de la funcion de exponenciacion modular para el caso $a=2$ con $N=21$ con el circuito del operador $U$ utilizado anteriormente.\n",
    "\n",
    "De los resultados de periodo obtenidos, calcula los posibles factores de $N=21$"
   ]
  },
  {
   "cell_type": "code",
   "execution_count": null,
   "id": "6debb68c-0ffd-4d41-b7db-af2e56ff371b",
   "metadata": {
    "tags": []
   },
   "outputs": [],
   "source": [
    "N=21\n",
    "a=2\n",
    "\n"
   ]
  },
  {
   "cell_type": "markdown",
   "id": "e441bf77-2c47-4bd9-a0d8-1f0c69f158e4",
   "metadata": {},
   "source": [
    "#### EJERCICIO"
   ]
  },
  {
   "cell_type": "markdown",
   "id": "cbef550a-2d55-442c-bab6-24d11b62ba00",
   "metadata": {},
   "source": [
    "Ejecuta el Algoritmo de Shor para factorizar el numero $N=15$ en un circuito con ruido para $a=7$\n",
    "\n",
    "Obten las fases y posibles periodos obtenidos en la medicion con ruido"
   ]
  },
  {
   "cell_type": "code",
   "execution_count": null,
   "id": "3bcc29b2-d285-4de8-9590-08dd8a185834",
   "metadata": {},
   "outputs": [],
   "source": []
  },
  {
   "cell_type": "markdown",
   "id": "009c28a9-f719-4243-a6d1-427f1e6acb46",
   "metadata": {},
   "source": [
    "#### EJERCICIO"
   ]
  },
  {
   "cell_type": "markdown",
   "id": "d36b4e7c-3455-4310-8144-f630cd381fc3",
   "metadata": {},
   "source": [
    "Implementa el algoritmo de factorizacion de $N=15$ siguiendo los pasos del Algoritmo de Shor con su subrutina cuantica que se recogen en la figura\n",
    "\n",
    "<img src=\"https://media.discordapp.net/attachments/1012968177258483802/1198660368977907712/image.png\" width=\"300\" height=\"300\">"
   ]
  },
  {
   "cell_type": "code",
   "execution_count": null,
   "id": "7883c884-d022-4c10-9787-cd920ac4f386",
   "metadata": {},
   "outputs": [],
   "source": [
    "N=15\n"
   ]
  }
 ],
 "metadata": {
  "kernelspec": {
   "display_name": "Qiskit v0.45.2 (ipykernel)",
   "language": "python",
   "name": "python3"
  },
  "language_info": {
   "codemirror_mode": {
    "name": "ipython",
    "version": 3
   },
   "file_extension": ".py",
   "mimetype": "text/x-python",
   "name": "python",
   "nbconvert_exporter": "python",
   "pygments_lexer": "ipython3",
   "version": "3.10.13"
  },
  "widgets": {
   "application/vnd.jupyter.widget-state+json": {
    "state": {},
    "version_major": 2,
    "version_minor": 0
   }
  }
 },
 "nbformat": 4,
 "nbformat_minor": 5
}
