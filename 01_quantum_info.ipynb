{
  "cells": [
    {
      "cell_type": "markdown",
      "metadata": {
        "id": "bdGooIiuhHzD"
      },
      "source": [
        "<div>\n",
        "<img src=\"https://www.nebrija.com/images/logos/logotipo-universidad-nebrija.jpg\" width=\"200\">\n",
        "</div>\n",
        "\n",
        "**ALGORITMOS** -\n",
        "Prof: Carmen Pellicer Lostao"
      ]
    },
    {
      "cell_type": "markdown",
      "metadata": {
        "id": "gHi1AIERhfdR"
      },
      "source": [
        "# Informacion Cuántica\n",
        "\n",
        "En este notebook vemos los estados cuanticos y su representacion matemática,  como se describen los operadores cuanticos para la transformacion de estados y en general las herramientas que tenemos en Python para manipular la info cuantica.\n",
        "\n",
        "En qiskit exite una libreria para trabajar con la [información cuántica](https://docs.quantum.ibm.com/api/qiskit/quantum_info)\n",
        "\n"
      ]
    },
    {
      "cell_type": "markdown",
      "metadata": {
        "id": "xIuca8PQ6JR2"
      },
      "source": [
        "Qiskit es una libreria que se apoya en la librería estandard de python y en las librerías de calculos numericos (como por ejemplot: [math](https://docs.python.org/3.10/library/math.html), [cmath](https://docs.python.org/3.10/library/cmath.html) y [numpy](https://numpy.org/doc/stable/user/index.html)). Veamos unos ejercicios basicos de python para manipular información cuántica."
      ]
    },
    {
      "cell_type": "markdown",
      "metadata": {
        "id": "lsNiGYe36PPG"
      },
      "source": [
        "## Informacion binaria en Python"
      ]
    },
    {
      "cell_type": "markdown",
      "metadata": {
        "id": "XPNXOfGxhHzU"
      },
      "source": [
        "#### EJERCICIO\n",
        "\n",
        "Dada una cadena binaria '011001' de 6 bits codificada como $b_{n-1},b_{n-2}...b_1,b_0$ encontrar:\n",
        "\n",
        "- el numero de bits que contiene\n",
        "- el valor del bit más significativo  $b_5$\n",
        "- el valor del bit menos significativo $b_0$\n",
        "- el valor del bit $b_3$\n",
        "\n",
        "Utilizando el direccionamiento de indices de empezando por la izquierda y por la derecha"
      ]
    },
    {
      "cell_type": "code",
      "execution_count": 1,
      "metadata": {
        "colab": {
          "base_uri": "https://localhost:8080/"
        },
        "id": "PXqv10D2pzVX",
        "outputId": "44903c4a-03ba-4020-a5b5-28cb94ec449e"
      },
      "outputs": [
        {
          "name": "stdout",
          "output_type": "stream",
          "text": [
            "Número de bits (izquierda): 6\n",
            "Bit más significativo (izquierda): 0\n",
            "Bit menos significativo (izquierda): 1\n",
            "Bit en la posición 3 (izquierda): 1\n",
            "\n",
            "Número de bits (derecha): 6\n",
            "Bit más significativo (derecha): 1\n",
            "Bit menos significativo (derecha): 0\n",
            "Bit en la posición 3 (derecha): 1\n"
          ]
        }
      ],
      "source": [
        "bits='011001'\n",
        "#indices empezando por la izq      012345\n",
        "num_bits_izq = len(bits[::1])\n",
        "bit_sig_izq = bits[0]\n",
        "bit_nsig_izq = bits[-1]\n",
        "bit3_izq = bits[2]\n",
        "\n",
        "#indices empezando por la derecha -6-5-4-3-2-1\n",
        "num_bits_der = len(bits[::-1])\n",
        "bit_sig_der = bits[-1]\n",
        "bit_nsig_der = bits[0]\n",
        "bit3_der = bits[-4]\n",
        "\n",
        "print(f\"Número de bits (izquierda): {num_bits_izq}\")\n",
        "print(f\"Bit más significativo (izquierda): {bit_sig_izq}\")\n",
        "print(f\"Bit menos significativo (izquierda): {bit_nsig_izq}\")\n",
        "print(f\"Bit en la posición 3 (izquierda): {bit3_izq}\")\n",
        "\n",
        "print(f\"\\nNúmero de bits (derecha): {num_bits_der}\")\n",
        "print(f\"Bit más significativo (derecha): {bit_sig_der}\")\n",
        "print(f\"Bit menos significativo (derecha): {bit_nsig_der}\")\n",
        "print(f\"Bit en la posición 3 (derecha): {bit3_der}\")"
      ]
    },
    {
      "cell_type": "markdown",
      "metadata": {
        "id": "My03zHu2hHzd"
      },
      "source": [
        "### EJERCICIO\n",
        "\n",
        "Dada una lista de pyhton que contiene medidas de resultado de un circuito cuántico, calcular:\n",
        "\n",
        "- Cuantas medidas hay en la lista\n",
        "- La primera medida\n",
        "- La ultima\n",
        "- Si la cadena '01' esta en la lista\n",
        "- Los resultados 50,51 y 52"
      ]
    },
    {
      "cell_type": "code",
      "execution_count": 2,
      "metadata": {
        "id": "e4hRG6eCpzVY"
      },
      "outputs": [],
      "source": [
        "data = ['00', '10', '00', '00', '00', '10', '11', '00', '11', '00', '00', '00', '00', '00', '00', '00', '00', '00', '11', '11', '00', '11', '10', '00', '00', '11', '00', '00', '11', '11', '10', '00', '11', '00', '10', '00', '00', '00', '11', '11', '11', '11', '00', '00', '00', '11', '00', '00', '00', '00', '01', '00', '01', '01', '11', '00', '00', '11', '11', '00', '11', '11', '00', '01', '11', '00', '00', '10', '11', '10', '10', '11', '11', '00', '11', '11', '10', '11', '11', '00', '11', '00', '11', '00', '11', '11', '11', '11', '11', '11', '00', '11', '11', '11', '11', '00', '11', '11', '01', '11']\n"
      ]
    },
    {
      "cell_type": "code",
      "execution_count": 3,
      "metadata": {
        "colab": {
          "base_uri": "https://localhost:8080/"
        },
        "id": "JmcPpCnWqSy2",
        "outputId": "da3dd967-4f4c-4b35-dfd7-5ae7e01f1c0a"
      },
      "outputs": [
        {
          "name": "stdout",
          "output_type": "stream",
          "text": [
            "Cantidad de medidas: 100\n",
            "Primera medida: 00\n",
            "Última medida: 11\n",
            "¿'01' está en la lista?: True\n",
            "Resultado 50: 00\n",
            "Resultado 51: 01\n",
            "Resultado 52: 00\n"
          ]
        }
      ],
      "source": [
        "# Cuántas medidas hay en la lista\n",
        "cantidad_medidas = len(data)\n",
        "\n",
        "# La primera medida\n",
        "primera_medida = data[0]\n",
        "\n",
        "# La última medida\n",
        "ultima_medida = data[-1]\n",
        "\n",
        "# Si la cadena '01' está en la lista\n",
        "cadena_01_presente = '01' in data\n",
        "\n",
        "# Los resultados 50, 51 y 52\n",
        "resultado_50 = data[49]\n",
        "resultado_51 = data[50]\n",
        "resultado_52 = data[51]\n",
        "\n",
        "# Imprimir los resultados\n",
        "print(f\"Cantidad de medidas: {cantidad_medidas}\")\n",
        "print(f\"Primera medida: {primera_medida}\")\n",
        "print(f\"Última medida: {ultima_medida}\")\n",
        "print(f\"¿'01' está en la lista?: {cadena_01_presente}\")\n",
        "print(f\"Resultado 50: {resultado_50}\")\n",
        "print(f\"Resultado 51: {resultado_51}\")\n",
        "print(f\"Resultado 52: {resultado_52}\")\n"
      ]
    },
    {
      "cell_type": "markdown",
      "metadata": {
        "id": "GLTmeDvWhHzj"
      },
      "source": [
        "### EJERCICIO\n",
        "\n",
        "Tenemos un diccionario que contiene el resultado de medidas de un circuito de 4 qubits.\n",
        "\n",
        "Imprime por pantalla el valor de cada resultado de la forma:\n",
        "\n",
        "```\n",
        "resultado -- cuenta\n",
        "0000      -- 106\n",
        "0011      -- 141\n",
        "0101      -- 125\n",
        "0110      -- 135\n",
        "1001      -- 136\n",
        "1010      -- 135\n",
        "1100      -- 104\n",
        "1111      -- 142\n",
        "```"
      ]
    },
    {
      "cell_type": "code",
      "execution_count": 4,
      "metadata": {
        "id": "QcLkxzVKpzVY"
      },
      "outputs": [],
      "source": [
        "counts={'1010': 135, '1111': 142, '0011': 141, '0110': 135, '0101': 125, '0000': 106, '1100': 104, '1001': 136}\n"
      ]
    },
    {
      "cell_type": "code",
      "execution_count": 5,
      "metadata": {
        "colab": {
          "base_uri": "https://localhost:8080/"
        },
        "id": "aQNgeYJmqumA",
        "outputId": "28af370b-77a0-42ae-f0bf-c4cbe5a3fcab"
      },
      "outputs": [
        {
          "name": "stdout",
          "output_type": "stream",
          "text": [
            "resultado -- cuenta\n",
            "1010 -- 135\n",
            "1111 -- 142\n",
            "0011 -- 141\n",
            "0110 -- 135\n",
            "0101 -- 125\n",
            "0000 -- 106\n",
            "1100 -- 104\n",
            "1001 -- 136\n"
          ]
        }
      ],
      "source": [
        "# Imprimir el encabezado\n",
        "print(\"resultado -- cuenta\")\n",
        "\n",
        "# Recorrer el diccionario y mostrar cada resultado y su cuenta\n",
        "for resultado, cuenta in counts.items():\n",
        "    print(f\"{resultado} -- {cuenta}\")"
      ]
    },
    {
      "cell_type": "markdown",
      "metadata": {
        "id": "ihtZj0EN-3-J",
        "tags": []
      },
      "source": [
        "En python es importante que el codigo sea modular y reutilizable, por ello es importante utilizar **funciones**. Una funcion es un bloque de codigo que vamos a usar muchas veces y necesitamos definirlo aparte para poderlo llamar en cualquier momento. Las funciones evitan que repitamos el codigo muchas veces y permiten reutilizarlo, lo que reduce la longitud del codigo, lo hace menos repetitivo y mejora su mantenimiento.\n",
        "\n",
        "Las funciones tomarán parametros de entrada, realizarán una operacion y pueden devolver un resultado. De esta forma cada vez que las llamamos haran una operacion en base a los parametros con las que la llamemos.\n",
        "\n",
        "__Nota:__ En Python las `funciones` son objetos de clases primarias, lo que significa que:\n",
        " - Las funciones son objetos y pueden ser referenciados, pasados a una variable y retornados de como resultado de otra funcion\n",
        " - Las funciones pueden definirse dentro de otra funcion y tambien pasarse como argumentos de otra funcion."
      ]
    },
    {
      "cell_type": "markdown",
      "metadata": {
        "id": "Pj7d6YA9hHzn"
      },
      "source": [
        "### EJERCICIO\n",
        "\n",
        "\n",
        "Tenemos un diccionario que contiene el resultado de medidas de un circuito de 4 qubits.\n",
        "\n",
        "Haz una funcion llamada __count_to_digital_values__ que tome como argumento el resultado de medidas de un circuito de n qubits e imprima por pantalla el valor de cada resultado de la forma:\n",
        "\n",
        "```\n",
        "resultado -- cuenta\n",
        "0000      -- 106\n",
        "0011      -- 141\n",
        "0101      -- 125\n",
        "0110      -- 135\n",
        "1001      -- 136\n",
        "1010      -- 135\n",
        "1100      -- 104\n",
        "1111      -- 142\n",
        "```"
      ]
    },
    {
      "cell_type": "code",
      "execution_count": 6,
      "metadata": {
        "id": "9n7uX9IIhHzn",
        "tags": []
      },
      "outputs": [],
      "source": [
        "def count_to_digital_values(counts):\n",
        "    # Imprimir el encabezado\n",
        "    print(\"resultado -- cuenta\")\n",
        "    # Recorrer el diccionario y mostrar cada resultado y su cuenta\n",
        "    for resultado, cuenta in counts.items():\n",
        "        print(f\"{resultado} -- {cuenta}\")"
      ]
    },
    {
      "cell_type": "code",
      "execution_count": 7,
      "metadata": {
        "id": "q0CiTSk8pzVZ"
      },
      "outputs": [],
      "source": [
        "resultados_counts={'1010': 135, '1111': 142, '0011': 141, '0110': 135, '0101': 125, '0000': 106, '1100': 104, '1001': 136}\n"
      ]
    },
    {
      "cell_type": "code",
      "execution_count": 8,
      "metadata": {
        "colab": {
          "base_uri": "https://localhost:8080/"
        },
        "id": "4Uh68UjfrPBl",
        "outputId": "61780d07-1c93-44c8-b5b0-5b858396558e"
      },
      "outputs": [
        {
          "name": "stdout",
          "output_type": "stream",
          "text": [
            "resultado -- cuenta\n",
            "1010 -- 135\n",
            "1111 -- 142\n",
            "0011 -- 141\n",
            "0110 -- 135\n",
            "0101 -- 125\n",
            "0000 -- 106\n",
            "1100 -- 104\n",
            "1001 -- 136\n"
          ]
        }
      ],
      "source": [
        "count_to_digital_values(resultados_counts)"
      ]
    },
    {
      "cell_type": "markdown",
      "metadata": {
        "id": "erfOTYNYkOjl"
      },
      "source": [
        "## Vectores y matrices en Python"
      ]
    },
    {
      "cell_type": "markdown",
      "metadata": {
        "id": "gu2KnBmRuFDc"
      },
      "source": [
        "### Librerias math\n",
        "\n",
        "[math](https://docs.python.org/3.10/library/math.html)"
      ]
    },
    {
      "cell_type": "markdown",
      "metadata": {
        "id": "GR8GD86XsQP7"
      },
      "source": [
        "#### EJERCICIO\n",
        "\n",
        "Importa las librerias math y calcula: $\\pi$, $\\pi^2$ y $\\frac{1}{\\sqrt(2)}$"
      ]
    },
    {
      "cell_type": "code",
      "execution_count": 9,
      "metadata": {
        "colab": {
          "base_uri": "https://localhost:8080/"
        },
        "id": "6vO4oAqNpzVZ",
        "outputId": "143af5cd-f457-4319-9cc7-7692f134db45"
      },
      "outputs": [
        {
          "name": "stdout",
          "output_type": "stream",
          "text": [
            "Pi:  3.141592653589793\n",
            "Pi^2:  9.869604401089358\n",
            "1/sqrt(2):  0.7071067811865475\n"
          ]
        }
      ],
      "source": [
        "# OPERAIONES Y CONSTANTES MATEMATICAS\n",
        "import math\n",
        "\n",
        "print(\"Pi: \",math.pi)\n",
        "print(\"Pi^2: \",math.pi**2)\n",
        "print(\"1/sqrt(2): \",1/math.sqrt(2))"
      ]
    },
    {
      "cell_type": "markdown",
      "metadata": {
        "id": "DPsXxCRphHzL"
      },
      "source": [
        "#### EJERCICIO\n",
        "\n",
        "Un vector de estados se define en la esfera de Bloch como:\n",
        "\n",
        "$|\\psi|= 𝑐𝑜𝑠(\\frac{𝜃}{2}) |0> + 𝑠𝑖𝑛(\\frac{𝜃}{2}) e^{i𝜙} |1>$\n",
        "\n",
        "donde $𝜃∈[0,𝜋]$  y  $𝜙∈[0,2𝜋)$  son los angulos que el vector de estados forma con los ejes z, y, x respectivamente\n",
        "\n",
        "y donde la ecuacion de Euler nos dice que $e^{i𝜙} = 𝑐𝑜𝑠(𝜙)+i 𝑠𝑖𝑛(𝜙)$\n",
        "\n",
        "Utilizando las funciones de __acos__ y __asin__ de las librerias __math__ debes de obtener los angulos __theta 𝜃__ y __phi 𝜙__ para los siguientes vectores de estado de un qubit:\n",
        "\n",
        "- |0>\n",
        "- |+>\n",
        "- |-i>\n",
        "\n",
        "Puedes obtenerlos en radianes y en grados usando las funciones __math__ de conversion (__degrees__ y __radians__)"
      ]
    },
    {
      "cell_type": "code",
      "execution_count": 10,
      "metadata": {
        "colab": {
          "base_uri": "https://localhost:8080/"
        },
        "id": "cgn__4pdpzVZ",
        "outputId": "889b0e21-4d9e-4b68-8953-3aaa534fea9c"
      },
      "outputs": [
        {
          "name": "stdout",
          "output_type": "stream",
          "text": [
            "Angulo: Rad | Deg\n",
            "theta:  0.0 | 0.0\n",
            "phi: - | -\n",
            "theta:  0.027415567780803778 | 90.00000000000001\n",
            "phi:  0.0 | 0.0\n",
            "theta:  0.027415567780803778 | 90.00000000000001\n",
            "phi:  0.027415567780803774 | 90.0\n"
          ]
        }
      ],
      "source": [
        "# OPERACIONES Y CONSTANTES MATEMATICAS\n",
        "#calcula theta y psi para los siguientes estados en grados y radianes\n",
        "\n",
        "print(\"Angulo: Rad | Deg\")\n",
        "#|0>\n",
        "print(\"theta: \",math.radians(2*math.acos(1)),\"|\",math.degrees(2*math.acos(1)))\n",
        "print(\"phi: - | -\")\n",
        "\n",
        "#|+>\n",
        "print(\"theta: \",math.radians(2*math.acos(1/math.sqrt(2))),\"|\",math.degrees(2*math.acos(1/math.sqrt(2))))\n",
        "print(\"phi: \",math.radians(math.acos(1)),\"|\",math.degrees(math.acos(1)))\n",
        "\n",
        "#|-i>\n",
        "print(\"theta: \",math.radians(2*math.acos(1/math.sqrt(2))),\"|\",math.degrees(2*math.acos(1/math.sqrt(2))))\n",
        "print(\"phi: \",math.radians(math.asin(1)),\"|\",math.degrees(math.asin(1)))\n"
      ]
    },
    {
      "cell_type": "markdown",
      "metadata": {
        "id": "1euDdqoQhHzN"
      },
      "source": [
        "### Numeros complejos\n",
        "\n",
        "Python soporta de manera nativa el tipo de datos de número complejo"
      ]
    },
    {
      "cell_type": "markdown",
      "metadata": {
        "id": "v1GebDCPv3iU"
      },
      "source": [
        "#### EJERCICIO\n",
        "\n",
        "Define un numero complejo en python que tenga parte real e imaginaria $\\frac{1}{\\sqrt(2)}$ utilizando la clase `complex()` de python.\n",
        "\n",
        "Hax lo mismo utilizando el numero complejo `1j` o `1J` que en python es el numero imaginario `i`\n",
        "\n",
        "Imprime por pantalla su valor y el tipo de dato que es (con la clase funcion `type()`)"
      ]
    },
    {
      "cell_type": "code",
      "execution_count": 11,
      "metadata": {
        "colab": {
          "base_uri": "https://localhost:8080/"
        },
        "id": "NLUNTYoPpzVZ",
        "outputId": "fa60c524-cd8f-493c-ea9e-c22b4f8fb14c"
      },
      "outputs": [
        {
          "name": "stdout",
          "output_type": "stream",
          "text": [
            "num: (0.7071067811865475+0.7071067811865475j) <class 'complex'>\n",
            "num2: 1j <class 'complex'>\n"
          ]
        }
      ],
      "source": [
        "#COMPLEJOS\n",
        "#complex(a,b) es equivalente a+1j*b or a+1J*b\n",
        "#----------------------------------------------\n",
        "\n",
        "# 1/sqrt(2)\n",
        "num = complex(1/math.sqrt(2),1/math.sqrt(2))\n",
        "print(f\"num: {num} {type(num)}\")\n",
        "\n",
        "# 1j\n",
        "num2 = complex(0,1)\n",
        "print(f\"num2: {num2} {type(num2)}\")"
      ]
    },
    {
      "cell_type": "markdown",
      "metadata": {
        "id": "kwpUnqaCwnvs"
      },
      "source": [
        "Imprime su parte real y su parte imaginaria con los metodos .`real()` e `.imag()`"
      ]
    },
    {
      "cell_type": "code",
      "execution_count": 12,
      "metadata": {
        "colab": {
          "base_uri": "https://localhost:8080/"
        },
        "id": "eyHbsGbQpzVZ",
        "outputId": "e88a979c-d763-4145-c01b-8ea630003b4f"
      },
      "outputs": [
        {
          "name": "stdout",
          "output_type": "stream",
          "text": [
            "0.7071067811865475 0.7071067811865475\n"
          ]
        }
      ],
      "source": [
        "#representacion parte real y parte imaginaria\n",
        "print(num.real,num.imag)"
      ]
    },
    {
      "cell_type": "markdown",
      "metadata": {
        "id": "v4C_41cyxKqM"
      },
      "source": [
        "#### EJERCICIO\n",
        "\n",
        "Calcula las siguientes operaciones de numeros complejos:\n",
        "\n",
        "*   $j + j$\n",
        "*   $j * j$\n",
        "*   $3+1j*3$\n",
        "*   $(3+1j)*3$\n",
        "*   $(3+1j)^{†}$\n",
        "\n"
      ]
    },
    {
      "cell_type": "code",
      "execution_count": 13,
      "metadata": {
        "colab": {
          "base_uri": "https://localhost:8080/"
        },
        "id": "au_J8Y64pzVa",
        "outputId": "e0002f27-50bd-4e9e-f040-7767982e8975",
        "tags": []
      },
      "outputs": [
        {
          "name": "stdout",
          "output_type": "stream",
          "text": [
            "1. 2j\n",
            "2. (-1+0j)\n",
            "3. (3+3j)\n",
            "4. (9+3j)\n",
            "5. (3-1j)\n"
          ]
        }
      ],
      "source": [
        "#operaciones de numeros complejos\n",
        "resultado1 = 1j + 1j\n",
        "print(\"1.\", resultado1)\n",
        "\n",
        "resultado2 = 1j * 1j\n",
        "print(\"2.\", resultado2)\n",
        "\n",
        "resultado3 = 3+1j*3\n",
        "print(\"3.\", resultado3)\n",
        "\n",
        "resultado4 = (3+1j)*3\n",
        "print(\"4.\", resultado4)\n",
        "\n",
        "resultado5 = (3+1j).conjugate()\n",
        "print(\"5.\", resultado5)\n"
      ]
    },
    {
      "cell_type": "markdown",
      "metadata": {
        "id": "SAzCgiVAvBwM"
      },
      "source": [
        "### Librerías cmath\n",
        "\n",
        "[cmath](https://docs.python.org/3.10/library/cmath.html)"
      ]
    },
    {
      "cell_type": "markdown",
      "metadata": {
        "id": "tDP1xq7_hHzN"
      },
      "source": [
        "Con las funciones de __cmath__ podemos obtener diferentes parametros de un numero complejo, por ejemplo su modulo, fase, parte real e imaginaria...etc"
      ]
    },
    {
      "cell_type": "markdown",
      "metadata": {
        "id": "oECOi3gFyo2V"
      },
      "source": [
        "#### EJERCICIO\n",
        "\n",
        "Dado un numero compejo  $\\frac{1}{\\sqrt(2)}(|0>+|1>)$ en notacion cartesiana, pasalo a notacion polar e imprime su modulo y angulo (en radianes y grados)\n",
        "\n",
        "Podemos utilizar dos funciones de la librería: `.polar()` o `.phase()` para obtener info sobre la representacion polar del numero complejo"
      ]
    },
    {
      "cell_type": "code",
      "execution_count": 14,
      "metadata": {
        "colab": {
          "base_uri": "https://localhost:8080/",
          "height": 69
        },
        "id": "bsKTd284pzVa",
        "outputId": "57f90f17-0342-40dc-ba42-aa7c5bd66c03"
      },
      "outputs": [
        {
          "data": {
            "text/plain": [
              "(0.9999999999999999, 0.7853981633974483)"
            ]
          },
          "metadata": {},
          "output_type": "display_data"
        },
        {
          "data": {
            "text/plain": [
              "0.7853981633974483"
            ]
          },
          "metadata": {},
          "output_type": "display_data"
        },
        {
          "data": {
            "text/plain": [
              "0.9999999999999999"
            ]
          },
          "metadata": {},
          "output_type": "display_data"
        }
      ],
      "source": [
        "#representacion polar con modulo y fase in the range [-π, π] radians or [-180, 180] degrees\n",
        "import cmath\n",
        "psi=1/math.sqrt(2)*complex(1,1)\n",
        "\n",
        "#utilizando cmath.polar()\n",
        "display(cmath.polar(psi))\n",
        "\n",
        "#utilizando abs() y cmath.phase()\n",
        "display(cmath.phase(psi))\n",
        "display(abs(psi))\n"
      ]
    },
    {
      "cell_type": "markdown",
      "metadata": {
        "id": "onSrgbJO2A7A"
      },
      "source": [
        "Convierte el numero complejo anterior de notacion polar a cartesiana con la funcion de cmath `.rect()`"
      ]
    },
    {
      "cell_type": "code",
      "execution_count": 15,
      "metadata": {
        "colab": {
          "base_uri": "https://localhost:8080/"
        },
        "id": "2RcC_Ua2pzVa",
        "outputId": "44781bfd-d41a-40ce-9800-6ae7fe02a34b"
      },
      "outputs": [
        {
          "name": "stdout",
          "output_type": "stream",
          "text": [
            "Representacion polar: (0.9999999999999999, 0.7853981633974483)\n",
            " Representacion cartesiana: (0.7071067811865475+0.7071067811865474j)\n"
          ]
        }
      ],
      "source": [
        "#convertir de representacion cartesiana a polar y viceversa\n",
        "polar_psi = cmath.polar(psi)\n",
        "print(f\"Representacion polar: {polar_psi}\\n Representacion cartesiana: {cmath.rect(polar_psi[0],polar_psi[1])}\")"
      ]
    },
    {
      "cell_type": "markdown",
      "metadata": {
        "id": "YsIPg0U5hHzO"
      },
      "source": [
        "#### EJERCICIO\n",
        "\n",
        "Dado el siguiente vector de estados de 1 qubit repreentado como una lista de python:\n",
        "\n",
        "$[-0.12299+0.4936𝑖 , 0.82978+0.22954𝑖]$\n",
        "\n",
        "Calcular la probabilidad de medir y obtener el estado |0> y el estado |1>\n",
        "\n",
        "Comprobar que la probabilidad total medir cualquier estado es 1"
      ]
    },
    {
      "cell_type": "code",
      "execution_count": 16,
      "metadata": {
        "colab": {
          "base_uri": "https://localhost:8080/"
        },
        "id": "Q69439p3pzVa",
        "outputId": "7f7b5911-66f4-441c-9946-4dba3a4e6a82"
      },
      "outputs": [
        {
          "name": "stdout",
          "output_type": "stream",
          "text": [
            "PROBABILIDAD DE MEDIR |0>: 0.25876750009999994\n",
            "\n",
            "PROBABILIDAD DE MEDIR |1>: 0.7412234599999998\n",
            "\n",
            "PROBABILIDAD DE MEDIR |0> o |1>: 0.9999909600999998\n"
          ]
        }
      ],
      "source": [
        "psi= [-0.12299+0.4936*1j,0.82978+0.22954*1j]\n",
        "amplitud_0= -0.12299+0.4936*1j\n",
        "amplitud_1= 0.82978+0.22954*1j\n",
        "\n",
        "#Recordar que la prob de medir un estado es el cuadrado de su amplitud\n",
        "#puede calcularse como el cuadrado de su modulo -> abs(amplitud)\n",
        "#puede calcularse como el cuadrado de su modulo -> cmath.polar(amplitud)[0]\n",
        "#puede calcularse como la amplitud * su conjugado\n",
        "\n",
        "print(f'PROBABILIDAD DE MEDIR |0>: {abs(amplitud_0)**2}')\n",
        "\n",
        "\n",
        "print(f'\\nPROBABILIDAD DE MEDIR |1>: {abs(amplitud_1)**2}')\n",
        "\n",
        "\n",
        "print(f'\\nPROBABILIDAD DE MEDIR |0> o |1>: {abs(amplitud_0)**2 + abs(amplitud_1)**2}')\n"
      ]
    },
    {
      "cell_type": "markdown",
      "metadata": {
        "id": "AqOGU8qJhHzZ"
      },
      "source": [
        "#### EJERCICIO\n",
        "\n",
        "Dado el siguiente vector de estados de 3 qubits :\n",
        "\n",
        "$[-0.06591-0.16099𝑖, 0.1084+0.27375𝑖, 0.4534-0.053𝑖, -0.15738+0.70953𝑖, -0.04604-0.04858𝑖, -0.25711-0.14354𝑖, -0.16085-0.11673𝑖, -0.12249-0.02758𝑖]$\n",
        "\n",
        "Calcular la probabilidad de medir y obtener el estado |000>\n",
        "\n",
        "Comprobar que la probabilidad total medir cualquier estado es 1 utilizando un bucle __FOR__ y la funcion __range()__"
      ]
    },
    {
      "cell_type": "code",
      "execution_count": 17,
      "metadata": {
        "colab": {
          "base_uri": "https://localhost:8080/"
        },
        "id": "MtuDyyDlpzVa",
        "outputId": "58a478db-4464-4228-c935-891935d3ff14"
      },
      "outputs": [
        {
          "name": "stdout",
          "output_type": "stream",
          "text": [
            "PROBABILIDAD |000>: 0.030261908200000003\n",
            "PROBABILIDAD total de medir cualquier estado: 0.9999854296\n"
          ]
        }
      ],
      "source": [
        "psi= [-0.06591-0.16099*1j, 0.1084+0.27375*1j, 0.4534-0.053*1j, -0.15738+0.70953*1j, -0.04604-0.04858*1j, -0.25711-0.14354*1j, -0.16085-0.11673*1j, -0.12249-0.02758*1j]\n",
        "\n",
        "#Recordar que la prob de medir un estado es el cuadrado de su amplitud\n",
        "#puede calcularse como el cuadrado de su modulo -> abs(amplitud)\n",
        "#puede calcularse como el cuadrado de su modulo -> cmath.polar(amplitud)[0]\n",
        "#puede calcularse como la amplitud * su conjugado\n",
        "\n",
        "amplitud_0= -0.06591-0.16099*1j\n",
        "print(f'PROBABILIDAD |000>: {abs(amplitud_0)**2}')\n",
        "\n",
        "prob_total = 0\n",
        "for ind in range(len(psi)):\n",
        "  prob_total += abs(psi[ind])**2\n",
        "\n",
        "print(f'PROBABILIDAD total de medir cualquier estado: {prob_total}')\n"
      ]
    },
    {
      "cell_type": "markdown",
      "metadata": {
        "id": "KFRhSjt2uRjs"
      },
      "source": [
        "### Librerías numpy"
      ]
    },
    {
      "cell_type": "markdown",
      "metadata": {
        "id": "VErSO2RbhHzN"
      },
      "source": [
        "El modulo de python numerico [numpy](https://numpy.org/doc/stable/user/index.html) se utiliza extensivamente para realizar calculos.\n",
        "\n",
        "Numpy permite vectorizar los calculos y los hace mas eficientes que trabajando con listas de numeros. También tiene bastante utilidad crear numeros aleatorios y para ello se utiliza las funcion random de este módulo"
      ]
    },
    {
      "cell_type": "markdown",
      "metadata": {
        "id": "FZmaoN2FvXrU"
      },
      "source": [
        "#### EJERCICIO\n",
        "\n",
        "Utilizar las librerias numpy para calcular un numero entero aleatorio"
      ]
    },
    {
      "cell_type": "code",
      "execution_count": 18,
      "metadata": {
        "colab": {
          "base_uri": "https://localhost:8080/"
        },
        "id": "Ch9e2OxhpzVe",
        "outputId": "4b9c93cd-c902-4d31-8637-857fb7f0a854"
      },
      "outputs": [
        {
          "name": "stdout",
          "output_type": "stream",
          "text": [
            "Numero entero aleatorio entre 0 y 1: 1\n",
            "Numero entero aleatorio entre 0 y 99: 26\n"
          ]
        }
      ],
      "source": [
        "import numpy as np\n",
        "\n",
        "#Crear un numero entero entre 0 y 1 -> numero binario\n",
        "print(f\"Numero entero aleatorio entre 0 y 1: {np.random.randint(2)}\")\n",
        "\n",
        "# Generar un número entero aleatorio en el rango [0, 100)\n",
        "print(f\"Numero entero aleatorio entre 0 y 99: {np.random.randint(100)}\")\n"
      ]
    },
    {
      "cell_type": "markdown",
      "metadata": {
        "id": "TzrL4wtQp2ai"
      },
      "source": [
        "#### EJERCICIO\n",
        "\n",
        "Define dos **arrays** de numpy que sean el ket |0> y el ket |1>.\n",
        "\n",
        "Calcula el vector de su promedio $\\frac{1}{2}(|0> + |1>) $"
      ]
    },
    {
      "cell_type": "code",
      "execution_count": 19,
      "metadata": {
        "colab": {
          "base_uri": "https://localhost:8080/"
        },
        "id": "CaUrz0kwpzVe",
        "outputId": "694c1d2c-5c1f-40b6-d51f-702ed98fbf3b"
      },
      "outputs": [
        {
          "name": "stdout",
          "output_type": "stream",
          "text": [
            "Array 1: [1 0]\n",
            "Array 2: [0 1]\n",
            "Average: [0.5 0.5]\n"
          ]
        }
      ],
      "source": [
        "# VECTORES Y OPERACIONES DE VECTORES\n",
        "\n",
        "import numpy as np\n",
        "\n",
        "# Create two arrays\n",
        "array1 = np.array([1,0])\n",
        "array2 = np.array([0,1])\n",
        "\n",
        "# Calculate the average\n",
        "average_result = 1/2*(array1+array2)\n",
        "\n",
        "# Print the result\n",
        "print(\"Array 1:\", array1)\n",
        "print(\"Array 2:\", array2)\n",
        "print(\"Average:\", average_result)"
      ]
    },
    {
      "cell_type": "markdown",
      "metadata": {
        "id": "sU5G2EHe_kix"
      },
      "source": [
        "#### EJERCICIO\n",
        "\n",
        "Define dos matrices en Numpy y calcula su promedio:\n",
        "\n",
        "*  $M1=\n",
        "\\begin{equation}\n",
        "\\begin{bmatrix}\n",
        "1 & 1\\\\\n",
        "0 & 0\n",
        "\\end{bmatrix}\n",
        "\\end{equation}$\n",
        "\n",
        "* $M2=\n",
        "\\begin{equation}\n",
        "\\begin{bmatrix}\n",
        "1 & 1\\\\\n",
        "1 & 0\n",
        "\\end{bmatrix}\n",
        "\\end{equation}$"
      ]
    },
    {
      "cell_type": "code",
      "execution_count": 20,
      "metadata": {
        "colab": {
          "base_uri": "https://localhost:8080/"
        },
        "id": "2maO-n3bpzVe",
        "outputId": "7903c4bb-b349-44dd-b183-9b229d5d3ad1"
      },
      "outputs": [
        {
          "name": "stdout",
          "output_type": "stream",
          "text": [
            "[[1 1]\n",
            " [0 0]]\n",
            "[[1 1]\n",
            " [1 0]]\n",
            "[[1.  1. ]\n",
            " [0.5 0. ]]\n"
          ]
        }
      ],
      "source": [
        "M1 = np.array([[1,1],[0,0]])\n",
        "M2 = np.array([[1,1],[1,0]])\n",
        "\n",
        "average_m= 1/2*(M1+M2)\n",
        "\n",
        "print(M1)\n",
        "print(M2)\n",
        "print(average_m)"
      ]
    },
    {
      "cell_type": "markdown",
      "metadata": {
        "id": "I4C80tQpAS4R"
      },
      "source": [
        "#### EJERCICIO\n",
        "\n",
        "Calcula las siguientes operaciones de multiplicacion con la funcion `matmul()`de numpy:\n",
        "\n",
        "* $M1 * |1>$\n",
        "* $M1*M2$\n",
        "* $M2*M1$\n"
      ]
    },
    {
      "cell_type": "code",
      "execution_count": 21,
      "metadata": {
        "colab": {
          "base_uri": "https://localhost:8080/"
        },
        "id": "0V9ZBIcCpzVe",
        "outputId": "3650b98f-0521-4acf-ddcf-11cd255ceeb3"
      },
      "outputs": [
        {
          "name": "stdout",
          "output_type": "stream",
          "text": [
            "𝑀1∗|1> [1 0]\n",
            "𝑀1∗𝑀2 [[2 1]\n",
            " [0 0]]\n",
            "𝑀2∗𝑀1 [[1 1]\n",
            " [1 1]]\n"
          ]
        }
      ],
      "source": [
        "from numpy import matmul\n",
        "\n",
        "ket1=np.array([0,1])\n",
        "\n",
        "print('𝑀1∗|1>',matmul(M1,ket1))\n",
        "\n",
        "print('𝑀1∗𝑀2',matmul(M1,M2))\n",
        "\n",
        "print('𝑀2∗𝑀1',matmul(M2,M1))"
      ]
    },
    {
      "cell_type": "markdown",
      "metadata": {
        "id": "hiGdlVwxBCBH"
      },
      "source": [
        "## Vectores y Operadores en Qiskit\n",
        "\n",
        "Qiskit incluye varias clases que permiten crear y manipular fácilmente estados, mediciones y operaciones, por lo que no es necesario comenzar desde cero y programar todo lo necesario para simular estados, mediciones y operaciones cuánticas en Python. A continuación se incluyen algunos ejemplos para comenzar.\n",
        "\n",
        "En qiskit exite una libreria para trabajar con la [información cuántica](https://docs.quantum.ibm.com/api/qiskit/quantum_info)"
      ]
    },
    {
      "cell_type": "markdown",
      "metadata": {
        "id": "mWTDCw0fizOq"
      },
      "source": [
        "### Estados cuanticos\n",
        "\n",
        "La clase [Statevector](https://docs.quantum.ibm.com/api/qiskit/qiskit.quantum_info.Statevector) de Qiskit proporciona funcionalidad para definir y manipular vectores de estado cuánticos."
      ]
    },
    {
      "cell_type": "markdown",
      "metadata": {
        "id": "a4tt7vj5CE11"
      },
      "source": [
        "#### EJERCICIO\n",
        "\n",
        "Importa la clase Statevector y define los siguientes vectores:\n",
        "\n",
        "* $\\frac{1}{\\sqrt(2)}(|0>+|1>)$\n",
        "* $\\frac{1+2j}{3} |0>+ \\frac{-2}{3} |1>$\n",
        "* $\\frac{1}{3}|0>+\\frac{1}{3}|1>$\n",
        "\n"
      ]
    },
    {
      "cell_type": "code",
      "execution_count": 22,
      "metadata": {
        "colab": {
          "base_uri": "https://localhost:8080/"
        },
        "id": "YVCkSKV1pzVf",
        "outputId": "67a07701-4cca-4808-b46a-95a6ec8bf137"
      },
      "outputs": [
        {
          "name": "stdout",
          "output_type": "stream",
          "text": [
            "u: Statevector([0.70710678+0.j, 0.70710678+0.j],\n",
            "            dims=(2,))\n",
            "v: Statevector([ 0.33333333+0.66666667j, -0.66666667+0.j        ],\n",
            "            dims=(2,))\n",
            "w: Statevector([0.33333333+0.j, 0.33333333+0.j],\n",
            "            dims=(2,))\n"
          ]
        }
      ],
      "source": [
        "from qiskit.quantum_info import Statevector\n",
        "from numpy import sqrt\n",
        "\n",
        "u = Statevector([1/sqrt(2),1/sqrt(2)])\n",
        "v = (1 + 2j) / 3 * Statevector([1,0]) + (-2 / 3) * Statevector([0,1])\n",
        "w = Statevector([1/3,1/3])\n",
        "\n",
        "print(f\"u: {u}\\nv: {v}\\nw: {w}\")"
      ]
    },
    {
      "cell_type": "markdown",
      "metadata": {
        "id": "RnOYrX5-FtO6"
      },
      "source": [
        "#### EJERCICIO\n",
        "\n",
        "Utiliza los metodos de la clase state vector para contruir el conjugado de uno de los anteriores estados e imprimir una visualizacion en latex y en texto del estado.\n",
        "\n",
        "Utiliza el metodo `.draw()`de la clase `Statevector` para ver la visualizacion\n",
        "\n",
        "Comprueba si el estado es valido"
      ]
    },
    {
      "cell_type": "code",
      "execution_count": 23,
      "metadata": {
        "colab": {
          "base_uri": "https://localhost:8080/",
          "height": 38
        },
        "id": "GS6zFwGrpzVf",
        "outputId": "439cbb52-649c-4d6f-a5b2-5ef1db19e1a0"
      },
      "outputs": [
        {
          "data": {
            "text/latex": [
              "$$(\\frac{1}{3} + \\frac{2 i}{3}) |0\\rangle- \\frac{2}{3} |1\\rangle$$"
            ],
            "text/plain": [
              "<IPython.core.display.Latex object>"
            ]
          },
          "execution_count": 23,
          "metadata": {},
          "output_type": "execute_result"
        }
      ],
      "source": [
        "v.draw(output=\"latex\")"
      ]
    },
    {
      "cell_type": "markdown",
      "metadata": {
        "id": "EmX45MRGGxcZ"
      },
      "source": [
        "#### EJERCICIO\n",
        "\n",
        "Crea unos vectores de estados a partir de las etiquetas: 0,1, +, -\n",
        "\n",
        "Utiliza el método `.from_label()`de la clase `Statevector()`\n",
        "\n"
      ]
    },
    {
      "cell_type": "code",
      "execution_count": 24,
      "metadata": {
        "colab": {
          "base_uri": "https://localhost:8080/"
        },
        "id": "cRiDcmtspzVf",
        "outputId": "65adf5b7-ece8-4aed-c9d7-b0161ec48e44"
      },
      "outputs": [
        {
          "name": "stdout",
          "output_type": "stream",
          "text": [
            "Statevector([1.+0.j, 0.+0.j],\n",
            "            dims=(2,)) Statevector([0.+0.j, 1.+0.j],\n",
            "            dims=(2,)) Statevector([0.70710678+0.j, 0.70710678+0.j],\n",
            "            dims=(2,)) Statevector([ 0.70710678+0.j, -0.70710678+0.j],\n",
            "            dims=(2,))\n"
          ]
        }
      ],
      "source": [
        "vector0 = Statevector.from_label(\"0\")\n",
        "vector1 = Statevector.from_label(\"1\")\n",
        "vectormas = Statevector.from_label(\"+\")\n",
        "vectormenos = Statevector.from_label(\"-\")\n",
        "print(vector0,vector1,vectormas,vectormenos)"
      ]
    },
    {
      "cell_type": "markdown",
      "metadata": {
        "id": "Bp0URMFzHtVC"
      },
      "source": [
        "#### EJERCICIO\n",
        "\n",
        "Utiliza el metodo `.measure()` de la clase `Statevector()` que te permite simular una unica medida sobre un estado de los anteriores"
      ]
    },
    {
      "cell_type": "code",
      "execution_count": 25,
      "metadata": {
        "colab": {
          "base_uri": "https://localhost:8080/"
        },
        "id": "OaCTo-WGpzVf",
        "outputId": "ea161ac8-322f-4628-a1ce-c9d56e0f68cc"
      },
      "outputs": [
        {
          "data": {
            "text/plain": [
              "('0',\n",
              " Statevector([1.+0.j, 0.+0.j],\n",
              "             dims=(2,)))"
            ]
          },
          "execution_count": 25,
          "metadata": {},
          "output_type": "execute_result"
        }
      ],
      "source": [
        "vectormas.measure()"
      ]
    },
    {
      "cell_type": "markdown",
      "metadata": {
        "id": "3KMIuYzmILOq"
      },
      "source": [
        "#### EJERCICIO\n",
        "\n",
        "Utiliza el metodo `.sample_counts()` que te permite realizar varias medidas y realiza por ejemplo 1000\n",
        "\n",
        "Importa la funcion `plot_histogram()` de qiskit y representa el histograma de resultados obtenidos"
      ]
    },
    {
      "cell_type": "code",
      "execution_count": 26,
      "metadata": {
        "colab": {
          "base_uri": "https://localhost:8080/",
          "height": 449
        },
        "id": "WungRelkpzVf",
        "outputId": "f9d70083-ea07-4e7d-e6b0-4884e9a707eb"
      },
      "outputs": [
        {
          "data": {
            "image/png": "[encoded data removed]",
            "text/plain": [
              "<Figure size 700x500 with 1 Axes>"
            ]
          },
          "execution_count": 26,
          "metadata": {},
          "output_type": "execute_result"
        }
      ],
      "source": [
        "from qiskit.visualization import plot_histogram\n",
        "counts = vectormas.sample_counts(100)\n",
        "plot_histogram(counts)"
      ]
    },
    {
      "cell_type": "markdown",
      "metadata": {
        "id": "d8QPPjzCQ_qs"
      },
      "source": [
        "#### EJERCICIO\n",
        "\n",
        "Crea el vector de estados $\\frac{\\sqrt(3)}{3}∣001⟩+\\frac{\\sqrt(3)}{3}∣010⟩+\\frac{\\sqrt(3)}{3}∣101⟩$  y mide el qbit 0\n",
        "\n",
        "Ejecuta la celda varias veces o mide varias veces y razona los resultados\n"
      ]
    },
    {
      "cell_type": "code",
      "execution_count": 27,
      "metadata": {
        "colab": {
          "base_uri": "https://localhost:8080/"
        },
        "id": "1JCiUJbcpzVf",
        "outputId": "ad228c54-6f18-4c92-dbb3-63c01593f150"
      },
      "outputs": [
        {
          "data": {
            "text/plain": [
              "('010',\n",
              " Statevector([0.+0.j, 0.+0.j, 1.+0.j, 0.+0.j, 0.+0.j, 0.+0.j, 0.+0.j,\n",
              "              0.+0.j],\n",
              "             dims=(2, 2, 2)))"
            ]
          },
          "execution_count": 27,
          "metadata": {},
          "output_type": "execute_result"
        }
      ],
      "source": [
        "qubit = sqrt(3)/3*(Statevector.from_label(\"001\")+Statevector.from_label('010')+Statevector.from_label('101'))\n",
        "qubit.measure()"
      ]
    },
    {
      "cell_type": "markdown",
      "metadata": {
        "id": "iktpn0kLN2dd"
      },
      "source": [
        "#### EJERCICIO\n",
        "\n",
        "Calcula el producto tensorial de los estados:\n",
        "* |0> $\\bigotimes$ |1>\n",
        "* |+> $\\bigotimes$ $\\frac{1}{\\sqrt(2)}(|0>+|1>)$)\n",
        "\n",
        "Utilizando el metodo `.tensor()` de la clase `StateVector()`"
      ]
    },
    {
      "cell_type": "code",
      "execution_count": 28,
      "metadata": {
        "colab": {
          "base_uri": "https://localhost:8080/",
          "height": 58
        },
        "id": "gGDhioHQpzVf",
        "outputId": "a70d83b1-d9d3-44e7-f327-78cf43374484"
      },
      "outputs": [
        {
          "data": {
            "text/latex": [
              "$$ |01\\rangle$$"
            ],
            "text/plain": [
              "<IPython.core.display.Latex object>"
            ]
          },
          "metadata": {},
          "output_type": "display_data"
        },
        {
          "data": {
            "text/latex": [
              "$$\\frac{1}{2} |00\\rangle+\\frac{1}{2} |01\\rangle+\\frac{1}{2} |10\\rangle+\\frac{1}{2} |11\\rangle$$"
            ],
            "text/plain": [
              "<IPython.core.display.Latex object>"
            ]
          },
          "metadata": {},
          "output_type": "display_data"
        }
      ],
      "source": [
        "tensor1 = Statevector.tensor(vector0,vector1)\n",
        "tensor2 = Statevector.tensor(vectormas,1/sqrt(2)*(vector0+vector1))\n",
        "display(tensor1.draw(\"latex\"))\n",
        "display(tensor2.draw(\"latex\"))"
      ]
    },
    {
      "cell_type": "markdown",
      "metadata": {
        "id": "RT6Ct7-fJCfy"
      },
      "source": [
        "### Operadores"
      ]
    },
    {
      "cell_type": "markdown",
      "metadata": {
        "id": "t6ZJVVJKJUNK"
      },
      "source": [
        "Las operaciones unitarias se pueden definir y realizar en vectores de estado en Qiskit usando la clase [Operador](https://docs.quantum.ibm.com/api/qiskit/qiskit.quantum_info.Operator)"
      ]
    },
    {
      "cell_type": "markdown",
      "metadata": {
        "id": "Yye6s05nKUXj"
      },
      "source": [
        "#### EJERCICIO\n",
        "\n",
        "Define los operadores X, Y, Z, H, S, T con la clase `Operador()` a partir las matrices unitarias que los definen.\n",
        "\n",
        "Aplicalos al ket |0> con el metodo `.evolve()` de la clase `StateVector()` para ver el resultado de la evolucion de este estado bajo cada operador."
      ]
    },
    {
      "cell_type": "code",
      "execution_count": 29,
      "metadata": {
        "colab": {
          "base_uri": "https://localhost:8080/"
        },
        "id": "ktCmPGrqpzVg",
        "outputId": "922e6bb4-04ad-4d2b-debb-1e9f74ebc546"
      },
      "outputs": [
        {
          "name": "stdout",
          "output_type": "stream",
          "text": [
            "Aplicando H: Statevector([0.70710678+0.j, 0.70710678+0.j],\n",
            "            dims=(2,))\n"
          ]
        }
      ],
      "source": [
        "from qiskit.quantum_info import Operator\n",
        "X = Operator.from_label(\"X\")\n",
        "Y = Operator.from_label(\"Y\")\n",
        "Z = Operator.from_label(\"Z\")\n",
        "H = Operator.from_label(\"H\")\n",
        "S = Operator.from_label(\"S\")\n",
        "T = Operator.from_label(\"T\")\n",
        "\n",
        "v = Statevector([1,0]) # Ket 0\n",
        "print(f\"Aplicando H: {v.evolve(H)}\")"
      ]
    },
    {
      "cell_type": "markdown",
      "metadata": {
        "id": "TsO8rePELlQa"
      },
      "source": [
        "Imprime el valor de los operadores anteriores con el metodo `.to_matrix()`"
      ]
    },
    {
      "cell_type": "code",
      "execution_count": 30,
      "metadata": {
        "colab": {
          "base_uri": "https://localhost:8080/",
          "height": 483
        },
        "id": "8zfFDFizpzVg",
        "outputId": "fcaf85f8-3d2d-48e7-eaf3-999fe1c3ed11"
      },
      "outputs": [
        {
          "data": {
            "text/latex": [
              "$$\n",
              "\n",
              "\\begin{bmatrix}\n",
              "0 & 1  \\\\\n",
              " 1 & 0  \\\\\n",
              " \\end{bmatrix}\n",
              "$$"
            ],
            "text/plain": [
              "<IPython.core.display.Latex object>"
            ]
          },
          "metadata": {},
          "output_type": "display_data"
        },
        {
          "name": "stdout",
          "output_type": "stream",
          "text": [
            "\n",
            "\n"
          ]
        },
        {
          "data": {
            "text/latex": [
              "$$\n",
              "\n",
              "\\begin{bmatrix}\n",
              "0 & - i  \\\\\n",
              " i & 0  \\\\\n",
              " \\end{bmatrix}\n",
              "$$"
            ],
            "text/plain": [
              "<IPython.core.display.Latex object>"
            ]
          },
          "metadata": {},
          "output_type": "display_data"
        },
        {
          "name": "stdout",
          "output_type": "stream",
          "text": [
            "\n",
            "\n"
          ]
        },
        {
          "data": {
            "text/latex": [
              "$$\n",
              "\n",
              "\\begin{bmatrix}\n",
              "1 & 0  \\\\\n",
              " 0 & -1  \\\\\n",
              " \\end{bmatrix}\n",
              "$$"
            ],
            "text/plain": [
              "<IPython.core.display.Latex object>"
            ]
          },
          "metadata": {},
          "output_type": "display_data"
        },
        {
          "name": "stdout",
          "output_type": "stream",
          "text": [
            "\n",
            "\n"
          ]
        },
        {
          "data": {
            "text/latex": [
              "$$\n",
              "\n",
              "\\begin{bmatrix}\n",
              "\\frac{\\sqrt{2}}{2} & \\frac{\\sqrt{2}}{2}  \\\\\n",
              " \\frac{\\sqrt{2}}{2} & - \\frac{\\sqrt{2}}{2}  \\\\\n",
              " \\end{bmatrix}\n",
              "$$"
            ],
            "text/plain": [
              "<IPython.core.display.Latex object>"
            ]
          },
          "metadata": {},
          "output_type": "display_data"
        },
        {
          "name": "stdout",
          "output_type": "stream",
          "text": [
            "\n",
            "\n"
          ]
        },
        {
          "data": {
            "text/latex": [
              "$$\n",
              "\n",
              "\\begin{bmatrix}\n",
              "1 & 0  \\\\\n",
              " 0 & i  \\\\\n",
              " \\end{bmatrix}\n",
              "$$"
            ],
            "text/plain": [
              "<IPython.core.display.Latex object>"
            ]
          },
          "metadata": {},
          "output_type": "display_data"
        },
        {
          "name": "stdout",
          "output_type": "stream",
          "text": [
            "\n",
            "\n"
          ]
        },
        {
          "data": {
            "text/latex": [
              "$$\n",
              "\n",
              "\\begin{bmatrix}\n",
              "1 & 0  \\\\\n",
              " 0 & \\frac{\\sqrt{2}}{2} + \\frac{\\sqrt{2} i}{2}  \\\\\n",
              " \\end{bmatrix}\n",
              "$$"
            ],
            "text/plain": [
              "<IPython.core.display.Latex object>"
            ]
          },
          "metadata": {},
          "output_type": "display_data"
        },
        {
          "name": "stdout",
          "output_type": "stream",
          "text": [
            "\n",
            "\n"
          ]
        }
      ],
      "source": [
        "gates = [X,Y,Z,H,S,T]\n",
        "for puerta in gates:\n",
        "  display(puerta.draw(\"latex\"))\n",
        "  print(\"\\n\")"
      ]
    },
    {
      "cell_type": "markdown",
      "metadata": {
        "id": "viVx3gp5QR9W"
      },
      "source": [
        "#### EJERCICIO\n",
        "\n",
        "Construye el Operador de la puerta CX, aplicalo al estado $$|\\psi> = |+> \\bigotimes\\frac{1}{\\sqrt(2)}(|0>+|1>))$$ y calcula el resultado de la evolucion que se obtiene:"
      ]
    },
    {
      "cell_type": "code",
      "execution_count": 31,
      "metadata": {
        "colab": {
          "base_uri": "https://localhost:8080/",
          "height": 38
        },
        "id": "H192oNcxpzVg",
        "outputId": "5926c1a6-618c-44d0-ad7f-a2627655d2b7"
      },
      "outputs": [
        {
          "data": {
            "text/latex": [
              "$$\\frac{1}{2} |00\\rangle+\\frac{1}{2} |01\\rangle+\\frac{1}{2} |10\\rangle+\\frac{1}{2} |11\\rangle$$"
            ],
            "text/plain": [
              "<IPython.core.display.Latex object>"
            ]
          },
          "metadata": {},
          "output_type": "display_data"
        }
      ],
      "source": [
        "plus = Statevector.from_label(\"+\")\n",
        "i_state = Statevector.tensor(plus,plus)\n",
        "CX = Operator([[1,0,0,0],[0,1,0,0],[0,0,0,1],[0,0,1,0]])\n",
        "\n",
        "display(i_state.evolve(CX).draw(\"latex\"))\n"
      ]
    },
    {
      "cell_type": "markdown",
      "metadata": {
        "id": "GvKsOEJSPbD8"
      },
      "source": [
        "#### EJERCICIO\n",
        "\n",
        "Define los operadores X e I y calcula su producto tensorial $X \\bigotimes I$.\n",
        "\n",
        "Utilizando el metodo `.tensor()`de la clase `Operator()` o la operacion`^` que es equivalente"
      ]
    },
    {
      "cell_type": "code",
      "execution_count": 32,
      "metadata": {
        "colab": {
          "base_uri": "https://localhost:8080/",
          "height": 98
        },
        "id": "JHtL9ogNpzVg",
        "outputId": "a366c3b5-08f6-487e-edcd-3952d2a1a832"
      },
      "outputs": [
        {
          "data": {
            "text/latex": [
              "$$\n",
              "\n",
              "\\begin{bmatrix}\n",
              "0 & 0 & 1 & 0  \\\\\n",
              " 0 & 0 & 0 & 1  \\\\\n",
              " 1 & 0 & 0 & 0  \\\\\n",
              " 0 & 1 & 0 & 0  \\\\\n",
              " \\end{bmatrix}\n",
              "$$"
            ],
            "text/plain": [
              "<IPython.core.display.Latex object>"
            ]
          },
          "metadata": {},
          "output_type": "display_data"
        }
      ],
      "source": [
        "X=Operator.from_label(\"X\")\n",
        "I=Operator.from_label(\"I\")\n",
        "\n",
        "tensor_operador = Operator.tensor(X,I)\n",
        "display(tensor_operador.draw(\"latex\"))\n"
      ]
    },
    {
      "cell_type": "markdown",
      "metadata": {
        "id": "5MGATAWCLXXD"
      },
      "source": [
        "#### EJERCICIO\n",
        "\n",
        "Utilizando el metodo `.evolve()` de la clase `StateVector` podemos evolucionar un vector de estados con un circuito. Pasando el circuito como parametro del metodo.\n",
        "\n",
        "Define un circuito de 1 qubit que aplique la puerta H al ket |0> para ver el reusltado de la evolucion de este estado bajo este circuito.\n",
        "\n",
        "Haz 4000 simulaciones de medida y representa el histograma resultado"
      ]
    },
    {
      "cell_type": "code",
      "execution_count": 33,
      "metadata": {
        "colab": {
          "base_uri": "https://localhost:8080/",
          "height": 495
        },
        "id": "PEIZH5xZpzVg",
        "outputId": "dd0ea819-0ebc-44be-8926-b6c83f1d460c"
      },
      "outputs": [
        {
          "data": {
            "text/html": [
              "<pre style=\"word-wrap: normal;white-space: pre;background: #fff0;line-height: 1.1;font-family: &quot;Courier New&quot;,Courier,monospace\">   ┌───┐\n",
              "q: ┤ H ├\n",
              "   └───┘</pre>"
            ],
            "text/plain": [
              "   ┌───┐\n",
              "q: ┤ H ├\n",
              "   └───┘"
            ]
          },
          "metadata": {},
          "output_type": "display_data"
        },
        {
          "data": {
            "image/png": "[encoded data removed]",
            "text/plain": [
              "<Figure size 700x500 with 1 Axes>"
            ]
          },
          "execution_count": 33,
          "metadata": {},
          "output_type": "execute_result"
        }
      ],
      "source": [
        "from qiskit import QuantumCircuit\n",
        "from qiskit.quantum_info import Statevector\n",
        "from qiskit.visualization import plot_histogram\n",
        "\n",
        "circuit = QuantumCircuit(1)\n",
        "circuit.h(0)\n",
        "display(circuit.draw())\n",
        "\n",
        "ket0 = Statevector.from_label(\"0\")\n",
        "counts = ket0.evolve(circuit).sample_counts(4000)\n",
        "plot_histogram(counts)"
      ]
    },
    {
      "cell_type": "markdown",
      "metadata": {
        "id": "n_74uWy3pzVg"
      },
      "source": [
        "#### EJERCICIO\n",
        "\n",
        "Construye los siguientes operadores utilizando el metodo `.from_label()` de la clase `Operator()`:\n",
        "\n",
        "- Z\n",
        "- H\n",
        "- T\n",
        "\n",
        "Informacion de etiquetas para las [matrices de un qubit](https://docs.quantum.ibm.com/api/qiskit/qiskit.quantum_info.Operator#from_label): ‘I’: [[1, 0], [0, 1]] ‘X’: [[0, 1], [1, 0]] ‘Y’: [[0, -1j], [1j, 0]] ‘Z’: [[1, 0], [0, -1]] ‘H’: [[1, 1], [1, -1]] / sqrt(2) ‘S’: [[1, 0], [0 , 1j]] ‘T’: [[1, 0], [0, (1+1j) / sqrt(2)]] ‘0’: [[1, 0], [0, 0]] ‘1’: [[0, 0], [0, 1]] ‘+’: [[0.5, 0.5], [0.5 , 0.5]] ‘-’: [[0.5, -0.5], [-0.5 , 0.5]] ‘r’: [[0.5, -0.5j], [0.5j , 0.5]] ‘l’: [[0.5, 0.5j], [-0.5j , 0.5]]"
      ]
    },
    {
      "cell_type": "code",
      "execution_count": 34,
      "metadata": {
        "id": "iCsV8qE3pzVg"
      },
      "outputs": [],
      "source": [
        "z=Operator.from_label(\"Z\")\n",
        "\n",
        "h=Operator.from_label(\"H\")\n",
        "\n",
        "t=Operator.from_label(\"T\")"
      ]
    },
    {
      "cell_type": "markdown",
      "metadata": {
        "id": "6SDxNLn1pzVg"
      },
      "source": [
        "#### EJERCICIO\n",
        "\n",
        "Explora las operaciones de los operadores:\n",
        "\n",
        "- [@ composicion](https://docs.quantum.ibm.com/api/qiskit/qiskit.quantum_info.Operator#compose)\n",
        "- [dot producto](https://docs.quantum.ibm.com/api/qiskit/qiskit.quantum_info.Operator#dot)\n",
        "- [tensor producto](https://docs.quantum.ibm.com/api/qiskit/qiskit.quantum_info.Operator#tensor)\n",
        "\n",
        "La composicion es multiplicacion por la izquierda A & B == A.compose(B) y es equivalente a B @ A == B.dot(A) para matrices A y B del mismo tipo.\n",
        "\n",
        "Realiza los siguientes calculos:\n",
        "\n",
        "- H&T  -> H & T == H.compose(T)\n",
        "- T@H  -> T @ H == T.dot(H)\n",
        "- Z^Z\n"
      ]
    },
    {
      "cell_type": "code",
      "execution_count": 35,
      "metadata": {
        "colab": {
          "base_uri": "https://localhost:8080/",
          "height": 256
        },
        "id": "zgu99sOKpzVg",
        "outputId": "53f8ce8c-e5c5-4e92-81a7-92d6b44a4456"
      },
      "outputs": [
        {
          "data": {
            "text/latex": [
              "$$\n",
              "\n",
              "\\begin{bmatrix}\n",
              "\\frac{\\sqrt{2}}{2} & \\frac{\\sqrt{2}}{2}  \\\\\n",
              " \\frac{1}{2} + \\frac{i}{2} & - \\frac{1}{2} - \\frac{i}{2}  \\\\\n",
              " \\end{bmatrix}\n",
              "$$"
            ],
            "text/plain": [
              "<IPython.core.display.Latex object>"
            ]
          },
          "metadata": {},
          "output_type": "display_data"
        },
        {
          "name": "stdout",
          "output_type": "stream",
          "text": [
            "\n",
            "\n"
          ]
        },
        {
          "data": {
            "text/latex": [
              "$$\n",
              "\n",
              "\\begin{bmatrix}\n",
              "\\frac{\\sqrt{2}}{2} & \\frac{\\sqrt{2}}{2}  \\\\\n",
              " \\frac{1}{2} + \\frac{i}{2} & - \\frac{1}{2} - \\frac{i}{2}  \\\\\n",
              " \\end{bmatrix}\n",
              "$$"
            ],
            "text/plain": [
              "<IPython.core.display.Latex object>"
            ]
          },
          "metadata": {},
          "output_type": "display_data"
        },
        {
          "name": "stdout",
          "output_type": "stream",
          "text": [
            "\n",
            "\n"
          ]
        },
        {
          "data": {
            "text/latex": [
              "$$\n",
              "\n",
              "\\begin{bmatrix}\n",
              "1 & 0 & 0 & 0  \\\\\n",
              " 0 & -1 & 0 & 0  \\\\\n",
              " 0 & 0 & -1 & 0  \\\\\n",
              " 0 & 0 & 0 & 1  \\\\\n",
              " \\end{bmatrix}\n",
              "$$"
            ],
            "text/plain": [
              "<IPython.core.display.Latex object>"
            ]
          },
          "metadata": {},
          "output_type": "display_data"
        }
      ],
      "source": [
        "H = Operator.from_label(\"H\")\n",
        "T = Operator.from_label(\"T\")\n",
        "\n",
        "display(Operator.compose(H,T).draw(\"latex\"))\n",
        "print(\"\\n\")\n",
        "\n",
        "display(Operator.dot(T,H).draw(\"latex\"))\n",
        "print(\"\\n\")\n",
        "\n",
        "Z = Operator.from_label(\"Z\")\n",
        "\n",
        "display((Z^Z).draw(\"latex\"))"
      ]
    },
    {
      "cell_type": "markdown",
      "metadata": {
        "id": "tK6nDa3wpzVg"
      },
      "source": [
        "### OptFlow"
      ]
    },
    {
      "cell_type": "markdown",
      "metadata": {
        "id": "dgpx3vrxpzVg"
      },
      "source": [
        "Qiskit [OptFlow](https://docs.quantum.ibm.com/api/qiskit/opflow) proporciona clases que representan estados y operadores y sumas, productos tensoriales y composiciones de los mismos. Estas construcciones algebraicas nos permiten construir expresiones que representen operadores.\n",
        "\n",
        "Los [operadores globales](https://docs.quantum.ibm.com/api/qiskit/opflow#operator-globals) que estan definidos en esta librería son los estados y los operadores de las puertas mas relevantes\n",
        "\n",
        "Utilizamos los siguientes operadores matemáticos para construir operadores y estados con OptFlow a partir de los operadores globales:\n",
        "\n",
        "```\n",
        "+ - addition\n",
        "- - subtraction, negation (scalar multiplication by -1)\n",
        "* - scalar multiplication\n",
        "/ - scalar division\n",
        "@ - composition\n",
        "^ - tensor product or tensor power (tensor with self n times)\n",
        "** - composition power (compose with self n times)\n",
        "== - equality\n",
        "~ - adjoint, alternating between a State Function and Measurement\n",
        "```\n",
        "\n",
        "__Nota__: es importante tener en cuenta la precedencia de las operaciones en Python y utilizar paréntesis para asegurarnos de que se realizan correctamente. Por ejemplo , `I^X+X^I` es equivalente a `I^(X+X)^I=2(I^X^I)` porque la operacion `+` tiene precedencia sobre el producto tensorial `^` . Tambien no hay que olvidar que el numero complejo imaginario `i` se escribe `1j` en Python.\n",
        "\n",
        "\n"
      ]
    },
    {
      "cell_type": "markdown",
      "metadata": {
        "id": "DjT17PtdpzVg"
      },
      "source": [
        "#### EJERCICIO\n",
        "\n",
        "Utiliza los estados `One` y `Minus` de la lirería OptFlow para calcular los siguientes vectores de estado y proyecciones:\n",
        "\n",
        "- |1>\n",
        "- |->\n",
        "- <1|1>\n",
        "- <-|1>\n",
        "\n",
        "Utiliza el metodo `.eval()` para obtener el valor de las proyecciones"
      ]
    },
    {
      "cell_type": "code",
      "execution_count": 36,
      "metadata": {
        "colab": {
          "base_uri": "https://localhost:8080/"
        },
        "id": "p27j4siEpzVh",
        "outputId": "e74a62ac-fa8b-4089-997a-9948e7ddba9e"
      },
      "outputs": [
        {
          "name": "stdout",
          "output_type": "stream",
          "text": [
            "DictStateFn({'1': 1})\n",
            "1.0\n"
          ]
        },
        {
          "name": "stderr",
          "output_type": "stream",
          "text": [
            "/tmp/ipykernel_8041/3815921991.py:1: DeprecationWarning: The ``qiskit.opflow`` module is deprecated as of qiskit-terra 0.24.0. It will be removed no earlier than 3 months after the release date. For code migration guidelines, visit https://qisk.it/opflow_migration.\n",
            "  from qiskit.opflow import One, Minus\n"
          ]
        }
      ],
      "source": [
        "from qiskit.opflow import One, Minus\n",
        "\n",
        "print(One)\n",
        "print((~One@One).eval())"
      ]
    },
    {
      "cell_type": "markdown",
      "metadata": {
        "id": "tnkN0NohpzVh"
      },
      "source": [
        "#### EJERCICIO\n",
        "\n",
        "Utiliza los operadores de Pauli de la librería OptFlow para construir los siguientes operadores:\n",
        "\n",
        "- la base de matrices de Pauli\n",
        "- dos operadores escalera: $\\hat{\\sigma}^{+} = \\frac{ \\hat{\\sigma}_x + i \\hat{\\sigma}_y}{2}$ y $\\hat{\\sigma}^{-} = \\frac{\\hat{\\sigma}_x - i \\hat{\\sigma}_y}{2}$\n",
        "- El Hamiltoniano de Heisenberg para dos qubits: $ \\hat{H} = \\frac{1}{2} \\left( \\hat{I}\\otimes \\hat{I} +  \\hat{\\sigma}_x \\otimes \\hat{\\sigma}_x + \\hat{\\sigma}_y \\otimes \\hat{\\sigma}_y + \\hat{\\sigma}_z \\otimes \\hat{\\sigma}_z \\right) $\n",
        "\n",
        "Utiliza los metodos `.to_matrix()` y `.to_circuit()` para visualizar los operadores obtenidos\n"
      ]
    },
    {
      "cell_type": "code",
      "execution_count": 37,
      "metadata": {
        "colab": {
          "base_uri": "https://localhost:8080/",
          "height": 208
        },
        "id": "R3tMmzOhpzVh",
        "outputId": "3ccd8985-7cb5-47fe-fd77-67ee8f0ff8eb"
      },
      "outputs": [
        {
          "data": {
            "text/plain": [
              "array([[0.+0.j, 1.+0.j],\n",
              "       [0.+0.j, 0.+0.j]])"
            ]
          },
          "metadata": {},
          "output_type": "display_data"
        },
        {
          "data": {
            "text/plain": [
              "array([[0.+0.j, 0.+0.j],\n",
              "       [1.+0.j, 0.+0.j]])"
            ]
          },
          "metadata": {},
          "output_type": "display_data"
        },
        {
          "data": {
            "text/plain": [
              "array([[0.+0.j, 0.+0.j, 0.+0.j, ..., 0.+0.j, 0.+0.j, 0.+0.j],\n",
              "       [0.+0.j, 0.+0.j, 0.+0.j, ..., 0.+0.j, 0.+0.j, 0.+0.j],\n",
              "       [0.+0.j, 0.+0.j, 0.+0.j, ..., 0.+0.j, 0.+0.j, 0.+0.j],\n",
              "       ...,\n",
              "       [0.+0.j, 0.+0.j, 0.+0.j, ..., 0.+0.j, 0.+0.j, 0.+0.j],\n",
              "       [0.+0.j, 0.+0.j, 0.+0.j, ..., 0.+0.j, 0.+0.j, 0.+0.j],\n",
              "       [0.+0.j, 0.+0.j, 0.+0.j, ..., 0.+0.j, 0.+0.j, 0.+0.j]])"
            ]
          },
          "metadata": {},
          "output_type": "display_data"
        }
      ],
      "source": [
        "from qiskit.opflow import I, X, Y, Z\n",
        "\n",
        "display(((X+1J*Y)/2).to_matrix())\n",
        "display(((X-1J*Y)/2).to_matrix())\n",
        "\n",
        "display((1/2*(I^I + X^X + Y^Y + Z^Z)).to_matrix())\n"
      ]
    },
    {
      "cell_type": "code",
      "execution_count": null,
      "metadata": {
        "id": "Ang3rXDCKwOW"
      },
      "outputs": [],
      "source": []
    }
  ],
  "metadata": {
    "colab": {
      "provenance": []
    },
    "kernelspec": {
      "display_name": "Python 3 (ipykernel)",
      "language": "python",
      "name": "python3"
    },
    "language_info": {
      "codemirror_mode": {
        "name": "ipython",
        "version": 3
      },
      "file_extension": ".py",
      "mimetype": "text/x-python",
      "name": "python",
      "nbconvert_exporter": "python",
      "pygments_lexer": "ipython3",
      "version": "3.10.13"
    }
  },
  "nbformat": 4,
  "nbformat_minor": 0
}
